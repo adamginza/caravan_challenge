{
 "cells": [
  {
   "cell_type": "markdown",
   "metadata": {},
   "source": [
    "Environment: R 3.5.1 and Jupyter notebook\n",
    "\n",
    "Libraries used:\n",
    "* ggplot2 - for general plotting\n",
    "* psych - *describe* function for statistical summary\n",
    "* corrplot - plotting correlation matrix\n",
    "* caret - confusionMatrix\n",
    "* glmnet - Lasso and Ridge Regression\n",
    "* leaps - regsubsets to do forward and backward steps\n",
    "* reshape2 - to melt data frame\n",
    "* gridExtra - Grid Arrage for ggplot\n",
    "\n"
   ]
  },
  {
   "cell_type": "code",
   "execution_count": 1,
   "metadata": {},
   "outputs": [
    {
     "name": "stderr",
     "output_type": "stream",
     "text": [
      "Warning message:\n",
      "\"package 'ggplot2' was built under R version 3.5.3\"\n",
      "Attaching package: 'psych'\n",
      "\n",
      "The following objects are masked from 'package:ggplot2':\n",
      "\n",
      "    %+%, alpha\n",
      "\n",
      "corrplot 0.84 loaded\n",
      "Loading required package: lattice\n",
      "Loading required package: Matrix\n",
      "Loading required package: foreach\n",
      "Loaded glmnet 2.0-16\n",
      "\n",
      "Warning message:\n",
      "\"package 'reshape2' was built under R version 3.5.3\"Warning message:\n",
      "\"package 'gridExtra' was built under R version 3.5.3\""
     ]
    }
   ],
   "source": [
    "library(ggplot2)\n",
    "library(psych)\n",
    "library(corrplot)\n",
    "library(caret)\n",
    "library(glmnet)\n",
    "library(leaps)\n",
    "library(reshape2)\n",
    "library(gridExtra)"
   ]
  },
  {
   "cell_type": "code",
   "execution_count": 2,
   "metadata": {},
   "outputs": [],
   "source": [
    "train_data <- read.delim(\"ticdata2000.txt\", header = FALSE, sep = \"\\t\", dec = \".\")\n",
    "test_data <- read.delim(\"ticeval2000.txt\", header = FALSE, sep = \"\\t\", dec = \".\")\n",
    "targets <- read.delim(\"tictgts2000.txt\", header = FALSE, sep = \"\\t\", dec = \".\")"
   ]
  },
  {
   "cell_type": "markdown",
   "metadata": {},
   "source": [
    "## 1.) Exploratory Data Analysis"
   ]
  },
  {
   "cell_type": "code",
   "execution_count": 3,
   "metadata": {
    "scrolled": false
   },
   "outputs": [
    {
     "data": {
      "text/html": [
       "<ol class=list-inline>\n",
       "\t<li>5822</li>\n",
       "\t<li>86</li>\n",
       "</ol>\n"
      ],
      "text/latex": [
       "\\begin{enumerate*}\n",
       "\\item 5822\n",
       "\\item 86\n",
       "\\end{enumerate*}\n"
      ],
      "text/markdown": [
       "1. 5822\n",
       "2. 86\n",
       "\n",
       "\n"
      ],
      "text/plain": [
       "[1] 5822   86"
      ]
     },
     "metadata": {},
     "output_type": "display_data"
    },
    {
     "data": {
      "text/html": [
       "<table>\n",
       "<thead><tr><th scope=col>V1</th><th scope=col>V2</th><th scope=col>V3</th><th scope=col>V4</th><th scope=col>V5</th><th scope=col>V6</th><th scope=col>V7</th><th scope=col>V8</th><th scope=col>V9</th><th scope=col>V10</th><th scope=col>⋯</th><th scope=col>V77</th><th scope=col>V78</th><th scope=col>V79</th><th scope=col>V80</th><th scope=col>V81</th><th scope=col>V82</th><th scope=col>V83</th><th scope=col>V84</th><th scope=col>V85</th><th scope=col>V86</th></tr></thead>\n",
       "<tbody>\n",
       "\t<tr><td>33      </td><td>1       </td><td>3       </td><td>2       </td><td> 8      </td><td>0       </td><td>5       </td><td>1       </td><td>3       </td><td>7       </td><td><U+22EF></td><td>0       </td><td>0       </td><td>0       </td><td>1       </td><td>0       </td><td>0       </td><td>0       </td><td>0       </td><td>0       </td><td>0       </td></tr>\n",
       "\t<tr><td>37      </td><td>1       </td><td>2       </td><td>2       </td><td> 8      </td><td>1       </td><td>4       </td><td>1       </td><td>4       </td><td>6       </td><td><U+22EF></td><td>0       </td><td>0       </td><td>0       </td><td>1       </td><td>0       </td><td>0       </td><td>0       </td><td>0       </td><td>0       </td><td>0       </td></tr>\n",
       "\t<tr><td>37      </td><td>1       </td><td>2       </td><td>2       </td><td> 8      </td><td>0       </td><td>4       </td><td>2       </td><td>4       </td><td>3       </td><td><U+22EF></td><td>0       </td><td>0       </td><td>0       </td><td>1       </td><td>0       </td><td>0       </td><td>0       </td><td>0       </td><td>0       </td><td>0       </td></tr>\n",
       "\t<tr><td> 9      </td><td>1       </td><td>3       </td><td>3       </td><td> 3      </td><td>2       </td><td>3       </td><td>2       </td><td>4       </td><td>5       </td><td><U+22EF></td><td>0       </td><td>0       </td><td>0       </td><td>1       </td><td>0       </td><td>0       </td><td>0       </td><td>0       </td><td>0       </td><td>0       </td></tr>\n",
       "\t<tr><td>40      </td><td>1       </td><td>4       </td><td>2       </td><td>10      </td><td>1       </td><td>4       </td><td>1       </td><td>4       </td><td>7       </td><td><U+22EF></td><td>0       </td><td>0       </td><td>0       </td><td>1       </td><td>0       </td><td>0       </td><td>0       </td><td>0       </td><td>0       </td><td>0       </td></tr>\n",
       "\t<tr><td>23      </td><td>1       </td><td>2       </td><td>1       </td><td> 5      </td><td>0       </td><td>5       </td><td>0       </td><td>5       </td><td>0       </td><td><U+22EF></td><td>0       </td><td>0       </td><td>0       </td><td>0       </td><td>0       </td><td>0       </td><td>0       </td><td>0       </td><td>0       </td><td>0       </td></tr>\n",
       "</tbody>\n",
       "</table>\n"
      ],
      "text/latex": [
       "\\begin{tabular}{r|llllllllllllllllllllllllllllllllllllllllllllllllllllllllllllllllllllllllllllllllllllll}\n",
       " V1 & V2 & V3 & V4 & V5 & V6 & V7 & V8 & V9 & V10 & ⋯ & V77 & V78 & V79 & V80 & V81 & V82 & V83 & V84 & V85 & V86\\\\\n",
       "\\hline\n",
       "\t 33       & 1        & 3        & 2        &  8       & 0        & 5        & 1        & 3        & 7        & <U+22EF> & 0        & 0        & 0        & 1        & 0        & 0        & 0        & 0        & 0        & 0       \\\\\n",
       "\t 37       & 1        & 2        & 2        &  8       & 1        & 4        & 1        & 4        & 6        & <U+22EF> & 0        & 0        & 0        & 1        & 0        & 0        & 0        & 0        & 0        & 0       \\\\\n",
       "\t 37       & 1        & 2        & 2        &  8       & 0        & 4        & 2        & 4        & 3        & <U+22EF> & 0        & 0        & 0        & 1        & 0        & 0        & 0        & 0        & 0        & 0       \\\\\n",
       "\t  9       & 1        & 3        & 3        &  3       & 2        & 3        & 2        & 4        & 5        & <U+22EF> & 0        & 0        & 0        & 1        & 0        & 0        & 0        & 0        & 0        & 0       \\\\\n",
       "\t 40       & 1        & 4        & 2        & 10       & 1        & 4        & 1        & 4        & 7        & <U+22EF> & 0        & 0        & 0        & 1        & 0        & 0        & 0        & 0        & 0        & 0       \\\\\n",
       "\t 23       & 1        & 2        & 1        &  5       & 0        & 5        & 0        & 5        & 0        & <U+22EF> & 0        & 0        & 0        & 0        & 0        & 0        & 0        & 0        & 0        & 0       \\\\\n",
       "\\end{tabular}\n"
      ],
      "text/markdown": [
       "\n",
       "| V1 | V2 | V3 | V4 | V5 | V6 | V7 | V8 | V9 | V10 | ⋯ | V77 | V78 | V79 | V80 | V81 | V82 | V83 | V84 | V85 | V86 |\n",
       "|---|---|---|---|---|---|---|---|---|---|---|---|---|---|---|---|---|---|---|---|---|\n",
       "| 33       | 1        | 3        | 2        |  8       | 0        | 5        | 1        | 3        | 7        | <U+22EF> | 0        | 0        | 0        | 1        | 0        | 0        | 0        | 0        | 0        | 0        |\n",
       "| 37       | 1        | 2        | 2        |  8       | 1        | 4        | 1        | 4        | 6        | <U+22EF> | 0        | 0        | 0        | 1        | 0        | 0        | 0        | 0        | 0        | 0        |\n",
       "| 37       | 1        | 2        | 2        |  8       | 0        | 4        | 2        | 4        | 3        | <U+22EF> | 0        | 0        | 0        | 1        | 0        | 0        | 0        | 0        | 0        | 0        |\n",
       "|  9       | 1        | 3        | 3        |  3       | 2        | 3        | 2        | 4        | 5        | <U+22EF> | 0        | 0        | 0        | 1        | 0        | 0        | 0        | 0        | 0        | 0        |\n",
       "| 40       | 1        | 4        | 2        | 10       | 1        | 4        | 1        | 4        | 7        | <U+22EF> | 0        | 0        | 0        | 1        | 0        | 0        | 0        | 0        | 0        | 0        |\n",
       "| 23       | 1        | 2        | 1        |  5       | 0        | 5        | 0        | 5        | 0        | <U+22EF> | 0        | 0        | 0        | 0        | 0        | 0        | 0        | 0        | 0        | 0        |\n",
       "\n"
      ],
      "text/plain": [
       "  V1 V2 V3 V4 V5 V6 V7 V8 V9 V10 <U+22EF>        V77 V78 V79 V80 V81 V82 V83 V84 V85\n",
       "1 33 1  3  2   8 0  5  1  3  7   <U+22EF> 0   0   0   1   0   0   0   0   0  \n",
       "2 37 1  2  2   8 1  4  1  4  6   <U+22EF> 0   0   0   1   0   0   0   0   0  \n",
       "3 37 1  2  2   8 0  4  2  4  3   <U+22EF> 0   0   0   1   0   0   0   0   0  \n",
       "4  9 1  3  3   3 2  3  2  4  5   <U+22EF> 0   0   0   1   0   0   0   0   0  \n",
       "5 40 1  4  2  10 1  4  1  4  7   <U+22EF> 0   0   0   1   0   0   0   0   0  \n",
       "6 23 1  2  1   5 0  5  0  5  0   <U+22EF> 0   0   0   0   0   0   0   0   0  \n",
       "  V86\n",
       "1 0  \n",
       "2 0  \n",
       "3 0  \n",
       "4 0  \n",
       "5 0  \n",
       "6 0  "
      ]
     },
     "metadata": {},
     "output_type": "display_data"
    }
   ],
   "source": [
    "dim(train_data)\n",
    "head(train_data)"
   ]
  },
  {
   "cell_type": "code",
   "execution_count": 4,
   "metadata": {
    "scrolled": true
   },
   "outputs": [
    {
     "data": {
      "text/html": [
       "<ol class=list-inline>\n",
       "\t<li>4000</li>\n",
       "\t<li>85</li>\n",
       "</ol>\n"
      ],
      "text/latex": [
       "\\begin{enumerate*}\n",
       "\\item 4000\n",
       "\\item 85\n",
       "\\end{enumerate*}\n"
      ],
      "text/markdown": [
       "1. 4000\n",
       "2. 85\n",
       "\n",
       "\n"
      ],
      "text/plain": [
       "[1] 4000   85"
      ]
     },
     "metadata": {},
     "output_type": "display_data"
    },
    {
     "data": {
      "text/html": [
       "<table>\n",
       "<thead><tr><th scope=col>V1</th><th scope=col>V2</th><th scope=col>V3</th><th scope=col>V4</th><th scope=col>V5</th><th scope=col>V6</th><th scope=col>V7</th><th scope=col>V8</th><th scope=col>V9</th><th scope=col>V10</th><th scope=col>⋯</th><th scope=col>V76</th><th scope=col>V77</th><th scope=col>V78</th><th scope=col>V79</th><th scope=col>V80</th><th scope=col>V81</th><th scope=col>V82</th><th scope=col>V83</th><th scope=col>V84</th><th scope=col>V85</th></tr></thead>\n",
       "<tbody>\n",
       "\t<tr><td>33      </td><td>1       </td><td>4       </td><td>2       </td><td>8       </td><td>0       </td><td>6       </td><td>0       </td><td>3       </td><td>5       </td><td><U+22EF></td><td>0       </td><td>0       </td><td>0       </td><td>0       </td><td>1       </td><td>0       </td><td>0       </td><td>0       </td><td>0       </td><td>0       </td></tr>\n",
       "\t<tr><td> 6      </td><td>1       </td><td>3       </td><td>2       </td><td>2       </td><td>0       </td><td>5       </td><td>0       </td><td>4       </td><td>5       </td><td><U+22EF></td><td>2       </td><td>0       </td><td>0       </td><td>0       </td><td>1       </td><td>0       </td><td>0       </td><td>0       </td><td>0       </td><td>0       </td></tr>\n",
       "\t<tr><td>39      </td><td>1       </td><td>3       </td><td>3       </td><td>9       </td><td>1       </td><td>4       </td><td>2       </td><td>3       </td><td>5       </td><td><U+22EF></td><td>1       </td><td>0       </td><td>0       </td><td>0       </td><td>1       </td><td>0       </td><td>0       </td><td>0       </td><td>0       </td><td>0       </td></tr>\n",
       "\t<tr><td> 9      </td><td>1       </td><td>2       </td><td>3       </td><td>3       </td><td>2       </td><td>3       </td><td>2       </td><td>4       </td><td>5       </td><td><U+22EF></td><td>0       </td><td>0       </td><td>0       </td><td>0       </td><td>1       </td><td>0       </td><td>0       </td><td>0       </td><td>0       </td><td>0       </td></tr>\n",
       "\t<tr><td>31      </td><td>1       </td><td>2       </td><td>4       </td><td>7       </td><td>0       </td><td>2       </td><td>0       </td><td>7       </td><td>9       </td><td><U+22EF></td><td>0       </td><td>0       </td><td>0       </td><td>0       </td><td>1       </td><td>0       </td><td>0       </td><td>0       </td><td>0       </td><td>0       </td></tr>\n",
       "\t<tr><td>30      </td><td>1       </td><td>2       </td><td>4       </td><td>7       </td><td>1       </td><td>4       </td><td>2       </td><td>3       </td><td>5       </td><td><U+22EF></td><td>0       </td><td>0       </td><td>0       </td><td>0       </td><td>2       </td><td>0       </td><td>0       </td><td>0       </td><td>0       </td><td>0       </td></tr>\n",
       "</tbody>\n",
       "</table>\n"
      ],
      "text/latex": [
       "\\begin{tabular}{r|lllllllllllllllllllllllllllllllllllllllllllllllllllllllllllllllllllllllllllllllllllll}\n",
       " V1 & V2 & V3 & V4 & V5 & V6 & V7 & V8 & V9 & V10 & ⋯ & V76 & V77 & V78 & V79 & V80 & V81 & V82 & V83 & V84 & V85\\\\\n",
       "\\hline\n",
       "\t 33       & 1        & 4        & 2        & 8        & 0        & 6        & 0        & 3        & 5        & <U+22EF> & 0        & 0        & 0        & 0        & 1        & 0        & 0        & 0        & 0        & 0       \\\\\n",
       "\t  6       & 1        & 3        & 2        & 2        & 0        & 5        & 0        & 4        & 5        & <U+22EF> & 2        & 0        & 0        & 0        & 1        & 0        & 0        & 0        & 0        & 0       \\\\\n",
       "\t 39       & 1        & 3        & 3        & 9        & 1        & 4        & 2        & 3        & 5        & <U+22EF> & 1        & 0        & 0        & 0        & 1        & 0        & 0        & 0        & 0        & 0       \\\\\n",
       "\t  9       & 1        & 2        & 3        & 3        & 2        & 3        & 2        & 4        & 5        & <U+22EF> & 0        & 0        & 0        & 0        & 1        & 0        & 0        & 0        & 0        & 0       \\\\\n",
       "\t 31       & 1        & 2        & 4        & 7        & 0        & 2        & 0        & 7        & 9        & <U+22EF> & 0        & 0        & 0        & 0        & 1        & 0        & 0        & 0        & 0        & 0       \\\\\n",
       "\t 30       & 1        & 2        & 4        & 7        & 1        & 4        & 2        & 3        & 5        & <U+22EF> & 0        & 0        & 0        & 0        & 2        & 0        & 0        & 0        & 0        & 0       \\\\\n",
       "\\end{tabular}\n"
      ],
      "text/markdown": [
       "\n",
       "| V1 | V2 | V3 | V4 | V5 | V6 | V7 | V8 | V9 | V10 | ⋯ | V76 | V77 | V78 | V79 | V80 | V81 | V82 | V83 | V84 | V85 |\n",
       "|---|---|---|---|---|---|---|---|---|---|---|---|---|---|---|---|---|---|---|---|---|\n",
       "| 33       | 1        | 4        | 2        | 8        | 0        | 6        | 0        | 3        | 5        | <U+22EF> | 0        | 0        | 0        | 0        | 1        | 0        | 0        | 0        | 0        | 0        |\n",
       "|  6       | 1        | 3        | 2        | 2        | 0        | 5        | 0        | 4        | 5        | <U+22EF> | 2        | 0        | 0        | 0        | 1        | 0        | 0        | 0        | 0        | 0        |\n",
       "| 39       | 1        | 3        | 3        | 9        | 1        | 4        | 2        | 3        | 5        | <U+22EF> | 1        | 0        | 0        | 0        | 1        | 0        | 0        | 0        | 0        | 0        |\n",
       "|  9       | 1        | 2        | 3        | 3        | 2        | 3        | 2        | 4        | 5        | <U+22EF> | 0        | 0        | 0        | 0        | 1        | 0        | 0        | 0        | 0        | 0        |\n",
       "| 31       | 1        | 2        | 4        | 7        | 0        | 2        | 0        | 7        | 9        | <U+22EF> | 0        | 0        | 0        | 0        | 1        | 0        | 0        | 0        | 0        | 0        |\n",
       "| 30       | 1        | 2        | 4        | 7        | 1        | 4        | 2        | 3        | 5        | <U+22EF> | 0        | 0        | 0        | 0        | 2        | 0        | 0        | 0        | 0        | 0        |\n",
       "\n"
      ],
      "text/plain": [
       "  V1 V2 V3 V4 V5 V6 V7 V8 V9 V10 <U+22EF>        V76 V77 V78 V79 V80 V81 V82 V83 V84\n",
       "1 33 1  4  2  8  0  6  0  3  5   <U+22EF> 0   0   0   0   1   0   0   0   0  \n",
       "2  6 1  3  2  2  0  5  0  4  5   <U+22EF> 2   0   0   0   1   0   0   0   0  \n",
       "3 39 1  3  3  9  1  4  2  3  5   <U+22EF> 1   0   0   0   1   0   0   0   0  \n",
       "4  9 1  2  3  3  2  3  2  4  5   <U+22EF> 0   0   0   0   1   0   0   0   0  \n",
       "5 31 1  2  4  7  0  2  0  7  9   <U+22EF> 0   0   0   0   1   0   0   0   0  \n",
       "6 30 1  2  4  7  1  4  2  3  5   <U+22EF> 0   0   0   0   2   0   0   0   0  \n",
       "  V85\n",
       "1 0  \n",
       "2 0  \n",
       "3 0  \n",
       "4 0  \n",
       "5 0  \n",
       "6 0  "
      ]
     },
     "metadata": {},
     "output_type": "display_data"
    },
    {
     "data": {
      "text/html": [
       "<table>\n",
       "<thead><tr><th scope=col>V1</th></tr></thead>\n",
       "<tbody>\n",
       "\t<tr><td>0</td></tr>\n",
       "\t<tr><td>1</td></tr>\n",
       "\t<tr><td>0</td></tr>\n",
       "\t<tr><td>0</td></tr>\n",
       "\t<tr><td>0</td></tr>\n",
       "\t<tr><td>0</td></tr>\n",
       "</tbody>\n",
       "</table>\n"
      ],
      "text/latex": [
       "\\begin{tabular}{r|l}\n",
       " V1\\\\\n",
       "\\hline\n",
       "\t 0\\\\\n",
       "\t 1\\\\\n",
       "\t 0\\\\\n",
       "\t 0\\\\\n",
       "\t 0\\\\\n",
       "\t 0\\\\\n",
       "\\end{tabular}\n"
      ],
      "text/markdown": [
       "\n",
       "| V1 |\n",
       "|---|\n",
       "| 0 |\n",
       "| 1 |\n",
       "| 0 |\n",
       "| 0 |\n",
       "| 0 |\n",
       "| 0 |\n",
       "\n"
      ],
      "text/plain": [
       "  V1\n",
       "1 0 \n",
       "2 1 \n",
       "3 0 \n",
       "4 0 \n",
       "5 0 \n",
       "6 0 "
      ]
     },
     "metadata": {},
     "output_type": "display_data"
    }
   ],
   "source": [
    "dim(test_data)\n",
    "head(test_data)\n",
    "head(targets)"
   ]
  },
  {
   "cell_type": "code",
   "execution_count": 5,
   "metadata": {
    "scrolled": true
   },
   "outputs": [
    {
     "name": "stdout",
     "output_type": "stream",
     "text": [
      "'data.frame':\t5822 obs. of  86 variables:\n",
      " $ V1 : int  33 37 37 9 40 23 39 33 33 11 ...\n",
      " $ V2 : int  1 1 1 1 1 1 2 1 1 2 ...\n",
      " $ V3 : int  3 2 2 3 4 2 3 2 2 3 ...\n",
      " $ V4 : int  2 2 2 3 2 1 2 3 4 3 ...\n",
      " $ V5 : int  8 8 8 3 10 5 9 8 8 3 ...\n",
      " $ V6 : int  0 1 0 2 1 0 2 0 0 3 ...\n",
      " $ V7 : int  5 4 4 3 4 5 2 7 1 5 ...\n",
      " $ V8 : int  1 1 2 2 1 0 0 0 3 0 ...\n",
      " $ V9 : int  3 4 4 4 4 5 5 2 6 2 ...\n",
      " $ V10: int  7 6 3 5 7 0 7 7 6 7 ...\n",
      " $ V11: int  0 2 2 2 1 6 2 2 0 0 ...\n",
      " $ V12: int  2 2 4 2 2 3 0 0 3 2 ...\n",
      " $ V13: int  1 0 4 2 2 3 0 0 3 2 ...\n",
      " $ V14: int  2 4 4 3 4 5 3 5 3 2 ...\n",
      " $ V15: int  6 5 2 4 4 2 6 4 3 6 ...\n",
      " $ V16: int  1 0 0 3 5 0 0 0 0 0 ...\n",
      " $ V17: int  2 5 5 4 4 5 4 3 1 4 ...\n",
      " $ V18: int  7 4 4 2 0 4 5 6 8 5 ...\n",
      " $ V19: int  1 0 0 4 0 2 0 2 1 2 ...\n",
      " $ V20: int  0 0 0 0 5 0 0 0 1 0 ...\n",
      " $ V21: int  1 0 0 0 4 0 0 0 0 0 ...\n",
      " $ V22: int  2 5 7 3 0 4 4 2 1 3 ...\n",
      " $ V23: int  5 0 0 1 0 2 1 5 8 3 ...\n",
      " $ V24: int  2 4 2 2 0 2 5 2 1 3 ...\n",
      " $ V25: int  1 0 0 3 9 2 0 2 1 1 ...\n",
      " $ V26: int  1 2 5 2 0 2 1 1 1 2 ...\n",
      " $ V27: int  2 3 0 1 0 2 4 2 0 1 ...\n",
      " $ V28: int  6 5 4 4 0 4 5 5 8 4 ...\n",
      " $ V29: int  1 0 0 0 0 2 0 2 1 2 ...\n",
      " $ V30: int  1 2 7 5 4 9 6 0 9 0 ...\n",
      " $ V31: int  8 7 2 4 5 0 3 9 0 9 ...\n",
      " $ V32: int  8 7 7 9 6 5 8 4 5 6 ...\n",
      " $ V33: int  0 1 0 0 2 3 0 4 2 1 ...\n",
      " $ V34: int  1 2 2 0 1 3 1 2 3 2 ...\n",
      " $ V35: int  8 6 9 7 5 9 9 6 7 6 ...\n",
      " $ V36: int  1 3 0 2 4 0 0 3 2 3 ...\n",
      " $ V37: int  0 2 4 1 0 5 4 2 7 2 ...\n",
      " $ V38: int  4 0 5 5 0 2 3 5 2 3 ...\n",
      " $ V39: int  5 5 0 3 9 3 3 3 1 3 ...\n",
      " $ V40: int  0 2 0 0 0 0 0 0 0 1 ...\n",
      " $ V41: int  0 0 0 0 0 0 0 0 0 0 ...\n",
      " $ V42: int  4 5 3 4 6 3 3 3 2 4 ...\n",
      " $ V43: int  3 4 4 4 3 3 5 3 3 7 ...\n",
      " $ V44: int  0 2 2 0 0 0 0 0 0 2 ...\n",
      " $ V45: int  0 0 0 0 0 0 0 0 0 0 ...\n",
      " $ V46: int  0 0 0 0 0 0 0 0 0 0 ...\n",
      " $ V47: int  6 0 6 6 0 6 6 0 5 0 ...\n",
      " $ V48: int  0 0 0 0 0 0 0 0 0 0 ...\n",
      " $ V49: int  0 0 0 0 0 0 0 0 0 0 ...\n",
      " $ V50: int  0 0 0 0 0 0 0 0 0 0 ...\n",
      " $ V51: int  0 0 0 0 0 0 0 0 0 0 ...\n",
      " $ V52: int  0 0 0 0 0 0 0 0 0 0 ...\n",
      " $ V53: int  0 0 0 0 0 0 0 0 0 0 ...\n",
      " $ V54: int  0 0 0 0 0 0 0 3 0 0 ...\n",
      " $ V55: int  0 0 0 0 0 0 0 0 0 0 ...\n",
      " $ V56: int  0 0 0 0 0 0 0 0 0 0 ...\n",
      " $ V57: int  0 0 0 0 0 0 0 0 0 0 ...\n",
      " $ V58: int  0 0 0 0 0 0 0 0 0 0 ...\n",
      " $ V59: int  5 2 2 2 6 0 0 0 0 3 ...\n",
      " $ V60: int  0 0 0 0 0 0 0 0 0 0 ...\n",
      " $ V61: int  0 0 0 0 0 0 0 0 0 0 ...\n",
      " $ V62: int  0 0 0 0 0 0 0 0 0 0 ...\n",
      " $ V63: int  0 0 0 0 0 0 0 0 0 0 ...\n",
      " $ V64: int  0 0 0 0 0 0 0 0 0 0 ...\n",
      " $ V65: int  0 2 1 0 0 0 0 0 0 1 ...\n",
      " $ V66: int  0 0 0 0 0 0 0 0 0 0 ...\n",
      " $ V67: int  0 0 0 0 0 0 0 0 0 0 ...\n",
      " $ V68: int  1 0 1 1 0 1 1 0 1 0 ...\n",
      " $ V69: int  0 0 0 0 0 0 0 0 0 0 ...\n",
      " $ V70: int  0 0 0 0 0 0 0 0 0 0 ...\n",
      " $ V71: int  0 0 0 0 0 0 0 0 0 0 ...\n",
      " $ V72: int  0 0 0 0 0 0 0 0 0 0 ...\n",
      " $ V73: int  0 0 0 0 0 0 0 0 0 0 ...\n",
      " $ V74: int  0 0 0 0 0 0 0 0 0 0 ...\n",
      " $ V75: int  0 0 0 0 0 0 0 1 0 0 ...\n",
      " $ V76: int  0 0 0 0 0 0 0 0 0 0 ...\n",
      " $ V77: int  0 0 0 0 0 0 0 0 0 0 ...\n",
      " $ V78: int  0 0 0 0 0 0 0 0 0 0 ...\n",
      " $ V79: int  0 0 0 0 0 0 0 0 0 0 ...\n",
      " $ V80: int  1 1 1 1 1 0 0 0 0 1 ...\n",
      " $ V81: int  0 0 0 0 0 0 0 0 0 0 ...\n",
      " $ V82: int  0 0 0 0 0 0 0 0 0 0 ...\n",
      " $ V83: int  0 0 0 0 0 0 0 0 0 0 ...\n",
      " $ V84: int  0 0 0 0 0 0 0 0 0 0 ...\n",
      " $ V85: int  0 0 0 0 0 0 0 0 0 0 ...\n",
      " $ V86: int  0 0 0 0 0 0 0 0 0 0 ...\n"
     ]
    }
   ],
   "source": [
    "str(train_data)"
   ]
  },
  {
   "cell_type": "markdown",
   "metadata": {},
   "source": [
    "All variables are integer type, even for the response variable V86. Although the target is a binary, it is safe to assume that there won't be much difference in terms of model accuracy whether the target variable converted into factor or not because in the dataset all variables are supposed to be categorical, if we change the target variable, the predictors need to change as well. Nonetheless, there will be an experiment on how changing the target variable to factor affects the feature selection."
   ]
  },
  {
   "cell_type": "markdown",
   "metadata": {},
   "source": [
    "#### Statistical summary of the data to get the initial variables for model fitting."
   ]
  },
  {
   "cell_type": "code",
   "execution_count": 6,
   "metadata": {},
   "outputs": [
    {
     "data": {
      "text/html": [
       "<table>\n",
       "<thead><tr><th></th><th scope=col>vars</th><th scope=col>n</th><th scope=col>mean</th><th scope=col>sd</th><th scope=col>median</th><th scope=col>trimmed</th><th scope=col>mad</th><th scope=col>min</th><th scope=col>max</th><th scope=col>range</th><th scope=col>skew</th><th scope=col>kurtosis</th><th scope=col>se</th></tr></thead>\n",
       "<tbody>\n",
       "\t<tr><th scope=row>V1</th><td> 1    </td><td>5822  </td><td>24.253</td><td>12.847</td><td>30    </td><td>24.984</td><td>11.861</td><td>1     </td><td>41    </td><td>40    </td><td>-0.435</td><td>-1.353</td><td>0.168 </td></tr>\n",
       "\t<tr><th scope=row>V2</th><td> 2    </td><td>5822  </td><td> 1.111</td><td> 0.406</td><td> 1    </td><td> 1.000</td><td> 0.000</td><td>1     </td><td>10    </td><td> 9    </td><td> 7.416</td><td>99.985</td><td>0.005 </td></tr>\n",
       "\t<tr><th scope=row>V3</th><td> 3    </td><td>5822  </td><td> 2.679</td><td> 0.790</td><td> 3    </td><td> 2.645</td><td> 1.483</td><td>1     </td><td> 5    </td><td> 4    </td><td> 0.183</td><td> 0.011</td><td>0.010 </td></tr>\n",
       "\t<tr><th scope=row>V4</th><td> 4    </td><td>5822  </td><td> 2.991</td><td> 0.815</td><td> 3    </td><td> 2.951</td><td> 0.000</td><td>1     </td><td> 6    </td><td> 5    </td><td> 0.472</td><td> 0.619</td><td>0.011 </td></tr>\n",
       "\t<tr><th scope=row>V5</th><td> 5    </td><td>5822  </td><td> 5.774</td><td> 2.857</td><td> 7    </td><td> 5.901</td><td> 2.965</td><td>1     </td><td>10    </td><td> 9    </td><td>-0.331</td><td>-1.345</td><td>0.037 </td></tr>\n",
       "\t<tr><th scope=row>V6</th><td> 6    </td><td>5822  </td><td> 0.696</td><td> 1.003</td><td> 0    </td><td> 0.521</td><td> 0.000</td><td>0     </td><td> 9    </td><td> 9    </td><td> 2.237</td><td> 8.617</td><td>0.013 </td></tr>\n",
       "\t<tr><th scope=row>V7</th><td> 7    </td><td>5822  </td><td> 4.627</td><td> 1.716</td><td> 5    </td><td> 4.633</td><td> 1.483</td><td>0     </td><td> 9    </td><td> 9    </td><td> 0.074</td><td> 0.454</td><td>0.022 </td></tr>\n",
       "\t<tr><th scope=row>V8</th><td> 8    </td><td>5822  </td><td> 1.070</td><td> 1.018</td><td> 1    </td><td> 0.957</td><td> 1.483</td><td>0     </td><td> 5    </td><td> 5    </td><td> 0.902</td><td> 0.788</td><td>0.013 </td></tr>\n",
       "\t<tr><th scope=row>V9</th><td> 9    </td><td>5822  </td><td> 3.259</td><td> 1.598</td><td> 3    </td><td> 3.321</td><td> 1.483</td><td>0     </td><td> 9    </td><td> 9    </td><td>-0.131</td><td>-0.032</td><td>0.021 </td></tr>\n",
       "\t<tr><th scope=row>V10</th><td>10    </td><td>5822  </td><td> 6.183</td><td> 1.909</td><td> 6    </td><td> 6.328</td><td> 1.483</td><td>0     </td><td> 9    </td><td> 9    </td><td>-0.719</td><td> 0.681</td><td>0.025 </td></tr>\n",
       "\t<tr><th scope=row>V11</th><td>11    </td><td>5822  </td><td> 0.884</td><td> 0.966</td><td> 1    </td><td> 0.763</td><td> 1.483</td><td>0     </td><td> 7    </td><td> 7    </td><td> 1.316</td><td> 2.759</td><td>0.013 </td></tr>\n",
       "\t<tr><th scope=row>V12</th><td>12    </td><td>5822  </td><td> 2.290</td><td> 1.723</td><td> 2    </td><td> 2.144</td><td> 1.483</td><td>0     </td><td> 9    </td><td> 9    </td><td> 0.693</td><td> 0.712</td><td>0.023 </td></tr>\n",
       "\t<tr><th scope=row>V13</th><td>13    </td><td>5822  </td><td> 1.888</td><td> 1.800</td><td> 2    </td><td> 1.661</td><td> 1.483</td><td>0     </td><td> 9    </td><td> 9    </td><td> 0.970</td><td> 0.817</td><td>0.024 </td></tr>\n",
       "\t<tr><th scope=row>V14</th><td>14    </td><td>5822  </td><td> 3.230</td><td> 1.620</td><td> 3    </td><td> 3.223</td><td> 1.483</td><td>0     </td><td> 9    </td><td> 9    </td><td> 0.180</td><td> 0.396</td><td>0.021 </td></tr>\n",
       "\t<tr><th scope=row>V15</th><td>15    </td><td>5822  </td><td> 4.300</td><td> 2.005</td><td> 4    </td><td> 4.255</td><td> 1.483</td><td>0     </td><td> 9    </td><td> 9    </td><td> 0.177</td><td>-0.214</td><td>0.026 </td></tr>\n",
       "\t<tr><th scope=row>V16</th><td>16    </td><td>5822  </td><td> 1.461</td><td> 1.623</td><td> 1    </td><td> 1.196</td><td> 1.483</td><td>0     </td><td> 9    </td><td> 9    </td><td> 1.363</td><td> 1.992</td><td>0.021 </td></tr>\n",
       "\t<tr><th scope=row>V17</th><td>17    </td><td>5822  </td><td> 3.351</td><td> 1.761</td><td> 3    </td><td> 3.328</td><td> 1.483</td><td>0     </td><td> 9    </td><td> 9    </td><td> 0.188</td><td> 0.213</td><td>0.023 </td></tr>\n",
       "\t<tr><th scope=row>V18</th><td>18    </td><td>5822  </td><td> 4.572</td><td> 2.298</td><td> 5    </td><td> 4.578</td><td> 2.965</td><td>0     </td><td> 9    </td><td> 9    </td><td>-0.054</td><td>-0.606</td><td>0.030 </td></tr>\n",
       "\t<tr><th scope=row>V19</th><td>19    </td><td>5822  </td><td> 1.895</td><td> 1.798</td><td> 2    </td><td> 1.641</td><td> 1.483</td><td>0     </td><td> 9    </td><td> 9    </td><td> 1.173</td><td> 1.423</td><td>0.024 </td></tr>\n",
       "\t<tr><th scope=row>V20</th><td>20    </td><td>5822  </td><td> 0.398</td><td> 0.775</td><td> 0    </td><td> 0.229</td><td> 0.000</td><td>0     </td><td> 5    </td><td> 5    </td><td> 2.845</td><td>11.086</td><td>0.010 </td></tr>\n",
       "\t<tr><th scope=row>V21</th><td>21    </td><td>5822  </td><td> 0.522</td><td> 1.057</td><td> 0    </td><td> 0.274</td><td> 0.000</td><td>0     </td><td> 9    </td><td> 9    </td><td> 2.826</td><td>10.382</td><td>0.014 </td></tr>\n",
       "\t<tr><th scope=row>V22</th><td>22    </td><td>5822  </td><td> 2.899</td><td> 1.840</td><td> 3    </td><td> 2.799</td><td> 1.483</td><td>0     </td><td> 9    </td><td> 9    </td><td> 0.656</td><td> 0.798</td><td>0.024 </td></tr>\n",
       "\t<tr><th scope=row>V23</th><td>23    </td><td>5822  </td><td> 2.220</td><td> 1.731</td><td> 2    </td><td> 2.061</td><td> 1.483</td><td>0     </td><td> 9    </td><td> 9    </td><td> 0.678</td><td> 0.317</td><td>0.023 </td></tr>\n",
       "\t<tr><th scope=row>V24</th><td>24    </td><td>5822  </td><td> 2.306</td><td> 1.693</td><td> 2    </td><td> 2.181</td><td> 1.483</td><td>0     </td><td> 9    </td><td> 9    </td><td> 0.670</td><td> 0.570</td><td>0.022 </td></tr>\n",
       "\t<tr><th scope=row>V25</th><td>25    </td><td>5822  </td><td> 1.621</td><td> 1.723</td><td> 1    </td><td> 1.335</td><td> 1.483</td><td>0     </td><td> 9    </td><td> 9    </td><td> 1.637</td><td> 3.408</td><td>0.023 </td></tr>\n",
       "\t<tr><th scope=row>V26</th><td>26    </td><td>5822  </td><td> 1.607</td><td> 1.331</td><td> 2    </td><td> 1.485</td><td> 1.483</td><td>0     </td><td> 9    </td><td> 9    </td><td> 1.112</td><td> 3.026</td><td>0.017 </td></tr>\n",
       "\t<tr><th scope=row>V27</th><td>27    </td><td>5822  </td><td> 2.203</td><td> 1.529</td><td> 2    </td><td> 2.123</td><td> 1.483</td><td>0     </td><td> 9    </td><td> 9    </td><td> 0.385</td><td>-0.188</td><td>0.020 </td></tr>\n",
       "\t<tr><th scope=row>V28</th><td>28    </td><td>5822  </td><td> 3.759</td><td> 1.936</td><td> 4    </td><td> 3.745</td><td> 1.483</td><td>0     </td><td> 9    </td><td> 9    </td><td> 0.193</td><td> 0.092</td><td>0.025 </td></tr>\n",
       "\t<tr><th scope=row>V29</th><td>29    </td><td>5822  </td><td> 1.067</td><td> 1.303</td><td> 1    </td><td> 0.842</td><td> 1.483</td><td>0     </td><td> 9    </td><td> 9    </td><td> 1.418</td><td> 1.984</td><td>0.017 </td></tr>\n",
       "\t<tr><th scope=row>V30</th><td>30    </td><td>5822  </td><td> 4.237</td><td> 3.089</td><td> 4    </td><td> 4.171</td><td> 4.448</td><td>0     </td><td> 9    </td><td> 9    </td><td> 0.151</td><td>-1.305</td><td>0.040 </td></tr>\n",
       "</tbody>\n",
       "</table>\n"
      ],
      "text/latex": [
       "\\begin{tabular}{r|lllllllllllll}\n",
       "  & vars & n & mean & sd & median & trimmed & mad & min & max & range & skew & kurtosis & se\\\\\n",
       "\\hline\n",
       "\tV1 &  1     & 5822   & 24.253 & 12.847 & 30     & 24.984 & 11.861 & 1      & 41     & 40     & -0.435 & -1.353 & 0.168 \\\\\n",
       "\tV2 &  2     & 5822   &  1.111 &  0.406 &  1     &  1.000 &  0.000 & 1      & 10     &  9     &  7.416 & 99.985 & 0.005 \\\\\n",
       "\tV3 &  3     & 5822   &  2.679 &  0.790 &  3     &  2.645 &  1.483 & 1      &  5     &  4     &  0.183 &  0.011 & 0.010 \\\\\n",
       "\tV4 &  4     & 5822   &  2.991 &  0.815 &  3     &  2.951 &  0.000 & 1      &  6     &  5     &  0.472 &  0.619 & 0.011 \\\\\n",
       "\tV5 &  5     & 5822   &  5.774 &  2.857 &  7     &  5.901 &  2.965 & 1      & 10     &  9     & -0.331 & -1.345 & 0.037 \\\\\n",
       "\tV6 &  6     & 5822   &  0.696 &  1.003 &  0     &  0.521 &  0.000 & 0      &  9     &  9     &  2.237 &  8.617 & 0.013 \\\\\n",
       "\tV7 &  7     & 5822   &  4.627 &  1.716 &  5     &  4.633 &  1.483 & 0      &  9     &  9     &  0.074 &  0.454 & 0.022 \\\\\n",
       "\tV8 &  8     & 5822   &  1.070 &  1.018 &  1     &  0.957 &  1.483 & 0      &  5     &  5     &  0.902 &  0.788 & 0.013 \\\\\n",
       "\tV9 &  9     & 5822   &  3.259 &  1.598 &  3     &  3.321 &  1.483 & 0      &  9     &  9     & -0.131 & -0.032 & 0.021 \\\\\n",
       "\tV10 & 10     & 5822   &  6.183 &  1.909 &  6     &  6.328 &  1.483 & 0      &  9     &  9     & -0.719 &  0.681 & 0.025 \\\\\n",
       "\tV11 & 11     & 5822   &  0.884 &  0.966 &  1     &  0.763 &  1.483 & 0      &  7     &  7     &  1.316 &  2.759 & 0.013 \\\\\n",
       "\tV12 & 12     & 5822   &  2.290 &  1.723 &  2     &  2.144 &  1.483 & 0      &  9     &  9     &  0.693 &  0.712 & 0.023 \\\\\n",
       "\tV13 & 13     & 5822   &  1.888 &  1.800 &  2     &  1.661 &  1.483 & 0      &  9     &  9     &  0.970 &  0.817 & 0.024 \\\\\n",
       "\tV14 & 14     & 5822   &  3.230 &  1.620 &  3     &  3.223 &  1.483 & 0      &  9     &  9     &  0.180 &  0.396 & 0.021 \\\\\n",
       "\tV15 & 15     & 5822   &  4.300 &  2.005 &  4     &  4.255 &  1.483 & 0      &  9     &  9     &  0.177 & -0.214 & 0.026 \\\\\n",
       "\tV16 & 16     & 5822   &  1.461 &  1.623 &  1     &  1.196 &  1.483 & 0      &  9     &  9     &  1.363 &  1.992 & 0.021 \\\\\n",
       "\tV17 & 17     & 5822   &  3.351 &  1.761 &  3     &  3.328 &  1.483 & 0      &  9     &  9     &  0.188 &  0.213 & 0.023 \\\\\n",
       "\tV18 & 18     & 5822   &  4.572 &  2.298 &  5     &  4.578 &  2.965 & 0      &  9     &  9     & -0.054 & -0.606 & 0.030 \\\\\n",
       "\tV19 & 19     & 5822   &  1.895 &  1.798 &  2     &  1.641 &  1.483 & 0      &  9     &  9     &  1.173 &  1.423 & 0.024 \\\\\n",
       "\tV20 & 20     & 5822   &  0.398 &  0.775 &  0     &  0.229 &  0.000 & 0      &  5     &  5     &  2.845 & 11.086 & 0.010 \\\\\n",
       "\tV21 & 21     & 5822   &  0.522 &  1.057 &  0     &  0.274 &  0.000 & 0      &  9     &  9     &  2.826 & 10.382 & 0.014 \\\\\n",
       "\tV22 & 22     & 5822   &  2.899 &  1.840 &  3     &  2.799 &  1.483 & 0      &  9     &  9     &  0.656 &  0.798 & 0.024 \\\\\n",
       "\tV23 & 23     & 5822   &  2.220 &  1.731 &  2     &  2.061 &  1.483 & 0      &  9     &  9     &  0.678 &  0.317 & 0.023 \\\\\n",
       "\tV24 & 24     & 5822   &  2.306 &  1.693 &  2     &  2.181 &  1.483 & 0      &  9     &  9     &  0.670 &  0.570 & 0.022 \\\\\n",
       "\tV25 & 25     & 5822   &  1.621 &  1.723 &  1     &  1.335 &  1.483 & 0      &  9     &  9     &  1.637 &  3.408 & 0.023 \\\\\n",
       "\tV26 & 26     & 5822   &  1.607 &  1.331 &  2     &  1.485 &  1.483 & 0      &  9     &  9     &  1.112 &  3.026 & 0.017 \\\\\n",
       "\tV27 & 27     & 5822   &  2.203 &  1.529 &  2     &  2.123 &  1.483 & 0      &  9     &  9     &  0.385 & -0.188 & 0.020 \\\\\n",
       "\tV28 & 28     & 5822   &  3.759 &  1.936 &  4     &  3.745 &  1.483 & 0      &  9     &  9     &  0.193 &  0.092 & 0.025 \\\\\n",
       "\tV29 & 29     & 5822   &  1.067 &  1.303 &  1     &  0.842 &  1.483 & 0      &  9     &  9     &  1.418 &  1.984 & 0.017 \\\\\n",
       "\tV30 & 30     & 5822   &  4.237 &  3.089 &  4     &  4.171 &  4.448 & 0      &  9     &  9     &  0.151 & -1.305 & 0.040 \\\\\n",
       "\\end{tabular}\n"
      ],
      "text/markdown": [
       "\n",
       "| <!--/--> | vars | n | mean | sd | median | trimmed | mad | min | max | range | skew | kurtosis | se |\n",
       "|---|---|---|---|---|---|---|---|---|---|---|---|---|---|\n",
       "| V1 |  1     | 5822   | 24.253 | 12.847 | 30     | 24.984 | 11.861 | 1      | 41     | 40     | -0.435 | -1.353 | 0.168  |\n",
       "| V2 |  2     | 5822   |  1.111 |  0.406 |  1     |  1.000 |  0.000 | 1      | 10     |  9     |  7.416 | 99.985 | 0.005  |\n",
       "| V3 |  3     | 5822   |  2.679 |  0.790 |  3     |  2.645 |  1.483 | 1      |  5     |  4     |  0.183 |  0.011 | 0.010  |\n",
       "| V4 |  4     | 5822   |  2.991 |  0.815 |  3     |  2.951 |  0.000 | 1      |  6     |  5     |  0.472 |  0.619 | 0.011  |\n",
       "| V5 |  5     | 5822   |  5.774 |  2.857 |  7     |  5.901 |  2.965 | 1      | 10     |  9     | -0.331 | -1.345 | 0.037  |\n",
       "| V6 |  6     | 5822   |  0.696 |  1.003 |  0     |  0.521 |  0.000 | 0      |  9     |  9     |  2.237 |  8.617 | 0.013  |\n",
       "| V7 |  7     | 5822   |  4.627 |  1.716 |  5     |  4.633 |  1.483 | 0      |  9     |  9     |  0.074 |  0.454 | 0.022  |\n",
       "| V8 |  8     | 5822   |  1.070 |  1.018 |  1     |  0.957 |  1.483 | 0      |  5     |  5     |  0.902 |  0.788 | 0.013  |\n",
       "| V9 |  9     | 5822   |  3.259 |  1.598 |  3     |  3.321 |  1.483 | 0      |  9     |  9     | -0.131 | -0.032 | 0.021  |\n",
       "| V10 | 10     | 5822   |  6.183 |  1.909 |  6     |  6.328 |  1.483 | 0      |  9     |  9     | -0.719 |  0.681 | 0.025  |\n",
       "| V11 | 11     | 5822   |  0.884 |  0.966 |  1     |  0.763 |  1.483 | 0      |  7     |  7     |  1.316 |  2.759 | 0.013  |\n",
       "| V12 | 12     | 5822   |  2.290 |  1.723 |  2     |  2.144 |  1.483 | 0      |  9     |  9     |  0.693 |  0.712 | 0.023  |\n",
       "| V13 | 13     | 5822   |  1.888 |  1.800 |  2     |  1.661 |  1.483 | 0      |  9     |  9     |  0.970 |  0.817 | 0.024  |\n",
       "| V14 | 14     | 5822   |  3.230 |  1.620 |  3     |  3.223 |  1.483 | 0      |  9     |  9     |  0.180 |  0.396 | 0.021  |\n",
       "| V15 | 15     | 5822   |  4.300 |  2.005 |  4     |  4.255 |  1.483 | 0      |  9     |  9     |  0.177 | -0.214 | 0.026  |\n",
       "| V16 | 16     | 5822   |  1.461 |  1.623 |  1     |  1.196 |  1.483 | 0      |  9     |  9     |  1.363 |  1.992 | 0.021  |\n",
       "| V17 | 17     | 5822   |  3.351 |  1.761 |  3     |  3.328 |  1.483 | 0      |  9     |  9     |  0.188 |  0.213 | 0.023  |\n",
       "| V18 | 18     | 5822   |  4.572 |  2.298 |  5     |  4.578 |  2.965 | 0      |  9     |  9     | -0.054 | -0.606 | 0.030  |\n",
       "| V19 | 19     | 5822   |  1.895 |  1.798 |  2     |  1.641 |  1.483 | 0      |  9     |  9     |  1.173 |  1.423 | 0.024  |\n",
       "| V20 | 20     | 5822   |  0.398 |  0.775 |  0     |  0.229 |  0.000 | 0      |  5     |  5     |  2.845 | 11.086 | 0.010  |\n",
       "| V21 | 21     | 5822   |  0.522 |  1.057 |  0     |  0.274 |  0.000 | 0      |  9     |  9     |  2.826 | 10.382 | 0.014  |\n",
       "| V22 | 22     | 5822   |  2.899 |  1.840 |  3     |  2.799 |  1.483 | 0      |  9     |  9     |  0.656 |  0.798 | 0.024  |\n",
       "| V23 | 23     | 5822   |  2.220 |  1.731 |  2     |  2.061 |  1.483 | 0      |  9     |  9     |  0.678 |  0.317 | 0.023  |\n",
       "| V24 | 24     | 5822   |  2.306 |  1.693 |  2     |  2.181 |  1.483 | 0      |  9     |  9     |  0.670 |  0.570 | 0.022  |\n",
       "| V25 | 25     | 5822   |  1.621 |  1.723 |  1     |  1.335 |  1.483 | 0      |  9     |  9     |  1.637 |  3.408 | 0.023  |\n",
       "| V26 | 26     | 5822   |  1.607 |  1.331 |  2     |  1.485 |  1.483 | 0      |  9     |  9     |  1.112 |  3.026 | 0.017  |\n",
       "| V27 | 27     | 5822   |  2.203 |  1.529 |  2     |  2.123 |  1.483 | 0      |  9     |  9     |  0.385 | -0.188 | 0.020  |\n",
       "| V28 | 28     | 5822   |  3.759 |  1.936 |  4     |  3.745 |  1.483 | 0      |  9     |  9     |  0.193 |  0.092 | 0.025  |\n",
       "| V29 | 29     | 5822   |  1.067 |  1.303 |  1     |  0.842 |  1.483 | 0      |  9     |  9     |  1.418 |  1.984 | 0.017  |\n",
       "| V30 | 30     | 5822   |  4.237 |  3.089 |  4     |  4.171 |  4.448 | 0      |  9     |  9     |  0.151 | -1.305 | 0.040  |\n",
       "\n"
      ],
      "text/plain": [
       "    vars n    mean   sd     median trimmed mad    min max range skew   kurtosis\n",
       "V1   1   5822 24.253 12.847 30     24.984  11.861 1   41  40    -0.435 -1.353  \n",
       "V2   2   5822  1.111  0.406  1      1.000   0.000 1   10   9     7.416 99.985  \n",
       "V3   3   5822  2.679  0.790  3      2.645   1.483 1    5   4     0.183  0.011  \n",
       "V4   4   5822  2.991  0.815  3      2.951   0.000 1    6   5     0.472  0.619  \n",
       "V5   5   5822  5.774  2.857  7      5.901   2.965 1   10   9    -0.331 -1.345  \n",
       "V6   6   5822  0.696  1.003  0      0.521   0.000 0    9   9     2.237  8.617  \n",
       "V7   7   5822  4.627  1.716  5      4.633   1.483 0    9   9     0.074  0.454  \n",
       "V8   8   5822  1.070  1.018  1      0.957   1.483 0    5   5     0.902  0.788  \n",
       "V9   9   5822  3.259  1.598  3      3.321   1.483 0    9   9    -0.131 -0.032  \n",
       "V10 10   5822  6.183  1.909  6      6.328   1.483 0    9   9    -0.719  0.681  \n",
       "V11 11   5822  0.884  0.966  1      0.763   1.483 0    7   7     1.316  2.759  \n",
       "V12 12   5822  2.290  1.723  2      2.144   1.483 0    9   9     0.693  0.712  \n",
       "V13 13   5822  1.888  1.800  2      1.661   1.483 0    9   9     0.970  0.817  \n",
       "V14 14   5822  3.230  1.620  3      3.223   1.483 0    9   9     0.180  0.396  \n",
       "V15 15   5822  4.300  2.005  4      4.255   1.483 0    9   9     0.177 -0.214  \n",
       "V16 16   5822  1.461  1.623  1      1.196   1.483 0    9   9     1.363  1.992  \n",
       "V17 17   5822  3.351  1.761  3      3.328   1.483 0    9   9     0.188  0.213  \n",
       "V18 18   5822  4.572  2.298  5      4.578   2.965 0    9   9    -0.054 -0.606  \n",
       "V19 19   5822  1.895  1.798  2      1.641   1.483 0    9   9     1.173  1.423  \n",
       "V20 20   5822  0.398  0.775  0      0.229   0.000 0    5   5     2.845 11.086  \n",
       "V21 21   5822  0.522  1.057  0      0.274   0.000 0    9   9     2.826 10.382  \n",
       "V22 22   5822  2.899  1.840  3      2.799   1.483 0    9   9     0.656  0.798  \n",
       "V23 23   5822  2.220  1.731  2      2.061   1.483 0    9   9     0.678  0.317  \n",
       "V24 24   5822  2.306  1.693  2      2.181   1.483 0    9   9     0.670  0.570  \n",
       "V25 25   5822  1.621  1.723  1      1.335   1.483 0    9   9     1.637  3.408  \n",
       "V26 26   5822  1.607  1.331  2      1.485   1.483 0    9   9     1.112  3.026  \n",
       "V27 27   5822  2.203  1.529  2      2.123   1.483 0    9   9     0.385 -0.188  \n",
       "V28 28   5822  3.759  1.936  4      3.745   1.483 0    9   9     0.193  0.092  \n",
       "V29 29   5822  1.067  1.303  1      0.842   1.483 0    9   9     1.418  1.984  \n",
       "V30 30   5822  4.237  3.089  4      4.171   4.448 0    9   9     0.151 -1.305  \n",
       "    se   \n",
       "V1  0.168\n",
       "V2  0.005\n",
       "V3  0.010\n",
       "V4  0.011\n",
       "V5  0.037\n",
       "V6  0.013\n",
       "V7  0.022\n",
       "V8  0.013\n",
       "V9  0.021\n",
       "V10 0.025\n",
       "V11 0.013\n",
       "V12 0.023\n",
       "V13 0.024\n",
       "V14 0.021\n",
       "V15 0.026\n",
       "V16 0.021\n",
       "V17 0.023\n",
       "V18 0.030\n",
       "V19 0.024\n",
       "V20 0.010\n",
       "V21 0.014\n",
       "V22 0.024\n",
       "V23 0.023\n",
       "V24 0.022\n",
       "V25 0.023\n",
       "V26 0.017\n",
       "V27 0.020\n",
       "V28 0.025\n",
       "V29 0.017\n",
       "V30 0.040"
      ]
     },
     "metadata": {},
     "output_type": "display_data"
    },
    {
     "data": {
      "text/html": [
       "<table>\n",
       "<thead><tr><th></th><th scope=col>vars</th><th scope=col>n</th><th scope=col>mean</th><th scope=col>sd</th><th scope=col>median</th><th scope=col>trimmed</th><th scope=col>mad</th><th scope=col>min</th><th scope=col>max</th><th scope=col>range</th><th scope=col>skew</th><th scope=col>kurtosis</th><th scope=col>se</th></tr></thead>\n",
       "<tbody>\n",
       "\t<tr><th scope=row>V31</th><td> 1      </td><td>5822    </td><td>4.772   </td><td>3.090   </td><td>5       </td><td>4.840   </td><td>4.448   </td><td>0       </td><td>9       </td><td>9       </td><td>-0.158  </td><td>  -1.305</td><td>0.040   </td></tr>\n",
       "\t<tr><th scope=row>V32</th><td> 2      </td><td>5822    </td><td>6.040   </td><td>1.553   </td><td>6       </td><td>6.042   </td><td>1.483   </td><td>0       </td><td>9       </td><td>9       </td><td>-0.237  </td><td>   0.619</td><td>0.020   </td></tr>\n",
       "\t<tr><th scope=row>V33</th><td> 3      </td><td>5822    </td><td>1.316   </td><td>1.203   </td><td>1       </td><td>1.175   </td><td>1.483   </td><td>0       </td><td>7       </td><td>7       </td><td> 0.774  </td><td>   0.309</td><td>0.016   </td></tr>\n",
       "\t<tr><th scope=row>V34</th><td> 4      </td><td>5822    </td><td>1.959   </td><td>1.600   </td><td>2       </td><td>1.828   </td><td>1.483   </td><td>0       </td><td>9       </td><td>9       </td><td> 0.728  </td><td>   0.863</td><td>0.021   </td></tr>\n",
       "\t<tr><th scope=row>V35</th><td> 5      </td><td>5822    </td><td>6.277   </td><td>1.979   </td><td>7       </td><td>6.448   </td><td>1.483   </td><td>0       </td><td>9       </td><td>9       </td><td>-0.687  </td><td>   0.202</td><td>0.026   </td></tr>\n",
       "\t<tr><th scope=row>V36</th><td> 6      </td><td>5822    </td><td>2.729   </td><td>1.982   </td><td>2       </td><td>2.559   </td><td>1.483   </td><td>0       </td><td>9       </td><td>9       </td><td> 0.678  </td><td>   0.177</td><td>0.026   </td></tr>\n",
       "\t<tr><th scope=row>V37</th><td> 7      </td><td>5822    </td><td>2.574   </td><td>2.086   </td><td>2       </td><td>2.388   </td><td>2.965   </td><td>0       </td><td>9       </td><td>9       </td><td> 0.597  </td><td>  -0.168</td><td>0.027   </td></tr>\n",
       "\t<tr><th scope=row>V38</th><td> 8      </td><td>5822    </td><td>3.536   </td><td>1.883   </td><td>4       </td><td>3.528   </td><td>1.483   </td><td>0       </td><td>9       </td><td>9       </td><td> 0.180  </td><td>   0.171</td><td>0.025   </td></tr>\n",
       "\t<tr><th scope=row>V39</th><td> 9      </td><td>5822    </td><td>2.731   </td><td>1.928   </td><td>3       </td><td>2.610   </td><td>1.483   </td><td>0       </td><td>9       </td><td>9       </td><td> 0.664  </td><td>   0.709</td><td>0.025   </td></tr>\n",
       "\t<tr><th scope=row>V40</th><td>10      </td><td>5822    </td><td>0.796   </td><td>1.163   </td><td>0       </td><td>0.564   </td><td>0.000   </td><td>0       </td><td>9       </td><td>9       </td><td> 1.908  </td><td>   4.756</td><td>0.015   </td></tr>\n",
       "\t<tr><th scope=row>V41</th><td>11      </td><td>5822    </td><td>0.203   </td><td>0.552   </td><td>0       </td><td>0.073   </td><td>0.000   </td><td>0       </td><td>9       </td><td>9       </td><td> 4.208  </td><td>  28.861</td><td>0.007   </td></tr>\n",
       "\t<tr><th scope=row>V42</th><td>12      </td><td>5822    </td><td>3.784   </td><td>1.318   </td><td>4       </td><td>3.680   </td><td>1.483   </td><td>0       </td><td>9       </td><td>9       </td><td> 0.816  </td><td>   1.440</td><td>0.017   </td></tr>\n",
       "\t<tr><th scope=row>V43</th><td>13      </td><td>5822    </td><td>4.236   </td><td>2.007   </td><td>4       </td><td>4.204   </td><td>1.483   </td><td>1       </td><td>8       </td><td>7       </td><td> 0.220  </td><td>  -0.877</td><td>0.026   </td></tr>\n",
       "\t<tr><th scope=row>V44</th><td>14      </td><td>5822    </td><td>0.771   </td><td>0.959   </td><td>0       </td><td>0.712   </td><td>0.000   </td><td>0       </td><td>3       </td><td>3       </td><td> 0.483  </td><td>  -1.707</td><td>0.013   </td></tr>\n",
       "\t<tr><th scope=row>V45</th><td>15      </td><td>5822    </td><td>0.040   </td><td>0.363   </td><td>0       </td><td>0.000   </td><td>0.000   </td><td>0       </td><td>6       </td><td>6       </td><td>10.271  </td><td> 116.595</td><td>0.005   </td></tr>\n",
       "\t<tr><th scope=row>V46</th><td>16      </td><td>5822    </td><td>0.072   </td><td>0.500   </td><td>0       </td><td>0.000   </td><td>0.000   </td><td>0       </td><td>4       </td><td>4       </td><td> 6.993  </td><td>  47.911</td><td>0.007   </td></tr>\n",
       "\t<tr><th scope=row>V47</th><td>17      </td><td>5822    </td><td>2.970   </td><td>2.921   </td><td>5       </td><td>2.953   </td><td>1.483   </td><td>0       </td><td>8       </td><td>8       </td><td>-0.013  </td><td>  -1.961</td><td>0.038   </td></tr>\n",
       "\t<tr><th scope=row>V48</th><td>18      </td><td>5822    </td><td>0.048   </td><td>0.531   </td><td>0       </td><td>0.000   </td><td>0.000   </td><td>0       </td><td>7       </td><td>7       </td><td>10.992  </td><td> 119.690</td><td>0.007   </td></tr>\n",
       "\t<tr><th scope=row>V49</th><td>19      </td><td>5822    </td><td>0.175   </td><td>0.897   </td><td>0       </td><td>0.000   </td><td>0.000   </td><td>0       </td><td>7       </td><td>7       </td><td> 5.127  </td><td>  25.459</td><td>0.012   </td></tr>\n",
       "\t<tr><th scope=row>V50</th><td>20      </td><td>5822    </td><td>0.009   </td><td>0.245   </td><td>0       </td><td>0.000   </td><td>0.000   </td><td>0       </td><td>9       </td><td>9       </td><td>26.913  </td><td> 754.322</td><td>0.003   </td></tr>\n",
       "\t<tr><th scope=row>V51</th><td>21      </td><td>5822    </td><td>0.021   </td><td>0.213   </td><td>0       </td><td>0.000   </td><td>0.000   </td><td>0       </td><td>5       </td><td>5       </td><td>11.728  </td><td> 159.535</td><td>0.003   </td></tr>\n",
       "\t<tr><th scope=row>V52</th><td>22      </td><td>5822    </td><td>0.093   </td><td>0.603   </td><td>0       </td><td>0.000   </td><td>0.000   </td><td>0       </td><td>6       </td><td>6       </td><td> 6.823  </td><td>  47.822</td><td>0.008   </td></tr>\n",
       "\t<tr><th scope=row>V53</th><td>23      </td><td>5822    </td><td>0.013   </td><td>0.229   </td><td>0       </td><td>0.000   </td><td>0.000   </td><td>0       </td><td>6       </td><td>6       </td><td>19.219  </td><td> 398.364</td><td>0.003   </td></tr>\n",
       "\t<tr><th scope=row>V54</th><td>24      </td><td>5822    </td><td>0.215   </td><td>0.813   </td><td>0       </td><td>0.000   </td><td>0.000   </td><td>0       </td><td>6       </td><td>6       </td><td> 3.704  </td><td>  12.621</td><td>0.011   </td></tr>\n",
       "\t<tr><th scope=row>V55</th><td>25      </td><td>5822    </td><td>0.195   </td><td>0.898   </td><td>0       </td><td>0.000   </td><td>0.000   </td><td>0       </td><td>9       </td><td>9       </td><td> 4.881  </td><td>  24.245</td><td>0.012   </td></tr>\n",
       "\t<tr><th scope=row>V56</th><td>26      </td><td>5822    </td><td>0.014   </td><td>0.209   </td><td>0       </td><td>0.000   </td><td>0.000   </td><td>0       </td><td>6       </td><td>6       </td><td>18.622  </td><td> 404.122</td><td>0.003   </td></tr>\n",
       "\t<tr><th scope=row>V57</th><td>27      </td><td>5822    </td><td>0.015   </td><td>0.192   </td><td>0       </td><td>0.000   </td><td>0.000   </td><td>0       </td><td>3       </td><td>3       </td><td>13.035  </td><td> 174.679</td><td>0.003   </td></tr>\n",
       "\t<tr><th scope=row>V58</th><td>28      </td><td>5822    </td><td>0.024   </td><td>0.375   </td><td>0       </td><td>0.000   </td><td>0.000   </td><td>0       </td><td>7       </td><td>7       </td><td>15.993  </td><td> 255.432</td><td>0.005   </td></tr>\n",
       "\t<tr><th scope=row>V59</th><td>29      </td><td>5822    </td><td>1.828   </td><td>1.879   </td><td>2       </td><td>1.679   </td><td>2.965   </td><td>0       </td><td>8       </td><td>8       </td><td> 0.393  </td><td>  -1.226</td><td>0.025   </td></tr>\n",
       "\t<tr><th scope=row>V60</th><td>30      </td><td>5822    </td><td>0.001   </td><td>0.043   </td><td>0       </td><td>0.000   </td><td>0.000   </td><td>0       </td><td>3       </td><td>3       </td><td>60.613  </td><td>3987.557</td><td>0.001   </td></tr>\n",
       "</tbody>\n",
       "</table>\n"
      ],
      "text/latex": [
       "\\begin{tabular}{r|lllllllllllll}\n",
       "  & vars & n & mean & sd & median & trimmed & mad & min & max & range & skew & kurtosis & se\\\\\n",
       "\\hline\n",
       "\tV31 &  1       & 5822     & 4.772    & 3.090    & 5        & 4.840    & 4.448    & 0        & 9        & 9        & -0.158   &   -1.305 & 0.040   \\\\\n",
       "\tV32 &  2       & 5822     & 6.040    & 1.553    & 6        & 6.042    & 1.483    & 0        & 9        & 9        & -0.237   &    0.619 & 0.020   \\\\\n",
       "\tV33 &  3       & 5822     & 1.316    & 1.203    & 1        & 1.175    & 1.483    & 0        & 7        & 7        &  0.774   &    0.309 & 0.016   \\\\\n",
       "\tV34 &  4       & 5822     & 1.959    & 1.600    & 2        & 1.828    & 1.483    & 0        & 9        & 9        &  0.728   &    0.863 & 0.021   \\\\\n",
       "\tV35 &  5       & 5822     & 6.277    & 1.979    & 7        & 6.448    & 1.483    & 0        & 9        & 9        & -0.687   &    0.202 & 0.026   \\\\\n",
       "\tV36 &  6       & 5822     & 2.729    & 1.982    & 2        & 2.559    & 1.483    & 0        & 9        & 9        &  0.678   &    0.177 & 0.026   \\\\\n",
       "\tV37 &  7       & 5822     & 2.574    & 2.086    & 2        & 2.388    & 2.965    & 0        & 9        & 9        &  0.597   &   -0.168 & 0.027   \\\\\n",
       "\tV38 &  8       & 5822     & 3.536    & 1.883    & 4        & 3.528    & 1.483    & 0        & 9        & 9        &  0.180   &    0.171 & 0.025   \\\\\n",
       "\tV39 &  9       & 5822     & 2.731    & 1.928    & 3        & 2.610    & 1.483    & 0        & 9        & 9        &  0.664   &    0.709 & 0.025   \\\\\n",
       "\tV40 & 10       & 5822     & 0.796    & 1.163    & 0        & 0.564    & 0.000    & 0        & 9        & 9        &  1.908   &    4.756 & 0.015   \\\\\n",
       "\tV41 & 11       & 5822     & 0.203    & 0.552    & 0        & 0.073    & 0.000    & 0        & 9        & 9        &  4.208   &   28.861 & 0.007   \\\\\n",
       "\tV42 & 12       & 5822     & 3.784    & 1.318    & 4        & 3.680    & 1.483    & 0        & 9        & 9        &  0.816   &    1.440 & 0.017   \\\\\n",
       "\tV43 & 13       & 5822     & 4.236    & 2.007    & 4        & 4.204    & 1.483    & 1        & 8        & 7        &  0.220   &   -0.877 & 0.026   \\\\\n",
       "\tV44 & 14       & 5822     & 0.771    & 0.959    & 0        & 0.712    & 0.000    & 0        & 3        & 3        &  0.483   &   -1.707 & 0.013   \\\\\n",
       "\tV45 & 15       & 5822     & 0.040    & 0.363    & 0        & 0.000    & 0.000    & 0        & 6        & 6        & 10.271   &  116.595 & 0.005   \\\\\n",
       "\tV46 & 16       & 5822     & 0.072    & 0.500    & 0        & 0.000    & 0.000    & 0        & 4        & 4        &  6.993   &   47.911 & 0.007   \\\\\n",
       "\tV47 & 17       & 5822     & 2.970    & 2.921    & 5        & 2.953    & 1.483    & 0        & 8        & 8        & -0.013   &   -1.961 & 0.038   \\\\\n",
       "\tV48 & 18       & 5822     & 0.048    & 0.531    & 0        & 0.000    & 0.000    & 0        & 7        & 7        & 10.992   &  119.690 & 0.007   \\\\\n",
       "\tV49 & 19       & 5822     & 0.175    & 0.897    & 0        & 0.000    & 0.000    & 0        & 7        & 7        &  5.127   &   25.459 & 0.012   \\\\\n",
       "\tV50 & 20       & 5822     & 0.009    & 0.245    & 0        & 0.000    & 0.000    & 0        & 9        & 9        & 26.913   &  754.322 & 0.003   \\\\\n",
       "\tV51 & 21       & 5822     & 0.021    & 0.213    & 0        & 0.000    & 0.000    & 0        & 5        & 5        & 11.728   &  159.535 & 0.003   \\\\\n",
       "\tV52 & 22       & 5822     & 0.093    & 0.603    & 0        & 0.000    & 0.000    & 0        & 6        & 6        &  6.823   &   47.822 & 0.008   \\\\\n",
       "\tV53 & 23       & 5822     & 0.013    & 0.229    & 0        & 0.000    & 0.000    & 0        & 6        & 6        & 19.219   &  398.364 & 0.003   \\\\\n",
       "\tV54 & 24       & 5822     & 0.215    & 0.813    & 0        & 0.000    & 0.000    & 0        & 6        & 6        &  3.704   &   12.621 & 0.011   \\\\\n",
       "\tV55 & 25       & 5822     & 0.195    & 0.898    & 0        & 0.000    & 0.000    & 0        & 9        & 9        &  4.881   &   24.245 & 0.012   \\\\\n",
       "\tV56 & 26       & 5822     & 0.014    & 0.209    & 0        & 0.000    & 0.000    & 0        & 6        & 6        & 18.622   &  404.122 & 0.003   \\\\\n",
       "\tV57 & 27       & 5822     & 0.015    & 0.192    & 0        & 0.000    & 0.000    & 0        & 3        & 3        & 13.035   &  174.679 & 0.003   \\\\\n",
       "\tV58 & 28       & 5822     & 0.024    & 0.375    & 0        & 0.000    & 0.000    & 0        & 7        & 7        & 15.993   &  255.432 & 0.005   \\\\\n",
       "\tV59 & 29       & 5822     & 1.828    & 1.879    & 2        & 1.679    & 2.965    & 0        & 8        & 8        &  0.393   &   -1.226 & 0.025   \\\\\n",
       "\tV60 & 30       & 5822     & 0.001    & 0.043    & 0        & 0.000    & 0.000    & 0        & 3        & 3        & 60.613   & 3987.557 & 0.001   \\\\\n",
       "\\end{tabular}\n"
      ],
      "text/markdown": [
       "\n",
       "| <!--/--> | vars | n | mean | sd | median | trimmed | mad | min | max | range | skew | kurtosis | se |\n",
       "|---|---|---|---|---|---|---|---|---|---|---|---|---|---|\n",
       "| V31 |  1       | 5822     | 4.772    | 3.090    | 5        | 4.840    | 4.448    | 0        | 9        | 9        | -0.158   |   -1.305 | 0.040    |\n",
       "| V32 |  2       | 5822     | 6.040    | 1.553    | 6        | 6.042    | 1.483    | 0        | 9        | 9        | -0.237   |    0.619 | 0.020    |\n",
       "| V33 |  3       | 5822     | 1.316    | 1.203    | 1        | 1.175    | 1.483    | 0        | 7        | 7        |  0.774   |    0.309 | 0.016    |\n",
       "| V34 |  4       | 5822     | 1.959    | 1.600    | 2        | 1.828    | 1.483    | 0        | 9        | 9        |  0.728   |    0.863 | 0.021    |\n",
       "| V35 |  5       | 5822     | 6.277    | 1.979    | 7        | 6.448    | 1.483    | 0        | 9        | 9        | -0.687   |    0.202 | 0.026    |\n",
       "| V36 |  6       | 5822     | 2.729    | 1.982    | 2        | 2.559    | 1.483    | 0        | 9        | 9        |  0.678   |    0.177 | 0.026    |\n",
       "| V37 |  7       | 5822     | 2.574    | 2.086    | 2        | 2.388    | 2.965    | 0        | 9        | 9        |  0.597   |   -0.168 | 0.027    |\n",
       "| V38 |  8       | 5822     | 3.536    | 1.883    | 4        | 3.528    | 1.483    | 0        | 9        | 9        |  0.180   |    0.171 | 0.025    |\n",
       "| V39 |  9       | 5822     | 2.731    | 1.928    | 3        | 2.610    | 1.483    | 0        | 9        | 9        |  0.664   |    0.709 | 0.025    |\n",
       "| V40 | 10       | 5822     | 0.796    | 1.163    | 0        | 0.564    | 0.000    | 0        | 9        | 9        |  1.908   |    4.756 | 0.015    |\n",
       "| V41 | 11       | 5822     | 0.203    | 0.552    | 0        | 0.073    | 0.000    | 0        | 9        | 9        |  4.208   |   28.861 | 0.007    |\n",
       "| V42 | 12       | 5822     | 3.784    | 1.318    | 4        | 3.680    | 1.483    | 0        | 9        | 9        |  0.816   |    1.440 | 0.017    |\n",
       "| V43 | 13       | 5822     | 4.236    | 2.007    | 4        | 4.204    | 1.483    | 1        | 8        | 7        |  0.220   |   -0.877 | 0.026    |\n",
       "| V44 | 14       | 5822     | 0.771    | 0.959    | 0        | 0.712    | 0.000    | 0        | 3        | 3        |  0.483   |   -1.707 | 0.013    |\n",
       "| V45 | 15       | 5822     | 0.040    | 0.363    | 0        | 0.000    | 0.000    | 0        | 6        | 6        | 10.271   |  116.595 | 0.005    |\n",
       "| V46 | 16       | 5822     | 0.072    | 0.500    | 0        | 0.000    | 0.000    | 0        | 4        | 4        |  6.993   |   47.911 | 0.007    |\n",
       "| V47 | 17       | 5822     | 2.970    | 2.921    | 5        | 2.953    | 1.483    | 0        | 8        | 8        | -0.013   |   -1.961 | 0.038    |\n",
       "| V48 | 18       | 5822     | 0.048    | 0.531    | 0        | 0.000    | 0.000    | 0        | 7        | 7        | 10.992   |  119.690 | 0.007    |\n",
       "| V49 | 19       | 5822     | 0.175    | 0.897    | 0        | 0.000    | 0.000    | 0        | 7        | 7        |  5.127   |   25.459 | 0.012    |\n",
       "| V50 | 20       | 5822     | 0.009    | 0.245    | 0        | 0.000    | 0.000    | 0        | 9        | 9        | 26.913   |  754.322 | 0.003    |\n",
       "| V51 | 21       | 5822     | 0.021    | 0.213    | 0        | 0.000    | 0.000    | 0        | 5        | 5        | 11.728   |  159.535 | 0.003    |\n",
       "| V52 | 22       | 5822     | 0.093    | 0.603    | 0        | 0.000    | 0.000    | 0        | 6        | 6        |  6.823   |   47.822 | 0.008    |\n",
       "| V53 | 23       | 5822     | 0.013    | 0.229    | 0        | 0.000    | 0.000    | 0        | 6        | 6        | 19.219   |  398.364 | 0.003    |\n",
       "| V54 | 24       | 5822     | 0.215    | 0.813    | 0        | 0.000    | 0.000    | 0        | 6        | 6        |  3.704   |   12.621 | 0.011    |\n",
       "| V55 | 25       | 5822     | 0.195    | 0.898    | 0        | 0.000    | 0.000    | 0        | 9        | 9        |  4.881   |   24.245 | 0.012    |\n",
       "| V56 | 26       | 5822     | 0.014    | 0.209    | 0        | 0.000    | 0.000    | 0        | 6        | 6        | 18.622   |  404.122 | 0.003    |\n",
       "| V57 | 27       | 5822     | 0.015    | 0.192    | 0        | 0.000    | 0.000    | 0        | 3        | 3        | 13.035   |  174.679 | 0.003    |\n",
       "| V58 | 28       | 5822     | 0.024    | 0.375    | 0        | 0.000    | 0.000    | 0        | 7        | 7        | 15.993   |  255.432 | 0.005    |\n",
       "| V59 | 29       | 5822     | 1.828    | 1.879    | 2        | 1.679    | 2.965    | 0        | 8        | 8        |  0.393   |   -1.226 | 0.025    |\n",
       "| V60 | 30       | 5822     | 0.001    | 0.043    | 0        | 0.000    | 0.000    | 0        | 3        | 3        | 60.613   | 3987.557 | 0.001    |\n",
       "\n"
      ],
      "text/plain": [
       "    vars n    mean  sd    median trimmed mad   min max range skew   kurtosis\n",
       "V31  1   5822 4.772 3.090 5      4.840   4.448 0   9   9     -0.158   -1.305\n",
       "V32  2   5822 6.040 1.553 6      6.042   1.483 0   9   9     -0.237    0.619\n",
       "V33  3   5822 1.316 1.203 1      1.175   1.483 0   7   7      0.774    0.309\n",
       "V34  4   5822 1.959 1.600 2      1.828   1.483 0   9   9      0.728    0.863\n",
       "V35  5   5822 6.277 1.979 7      6.448   1.483 0   9   9     -0.687    0.202\n",
       "V36  6   5822 2.729 1.982 2      2.559   1.483 0   9   9      0.678    0.177\n",
       "V37  7   5822 2.574 2.086 2      2.388   2.965 0   9   9      0.597   -0.168\n",
       "V38  8   5822 3.536 1.883 4      3.528   1.483 0   9   9      0.180    0.171\n",
       "V39  9   5822 2.731 1.928 3      2.610   1.483 0   9   9      0.664    0.709\n",
       "V40 10   5822 0.796 1.163 0      0.564   0.000 0   9   9      1.908    4.756\n",
       "V41 11   5822 0.203 0.552 0      0.073   0.000 0   9   9      4.208   28.861\n",
       "V42 12   5822 3.784 1.318 4      3.680   1.483 0   9   9      0.816    1.440\n",
       "V43 13   5822 4.236 2.007 4      4.204   1.483 1   8   7      0.220   -0.877\n",
       "V44 14   5822 0.771 0.959 0      0.712   0.000 0   3   3      0.483   -1.707\n",
       "V45 15   5822 0.040 0.363 0      0.000   0.000 0   6   6     10.271  116.595\n",
       "V46 16   5822 0.072 0.500 0      0.000   0.000 0   4   4      6.993   47.911\n",
       "V47 17   5822 2.970 2.921 5      2.953   1.483 0   8   8     -0.013   -1.961\n",
       "V48 18   5822 0.048 0.531 0      0.000   0.000 0   7   7     10.992  119.690\n",
       "V49 19   5822 0.175 0.897 0      0.000   0.000 0   7   7      5.127   25.459\n",
       "V50 20   5822 0.009 0.245 0      0.000   0.000 0   9   9     26.913  754.322\n",
       "V51 21   5822 0.021 0.213 0      0.000   0.000 0   5   5     11.728  159.535\n",
       "V52 22   5822 0.093 0.603 0      0.000   0.000 0   6   6      6.823   47.822\n",
       "V53 23   5822 0.013 0.229 0      0.000   0.000 0   6   6     19.219  398.364\n",
       "V54 24   5822 0.215 0.813 0      0.000   0.000 0   6   6      3.704   12.621\n",
       "V55 25   5822 0.195 0.898 0      0.000   0.000 0   9   9      4.881   24.245\n",
       "V56 26   5822 0.014 0.209 0      0.000   0.000 0   6   6     18.622  404.122\n",
       "V57 27   5822 0.015 0.192 0      0.000   0.000 0   3   3     13.035  174.679\n",
       "V58 28   5822 0.024 0.375 0      0.000   0.000 0   7   7     15.993  255.432\n",
       "V59 29   5822 1.828 1.879 2      1.679   2.965 0   8   8      0.393   -1.226\n",
       "V60 30   5822 0.001 0.043 0      0.000   0.000 0   3   3     60.613 3987.557\n",
       "    se   \n",
       "V31 0.040\n",
       "V32 0.020\n",
       "V33 0.016\n",
       "V34 0.021\n",
       "V35 0.026\n",
       "V36 0.026\n",
       "V37 0.027\n",
       "V38 0.025\n",
       "V39 0.025\n",
       "V40 0.015\n",
       "V41 0.007\n",
       "V42 0.017\n",
       "V43 0.026\n",
       "V44 0.013\n",
       "V45 0.005\n",
       "V46 0.007\n",
       "V47 0.038\n",
       "V48 0.007\n",
       "V49 0.012\n",
       "V50 0.003\n",
       "V51 0.003\n",
       "V52 0.008\n",
       "V53 0.003\n",
       "V54 0.011\n",
       "V55 0.012\n",
       "V56 0.003\n",
       "V57 0.003\n",
       "V58 0.005\n",
       "V59 0.025\n",
       "V60 0.001"
      ]
     },
     "metadata": {},
     "output_type": "display_data"
    },
    {
     "data": {
      "text/html": [
       "<table>\n",
       "<thead><tr><th></th><th scope=col>vars</th><th scope=col>n</th><th scope=col>mean</th><th scope=col>sd</th><th scope=col>median</th><th scope=col>trimmed</th><th scope=col>mad</th><th scope=col>min</th><th scope=col>max</th><th scope=col>range</th><th scope=col>skew</th><th scope=col>kurtosis</th><th scope=col>se</th></tr></thead>\n",
       "<tbody>\n",
       "\t<tr><th scope=row>V61</th><td> 1      </td><td>5822    </td><td>0.019   </td><td>0.273   </td><td>0       </td><td>0.000   </td><td>0.000   </td><td>0       </td><td>6       </td><td>6       </td><td>15.911  </td><td> 269.398</td><td>0.004   </td></tr>\n",
       "\t<tr><th scope=row>V62</th><td> 2      </td><td>5822    </td><td>0.025   </td><td>0.157   </td><td>0       </td><td>0.000   </td><td>0.000   </td><td>0       </td><td>1       </td><td>1       </td><td> 6.051  </td><td>  34.618</td><td>0.002   </td></tr>\n",
       "\t<tr><th scope=row>V63</th><td> 3      </td><td>5822    </td><td>0.016   </td><td>0.205   </td><td>0       </td><td>0.000   </td><td>0.000   </td><td>0       </td><td>6       </td><td>6       </td><td>16.646  </td><td> 330.208</td><td>0.003   </td></tr>\n",
       "\t<tr><th scope=row>V64</th><td> 4      </td><td>5822    </td><td>0.048   </td><td>0.409   </td><td>0       </td><td>0.000   </td><td>0.000   </td><td>0       </td><td>5       </td><td>5       </td><td> 8.824  </td><td>  78.186</td><td>0.005   </td></tr>\n",
       "\t<tr><th scope=row>V65</th><td> 5      </td><td>5822    </td><td>0.403   </td><td>0.493   </td><td>0       </td><td>0.377   </td><td>0.000   </td><td>0       </td><td>2       </td><td>2       </td><td> 0.421  </td><td>  -1.754</td><td>0.006   </td></tr>\n",
       "\t<tr><th scope=row>V66</th><td> 6      </td><td>5822    </td><td>0.015   </td><td>0.134   </td><td>0       </td><td>0.000   </td><td>0.000   </td><td>0       </td><td>5       </td><td>5       </td><td>14.330  </td><td> 365.232</td><td>0.002   </td></tr>\n",
       "\t<tr><th scope=row>V67</th><td> 7      </td><td>5822    </td><td>0.021   </td><td>0.142   </td><td>0       </td><td>0.000   </td><td>0.000   </td><td>0       </td><td>1       </td><td>1       </td><td> 6.746  </td><td>  43.522</td><td>0.002   </td></tr>\n",
       "\t<tr><th scope=row>V68</th><td> 8      </td><td>5822    </td><td>0.562   </td><td>0.605   </td><td>1       </td><td>0.514   </td><td>1.483   </td><td>0       </td><td>7       </td><td>7       </td><td> 0.977  </td><td>   3.612</td><td>0.008   </td></tr>\n",
       "\t<tr><th scope=row>V69</th><td> 9      </td><td>5822    </td><td>0.010   </td><td>0.130   </td><td>0       </td><td>0.000   </td><td>0.000   </td><td>0       </td><td>4       </td><td>4       </td><td>16.726  </td><td> 354.308</td><td>0.002   </td></tr>\n",
       "\t<tr><th scope=row>V70</th><td>10      </td><td>5822    </td><td>0.041   </td><td>0.229   </td><td>0       </td><td>0.000   </td><td>0.000   </td><td>0       </td><td>8       </td><td>8       </td><td>10.946  </td><td> 268.084</td><td>0.003   </td></tr>\n",
       "\t<tr><th scope=row>V71</th><td>11      </td><td>5822    </td><td>0.002   </td><td>0.063   </td><td>0       </td><td>0.000   </td><td>0.000   </td><td>0       </td><td>3       </td><td>3       </td><td>33.844  </td><td>1304.716</td><td>0.001   </td></tr>\n",
       "\t<tr><th scope=row>V72</th><td>12      </td><td>5822    </td><td>0.013   </td><td>0.126   </td><td>0       </td><td>0.000   </td><td>0.000   </td><td>0       </td><td>3       </td><td>3       </td><td>12.217  </td><td> 187.679</td><td>0.002   </td></tr>\n",
       "\t<tr><th scope=row>V73</th><td>13      </td><td>5822    </td><td>0.034   </td><td>0.241   </td><td>0       </td><td>0.000   </td><td>0.000   </td><td>0       </td><td>4       </td><td>4       </td><td> 9.449  </td><td> 111.637</td><td>0.003   </td></tr>\n",
       "\t<tr><th scope=row>V74</th><td>14      </td><td>5822    </td><td>0.006   </td><td>0.124   </td><td>0       </td><td>0.000   </td><td>0.000   </td><td>0       </td><td>6       </td><td>6       </td><td>29.443  </td><td>1121.908</td><td>0.002   </td></tr>\n",
       "\t<tr><th scope=row>V75</th><td>15      </td><td>5822    </td><td>0.070   </td><td>0.265   </td><td>0       </td><td>0.000   </td><td>0.000   </td><td>0       </td><td>2       </td><td>2       </td><td> 3.738  </td><td>  13.671</td><td>0.003   </td></tr>\n",
       "\t<tr><th scope=row>V76</th><td>16      </td><td>5822    </td><td>0.077   </td><td>0.378   </td><td>0       </td><td>0.000   </td><td>0.000   </td><td>0       </td><td>8       </td><td>8       </td><td> 6.703  </td><td>  65.753</td><td>0.005   </td></tr>\n",
       "\t<tr><th scope=row>V77</th><td>17      </td><td>5822    </td><td>0.005   </td><td>0.073   </td><td>0       </td><td>0.000   </td><td>0.000   </td><td>0       </td><td>1       </td><td>1       </td><td>13.591  </td><td> 182.748</td><td>0.001   </td></tr>\n",
       "\t<tr><th scope=row>V78</th><td>18      </td><td>5822    </td><td>0.007   </td><td>0.081   </td><td>0       </td><td>0.000   </td><td>0.000   </td><td>0       </td><td>1       </td><td>1       </td><td>12.253  </td><td> 148.165</td><td>0.001   </td></tr>\n",
       "\t<tr><th scope=row>V79</th><td>19      </td><td>5822    </td><td>0.005   </td><td>0.077   </td><td>0       </td><td>0.000   </td><td>0.000   </td><td>0       </td><td>2       </td><td>2       </td><td>18.710  </td><td> 389.666</td><td>0.001   </td></tr>\n",
       "\t<tr><th scope=row>V80</th><td>20      </td><td>5822    </td><td>0.570   </td><td>0.562   </td><td>1       </td><td>0.553   </td><td>0.000   </td><td>0       </td><td>7       </td><td>7       </td><td> 0.750  </td><td>   3.971</td><td>0.007   </td></tr>\n",
       "\t<tr><th scope=row>V81</th><td>21      </td><td>5822    </td><td>0.001   </td><td>0.023   </td><td>0       </td><td>0.000   </td><td>0.000   </td><td>0       </td><td>1       </td><td>1       </td><td>44.008  </td><td>1935.001</td><td>0.000   </td></tr>\n",
       "\t<tr><th scope=row>V82</th><td>22      </td><td>5822    </td><td>0.006   </td><td>0.082   </td><td>0       </td><td>0.000   </td><td>0.000   </td><td>0       </td><td>2       </td><td>2       </td><td>14.619  </td><td> 236.348</td><td>0.001   </td></tr>\n",
       "\t<tr><th scope=row>V83</th><td>23      </td><td>5822    </td><td>0.032   </td><td>0.211   </td><td>0       </td><td>0.000   </td><td>0.000   </td><td>0       </td><td>3       </td><td>3       </td><td> 7.537  </td><td>  63.140</td><td>0.003   </td></tr>\n",
       "\t<tr><th scope=row>V84</th><td>24      </td><td>5822    </td><td>0.008   </td><td>0.090   </td><td>0       </td><td>0.000   </td><td>0.000   </td><td>0       </td><td>2       </td><td>2       </td><td>11.802  </td><td> 146.715</td><td>0.001   </td></tr>\n",
       "\t<tr><th scope=row>V85</th><td>25      </td><td>5822    </td><td>0.014   </td><td>0.120   </td><td>0       </td><td>0.000   </td><td>0.000   </td><td>0       </td><td>2       </td><td>2       </td><td> 8.489  </td><td>  73.240</td><td>0.002   </td></tr>\n",
       "\t<tr><th scope=row>V86</th><td>26      </td><td>5822    </td><td>0.060   </td><td>0.237   </td><td>0       </td><td>0.000   </td><td>0.000   </td><td>0       </td><td>1       </td><td>1       </td><td> 3.713  </td><td>  11.788</td><td>0.003   </td></tr>\n",
       "</tbody>\n",
       "</table>\n"
      ],
      "text/latex": [
       "\\begin{tabular}{r|lllllllllllll}\n",
       "  & vars & n & mean & sd & median & trimmed & mad & min & max & range & skew & kurtosis & se\\\\\n",
       "\\hline\n",
       "\tV61 &  1       & 5822     & 0.019    & 0.273    & 0        & 0.000    & 0.000    & 0        & 6        & 6        & 15.911   &  269.398 & 0.004   \\\\\n",
       "\tV62 &  2       & 5822     & 0.025    & 0.157    & 0        & 0.000    & 0.000    & 0        & 1        & 1        &  6.051   &   34.618 & 0.002   \\\\\n",
       "\tV63 &  3       & 5822     & 0.016    & 0.205    & 0        & 0.000    & 0.000    & 0        & 6        & 6        & 16.646   &  330.208 & 0.003   \\\\\n",
       "\tV64 &  4       & 5822     & 0.048    & 0.409    & 0        & 0.000    & 0.000    & 0        & 5        & 5        &  8.824   &   78.186 & 0.005   \\\\\n",
       "\tV65 &  5       & 5822     & 0.403    & 0.493    & 0        & 0.377    & 0.000    & 0        & 2        & 2        &  0.421   &   -1.754 & 0.006   \\\\\n",
       "\tV66 &  6       & 5822     & 0.015    & 0.134    & 0        & 0.000    & 0.000    & 0        & 5        & 5        & 14.330   &  365.232 & 0.002   \\\\\n",
       "\tV67 &  7       & 5822     & 0.021    & 0.142    & 0        & 0.000    & 0.000    & 0        & 1        & 1        &  6.746   &   43.522 & 0.002   \\\\\n",
       "\tV68 &  8       & 5822     & 0.562    & 0.605    & 1        & 0.514    & 1.483    & 0        & 7        & 7        &  0.977   &    3.612 & 0.008   \\\\\n",
       "\tV69 &  9       & 5822     & 0.010    & 0.130    & 0        & 0.000    & 0.000    & 0        & 4        & 4        & 16.726   &  354.308 & 0.002   \\\\\n",
       "\tV70 & 10       & 5822     & 0.041    & 0.229    & 0        & 0.000    & 0.000    & 0        & 8        & 8        & 10.946   &  268.084 & 0.003   \\\\\n",
       "\tV71 & 11       & 5822     & 0.002    & 0.063    & 0        & 0.000    & 0.000    & 0        & 3        & 3        & 33.844   & 1304.716 & 0.001   \\\\\n",
       "\tV72 & 12       & 5822     & 0.013    & 0.126    & 0        & 0.000    & 0.000    & 0        & 3        & 3        & 12.217   &  187.679 & 0.002   \\\\\n",
       "\tV73 & 13       & 5822     & 0.034    & 0.241    & 0        & 0.000    & 0.000    & 0        & 4        & 4        &  9.449   &  111.637 & 0.003   \\\\\n",
       "\tV74 & 14       & 5822     & 0.006    & 0.124    & 0        & 0.000    & 0.000    & 0        & 6        & 6        & 29.443   & 1121.908 & 0.002   \\\\\n",
       "\tV75 & 15       & 5822     & 0.070    & 0.265    & 0        & 0.000    & 0.000    & 0        & 2        & 2        &  3.738   &   13.671 & 0.003   \\\\\n",
       "\tV76 & 16       & 5822     & 0.077    & 0.378    & 0        & 0.000    & 0.000    & 0        & 8        & 8        &  6.703   &   65.753 & 0.005   \\\\\n",
       "\tV77 & 17       & 5822     & 0.005    & 0.073    & 0        & 0.000    & 0.000    & 0        & 1        & 1        & 13.591   &  182.748 & 0.001   \\\\\n",
       "\tV78 & 18       & 5822     & 0.007    & 0.081    & 0        & 0.000    & 0.000    & 0        & 1        & 1        & 12.253   &  148.165 & 0.001   \\\\\n",
       "\tV79 & 19       & 5822     & 0.005    & 0.077    & 0        & 0.000    & 0.000    & 0        & 2        & 2        & 18.710   &  389.666 & 0.001   \\\\\n",
       "\tV80 & 20       & 5822     & 0.570    & 0.562    & 1        & 0.553    & 0.000    & 0        & 7        & 7        &  0.750   &    3.971 & 0.007   \\\\\n",
       "\tV81 & 21       & 5822     & 0.001    & 0.023    & 0        & 0.000    & 0.000    & 0        & 1        & 1        & 44.008   & 1935.001 & 0.000   \\\\\n",
       "\tV82 & 22       & 5822     & 0.006    & 0.082    & 0        & 0.000    & 0.000    & 0        & 2        & 2        & 14.619   &  236.348 & 0.001   \\\\\n",
       "\tV83 & 23       & 5822     & 0.032    & 0.211    & 0        & 0.000    & 0.000    & 0        & 3        & 3        &  7.537   &   63.140 & 0.003   \\\\\n",
       "\tV84 & 24       & 5822     & 0.008    & 0.090    & 0        & 0.000    & 0.000    & 0        & 2        & 2        & 11.802   &  146.715 & 0.001   \\\\\n",
       "\tV85 & 25       & 5822     & 0.014    & 0.120    & 0        & 0.000    & 0.000    & 0        & 2        & 2        &  8.489   &   73.240 & 0.002   \\\\\n",
       "\tV86 & 26       & 5822     & 0.060    & 0.237    & 0        & 0.000    & 0.000    & 0        & 1        & 1        &  3.713   &   11.788 & 0.003   \\\\\n",
       "\\end{tabular}\n"
      ],
      "text/markdown": [
       "\n",
       "| <!--/--> | vars | n | mean | sd | median | trimmed | mad | min | max | range | skew | kurtosis | se |\n",
       "|---|---|---|---|---|---|---|---|---|---|---|---|---|---|\n",
       "| V61 |  1       | 5822     | 0.019    | 0.273    | 0        | 0.000    | 0.000    | 0        | 6        | 6        | 15.911   |  269.398 | 0.004    |\n",
       "| V62 |  2       | 5822     | 0.025    | 0.157    | 0        | 0.000    | 0.000    | 0        | 1        | 1        |  6.051   |   34.618 | 0.002    |\n",
       "| V63 |  3       | 5822     | 0.016    | 0.205    | 0        | 0.000    | 0.000    | 0        | 6        | 6        | 16.646   |  330.208 | 0.003    |\n",
       "| V64 |  4       | 5822     | 0.048    | 0.409    | 0        | 0.000    | 0.000    | 0        | 5        | 5        |  8.824   |   78.186 | 0.005    |\n",
       "| V65 |  5       | 5822     | 0.403    | 0.493    | 0        | 0.377    | 0.000    | 0        | 2        | 2        |  0.421   |   -1.754 | 0.006    |\n",
       "| V66 |  6       | 5822     | 0.015    | 0.134    | 0        | 0.000    | 0.000    | 0        | 5        | 5        | 14.330   |  365.232 | 0.002    |\n",
       "| V67 |  7       | 5822     | 0.021    | 0.142    | 0        | 0.000    | 0.000    | 0        | 1        | 1        |  6.746   |   43.522 | 0.002    |\n",
       "| V68 |  8       | 5822     | 0.562    | 0.605    | 1        | 0.514    | 1.483    | 0        | 7        | 7        |  0.977   |    3.612 | 0.008    |\n",
       "| V69 |  9       | 5822     | 0.010    | 0.130    | 0        | 0.000    | 0.000    | 0        | 4        | 4        | 16.726   |  354.308 | 0.002    |\n",
       "| V70 | 10       | 5822     | 0.041    | 0.229    | 0        | 0.000    | 0.000    | 0        | 8        | 8        | 10.946   |  268.084 | 0.003    |\n",
       "| V71 | 11       | 5822     | 0.002    | 0.063    | 0        | 0.000    | 0.000    | 0        | 3        | 3        | 33.844   | 1304.716 | 0.001    |\n",
       "| V72 | 12       | 5822     | 0.013    | 0.126    | 0        | 0.000    | 0.000    | 0        | 3        | 3        | 12.217   |  187.679 | 0.002    |\n",
       "| V73 | 13       | 5822     | 0.034    | 0.241    | 0        | 0.000    | 0.000    | 0        | 4        | 4        |  9.449   |  111.637 | 0.003    |\n",
       "| V74 | 14       | 5822     | 0.006    | 0.124    | 0        | 0.000    | 0.000    | 0        | 6        | 6        | 29.443   | 1121.908 | 0.002    |\n",
       "| V75 | 15       | 5822     | 0.070    | 0.265    | 0        | 0.000    | 0.000    | 0        | 2        | 2        |  3.738   |   13.671 | 0.003    |\n",
       "| V76 | 16       | 5822     | 0.077    | 0.378    | 0        | 0.000    | 0.000    | 0        | 8        | 8        |  6.703   |   65.753 | 0.005    |\n",
       "| V77 | 17       | 5822     | 0.005    | 0.073    | 0        | 0.000    | 0.000    | 0        | 1        | 1        | 13.591   |  182.748 | 0.001    |\n",
       "| V78 | 18       | 5822     | 0.007    | 0.081    | 0        | 0.000    | 0.000    | 0        | 1        | 1        | 12.253   |  148.165 | 0.001    |\n",
       "| V79 | 19       | 5822     | 0.005    | 0.077    | 0        | 0.000    | 0.000    | 0        | 2        | 2        | 18.710   |  389.666 | 0.001    |\n",
       "| V80 | 20       | 5822     | 0.570    | 0.562    | 1        | 0.553    | 0.000    | 0        | 7        | 7        |  0.750   |    3.971 | 0.007    |\n",
       "| V81 | 21       | 5822     | 0.001    | 0.023    | 0        | 0.000    | 0.000    | 0        | 1        | 1        | 44.008   | 1935.001 | 0.000    |\n",
       "| V82 | 22       | 5822     | 0.006    | 0.082    | 0        | 0.000    | 0.000    | 0        | 2        | 2        | 14.619   |  236.348 | 0.001    |\n",
       "| V83 | 23       | 5822     | 0.032    | 0.211    | 0        | 0.000    | 0.000    | 0        | 3        | 3        |  7.537   |   63.140 | 0.003    |\n",
       "| V84 | 24       | 5822     | 0.008    | 0.090    | 0        | 0.000    | 0.000    | 0        | 2        | 2        | 11.802   |  146.715 | 0.001    |\n",
       "| V85 | 25       | 5822     | 0.014    | 0.120    | 0        | 0.000    | 0.000    | 0        | 2        | 2        |  8.489   |   73.240 | 0.002    |\n",
       "| V86 | 26       | 5822     | 0.060    | 0.237    | 0        | 0.000    | 0.000    | 0        | 1        | 1        |  3.713   |   11.788 | 0.003    |\n",
       "\n"
      ],
      "text/plain": [
       "    vars n    mean  sd    median trimmed mad   min max range skew   kurtosis\n",
       "V61  1   5822 0.019 0.273 0      0.000   0.000 0   6   6     15.911  269.398\n",
       "V62  2   5822 0.025 0.157 0      0.000   0.000 0   1   1      6.051   34.618\n",
       "V63  3   5822 0.016 0.205 0      0.000   0.000 0   6   6     16.646  330.208\n",
       "V64  4   5822 0.048 0.409 0      0.000   0.000 0   5   5      8.824   78.186\n",
       "V65  5   5822 0.403 0.493 0      0.377   0.000 0   2   2      0.421   -1.754\n",
       "V66  6   5822 0.015 0.134 0      0.000   0.000 0   5   5     14.330  365.232\n",
       "V67  7   5822 0.021 0.142 0      0.000   0.000 0   1   1      6.746   43.522\n",
       "V68  8   5822 0.562 0.605 1      0.514   1.483 0   7   7      0.977    3.612\n",
       "V69  9   5822 0.010 0.130 0      0.000   0.000 0   4   4     16.726  354.308\n",
       "V70 10   5822 0.041 0.229 0      0.000   0.000 0   8   8     10.946  268.084\n",
       "V71 11   5822 0.002 0.063 0      0.000   0.000 0   3   3     33.844 1304.716\n",
       "V72 12   5822 0.013 0.126 0      0.000   0.000 0   3   3     12.217  187.679\n",
       "V73 13   5822 0.034 0.241 0      0.000   0.000 0   4   4      9.449  111.637\n",
       "V74 14   5822 0.006 0.124 0      0.000   0.000 0   6   6     29.443 1121.908\n",
       "V75 15   5822 0.070 0.265 0      0.000   0.000 0   2   2      3.738   13.671\n",
       "V76 16   5822 0.077 0.378 0      0.000   0.000 0   8   8      6.703   65.753\n",
       "V77 17   5822 0.005 0.073 0      0.000   0.000 0   1   1     13.591  182.748\n",
       "V78 18   5822 0.007 0.081 0      0.000   0.000 0   1   1     12.253  148.165\n",
       "V79 19   5822 0.005 0.077 0      0.000   0.000 0   2   2     18.710  389.666\n",
       "V80 20   5822 0.570 0.562 1      0.553   0.000 0   7   7      0.750    3.971\n",
       "V81 21   5822 0.001 0.023 0      0.000   0.000 0   1   1     44.008 1935.001\n",
       "V82 22   5822 0.006 0.082 0      0.000   0.000 0   2   2     14.619  236.348\n",
       "V83 23   5822 0.032 0.211 0      0.000   0.000 0   3   3      7.537   63.140\n",
       "V84 24   5822 0.008 0.090 0      0.000   0.000 0   2   2     11.802  146.715\n",
       "V85 25   5822 0.014 0.120 0      0.000   0.000 0   2   2      8.489   73.240\n",
       "V86 26   5822 0.060 0.237 0      0.000   0.000 0   1   1      3.713   11.788\n",
       "    se   \n",
       "V61 0.004\n",
       "V62 0.002\n",
       "V63 0.003\n",
       "V64 0.005\n",
       "V65 0.006\n",
       "V66 0.002\n",
       "V67 0.002\n",
       "V68 0.008\n",
       "V69 0.002\n",
       "V70 0.003\n",
       "V71 0.001\n",
       "V72 0.002\n",
       "V73 0.003\n",
       "V74 0.002\n",
       "V75 0.003\n",
       "V76 0.005\n",
       "V77 0.001\n",
       "V78 0.001\n",
       "V79 0.001\n",
       "V80 0.007\n",
       "V81 0.000\n",
       "V82 0.001\n",
       "V83 0.003\n",
       "V84 0.001\n",
       "V85 0.002\n",
       "V86 0.003"
      ]
     },
     "metadata": {},
     "output_type": "display_data"
    }
   ],
   "source": [
    "# show summary of train data, split into 3 parts\n",
    "round(describe(train_data[,1:30]),3)\n",
    "round(describe(train_data[,31:60]),3)\n",
    "round(describe(train_data[,61:86]),3)"
   ]
  },
  {
   "cell_type": "markdown",
   "metadata": {},
   "source": [
    "#### POSSIBLE PREDICTORS NUMBER 1"
   ]
  },
  {
   "cell_type": "markdown",
   "metadata": {},
   "source": [
    "The above table shows the statistical summary of every variable in the train data. We can see that out of all variables, V1 (Customer Subtype) has the biggest range compared to others. A big range or standard deviation is one of the indicators for a variable to be a good predictor. Looking at the standard deviation from the table, the potential predictors are: <br>\n",
    "* V1\n",
    "* V5\n",
    "* V15\n",
    "* V18\n",
    "* V30\n",
    "* V31\n",
    "* V37\n",
    "* V43\n",
    "* V47\n",
    "\n",
    "*(Note: cutoff at 2.0 or higher)*"
   ]
  },
  {
   "cell_type": "markdown",
   "metadata": {},
   "source": [
    "#### Initial analysis"
   ]
  },
  {
   "cell_type": "markdown",
   "metadata": {},
   "source": [
    "Before fitting the training data based on the previously found potential predictors, it would be better to intuitively understand the response variable by looking at the count for each value of the response variable."
   ]
  },
  {
   "cell_type": "code",
   "execution_count": 7,
   "metadata": {},
   "outputs": [
    {
     "data": {
      "text/html": [
       "<ol class=list-inline>\n",
       "\t<li>5474</li>\n",
       "\t<li>86</li>\n",
       "</ol>\n"
      ],
      "text/latex": [
       "\\begin{enumerate*}\n",
       "\\item 5474\n",
       "\\item 86\n",
       "\\end{enumerate*}\n"
      ],
      "text/markdown": [
       "1. 5474\n",
       "2. 86\n",
       "\n",
       "\n"
      ],
      "text/plain": [
       "[1] 5474   86"
      ]
     },
     "metadata": {},
     "output_type": "display_data"
    },
    {
     "data": {
      "text/html": [
       "<ol class=list-inline>\n",
       "\t<li>348</li>\n",
       "\t<li>86</li>\n",
       "</ol>\n"
      ],
      "text/latex": [
       "\\begin{enumerate*}\n",
       "\\item 348\n",
       "\\item 86\n",
       "\\end{enumerate*}\n"
      ],
      "text/markdown": [
       "1. 348\n",
       "2. 86\n",
       "\n",
       "\n"
      ],
      "text/plain": [
       "[1] 348  86"
      ]
     },
     "metadata": {},
     "output_type": "display_data"
    }
   ],
   "source": [
    "dim(train_data[train_data$V86 == 0,])\n",
    "dim(train_data[train_data$V86 == 1,])"
   ]
  },
  {
   "cell_type": "code",
   "execution_count": 8,
   "metadata": {
    "scrolled": false
   },
   "outputs": [
    {
     "data": {
      "image/png": "[encoded data removed]",
      "text/plain": [
       "plot without title"
      ]
     },
     "metadata": {},
     "output_type": "display_data"
    }
   ],
   "source": [
    "ggplot(train_data,aes(factor(V86))) + \n",
    "    geom_bar(aes(fill = factor(V86))) + \n",
    "    labs(x=\"CARAVAN\") +\n",
    "    scale_fill_discrete(name = \"CARAVAN\")"
   ]
  },
  {
   "cell_type": "markdown",
   "metadata": {},
   "source": [
    "In short, there are 5474 customers who do not have caravan policy, and there are only 348 customers who have. Initial inference from this result is that customers in general tend to __not__ having a caravan policy."
   ]
  },
  {
   "cell_type": "markdown",
   "metadata": {},
   "source": [
    "#### After seeing the general view of distribution between those who purchased the caravan policy versus those who don't, next step is to look deeper how the predictors are divided based on the purchase of caravan policy"
   ]
  },
  {
   "cell_type": "markdown",
   "metadata": {},
   "source": [
    "We will explore the first 5 predictors against the response variable for each predictor. In order to know the correlation for the other predictors, a correlation plot and matrix will be used later to see any correlation which ultimately choosing the best predictors for model fitting.<br>\n",
    "The initial first 5 predictors are:\n",
    "* V1 -> MOSTYPE (Customer Subtype)\n",
    "* V2 -> MAANTHUI (Number of houses)\n",
    "* V3 -> MGEMOMV (Avg size household)\n",
    "* V4 -> MGEMLEEF (Average age)\n",
    "* V5 -> MOSHOOFD (Customer Main Type)"
   ]
  },
  {
   "cell_type": "markdown",
   "metadata": {},
   "source": [
    "#### 1. V1 - MOSTYPE (Customer Subtype)"
   ]
  },
  {
   "cell_type": "code",
   "execution_count": 9,
   "metadata": {},
   "outputs": [
    {
     "data": {
      "image/png": "[encoded data removed]",
      "text/plain": [
       "plot without title"
      ]
     },
     "metadata": {},
     "output_type": "display_data"
    }
   ],
   "source": [
    "ggplot(train_data,aes(factor(V1))) + \n",
    "    geom_bar(aes(fill = factor(V86))) + \n",
    "    labs(x=\"Customer Subtype\") +\n",
    "    scale_fill_discrete(name = \"CARAVAN\")"
   ]
  },
  {
   "cell_type": "markdown",
   "metadata": {},
   "source": [
    "##### Customers who purchased caravan policy"
   ]
  },
  {
   "cell_type": "markdown",
   "metadata": {},
   "source": [
    "The training data set is dominated by customers with Customer Subtype = 33, which means Lower Class Large Families. These customer segment is one of the highest caravan policy purchasers. The other Customer Subtype who purchased the caravan policy is customer subtype 8, which are Middle Class Families. "
   ]
  },
  {
   "cell_type": "code",
   "execution_count": 10,
   "metadata": {
    "scrolled": false
   },
   "outputs": [
    {
     "data": {
      "image/png": "[encoded data removed]",
      "text/plain": [
       "plot without title"
      ]
     },
     "metadata": {},
     "output_type": "display_data"
    }
   ],
   "source": [
    "ggplot(train_data[train_data$V86 == 1,],aes(factor(V1))) + \n",
    "    geom_bar(aes(fill = factor(V1))) + \n",
    "    labs(x=\"Customer Subtype\") +\n",
    "    scale_fill_discrete(name = \"Customer Subtype\") +\n",
    "    ggtitle(\"Customers Who Purchased Caravan Policy Based on Customer Subtype\") + \n",
    "    theme(plot.title = element_text(hjust = 0.5))"
   ]
  },
  {
   "cell_type": "code",
   "execution_count": 11,
   "metadata": {},
   "outputs": [
    {
     "data": {
      "text/html": [
       "51"
      ],
      "text/latex": [
       "51"
      ],
      "text/markdown": [
       "51"
      ],
      "text/plain": [
       "[1] 51"
      ]
     },
     "metadata": {},
     "output_type": "display_data"
    },
    {
     "data": {
      "text/html": [
       "46"
      ],
      "text/latex": [
       "46"
      ],
      "text/markdown": [
       "46"
      ],
      "text/plain": [
       "[1] 46"
      ]
     },
     "metadata": {},
     "output_type": "display_data"
    }
   ],
   "source": [
    "# Customers with subtype = 8 who bought caravan policy\n",
    "nrow(train_data[train_data$V1 == 8 & train_data$V86 == 1,])\n",
    "\n",
    "# Customers with subtype = 33 who bought caravan policy\n",
    "nrow(train_data[train_data$V1 == 33 & train_data$V86 == 1,])"
   ]
  },
  {
   "cell_type": "markdown",
   "metadata": {},
   "source": [
    "There are 51 customers with Middle Class Families who bought the policy, while 46 people with Lower Class Family status bought the policy. <br>\n",
    "Based on the observation, __customers from Lower to Middle Class Families tend to buy caravan policies.__"
   ]
  },
  {
   "cell_type": "code",
   "execution_count": 12,
   "metadata": {},
   "outputs": [
    {
     "data": {
      "text/html": [
       "-0.0693852373222291"
      ],
      "text/latex": [
       "-0.0693852373222291"
      ],
      "text/markdown": [
       "-0.0693852373222291"
      ],
      "text/plain": [
       "[1] -0.06938524"
      ]
     },
     "metadata": {},
     "output_type": "display_data"
    }
   ],
   "source": [
    "cor(train_data$V1, train_data$V86)"
   ]
  },
  {
   "cell_type": "markdown",
   "metadata": {},
   "source": [
    "The customer subtype feature has a weak negative correlation against Caravan Policy Ownership with __-6.9%__. In the meantime, this variable will be used for further analysis with other variable analysis."
   ]
  },
  {
   "cell_type": "markdown",
   "metadata": {},
   "source": [
    "#### 2. V2 - MAANTHUI (Number of houses)"
   ]
  },
  {
   "cell_type": "code",
   "execution_count": 13,
   "metadata": {},
   "outputs": [
    {
     "data": {
      "image/png": "[encoded data removed]",
      "text/plain": [
       "plot without title"
      ]
     },
     "metadata": {},
     "output_type": "display_data"
    }
   ],
   "source": [
    "ggplot(train_data,aes(factor(V2))) + \n",
    "    geom_bar(aes(fill = factor(V86))) + \n",
    "    geom_text(stat='count', aes(label=..count..), vjust=0) + \n",
    "    labs(x=\"Number of houses\") +\n",
    "    scale_fill_discrete(name = \"CARAVAN\") + \n",
    "    ggtitle(\"Caravan Policy based on Number of Houses\") +\n",
    "    theme(plot.title = element_text(hjust = 0.5))\n",
    "\n",
    "# nrow(train_data[train_data$V4 == 3, ])"
   ]
  },
  {
   "cell_type": "markdown",
   "metadata": {},
   "source": [
    "It can be obviously seen that most of the customers, 5267 customers to be exact, only have 1 house. While there are still a few customers who have 7 houses, and only 1 customer has 10 houses. The plot is highly right skewed. Because the skewness, we won't be able to predict based on this variable, otherwise it would make a biased prediction."
   ]
  },
  {
   "cell_type": "code",
   "execution_count": 14,
   "metadata": {},
   "outputs": [
    {
     "data": {
      "text/html": [
       "-0.00980902756201638"
      ],
      "text/latex": [
       "-0.00980902756201638"
      ],
      "text/markdown": [
       "-0.00980902756201638"
      ],
      "text/plain": [
       "[1] -0.009809028"
      ]
     },
     "metadata": {},
     "output_type": "display_data"
    }
   ],
   "source": [
    "cor(train_data[,\"V2\"], train_data[,\"V86\"])"
   ]
  },
  {
   "cell_type": "markdown",
   "metadata": {},
   "source": [
    "Furthermore, looking at the correlation coefficient of V2 (number of houses) against V86 (Purchased or Not) is really low, __-0.9%__ to be exact, we shouldn't include this variable when fitting a model."
   ]
  },
  {
   "cell_type": "markdown",
   "metadata": {},
   "source": [
    "#### 3. V3 - MGEMOMV (Average size household)"
   ]
  },
  {
   "cell_type": "code",
   "execution_count": 15,
   "metadata": {},
   "outputs": [
    {
     "data": {
      "image/png": "[encoded data removed]",
      "text/plain": [
       "plot without title"
      ]
     },
     "metadata": {},
     "output_type": "display_data"
    }
   ],
   "source": [
    "ggplot(train_data,aes(factor(V3))) + \n",
    "    geom_bar(aes(fill = factor(V86))) + \n",
    "    geom_text(stat='count', aes(label=..count..), vjust=0) + \n",
    "    labs(x=\"Number of households\") +\n",
    "    scale_fill_discrete(name = \"CARAVAN\") + \n",
    "    ggtitle(\"Caravan Policy Owner based on Number of Househould\") +\n",
    "    theme(plot.title = element_text(hjust = 0.5))"
   ]
  },
  {
   "cell_type": "code",
   "execution_count": 16,
   "metadata": {},
   "outputs": [
    {
     "data": {
      "text/html": [
       "115"
      ],
      "text/latex": [
       "115"
      ],
      "text/markdown": [
       "115"
      ],
      "text/plain": [
       "[1] 115"
      ]
     },
     "metadata": {},
     "output_type": "display_data"
    },
    {
     "data": {
      "text/html": [
       "171"
      ],
      "text/latex": [
       "171"
      ],
      "text/markdown": [
       "171"
      ],
      "text/plain": [
       "[1] 171"
      ]
     },
     "metadata": {},
     "output_type": "display_data"
    },
    {
     "data": {
      "text/html": [
       "50"
      ],
      "text/latex": [
       "50"
      ],
      "text/markdown": [
       "50"
      ],
      "text/plain": [
       "[1] 50"
      ]
     },
     "metadata": {},
     "output_type": "display_data"
    }
   ],
   "source": [
    "# Customers who bought caravan policy with 2 households\n",
    "nrow(train_data[train_data$V3 == 2 & train_data$V86 == 1, ])\n",
    "\n",
    "# Customers who bought caravan policy with 3 households\n",
    "nrow(train_data[train_data$V3 == 3 & train_data$V86 == 1, ])\n",
    "\n",
    "# Customers who bought caravan policy with 4 households\n",
    "nrow(train_data[train_data$V3 == 4 & train_data$V86 == 1, ])"
   ]
  },
  {
   "cell_type": "markdown",
   "metadata": {},
   "source": [
    "Based on the above plot, most customers have 2 or 3 households in their houses. 3 household is the most common appearance in the data with 2646 customers belong in this group, while 2131 customers have 2 household in their houses.<br> \n",
    "171 customers out of 2646 who have 3 households have the most caravan policy ownership. Followed by 115 customers out of 2131 who have 2 households bought the policy. And only 50 customers purchased caravan policy who have 4 households."
   ]
  },
  {
   "cell_type": "code",
   "execution_count": 17,
   "metadata": {},
   "outputs": [
    {
     "data": {
      "text/html": [
       "0.0355731574350967"
      ],
      "text/latex": [
       "0.0355731574350967"
      ],
      "text/markdown": [
       "0.0355731574350967"
      ],
      "text/plain": [
       "[1] 0.03557316"
      ]
     },
     "metadata": {},
     "output_type": "display_data"
    }
   ],
   "source": [
    "cor(train_data$V3, train_data$V86)"
   ]
  },
  {
   "cell_type": "markdown",
   "metadata": {},
   "source": [
    "Although the number of household correlation is not as high as customer subtype; with only 3.5% compared -6.9%, it still can be included in the model fitting procedure, because it is relatively higher than number of houses."
   ]
  },
  {
   "cell_type": "markdown",
   "metadata": {},
   "source": [
    "#### 4. V4 - MGEMLEEF (Average Age)"
   ]
  },
  {
   "cell_type": "code",
   "execution_count": 18,
   "metadata": {},
   "outputs": [
    {
     "data": {
      "image/png": "[encoded data removed]",
      "text/plain": [
       "plot without title"
      ]
     },
     "metadata": {},
     "output_type": "display_data"
    }
   ],
   "source": [
    "ggplot(train_data,aes(factor(V4))) + \n",
    "    geom_bar(aes(fill = factor(V86))) + \n",
    "    geom_text(stat='count', aes(label=..count..), vjust=0) + \n",
    "    labs(x=\"Age Group\") +\n",
    "    scale_fill_discrete(name = \"CARAVAN\") + \n",
    "    ggtitle(\"Caravan Policy based on Age Group Distribution\") +\n",
    "    theme(plot.title = element_text(hjust = 0.5))\n"
   ]
  },
  {
   "cell_type": "code",
   "execution_count": 19,
   "metadata": {},
   "outputs": [
    {
     "data": {
      "text/html": [
       "87"
      ],
      "text/latex": [
       "87"
      ],
      "text/markdown": [
       "87"
      ],
      "text/plain": [
       "[1] 87"
      ]
     },
     "metadata": {},
     "output_type": "display_data"
    },
    {
     "data": {
      "text/html": [
       "183"
      ],
      "text/latex": [
       "183"
      ],
      "text/markdown": [
       "183"
      ],
      "text/plain": [
       "[1] 183"
      ]
     },
     "metadata": {},
     "output_type": "display_data"
    },
    {
     "data": {
      "text/html": [
       "64"
      ],
      "text/latex": [
       "64"
      ],
      "text/markdown": [
       "64"
      ],
      "text/plain": [
       "[1] 64"
      ]
     },
     "metadata": {},
     "output_type": "display_data"
    }
   ],
   "source": [
    "# Number of customers who purchased caravan policy in age group 2\n",
    "nrow(train_data[train_data$V4 == 2 & train_data$V86 == 1,])\n",
    "\n",
    "# Number of customers who purchased caravan policy in age group 3\n",
    "nrow(train_data[train_data$V4 == 3 & train_data$V86 == 1,])\n",
    "\n",
    "# Number of customers who purchased caravan policy in age group 4\n",
    "nrow(train_data[train_data$V4 == 4 & train_data$V86 == 1,])"
   ]
  },
  {
   "cell_type": "markdown",
   "metadata": {},
   "source": [
    "As can be seen from the Customer Distribution based on Age Group plot, as many as 3000 customers is from Age Group 3, meaning customers whose age ranging from 40-50 years old. Furthermore, 183 people from this age group purchased caravan policy, which makes them the highest number of purchaser, followed by 87 customers in age group 2 (30-40 years old), and 64 customers in age group 4 (50-60 years old)"
   ]
  },
  {
   "cell_type": "code",
   "execution_count": 20,
   "metadata": {},
   "outputs": [],
   "source": [
    "age_group <- unique(train_data$V4)\n",
    "\n",
    "age_group_ratio <- data.frame('age_group' = NULL, 'ratio' = NULL)\n",
    "\n",
    "for (i in 1:length(age_group)){\n",
    "    # TOtal customer in each age_group\n",
    "    total_customer <- nrow(train_data[train_data$V4 == age_group[i],])\n",
    "    \n",
    "    # Total customer who bought in each age_group\n",
    "    bought <- nrow(train_data[train_data$V4 == age_group[i] & train_data$V86 == 1,])\n",
    "    \n",
    "    age_group_ratio[i, \"age_group\"] <- age_group[i]\n",
    "    age_group_ratio[i, \"ratio\"] <- round((bought / total_customer) * 100 , 2)\n",
    "}"
   ]
  },
  {
   "cell_type": "code",
   "execution_count": 21,
   "metadata": {},
   "outputs": [
    {
     "data": {
      "text/html": [
       "<table>\n",
       "<thead><tr><th></th><th scope=col>age_group</th><th scope=col>ratio</th></tr></thead>\n",
       "<tbody>\n",
       "\t<tr><th scope=row>3</th><td>1   </td><td>1.35</td></tr>\n",
       "\t<tr><th scope=row>1</th><td>2   </td><td>5.99</td></tr>\n",
       "\t<tr><th scope=row>2</th><td>3   </td><td>6.10</td></tr>\n",
       "\t<tr><th scope=row>4</th><td>4   </td><td>5.96</td></tr>\n",
       "\t<tr><th scope=row>5</th><td>5   </td><td>6.22</td></tr>\n",
       "\t<tr><th scope=row>6</th><td>6   </td><td>3.33</td></tr>\n",
       "</tbody>\n",
       "</table>\n"
      ],
      "text/latex": [
       "\\begin{tabular}{r|ll}\n",
       "  & age\\_group & ratio\\\\\n",
       "\\hline\n",
       "\t3 & 1    & 1.35\\\\\n",
       "\t1 & 2    & 5.99\\\\\n",
       "\t2 & 3    & 6.10\\\\\n",
       "\t4 & 4    & 5.96\\\\\n",
       "\t5 & 5    & 6.22\\\\\n",
       "\t6 & 6    & 3.33\\\\\n",
       "\\end{tabular}\n"
      ],
      "text/markdown": [
       "\n",
       "| <!--/--> | age_group | ratio |\n",
       "|---|---|---|\n",
       "| 3 | 1    | 1.35 |\n",
       "| 1 | 2    | 5.99 |\n",
       "| 2 | 3    | 6.10 |\n",
       "| 4 | 4    | 5.96 |\n",
       "| 5 | 5    | 6.22 |\n",
       "| 6 | 6    | 3.33 |\n",
       "\n"
      ],
      "text/plain": [
       "  age_group ratio\n",
       "3 1         1.35 \n",
       "1 2         5.99 \n",
       "2 3         6.10 \n",
       "4 4         5.96 \n",
       "5 5         6.22 \n",
       "6 6         3.33 "
      ]
     },
     "metadata": {},
     "output_type": "display_data"
    }
   ],
   "source": [
    "age_group_ratio[order(age_group_ratio$age_group), ]"
   ]
  },
  {
   "cell_type": "code",
   "execution_count": 22,
   "metadata": {},
   "outputs": [
    {
     "data": {
      "image/png": "[encoded data removed]",
      "text/plain": [
       "plot without title"
      ]
     },
     "metadata": {},
     "output_type": "display_data"
    }
   ],
   "source": [
    "ggplot(age_group_ratio,aes(x = factor(age_group), y = ratio)) + \n",
    "    geom_bar(stat = \"identity\",aes(fill = factor(age_group))) + # aes(fill = factor(age_group))\n",
    "    geom_text(aes(label = ratio), vjust = 0) +\n",
    "    labs(x=\"Customers Age Group\", y = \"Ratio (%)\") +\n",
    "    scale_fill_discrete(name = \"Age Group\") +\n",
    "    ggtitle(\"Caravan Policy Purchaser Ratio based on Age Group\") + \n",
    "    theme(plot.title = element_text(hjust = 0.5))"
   ]
  },
  {
   "cell_type": "markdown",
   "metadata": {},
   "source": [
    "Looking at a slightly different angle, rather than just looking which age group has the highest number of customers who bought the caravan policy, it would be better to compare the value based on ratio. The above plot shows that customers with age group 5 (60-70 years old) has purchased more caravan policy than the other age group. \n",
    "__<br>Based on these two observations, although 183 customers in 40-50 years old group purchased the policy, in ratio, 6.22% of people from age group 60-70 years old has purchased more policy, compared to 6.1% of people in age group 40-50 years old__\n",
    "<br> In general, customers whose age are from 30 to 70 years old bought caravan insurance policy."
   ]
  },
  {
   "cell_type": "code",
   "execution_count": 23,
   "metadata": {},
   "outputs": [
    {
     "data": {
      "text/html": [
       "0.00449069728181701"
      ],
      "text/latex": [
       "0.00449069728181701"
      ],
      "text/markdown": [
       "0.00449069728181701"
      ],
      "text/plain": [
       "[1] 0.004490697"
      ]
     },
     "metadata": {},
     "output_type": "display_data"
    }
   ],
   "source": [
    "cor(train_data$V4, train_data$V86)"
   ]
  },
  {
   "cell_type": "markdown",
   "metadata": {},
   "source": [
    "The correlation coefficient of Age Group against caravan policy ownership is really low with only __0.4%__, thus when fitting a model, this feature will not be included."
   ]
  },
  {
   "cell_type": "markdown",
   "metadata": {},
   "source": [
    "#### 5. V5 - MOSHOOFD (Customer Main Type)"
   ]
  },
  {
   "cell_type": "code",
   "execution_count": 24,
   "metadata": {},
   "outputs": [
    {
     "data": {
      "image/png": "[encoded data removed]",
      "text/plain": [
       "plot without title"
      ]
     },
     "metadata": {},
     "output_type": "display_data"
    }
   ],
   "source": [
    "ggplot(train_data,aes(factor(V5))) + \n",
    "    geom_bar(aes(fill = factor(V86))) + \n",
    "    labs(x=\"Customer Main Type\") +\n",
    "    scale_fill_discrete(name = \"CARAVAN\") + \n",
    "    ggtitle(\"Caravan Policy based on Customer Main Type\") +\n",
    "    theme(plot.title = element_text(hjust = 0.5))\n"
   ]
  },
  {
   "cell_type": "code",
   "execution_count": 25,
   "metadata": {},
   "outputs": [
    {
     "data": {
      "image/png": "[encoded data removed]",
      "text/plain": [
       "plot without title"
      ]
     },
     "metadata": {},
     "output_type": "display_data"
    }
   ],
   "source": [
    "ggplot(train_data[train_data$V86 == 1,],aes(factor(V5))) + \n",
    "    geom_bar(aes(fill = factor(V5))) + \n",
    "    geom_text(stat='count', aes(label=..count..), vjust=0) + \n",
    "    labs(x=\"Customer Main Type\") +\n",
    "    scale_fill_discrete(name = \"Customer Main Type\") +\n",
    "    ggtitle(\"Purchased Caravan Policy Based on Customer Main Type\") + \n",
    "    theme(plot.title = element_text(hjust = 0.5))"
   ]
  },
  {
   "cell_type": "code",
   "execution_count": 26,
   "metadata": {},
   "outputs": [
    {
     "data": {
      "text/html": [
       "<table>\n",
       "<thead><tr><th scope=col>cust_main_type</th><th scope=col>ratio</th></tr></thead>\n",
       "<tbody>\n",
       "\t<tr><td> 1   </td><td> 8.70</td></tr>\n",
       "\t<tr><td> 2   </td><td>13.15</td></tr>\n",
       "\t<tr><td> 3   </td><td> 6.66</td></tr>\n",
       "\t<tr><td> 4   </td><td> 0.00</td></tr>\n",
       "\t<tr><td> 5   </td><td> 2.64</td></tr>\n",
       "\t<tr><td> 6   </td><td> 1.95</td></tr>\n",
       "\t<tr><td> 7   </td><td> 3.64</td></tr>\n",
       "\t<tr><td> 8   </td><td> 5.69</td></tr>\n",
       "\t<tr><td> 9   </td><td> 6.30</td></tr>\n",
       "\t<tr><td>10   </td><td> 1.81</td></tr>\n",
       "</tbody>\n",
       "</table>\n"
      ],
      "text/latex": [
       "\\begin{tabular}{r|ll}\n",
       " cust\\_main\\_type & ratio\\\\\n",
       "\\hline\n",
       "\t  1    &  8.70\\\\\n",
       "\t  2    & 13.15\\\\\n",
       "\t  3    &  6.66\\\\\n",
       "\t  4    &  0.00\\\\\n",
       "\t  5    &  2.64\\\\\n",
       "\t  6    &  1.95\\\\\n",
       "\t  7    &  3.64\\\\\n",
       "\t  8    &  5.69\\\\\n",
       "\t  9    &  6.30\\\\\n",
       "\t 10    &  1.81\\\\\n",
       "\\end{tabular}\n"
      ],
      "text/markdown": [
       "\n",
       "| cust_main_type | ratio |\n",
       "|---|---|\n",
       "|  1    |  8.70 |\n",
       "|  2    | 13.15 |\n",
       "|  3    |  6.66 |\n",
       "|  4    |  0.00 |\n",
       "|  5    |  2.64 |\n",
       "|  6    |  1.95 |\n",
       "|  7    |  3.64 |\n",
       "|  8    |  5.69 |\n",
       "|  9    |  6.30 |\n",
       "| 10    |  1.81 |\n",
       "\n"
      ],
      "text/plain": [
       "   cust_main_type ratio\n",
       "1   1              8.70\n",
       "2   2             13.15\n",
       "3   3              6.66\n",
       "4   4              0.00\n",
       "5   5              2.64\n",
       "6   6              1.95\n",
       "7   7              3.64\n",
       "8   8              5.69\n",
       "9   9              6.30\n",
       "10 10              1.81"
      ]
     },
     "metadata": {},
     "output_type": "display_data"
    }
   ],
   "source": [
    "cust_main_type <- sort(unique(train_data$V5))\n",
    "\n",
    "cust_main_type_ratio <- data.frame('cust_main_type' = NULL, 'ratio' = NULL)\n",
    "\n",
    "for (i in 1:length(cust_main_type)){\n",
    "    # TOtal customer in each customer Main Type\n",
    "    total_customer <- nrow(train_data[train_data$V5 == cust_main_type[i],])\n",
    "    \n",
    "    # Total customer who bought in each Customer Main Type\n",
    "    bought <- nrow(train_data[train_data$V5 == cust_main_type[i] & train_data$V86 == 1,])\n",
    "    \n",
    "    cust_main_type_ratio[i, \"cust_main_type\"] <- cust_main_type[i]\n",
    "    cust_main_type_ratio[i, \"ratio\"] <- round((bought / total_customer) * 100 , 2)\n",
    "}\n",
    "\n",
    "cust_main_type_ratio"
   ]
  },
  {
   "cell_type": "code",
   "execution_count": 27,
   "metadata": {},
   "outputs": [
    {
     "data": {
      "text/plain": [
       "\n",
       "  0   1 \n",
       "436  66 "
      ]
     },
     "metadata": {},
     "output_type": "display_data"
    },
    {
     "data": {
      "text/plain": [
       "\n",
       "  0   1 \n",
       "504  48 "
      ]
     },
     "metadata": {},
     "output_type": "display_data"
    },
    {
     "data": {
      "text/plain": [
       "\n",
       "  0   1 \n",
       "827  59 "
      ]
     },
     "metadata": {},
     "output_type": "display_data"
    },
    {
     "data": {
      "text/plain": [
       "\n",
       "  0   1 \n",
       "625  42 "
      ]
     },
     "metadata": {},
     "output_type": "display_data"
    },
    {
     "data": {
      "text/plain": [
       "\n",
       "   0    1 \n",
       "1474   89 "
      ]
     },
     "metadata": {},
     "output_type": "display_data"
    }
   ],
   "source": [
    "table(train_data[train_data$V5 == 2, \"V86\"])\n",
    "table(train_data[train_data$V5 == 1, \"V86\"])\n",
    "table(train_data[train_data$V5 == 3, \"V86\"])\n",
    "table(train_data[train_data$V5 == 9, \"V86\"])\n",
    "table(train_data[train_data$V5 == 8, \"V86\"])"
   ]
  },
  {
   "cell_type": "markdown",
   "metadata": {},
   "source": [
    "Although from the plot customers with main type 8 (Family with grown ups) have purchased more caravan policy than the other groups, in ratio this number is smaller compared to those with main type 2 (Driven Growers) with 13.15% from this group bought caravan policy. \n",
    "\n",
    "Just like the previous analysis, we will see the correlation for this variable against the response variable."
   ]
  },
  {
   "cell_type": "code",
   "execution_count": 28,
   "metadata": {},
   "outputs": [
    {
     "data": {
      "text/html": [
       "-0.0692998303587383"
      ],
      "text/latex": [
       "-0.0692998303587383"
      ],
      "text/markdown": [
       "-0.0692998303587383"
      ],
      "text/plain": [
       "[1] -0.06929983"
      ]
     },
     "metadata": {},
     "output_type": "display_data"
    }
   ],
   "source": [
    "cor(train_data$V5, train_data$V86)"
   ]
  },
  {
   "cell_type": "markdown",
   "metadata": {},
   "source": [
    "#### Surprisingly *customer main type* has the same correlation number with *customer sub type* with __-6.9%__ for both. This needs to be checked further."
   ]
  },
  {
   "cell_type": "code",
   "execution_count": 29,
   "metadata": {},
   "outputs": [
    {
     "data": {
      "text/html": [
       "<table>\n",
       "<thead><tr><th></th><th scope=col>V1</th><th scope=col>V2</th><th scope=col>V3</th><th scope=col>V4</th><th scope=col>V5</th><th scope=col>V86</th></tr></thead>\n",
       "<tbody>\n",
       "\t<tr><th scope=row>V1</th><td> 1.000000000</td><td>-0.038721258</td><td>-0.02199697 </td><td> 0.009454422</td><td> 0.992671874</td><td>-0.069385237</td></tr>\n",
       "\t<tr><th scope=row>V2</th><td>-0.038721258</td><td> 1.000000000</td><td> 0.01010224 </td><td> 0.056974604</td><td>-0.045816774</td><td>-0.009809028</td></tr>\n",
       "\t<tr><th scope=row>V3</th><td>-0.021996966</td><td> 0.010102243</td><td> 1.00000000 </td><td>-0.328257249</td><td> 0.016115371</td><td> 0.035573157</td></tr>\n",
       "\t<tr><th scope=row>V4</th><td> 0.009454422</td><td> 0.056974604</td><td>-0.32825725 </td><td> 1.000000000</td><td> 0.003872334</td><td> 0.004490697</td></tr>\n",
       "\t<tr><th scope=row>V5</th><td> 0.992671874</td><td>-0.045816774</td><td> 0.01611537 </td><td> 0.003872334</td><td> 1.000000000</td><td>-0.069299830</td></tr>\n",
       "\t<tr><th scope=row>V86</th><td>-0.069385237</td><td>-0.009809028</td><td> 0.03557316 </td><td> 0.004490697</td><td>-0.069299830</td><td> 1.000000000</td></tr>\n",
       "</tbody>\n",
       "</table>\n"
      ],
      "text/latex": [
       "\\begin{tabular}{r|llllll}\n",
       "  & V1 & V2 & V3 & V4 & V5 & V86\\\\\n",
       "\\hline\n",
       "\tV1 &  1.000000000 & -0.038721258 & -0.02199697  &  0.009454422 &  0.992671874 & -0.069385237\\\\\n",
       "\tV2 & -0.038721258 &  1.000000000 &  0.01010224  &  0.056974604 & -0.045816774 & -0.009809028\\\\\n",
       "\tV3 & -0.021996966 &  0.010102243 &  1.00000000  & -0.328257249 &  0.016115371 &  0.035573157\\\\\n",
       "\tV4 &  0.009454422 &  0.056974604 & -0.32825725  &  1.000000000 &  0.003872334 &  0.004490697\\\\\n",
       "\tV5 &  0.992671874 & -0.045816774 &  0.01611537  &  0.003872334 &  1.000000000 & -0.069299830\\\\\n",
       "\tV86 & -0.069385237 & -0.009809028 &  0.03557316  &  0.004490697 & -0.069299830 &  1.000000000\\\\\n",
       "\\end{tabular}\n"
      ],
      "text/markdown": [
       "\n",
       "| <!--/--> | V1 | V2 | V3 | V4 | V5 | V86 |\n",
       "|---|---|---|---|---|---|---|\n",
       "| V1 |  1.000000000 | -0.038721258 | -0.02199697  |  0.009454422 |  0.992671874 | -0.069385237 |\n",
       "| V2 | -0.038721258 |  1.000000000 |  0.01010224  |  0.056974604 | -0.045816774 | -0.009809028 |\n",
       "| V3 | -0.021996966 |  0.010102243 |  1.00000000  | -0.328257249 |  0.016115371 |  0.035573157 |\n",
       "| V4 |  0.009454422 |  0.056974604 | -0.32825725  |  1.000000000 |  0.003872334 |  0.004490697 |\n",
       "| V5 |  0.992671874 | -0.045816774 |  0.01611537  |  0.003872334 |  1.000000000 | -0.069299830 |\n",
       "| V86 | -0.069385237 | -0.009809028 |  0.03557316  |  0.004490697 | -0.069299830 |  1.000000000 |\n",
       "\n"
      ],
      "text/plain": [
       "    V1           V2           V3          V4           V5          \n",
       "V1   1.000000000 -0.038721258 -0.02199697  0.009454422  0.992671874\n",
       "V2  -0.038721258  1.000000000  0.01010224  0.056974604 -0.045816774\n",
       "V3  -0.021996966  0.010102243  1.00000000 -0.328257249  0.016115371\n",
       "V4   0.009454422  0.056974604 -0.32825725  1.000000000  0.003872334\n",
       "V5   0.992671874 -0.045816774  0.01611537  0.003872334  1.000000000\n",
       "V86 -0.069385237 -0.009809028  0.03557316  0.004490697 -0.069299830\n",
       "    V86         \n",
       "V1  -0.069385237\n",
       "V2  -0.009809028\n",
       "V3   0.035573157\n",
       "V4   0.004490697\n",
       "V5  -0.069299830\n",
       "V86  1.000000000"
      ]
     },
     "metadata": {},
     "output_type": "display_data"
    },
    {
     "data": {
      "image/png": "[encoded data removed]",
      "text/plain": [
       "Plot with title \"\""
      ]
     },
     "metadata": {},
     "output_type": "display_data"
    }
   ],
   "source": [
    "cor(train_data[, c(\"V1\",\"V2\",\"V3\",\"V4\",\"V5\",\"V86\")])\n",
    "corrplot(cor(train_data[, c(\"V1\",\"V2\",\"V3\",\"V4\",\"V5\",\"V86\")]), method = \"number\")"
   ]
  },
  {
   "cell_type": "markdown",
   "metadata": {},
   "source": [
    "Sure enough, V1 (Customer Sub type) and V5 (Customer main type) has the strongest positive correlation. These 2 features should not be included in model fitting together. It is either discard one of them, or completely discard these 2 features when model fitting. One of the reasonable ways to choose which feature to be included is by looking at the standard deviation between those 2."
   ]
  },
  {
   "cell_type": "code",
   "execution_count": 30,
   "metadata": {
    "scrolled": true
   },
   "outputs": [
    {
     "data": {
      "text/html": [
       "<table>\n",
       "<thead><tr><th></th><th scope=col>vars</th><th scope=col>n</th><th scope=col>mean</th><th scope=col>sd</th><th scope=col>median</th><th scope=col>trimmed</th><th scope=col>mad</th><th scope=col>min</th><th scope=col>max</th><th scope=col>range</th><th scope=col>skew</th><th scope=col>kurtosis</th><th scope=col>se</th></tr></thead>\n",
       "<tbody>\n",
       "\t<tr><th scope=row>V1</th><td>1         </td><td>5822      </td><td>24.253349 </td><td>12.84671  </td><td>30        </td><td>24.984113 </td><td>11.8608   </td><td>1         </td><td>41        </td><td>40        </td><td>-0.4348463</td><td>-1.352676 </td><td>0.16836650</td></tr>\n",
       "\t<tr><th scope=row>V5</th><td>2         </td><td>5822      </td><td> 5.773617 </td><td> 2.85676  </td><td> 7        </td><td> 5.901245 </td><td> 2.9652   </td><td>1         </td><td>10        </td><td> 9        </td><td>-0.3313584</td><td>-1.345464 </td><td>0.03744015</td></tr>\n",
       "</tbody>\n",
       "</table>\n"
      ],
      "text/latex": [
       "\\begin{tabular}{r|lllllllllllll}\n",
       "  & vars & n & mean & sd & median & trimmed & mad & min & max & range & skew & kurtosis & se\\\\\n",
       "\\hline\n",
       "\tV1 & 1          & 5822       & 24.253349  & 12.84671   & 30         & 24.984113  & 11.8608    & 1          & 41         & 40         & -0.4348463 & -1.352676  & 0.16836650\\\\\n",
       "\tV5 & 2          & 5822       &  5.773617  &  2.85676   &  7         &  5.901245  &  2.9652    & 1          & 10         &  9         & -0.3313584 & -1.345464  & 0.03744015\\\\\n",
       "\\end{tabular}\n"
      ],
      "text/markdown": [
       "\n",
       "| <!--/--> | vars | n | mean | sd | median | trimmed | mad | min | max | range | skew | kurtosis | se |\n",
       "|---|---|---|---|---|---|---|---|---|---|---|---|---|---|\n",
       "| V1 | 1          | 5822       | 24.253349  | 12.84671   | 30         | 24.984113  | 11.8608    | 1          | 41         | 40         | -0.4348463 | -1.352676  | 0.16836650 |\n",
       "| V5 | 2          | 5822       |  5.773617  |  2.85676   |  7         |  5.901245  |  2.9652    | 1          | 10         |  9         | -0.3313584 | -1.345464  | 0.03744015 |\n",
       "\n"
      ],
      "text/plain": [
       "   vars n    mean      sd       median trimmed   mad     min max range\n",
       "V1 1    5822 24.253349 12.84671 30     24.984113 11.8608 1   41  40   \n",
       "V5 2    5822  5.773617  2.85676  7      5.901245  2.9652 1   10   9   \n",
       "   skew       kurtosis  se        \n",
       "V1 -0.4348463 -1.352676 0.16836650\n",
       "V5 -0.3313584 -1.345464 0.03744015"
      ]
     },
     "metadata": {},
     "output_type": "display_data"
    }
   ],
   "source": [
    "describe(train_data[,c(\"V1\", \"V5\")])"
   ]
  },
  {
   "cell_type": "markdown",
   "metadata": {},
   "source": [
    "From the above statistic summary, V1 has way more standard deviance, which would not cause bias prediction at the end. <br>__Thus, we include V1 in the initial modelling process and discard V5.__ <br>\n",
    "The new potential predictors are:\n",
    "* V1\n",
    "* V15\n",
    "* V18\n",
    "* V30\n",
    "* V31\n",
    "* V37\n",
    "* V43\n",
    "* V47"
   ]
  },
  {
   "cell_type": "markdown",
   "metadata": {},
   "source": [
    "Combining prior results from the first five variables, the most likely customers who would purchase caravan policy are the ones with these characteristics:\n",
    "* Customers with __Lower to Middle Class Families__\n",
    "* Customers with only __having 1 house__\n",
    "* Customers who have __2 or 3 households__ \n",
    "* Those who are between __30-70 years old__\n",
    "* Those who are __Driven Growers or Family with grown ups__"
   ]
  },
  {
   "cell_type": "markdown",
   "metadata": {},
   "source": [
    "Obviously, the above conclusion cannot represent the overall prediction result and we need to find other meaningful predictors. If we continue to find correlation by plotting each feature against the target variable, it would be time consuming and not efficient. The better way is to get a correlation matrix of all features against the response variable."
   ]
  },
  {
   "cell_type": "markdown",
   "metadata": {},
   "source": [
    "### Correlation Matrix"
   ]
  },
  {
   "cell_type": "markdown",
   "metadata": {},
   "source": [
    "#### Correlation matrix between predictors"
   ]
  },
  {
   "cell_type": "code",
   "execution_count": 31,
   "metadata": {},
   "outputs": [
    {
     "data": {
      "text/html": [
       "<ol class=list-inline>\n",
       "\t<li>5822</li>\n",
       "\t<li>82</li>\n",
       "</ol>\n"
      ],
      "text/latex": [
       "\\begin{enumerate*}\n",
       "\\item 5822\n",
       "\\item 82\n",
       "\\end{enumerate*}\n"
      ],
      "text/markdown": [
       "1. 5822\n",
       "2. 82\n",
       "\n",
       "\n"
      ],
      "text/plain": [
       "[1] 5822   82"
      ]
     },
     "metadata": {},
     "output_type": "display_data"
    },
    {
     "data": {
      "text/plain": [
       "      Min.    1st Qu.     Median       Mean    3rd Qu.       Max. \n",
       "-0.9995539 -0.0153264 -0.0005856  0.0090025  0.0254924  0.9875786 "
      ]
     },
     "metadata": {},
     "output_type": "display_data"
    }
   ],
   "source": [
    "# Excluding V2, V3, V4, V5\n",
    "train_data_2 <- data.frame(train_data[, -c(2,3,4,5)])\n",
    "dim(train_data_2)\n",
    "\n",
    "# Without target variable\n",
    "# cor_td2 <- cor(subset(train_data_2, select = -V86))\n",
    "cor_td2 <- cor(train_data_2[ , !colnames(train_data_2) %in% c('V86')])\n",
    "\n",
    "summary(cor_td2[upper.tri(cor_td2)])\n"
   ]
  },
  {
   "cell_type": "markdown",
   "metadata": {},
   "source": [
    "After excluding some variables that have very low correlation to the target variable, a high correlation between the rest of the predictors need to be found to avoid multicollinearity. From the above summary, it can be seen that from finding the correlation between the rest of the predictors, there are still a strong positive correlation with __98.7%__ and there is also a strong negative correlation with __-99.95%__. It would be very exhaustive to find which variables have high correlation one by one, rather we will find them using findCorrelation function to cut off those who have high correlation."
   ]
  },
  {
   "cell_type": "code",
   "execution_count": 32,
   "metadata": {},
   "outputs": [
    {
     "data": {
      "text/html": [
       "<ol class=list-inline>\n",
       "\t<li>'V36'</li>\n",
       "\t<li>'V31'</li>\n",
       "\t<li>'V10'</li>\n",
       "\t<li>'V59'</li>\n",
       "\t<li>'V52'</li>\n",
       "\t<li>'V46'</li>\n",
       "\t<li>'V65'</li>\n",
       "\t<li>'V74'</li>\n",
       "\t<li>'V48'</li>\n",
       "\t<li>'V66'</li>\n",
       "\t<li>'V72'</li>\n",
       "\t<li>'V47'</li>\n",
       "\t<li>'V54'</li>\n",
       "\t<li>'V85'</li>\n",
       "\t<li>'V76'</li>\n",
       "\t<li>'V79'</li>\n",
       "\t<li>'V71'</li>\n",
       "\t<li>'V78'</li>\n",
       "\t<li>'V62'</li>\n",
       "\t<li>'V63'</li>\n",
       "\t<li>'V77'</li>\n",
       "\t<li>'V82'</li>\n",
       "\t<li>'V70'</li>\n",
       "\t<li>'V60'</li>\n",
       "</ol>\n"
      ],
      "text/latex": [
       "\\begin{enumerate*}\n",
       "\\item 'V36'\n",
       "\\item 'V31'\n",
       "\\item 'V10'\n",
       "\\item 'V59'\n",
       "\\item 'V52'\n",
       "\\item 'V46'\n",
       "\\item 'V65'\n",
       "\\item 'V74'\n",
       "\\item 'V48'\n",
       "\\item 'V66'\n",
       "\\item 'V72'\n",
       "\\item 'V47'\n",
       "\\item 'V54'\n",
       "\\item 'V85'\n",
       "\\item 'V76'\n",
       "\\item 'V79'\n",
       "\\item 'V71'\n",
       "\\item 'V78'\n",
       "\\item 'V62'\n",
       "\\item 'V63'\n",
       "\\item 'V77'\n",
       "\\item 'V82'\n",
       "\\item 'V70'\n",
       "\\item 'V60'\n",
       "\\end{enumerate*}\n"
      ],
      "text/markdown": [
       "1. 'V36'\n",
       "2. 'V31'\n",
       "3. 'V10'\n",
       "4. 'V59'\n",
       "5. 'V52'\n",
       "6. 'V46'\n",
       "7. 'V65'\n",
       "8. 'V74'\n",
       "9. 'V48'\n",
       "10. 'V66'\n",
       "11. 'V72'\n",
       "12. 'V47'\n",
       "13. 'V54'\n",
       "14. 'V85'\n",
       "15. 'V76'\n",
       "16. 'V79'\n",
       "17. 'V71'\n",
       "18. 'V78'\n",
       "19. 'V62'\n",
       "20. 'V63'\n",
       "21. 'V77'\n",
       "22. 'V82'\n",
       "23. 'V70'\n",
       "24. 'V60'\n",
       "\n",
       "\n"
      ],
      "text/plain": [
       " [1] \"V36\" \"V31\" \"V10\" \"V59\" \"V52\" \"V46\" \"V65\" \"V74\" \"V48\" \"V66\" \"V72\" \"V47\"\n",
       "[13] \"V54\" \"V85\" \"V76\" \"V79\" \"V71\" \"V78\" \"V62\" \"V63\" \"V77\" \"V82\" \"V70\" \"V60\""
      ]
     },
     "metadata": {},
     "output_type": "display_data"
    }
   ],
   "source": [
    "high_correlation <- findCorrelation(cor_td2, cutoff = 0.75, names = TRUE)\n",
    "\n",
    "high_correlation"
   ]
  },
  {
   "cell_type": "markdown",
   "metadata": {},
   "source": [
    "The potential high correlation are the above variables. Before discarding any of them, check how they correlate with the target variable."
   ]
  },
  {
   "cell_type": "code",
   "execution_count": 33,
   "metadata": {
    "scrolled": true
   },
   "outputs": [
    {
     "data": {
      "text/html": [
       "<ol class=list-inline>\n",
       "\t<li>24</li>\n",
       "\t<li>1</li>\n",
       "</ol>\n"
      ],
      "text/latex": [
       "\\begin{enumerate*}\n",
       "\\item 24\n",
       "\\item 1\n",
       "\\end{enumerate*}\n"
      ],
      "text/markdown": [
       "1. 24\n",
       "2. 1\n",
       "\n",
       "\n"
      ],
      "text/plain": [
       "[1] 24  1"
      ]
     },
     "metadata": {},
     "output_type": "display_data"
    },
    {
     "data": {
      "text/html": [
       "<table>\n",
       "<thead><tr><th></th><th scope=col>V86</th></tr></thead>\n",
       "<tbody>\n",
       "\t<tr><th scope=row>V47</th><td> 0.1509097148</td></tr>\n",
       "\t<tr><th scope=row>V82</th><td> 0.1056995045</td></tr>\n",
       "\t<tr><th scope=row>V59</th><td> 0.0944459897</td></tr>\n",
       "\t<tr><th scope=row>V65</th><td> 0.0893874727</td></tr>\n",
       "\t<tr><th scope=row>V31</th><td> 0.0784289165</td></tr>\n",
       "\t<tr><th scope=row>V10</th><td> 0.0702638279</td></tr>\n",
       "\t<tr><th scope=row>V85</th><td> 0.0666578513</td></tr>\n",
       "\t<tr><th scope=row>V36</th><td> 0.0575181930</td></tr>\n",
       "\t<tr><th scope=row>V76</th><td> 0.0371176230</td></tr>\n",
       "\t<tr><th scope=row>V78</th><td> 0.0335484032</td></tr>\n",
       "\t<tr><th scope=row>V62</th><td> 0.0286954418</td></tr>\n",
       "\t<tr><th scope=row>V79</th><td> 0.0223373107</td></tr>\n",
       "\t<tr><th scope=row>V60</th><td> 0.0116891605</td></tr>\n",
       "\t<tr><th scope=row>V72</th><td> 0.0094282251</td></tr>\n",
       "\t<tr><th scope=row>V70</th><td> 0.0085891397</td></tr>\n",
       "\t<tr><th scope=row>V63</th><td> 0.0055281002</td></tr>\n",
       "\t<tr><th scope=row>V66</th><td>-0.0007589975</td></tr>\n",
       "\t<tr><th scope=row>V48</th><td>-0.0065406802</td></tr>\n",
       "\t<tr><th scope=row>V77</th><td>-0.0084919429</td></tr>\n",
       "\t<tr><th scope=row>V71</th><td>-0.0089630287</td></tr>\n",
       "\t<tr><th scope=row>V52</th><td>-0.0122766711</td></tr>\n",
       "\t<tr><th scope=row>V74</th><td>-0.0125550985</td></tr>\n",
       "\t<tr><th scope=row>V46</th><td>-0.0216306917</td></tr>\n",
       "\t<tr><th scope=row>V54</th><td>-0.0444097107</td></tr>\n",
       "</tbody>\n",
       "</table>\n"
      ],
      "text/latex": [
       "\\begin{tabular}{r|l}\n",
       "  & V86\\\\\n",
       "\\hline\n",
       "\tV47 &  0.1509097148\\\\\n",
       "\tV82 &  0.1056995045\\\\\n",
       "\tV59 &  0.0944459897\\\\\n",
       "\tV65 &  0.0893874727\\\\\n",
       "\tV31 &  0.0784289165\\\\\n",
       "\tV10 &  0.0702638279\\\\\n",
       "\tV85 &  0.0666578513\\\\\n",
       "\tV36 &  0.0575181930\\\\\n",
       "\tV76 &  0.0371176230\\\\\n",
       "\tV78 &  0.0335484032\\\\\n",
       "\tV62 &  0.0286954418\\\\\n",
       "\tV79 &  0.0223373107\\\\\n",
       "\tV60 &  0.0116891605\\\\\n",
       "\tV72 &  0.0094282251\\\\\n",
       "\tV70 &  0.0085891397\\\\\n",
       "\tV63 &  0.0055281002\\\\\n",
       "\tV66 & -0.0007589975\\\\\n",
       "\tV48 & -0.0065406802\\\\\n",
       "\tV77 & -0.0084919429\\\\\n",
       "\tV71 & -0.0089630287\\\\\n",
       "\tV52 & -0.0122766711\\\\\n",
       "\tV74 & -0.0125550985\\\\\n",
       "\tV46 & -0.0216306917\\\\\n",
       "\tV54 & -0.0444097107\\\\\n",
       "\\end{tabular}\n"
      ],
      "text/markdown": [
       "\n",
       "| <!--/--> | V86 |\n",
       "|---|---|\n",
       "| V47 |  0.1509097148 |\n",
       "| V82 |  0.1056995045 |\n",
       "| V59 |  0.0944459897 |\n",
       "| V65 |  0.0893874727 |\n",
       "| V31 |  0.0784289165 |\n",
       "| V10 |  0.0702638279 |\n",
       "| V85 |  0.0666578513 |\n",
       "| V36 |  0.0575181930 |\n",
       "| V76 |  0.0371176230 |\n",
       "| V78 |  0.0335484032 |\n",
       "| V62 |  0.0286954418 |\n",
       "| V79 |  0.0223373107 |\n",
       "| V60 |  0.0116891605 |\n",
       "| V72 |  0.0094282251 |\n",
       "| V70 |  0.0085891397 |\n",
       "| V63 |  0.0055281002 |\n",
       "| V66 | -0.0007589975 |\n",
       "| V48 | -0.0065406802 |\n",
       "| V77 | -0.0084919429 |\n",
       "| V71 | -0.0089630287 |\n",
       "| V52 | -0.0122766711 |\n",
       "| V74 | -0.0125550985 |\n",
       "| V46 | -0.0216306917 |\n",
       "| V54 | -0.0444097107 |\n",
       "\n"
      ],
      "text/plain": [
       "    V86          \n",
       "V47  0.1509097148\n",
       "V82  0.1056995045\n",
       "V59  0.0944459897\n",
       "V65  0.0893874727\n",
       "V31  0.0784289165\n",
       "V10  0.0702638279\n",
       "V85  0.0666578513\n",
       "V36  0.0575181930\n",
       "V76  0.0371176230\n",
       "V78  0.0335484032\n",
       "V62  0.0286954418\n",
       "V79  0.0223373107\n",
       "V60  0.0116891605\n",
       "V72  0.0094282251\n",
       "V70  0.0085891397\n",
       "V63  0.0055281002\n",
       "V66 -0.0007589975\n",
       "V48 -0.0065406802\n",
       "V77 -0.0084919429\n",
       "V71 -0.0089630287\n",
       "V52 -0.0122766711\n",
       "V74 -0.0125550985\n",
       "V46 -0.0216306917\n",
       "V54 -0.0444097107"
      ]
     },
     "metadata": {},
     "output_type": "display_data"
    }
   ],
   "source": [
    "target_cor_df <- data.frame(V86 = cor(train_data_2[,sort(high_correlation)], train_data_2[, \"V86\"]))\n",
    "\n",
    "dim(target_cor_df)\n",
    "target_cor_df[order(target_cor_df$V86,decreasing = T),,drop=F]"
   ]
  },
  {
   "cell_type": "markdown",
   "metadata": {},
   "source": [
    "The result above indicates that there are variables though having high correlation between other predictors, they are still relatively highly correlated with the response variable. The excluded variables are the ones with correlation coefficient lower than __0.1__ or __10%__."
   ]
  },
  {
   "cell_type": "code",
   "execution_count": 34,
   "metadata": {},
   "outputs": [
    {
     "data": {
      "text/html": [
       "22"
      ],
      "text/latex": [
       "22"
      ],
      "text/markdown": [
       "22"
      ],
      "text/plain": [
       "[1] 22"
      ]
     },
     "metadata": {},
     "output_type": "display_data"
    },
    {
     "data": {
      "text/html": [
       "<ol class=list-inline>\n",
       "\t<li>'V10'</li>\n",
       "\t<li>'V31'</li>\n",
       "\t<li>'V36'</li>\n",
       "\t<li>'V46'</li>\n",
       "\t<li>'V48'</li>\n",
       "\t<li>'V52'</li>\n",
       "\t<li>'V54'</li>\n",
       "\t<li>'V59'</li>\n",
       "\t<li>'V60'</li>\n",
       "\t<li>'V62'</li>\n",
       "\t<li>'V63'</li>\n",
       "\t<li>'V65'</li>\n",
       "\t<li>'V66'</li>\n",
       "\t<li>'V70'</li>\n",
       "\t<li>'V71'</li>\n",
       "\t<li>'V72'</li>\n",
       "\t<li>'V74'</li>\n",
       "\t<li>'V76'</li>\n",
       "\t<li>'V77'</li>\n",
       "\t<li>'V78'</li>\n",
       "\t<li>'V79'</li>\n",
       "\t<li>'V85'</li>\n",
       "</ol>\n"
      ],
      "text/latex": [
       "\\begin{enumerate*}\n",
       "\\item 'V10'\n",
       "\\item 'V31'\n",
       "\\item 'V36'\n",
       "\\item 'V46'\n",
       "\\item 'V48'\n",
       "\\item 'V52'\n",
       "\\item 'V54'\n",
       "\\item 'V59'\n",
       "\\item 'V60'\n",
       "\\item 'V62'\n",
       "\\item 'V63'\n",
       "\\item 'V65'\n",
       "\\item 'V66'\n",
       "\\item 'V70'\n",
       "\\item 'V71'\n",
       "\\item 'V72'\n",
       "\\item 'V74'\n",
       "\\item 'V76'\n",
       "\\item 'V77'\n",
       "\\item 'V78'\n",
       "\\item 'V79'\n",
       "\\item 'V85'\n",
       "\\end{enumerate*}\n"
      ],
      "text/markdown": [
       "1. 'V10'\n",
       "2. 'V31'\n",
       "3. 'V36'\n",
       "4. 'V46'\n",
       "5. 'V48'\n",
       "6. 'V52'\n",
       "7. 'V54'\n",
       "8. 'V59'\n",
       "9. 'V60'\n",
       "10. 'V62'\n",
       "11. 'V63'\n",
       "12. 'V65'\n",
       "13. 'V66'\n",
       "14. 'V70'\n",
       "15. 'V71'\n",
       "16. 'V72'\n",
       "17. 'V74'\n",
       "18. 'V76'\n",
       "19. 'V77'\n",
       "20. 'V78'\n",
       "21. 'V79'\n",
       "22. 'V85'\n",
       "\n",
       "\n"
      ],
      "text/plain": [
       " [1] \"V10\" \"V31\" \"V36\" \"V46\" \"V48\" \"V52\" \"V54\" \"V59\" \"V60\" \"V62\" \"V63\" \"V65\"\n",
       "[13] \"V66\" \"V70\" \"V71\" \"V72\" \"V74\" \"V76\" \"V77\" \"V78\" \"V79\" \"V85\""
      ]
     },
     "metadata": {},
     "output_type": "display_data"
    }
   ],
   "source": [
    "excluded_vars <- row.names(target_cor_df[target_cor_df$V86 < 0.1, ,drop=F])\n",
    "length(excluded_vars)\n",
    "excluded_vars"
   ]
  },
  {
   "cell_type": "markdown",
   "metadata": {},
   "source": [
    "Above are the variables that will be excluded."
   ]
  },
  {
   "cell_type": "markdown",
   "metadata": {},
   "source": [
    "#### Correlation matrix for predictors against target variable"
   ]
  },
  {
   "cell_type": "markdown",
   "metadata": {},
   "source": [
    "It has been found from the previous finding that V2, V3, V4, and V5 are excluded as being the independent variables due to __lack of correlation towards the response variable__, and there are 22 variables which have been excluded due to __high correlation towards the other predictors__. In total 26 variables have been excluded so far. <br>\n",
    "The next step is trying to find the good predictors using correlation matrix. A measure for good predictors are the ones that do not have high correlation among them."
   ]
  },
  {
   "cell_type": "code",
   "execution_count": 35,
   "metadata": {
    "scrolled": true
   },
   "outputs": [
    {
     "data": {
      "text/html": [
       "<ol class=list-inline>\n",
       "\t<li>5822</li>\n",
       "\t<li>60</li>\n",
       "</ol>\n"
      ],
      "text/latex": [
       "\\begin{enumerate*}\n",
       "\\item 5822\n",
       "\\item 60\n",
       "\\end{enumerate*}\n"
      ],
      "text/markdown": [
       "1. 5822\n",
       "2. 60\n",
       "\n",
       "\n"
      ],
      "text/plain": [
       "[1] 5822   60"
      ]
     },
     "metadata": {},
     "output_type": "display_data"
    },
    {
     "data": {
      "text/html": [
       "<table>\n",
       "<thead><tr><th scope=col>V1</th><th scope=col>V6</th><th scope=col>V7</th><th scope=col>V8</th><th scope=col>V9</th><th scope=col>V11</th><th scope=col>V12</th><th scope=col>V13</th><th scope=col>V14</th><th scope=col>V15</th><th scope=col>⋯</th><th scope=col>V68</th><th scope=col>V69</th><th scope=col>V73</th><th scope=col>V75</th><th scope=col>V80</th><th scope=col>V81</th><th scope=col>V82</th><th scope=col>V83</th><th scope=col>V84</th><th scope=col>V86</th></tr></thead>\n",
       "<tbody>\n",
       "\t<tr><td>33      </td><td>0       </td><td>5       </td><td>1       </td><td>3       </td><td>0       </td><td>2       </td><td>1       </td><td>2       </td><td>6       </td><td><U+22EF></td><td>1       </td><td>0       </td><td>0       </td><td>0       </td><td>1       </td><td>0       </td><td>0       </td><td>0       </td><td>0       </td><td>0       </td></tr>\n",
       "\t<tr><td>37      </td><td>1       </td><td>4       </td><td>1       </td><td>4       </td><td>2       </td><td>2       </td><td>0       </td><td>4       </td><td>5       </td><td><U+22EF></td><td>0       </td><td>0       </td><td>0       </td><td>0       </td><td>1       </td><td>0       </td><td>0       </td><td>0       </td><td>0       </td><td>0       </td></tr>\n",
       "\t<tr><td>37      </td><td>0       </td><td>4       </td><td>2       </td><td>4       </td><td>2       </td><td>4       </td><td>4       </td><td>4       </td><td>2       </td><td><U+22EF></td><td>1       </td><td>0       </td><td>0       </td><td>0       </td><td>1       </td><td>0       </td><td>0       </td><td>0       </td><td>0       </td><td>0       </td></tr>\n",
       "\t<tr><td> 9      </td><td>2       </td><td>3       </td><td>2       </td><td>4       </td><td>2       </td><td>2       </td><td>2       </td><td>3       </td><td>4       </td><td><U+22EF></td><td>1       </td><td>0       </td><td>0       </td><td>0       </td><td>1       </td><td>0       </td><td>0       </td><td>0       </td><td>0       </td><td>0       </td></tr>\n",
       "\t<tr><td>40      </td><td>1       </td><td>4       </td><td>1       </td><td>4       </td><td>1       </td><td>2       </td><td>2       </td><td>4       </td><td>4       </td><td><U+22EF></td><td>0       </td><td>0       </td><td>0       </td><td>0       </td><td>1       </td><td>0       </td><td>0       </td><td>0       </td><td>0       </td><td>0       </td></tr>\n",
       "\t<tr><td>23      </td><td>0       </td><td>5       </td><td>0       </td><td>5       </td><td>6       </td><td>3       </td><td>3       </td><td>5       </td><td>2       </td><td><U+22EF></td><td>1       </td><td>0       </td><td>0       </td><td>0       </td><td>0       </td><td>0       </td><td>0       </td><td>0       </td><td>0       </td><td>0       </td></tr>\n",
       "</tbody>\n",
       "</table>\n"
      ],
      "text/latex": [
       "\\begin{tabular}{r|llllllllllllllllllllllllllllllllllllllllllllllllllllllllllll}\n",
       " V1 & V6 & V7 & V8 & V9 & V11 & V12 & V13 & V14 & V15 & ⋯ & V68 & V69 & V73 & V75 & V80 & V81 & V82 & V83 & V84 & V86\\\\\n",
       "\\hline\n",
       "\t 33       & 0        & 5        & 1        & 3        & 0        & 2        & 1        & 2        & 6        & <U+22EF> & 1        & 0        & 0        & 0        & 1        & 0        & 0        & 0        & 0        & 0       \\\\\n",
       "\t 37       & 1        & 4        & 1        & 4        & 2        & 2        & 0        & 4        & 5        & <U+22EF> & 0        & 0        & 0        & 0        & 1        & 0        & 0        & 0        & 0        & 0       \\\\\n",
       "\t 37       & 0        & 4        & 2        & 4        & 2        & 4        & 4        & 4        & 2        & <U+22EF> & 1        & 0        & 0        & 0        & 1        & 0        & 0        & 0        & 0        & 0       \\\\\n",
       "\t  9       & 2        & 3        & 2        & 4        & 2        & 2        & 2        & 3        & 4        & <U+22EF> & 1        & 0        & 0        & 0        & 1        & 0        & 0        & 0        & 0        & 0       \\\\\n",
       "\t 40       & 1        & 4        & 1        & 4        & 1        & 2        & 2        & 4        & 4        & <U+22EF> & 0        & 0        & 0        & 0        & 1        & 0        & 0        & 0        & 0        & 0       \\\\\n",
       "\t 23       & 0        & 5        & 0        & 5        & 6        & 3        & 3        & 5        & 2        & <U+22EF> & 1        & 0        & 0        & 0        & 0        & 0        & 0        & 0        & 0        & 0       \\\\\n",
       "\\end{tabular}\n"
      ],
      "text/markdown": [
       "\n",
       "| V1 | V6 | V7 | V8 | V9 | V11 | V12 | V13 | V14 | V15 | ⋯ | V68 | V69 | V73 | V75 | V80 | V81 | V82 | V83 | V84 | V86 |\n",
       "|---|---|---|---|---|---|---|---|---|---|---|---|---|---|---|---|---|---|---|---|---|\n",
       "| 33       | 0        | 5        | 1        | 3        | 0        | 2        | 1        | 2        | 6        | <U+22EF> | 1        | 0        | 0        | 0        | 1        | 0        | 0        | 0        | 0        | 0        |\n",
       "| 37       | 1        | 4        | 1        | 4        | 2        | 2        | 0        | 4        | 5        | <U+22EF> | 0        | 0        | 0        | 0        | 1        | 0        | 0        | 0        | 0        | 0        |\n",
       "| 37       | 0        | 4        | 2        | 4        | 2        | 4        | 4        | 4        | 2        | <U+22EF> | 1        | 0        | 0        | 0        | 1        | 0        | 0        | 0        | 0        | 0        |\n",
       "|  9       | 2        | 3        | 2        | 4        | 2        | 2        | 2        | 3        | 4        | <U+22EF> | 1        | 0        | 0        | 0        | 1        | 0        | 0        | 0        | 0        | 0        |\n",
       "| 40       | 1        | 4        | 1        | 4        | 1        | 2        | 2        | 4        | 4        | <U+22EF> | 0        | 0        | 0        | 0        | 1        | 0        | 0        | 0        | 0        | 0        |\n",
       "| 23       | 0        | 5        | 0        | 5        | 6        | 3        | 3        | 5        | 2        | <U+22EF> | 1        | 0        | 0        | 0        | 0        | 0        | 0        | 0        | 0        | 0        |\n",
       "\n"
      ],
      "text/plain": [
       "  V1 V6 V7 V8 V9 V11 V12 V13 V14 V15 <U+22EF>        V68 V69 V73 V75 V80 V81 V82 V83\n",
       "1 33 0  5  1  3  0   2   1   2   6   <U+22EF> 1   0   0   0   1   0   0   0  \n",
       "2 37 1  4  1  4  2   2   0   4   5   <U+22EF> 0   0   0   0   1   0   0   0  \n",
       "3 37 0  4  2  4  2   4   4   4   2   <U+22EF> 1   0   0   0   1   0   0   0  \n",
       "4  9 2  3  2  4  2   2   2   3   4   <U+22EF> 1   0   0   0   1   0   0   0  \n",
       "5 40 1  4  1  4  1   2   2   4   4   <U+22EF> 0   0   0   0   1   0   0   0  \n",
       "6 23 0  5  0  5  6   3   3   5   2   <U+22EF> 1   0   0   0   0   0   0   0  \n",
       "  V84 V86\n",
       "1 0   0  \n",
       "2 0   0  \n",
       "3 0   0  \n",
       "4 0   0  \n",
       "5 0   0  \n",
       "6 0   0  "
      ]
     },
     "metadata": {},
     "output_type": "display_data"
    }
   ],
   "source": [
    "# Excluding 'V10' 'V31' 'V36' 'V46' 'V48' 'V52' 'V54' 'V59' 'V60' 'V62' 'V63' 'V65' 'V66' 'V70' 'V71' 'V72' 'V74' 'V76' 'V77' 'V78' 'V79' 'V85'\n",
    "\n",
    "train_data_3 <- data.frame(train_data_2[, !colnames(train_data_2) %in% excluded_vars])\n",
    "dim(train_data_3)\n",
    "head(train_data_3)\n",
    "# cor(train_data_3)"
   ]
  },
  {
   "cell_type": "code",
   "execution_count": 36,
   "metadata": {},
   "outputs": [
    {
     "data": {
      "text/html": [
       "<strong>cor:</strong> 0.144210464452192"
      ],
      "text/latex": [
       "\\textbf{cor:} 0.144210464452192"
      ],
      "text/markdown": [
       "**cor:** 0.144210464452192"
      ],
      "text/plain": [
       "      cor \n",
       "0.1442105 "
      ]
     },
     "metadata": {},
     "output_type": "display_data"
    }
   ],
   "source": [
    "cor.test(train_data_3[,\"V68\"], train_data_3[ , \"V86\"])$estimate"
   ]
  },
  {
   "cell_type": "code",
   "execution_count": 37,
   "metadata": {},
   "outputs": [],
   "source": [
    "cor_response <- data.frame(\"ind_var\" = colnames(train_data_3), \"dep_var\" = \"V86\", \"cor_coeff\" = 0, \"p_values\" = 0)\n",
    "\n",
    "for (i in colnames(train_data_3)){\n",
    "    cor_test <- cor.test(train_data_3[, i], train_data_3[, \"V86\"])\n",
    "    \n",
    "    cor_response[cor_response$ind_var == i, \"cor_coeff\"] <- cor_test$estimate\n",
    "    cor_response[cor_response$ind_var == i, \"p_values\"] <- cor_test$p.value\n",
    "}\n"
   ]
  },
  {
   "cell_type": "code",
   "execution_count": 38,
   "metadata": {
    "scrolled": true
   },
   "outputs": [
    {
     "data": {
      "text/html": [
       "<table>\n",
       "<thead><tr><th></th><th scope=col>ind_var</th><th scope=col>dep_var</th><th scope=col>cor_coeff</th><th scope=col>p_values</th></tr></thead>\n",
       "<tbody>\n",
       "\t<tr><th scope=row>60</th><td>V86          </td><td>V86          </td><td> 1.0000000000</td><td>0.000000e+00 </td></tr>\n",
       "\t<tr><th scope=row>39</th><td>V47          </td><td>V86          </td><td> 0.1509097148</td><td>5.289577e-31 </td></tr>\n",
       "\t<tr><th scope=row>51</th><td>V68          </td><td>V86          </td><td> 0.1442104645</td><td>1.982076e-28 </td></tr>\n",
       "\t<tr><th scope=row>57</th><td>V82          </td><td>V86          </td><td> 0.1056995045</td><td>6.164884e-16 </td></tr>\n",
       "\t<tr><th scope=row>37</th><td>V44          </td><td>V86          </td><td> 0.0964626877</td><td>1.632091e-13 </td></tr>\n",
       "\t<tr><th scope=row>36</th><td>V43          </td><td>V86          </td><td> 0.0959382627</td><td>2.206680e-13 </td></tr>\n",
       "\t<tr><th scope=row>48</th><td>V61          </td><td>V86          </td><td> 0.0913611589</td><td>2.865756e-12 </td></tr>\n",
       "\t<tr><th scope=row>35</th><td>V42          </td><td>V86          </td><td> 0.0901853820</td><td>5.428259e-12 </td></tr>\n",
       "\t<tr><th scope=row>11</th><td>V16          </td><td>V86          </td><td> 0.0846353376</td><td>9.926323e-11 </td></tr>\n",
       "\t<tr><th scope=row>26</th><td>V32          </td><td>V86          </td><td> 0.0699738688</td><td>9.064018e-08 </td></tr>\n",
       "\t<tr><th scope=row>14</th><td>V19          </td><td>V86          </td><td> 0.0650816060</td><td>6.693154e-07 </td></tr>\n",
       "\t<tr><th scope=row>20</th><td>V25          </td><td>V86          </td><td> 0.0634975982</td><td>1.241800e-06 </td></tr>\n",
       "\t<tr><th scope=row>49</th><td>V64          </td><td>V86          </td><td> 0.0627888617</td><td>1.629834e-06 </td></tr>\n",
       "\t<tr><th scope=row>55</th><td>V80          </td><td>V86          </td><td> 0.0613811660</td><td>2.773452e-06 </td></tr>\n",
       "\t<tr><th scope=row>33</th><td>V40          </td><td>V86          </td><td> 0.0579205699</td><td>9.769156e-06 </td></tr>\n",
       "\t<tr><th scope=row>32</th><td>V39          </td><td>V86          </td><td> 0.0576918269</td><td>1.059171e-05 </td></tr>\n",
       "\t<tr><th scope=row>17</th><td>V22          </td><td>V86          </td><td> 0.0477161872</td><td>2.703864e-04 </td></tr>\n",
       "\t<tr><th scope=row>12</th><td>V17          </td><td>V86          </td><td> 0.0435170674</td><td>8.959886e-04 </td></tr>\n",
       "\t<tr><th scope=row>46</th><td>V57          </td><td>V86          </td><td> 0.0402076295</td><td>2.151321e-03 </td></tr>\n",
       "\t<tr><th scope=row>58</th><td>V83          </td><td>V86          </td><td> 0.0341439482</td><td>9.175291e-03 </td></tr>\n",
       "\t<tr><th scope=row>3</th><td>V7           </td><td>V86          </td><td> 0.0328663302</td><td>1.214487e-02 </td></tr>\n",
       "\t<tr><th scope=row>10</th><td>V15          </td><td>V86          </td><td> 0.0323460866</td><td>1.357990e-02 </td></tr>\n",
       "\t<tr><th scope=row>47</th><td>V58          </td><td>V86          </td><td> 0.0305286401</td><td>1.983577e-02 </td></tr>\n",
       "\t<tr><th scope=row>21</th><td>V26          </td><td>V86          </td><td> 0.0287629713</td><td>2.818829e-02 </td></tr>\n",
       "\t<tr><th scope=row>56</th><td>V81          </td><td>V86          </td><td> 0.0262010877</td><td>4.559644e-02 </td></tr>\n",
       "\t<tr><th scope=row>15</th><td>V20          </td><td>V86          </td><td> 0.0219744985</td><td>9.363222e-02 </td></tr>\n",
       "\t<tr><th scope=row>44</th><td>V55          </td><td>V86          </td><td> 0.0211521954</td><td>1.065731e-01 </td></tr>\n",
       "\t<tr><th scope=row>59</th><td>V84          </td><td>V86          </td><td> 0.0180255830</td><td>1.690679e-01 </td></tr>\n",
       "\t<tr><th scope=row>42</th><td>V51          </td><td>V86          </td><td> 0.0126284578</td><td>3.353426e-01 </td></tr>\n",
       "\t<tr><th scope=row>9</th><td>V14          </td><td>V86          </td><td> 0.0079814297</td><td>5.426052e-01 </td></tr>\n",
       "\t<tr><th scope=row>27</th><td>V33          </td><td>V86          </td><td> 0.0077680756</td><td>5.534478e-01 </td></tr>\n",
       "\t<tr><th scope=row>2</th><td>V6           </td><td>V86          </td><td> 0.0062254235</td><td>6.348475e-01 </td></tr>\n",
       "\t<tr><th scope=row>40</th><td>V49          </td><td>V86          </td><td> 0.0056301608</td><td>6.675566e-01 </td></tr>\n",
       "\t<tr><th scope=row>22</th><td>V27          </td><td>V86          </td><td> 0.0040402607</td><td>7.579186e-01 </td></tr>\n",
       "\t<tr><th scope=row>4</th><td>V8           </td><td>V86          </td><td> 0.0040394037</td><td>7.579684e-01 </td></tr>\n",
       "\t<tr><th scope=row>31</th><td>V38          </td><td>V86          </td><td>-0.0009823603</td><td>9.402624e-01 </td></tr>\n",
       "\t<tr><th scope=row>38</th><td>V45          </td><td>V86          </td><td>-0.0018523902</td><td>8.876243e-01 </td></tr>\n",
       "\t<tr><th scope=row>34</th><td>V41          </td><td>V86          </td><td>-0.0020132359</td><td>8.779400e-01 </td></tr>\n",
       "\t<tr><th scope=row>52</th><td>V69          </td><td>V86          </td><td>-0.0091760865</td><td>4.839158e-01 </td></tr>\n",
       "\t<tr><th scope=row>45</th><td>V56          </td><td>V86          </td><td>-0.0096326131</td><td>4.624326e-01 </td></tr>\n",
       "\t<tr><th scope=row>41</th><td>V50          </td><td>V86          </td><td>-0.0097358668</td><td>4.576485e-01 </td></tr>\n",
       "\t<tr><th scope=row>43</th><td>V53          </td><td>V86          </td><td>-0.0143800095</td><td>2.726217e-01 </td></tr>\n",
       "\t<tr><th scope=row>53</th><td>V73          </td><td>V86          </td><td>-0.0172020197</td><td>1.893972e-01 </td></tr>\n",
       "\t<tr><th scope=row>50</th><td>V67          </td><td>V86          </td><td>-0.0212790767</td><td>1.044886e-01 </td></tr>\n",
       "\t<tr><th scope=row>6</th><td>V11          </td><td>V86          </td><td>-0.0333622934</td><td>1.090361e-02 </td></tr>\n",
       "\t<tr><th scope=row>5</th><td>V9           </td><td>V86          </td><td>-0.0417068857</td><td>1.457467e-03 </td></tr>\n",
       "\t<tr><th scope=row>23</th><td>V28          </td><td>V86          </td><td>-0.0423093665</td><td>1.242051e-03 </td></tr>\n",
       "\t<tr><th scope=row>18</th><td>V23          </td><td>V86          </td><td>-0.0424958378</td><td>1.181589e-03 </td></tr>\n",
       "\t<tr><th scope=row>54</th><td>V75          </td><td>V86          </td><td>-0.0451163962</td><td>5.742645e-04 </td></tr>\n",
       "\t<tr><th scope=row>8</th><td>V13          </td><td>V86          </td><td>-0.0531021574</td><td>5.039389e-05 </td></tr>\n",
       "\t<tr><th scope=row>16</th><td>V21          </td><td>V86          </td><td>-0.0540025663</td><td>3.745727e-05 </td></tr>\n",
       "\t<tr><th scope=row>19</th><td>V24          </td><td>V86          </td><td>-0.0546323865</td><td>3.035563e-05 </td></tr>\n",
       "\t<tr><th scope=row>29</th><td>V35          </td><td>V86          </td><td>-0.0583778481</td><td>8.303973e-06 </td></tr>\n",
       "\t<tr><th scope=row>7</th><td>V12          </td><td>V86          </td><td>-0.0622853593</td><td>1.973716e-06 </td></tr>\n",
       "\t<tr><th scope=row>24</th><td>V29          </td><td>V86          </td><td>-0.0630702655</td><td>1.463537e-06 </td></tr>\n",
       "\t<tr><th scope=row>1</th><td>V1           </td><td>V86          </td><td>-0.0693852373</td><td>1.161297e-07 </td></tr>\n",
       "\t<tr><th scope=row>28</th><td>V34          </td><td>V86          </td><td>-0.0765007839</td><td>5.081604e-09 </td></tr>\n",
       "\t<tr><th scope=row>25</th><td>V30          </td><td>V86          </td><td>-0.0791434984</td><td>1.475681e-09 </td></tr>\n",
       "\t<tr><th scope=row>30</th><td>V37          </td><td>V86          </td><td>-0.0797651169</td><td>1.096799e-09 </td></tr>\n",
       "\t<tr><th scope=row>13</th><td>V18          </td><td>V86          </td><td>-0.0905613304</td><td>4.429340e-12 </td></tr>\n",
       "</tbody>\n",
       "</table>\n"
      ],
      "text/latex": [
       "\\begin{tabular}{r|llll}\n",
       "  & ind\\_var & dep\\_var & cor\\_coeff & p\\_values\\\\\n",
       "\\hline\n",
       "\t60 & V86           & V86           &  1.0000000000 & 0.000000e+00 \\\\\n",
       "\t39 & V47           & V86           &  0.1509097148 & 5.289577e-31 \\\\\n",
       "\t51 & V68           & V86           &  0.1442104645 & 1.982076e-28 \\\\\n",
       "\t57 & V82           & V86           &  0.1056995045 & 6.164884e-16 \\\\\n",
       "\t37 & V44           & V86           &  0.0964626877 & 1.632091e-13 \\\\\n",
       "\t36 & V43           & V86           &  0.0959382627 & 2.206680e-13 \\\\\n",
       "\t48 & V61           & V86           &  0.0913611589 & 2.865756e-12 \\\\\n",
       "\t35 & V42           & V86           &  0.0901853820 & 5.428259e-12 \\\\\n",
       "\t11 & V16           & V86           &  0.0846353376 & 9.926323e-11 \\\\\n",
       "\t26 & V32           & V86           &  0.0699738688 & 9.064018e-08 \\\\\n",
       "\t14 & V19           & V86           &  0.0650816060 & 6.693154e-07 \\\\\n",
       "\t20 & V25           & V86           &  0.0634975982 & 1.241800e-06 \\\\\n",
       "\t49 & V64           & V86           &  0.0627888617 & 1.629834e-06 \\\\\n",
       "\t55 & V80           & V86           &  0.0613811660 & 2.773452e-06 \\\\\n",
       "\t33 & V40           & V86           &  0.0579205699 & 9.769156e-06 \\\\\n",
       "\t32 & V39           & V86           &  0.0576918269 & 1.059171e-05 \\\\\n",
       "\t17 & V22           & V86           &  0.0477161872 & 2.703864e-04 \\\\\n",
       "\t12 & V17           & V86           &  0.0435170674 & 8.959886e-04 \\\\\n",
       "\t46 & V57           & V86           &  0.0402076295 & 2.151321e-03 \\\\\n",
       "\t58 & V83           & V86           &  0.0341439482 & 9.175291e-03 \\\\\n",
       "\t3 & V7            & V86           &  0.0328663302 & 1.214487e-02 \\\\\n",
       "\t10 & V15           & V86           &  0.0323460866 & 1.357990e-02 \\\\\n",
       "\t47 & V58           & V86           &  0.0305286401 & 1.983577e-02 \\\\\n",
       "\t21 & V26           & V86           &  0.0287629713 & 2.818829e-02 \\\\\n",
       "\t56 & V81           & V86           &  0.0262010877 & 4.559644e-02 \\\\\n",
       "\t15 & V20           & V86           &  0.0219744985 & 9.363222e-02 \\\\\n",
       "\t44 & V55           & V86           &  0.0211521954 & 1.065731e-01 \\\\\n",
       "\t59 & V84           & V86           &  0.0180255830 & 1.690679e-01 \\\\\n",
       "\t42 & V51           & V86           &  0.0126284578 & 3.353426e-01 \\\\\n",
       "\t9 & V14           & V86           &  0.0079814297 & 5.426052e-01 \\\\\n",
       "\t27 & V33           & V86           &  0.0077680756 & 5.534478e-01 \\\\\n",
       "\t2 & V6            & V86           &  0.0062254235 & 6.348475e-01 \\\\\n",
       "\t40 & V49           & V86           &  0.0056301608 & 6.675566e-01 \\\\\n",
       "\t22 & V27           & V86           &  0.0040402607 & 7.579186e-01 \\\\\n",
       "\t4 & V8            & V86           &  0.0040394037 & 7.579684e-01 \\\\\n",
       "\t31 & V38           & V86           & -0.0009823603 & 9.402624e-01 \\\\\n",
       "\t38 & V45           & V86           & -0.0018523902 & 8.876243e-01 \\\\\n",
       "\t34 & V41           & V86           & -0.0020132359 & 8.779400e-01 \\\\\n",
       "\t52 & V69           & V86           & -0.0091760865 & 4.839158e-01 \\\\\n",
       "\t45 & V56           & V86           & -0.0096326131 & 4.624326e-01 \\\\\n",
       "\t41 & V50           & V86           & -0.0097358668 & 4.576485e-01 \\\\\n",
       "\t43 & V53           & V86           & -0.0143800095 & 2.726217e-01 \\\\\n",
       "\t53 & V73           & V86           & -0.0172020197 & 1.893972e-01 \\\\\n",
       "\t50 & V67           & V86           & -0.0212790767 & 1.044886e-01 \\\\\n",
       "\t6 & V11           & V86           & -0.0333622934 & 1.090361e-02 \\\\\n",
       "\t5 & V9            & V86           & -0.0417068857 & 1.457467e-03 \\\\\n",
       "\t23 & V28           & V86           & -0.0423093665 & 1.242051e-03 \\\\\n",
       "\t18 & V23           & V86           & -0.0424958378 & 1.181589e-03 \\\\\n",
       "\t54 & V75           & V86           & -0.0451163962 & 5.742645e-04 \\\\\n",
       "\t8 & V13           & V86           & -0.0531021574 & 5.039389e-05 \\\\\n",
       "\t16 & V21           & V86           & -0.0540025663 & 3.745727e-05 \\\\\n",
       "\t19 & V24           & V86           & -0.0546323865 & 3.035563e-05 \\\\\n",
       "\t29 & V35           & V86           & -0.0583778481 & 8.303973e-06 \\\\\n",
       "\t7 & V12           & V86           & -0.0622853593 & 1.973716e-06 \\\\\n",
       "\t24 & V29           & V86           & -0.0630702655 & 1.463537e-06 \\\\\n",
       "\t1 & V1            & V86           & -0.0693852373 & 1.161297e-07 \\\\\n",
       "\t28 & V34           & V86           & -0.0765007839 & 5.081604e-09 \\\\\n",
       "\t25 & V30           & V86           & -0.0791434984 & 1.475681e-09 \\\\\n",
       "\t30 & V37           & V86           & -0.0797651169 & 1.096799e-09 \\\\\n",
       "\t13 & V18           & V86           & -0.0905613304 & 4.429340e-12 \\\\\n",
       "\\end{tabular}\n"
      ],
      "text/markdown": [
       "\n",
       "| <!--/--> | ind_var | dep_var | cor_coeff | p_values |\n",
       "|---|---|---|---|---|\n",
       "| 60 | V86           | V86           |  1.0000000000 | 0.000000e+00  |\n",
       "| 39 | V47           | V86           |  0.1509097148 | 5.289577e-31  |\n",
       "| 51 | V68           | V86           |  0.1442104645 | 1.982076e-28  |\n",
       "| 57 | V82           | V86           |  0.1056995045 | 6.164884e-16  |\n",
       "| 37 | V44           | V86           |  0.0964626877 | 1.632091e-13  |\n",
       "| 36 | V43           | V86           |  0.0959382627 | 2.206680e-13  |\n",
       "| 48 | V61           | V86           |  0.0913611589 | 2.865756e-12  |\n",
       "| 35 | V42           | V86           |  0.0901853820 | 5.428259e-12  |\n",
       "| 11 | V16           | V86           |  0.0846353376 | 9.926323e-11  |\n",
       "| 26 | V32           | V86           |  0.0699738688 | 9.064018e-08  |\n",
       "| 14 | V19           | V86           |  0.0650816060 | 6.693154e-07  |\n",
       "| 20 | V25           | V86           |  0.0634975982 | 1.241800e-06  |\n",
       "| 49 | V64           | V86           |  0.0627888617 | 1.629834e-06  |\n",
       "| 55 | V80           | V86           |  0.0613811660 | 2.773452e-06  |\n",
       "| 33 | V40           | V86           |  0.0579205699 | 9.769156e-06  |\n",
       "| 32 | V39           | V86           |  0.0576918269 | 1.059171e-05  |\n",
       "| 17 | V22           | V86           |  0.0477161872 | 2.703864e-04  |\n",
       "| 12 | V17           | V86           |  0.0435170674 | 8.959886e-04  |\n",
       "| 46 | V57           | V86           |  0.0402076295 | 2.151321e-03  |\n",
       "| 58 | V83           | V86           |  0.0341439482 | 9.175291e-03  |\n",
       "| 3 | V7            | V86           |  0.0328663302 | 1.214487e-02  |\n",
       "| 10 | V15           | V86           |  0.0323460866 | 1.357990e-02  |\n",
       "| 47 | V58           | V86           |  0.0305286401 | 1.983577e-02  |\n",
       "| 21 | V26           | V86           |  0.0287629713 | 2.818829e-02  |\n",
       "| 56 | V81           | V86           |  0.0262010877 | 4.559644e-02  |\n",
       "| 15 | V20           | V86           |  0.0219744985 | 9.363222e-02  |\n",
       "| 44 | V55           | V86           |  0.0211521954 | 1.065731e-01  |\n",
       "| 59 | V84           | V86           |  0.0180255830 | 1.690679e-01  |\n",
       "| 42 | V51           | V86           |  0.0126284578 | 3.353426e-01  |\n",
       "| 9 | V14           | V86           |  0.0079814297 | 5.426052e-01  |\n",
       "| 27 | V33           | V86           |  0.0077680756 | 5.534478e-01  |\n",
       "| 2 | V6            | V86           |  0.0062254235 | 6.348475e-01  |\n",
       "| 40 | V49           | V86           |  0.0056301608 | 6.675566e-01  |\n",
       "| 22 | V27           | V86           |  0.0040402607 | 7.579186e-01  |\n",
       "| 4 | V8            | V86           |  0.0040394037 | 7.579684e-01  |\n",
       "| 31 | V38           | V86           | -0.0009823603 | 9.402624e-01  |\n",
       "| 38 | V45           | V86           | -0.0018523902 | 8.876243e-01  |\n",
       "| 34 | V41           | V86           | -0.0020132359 | 8.779400e-01  |\n",
       "| 52 | V69           | V86           | -0.0091760865 | 4.839158e-01  |\n",
       "| 45 | V56           | V86           | -0.0096326131 | 4.624326e-01  |\n",
       "| 41 | V50           | V86           | -0.0097358668 | 4.576485e-01  |\n",
       "| 43 | V53           | V86           | -0.0143800095 | 2.726217e-01  |\n",
       "| 53 | V73           | V86           | -0.0172020197 | 1.893972e-01  |\n",
       "| 50 | V67           | V86           | -0.0212790767 | 1.044886e-01  |\n",
       "| 6 | V11           | V86           | -0.0333622934 | 1.090361e-02  |\n",
       "| 5 | V9            | V86           | -0.0417068857 | 1.457467e-03  |\n",
       "| 23 | V28           | V86           | -0.0423093665 | 1.242051e-03  |\n",
       "| 18 | V23           | V86           | -0.0424958378 | 1.181589e-03  |\n",
       "| 54 | V75           | V86           | -0.0451163962 | 5.742645e-04  |\n",
       "| 8 | V13           | V86           | -0.0531021574 | 5.039389e-05  |\n",
       "| 16 | V21           | V86           | -0.0540025663 | 3.745727e-05  |\n",
       "| 19 | V24           | V86           | -0.0546323865 | 3.035563e-05  |\n",
       "| 29 | V35           | V86           | -0.0583778481 | 8.303973e-06  |\n",
       "| 7 | V12           | V86           | -0.0622853593 | 1.973716e-06  |\n",
       "| 24 | V29           | V86           | -0.0630702655 | 1.463537e-06  |\n",
       "| 1 | V1            | V86           | -0.0693852373 | 1.161297e-07  |\n",
       "| 28 | V34           | V86           | -0.0765007839 | 5.081604e-09  |\n",
       "| 25 | V30           | V86           | -0.0791434984 | 1.475681e-09  |\n",
       "| 30 | V37           | V86           | -0.0797651169 | 1.096799e-09  |\n",
       "| 13 | V18           | V86           | -0.0905613304 | 4.429340e-12  |\n",
       "\n"
      ],
      "text/plain": [
       "   ind_var dep_var cor_coeff     p_values    \n",
       "60 V86     V86      1.0000000000 0.000000e+00\n",
       "39 V47     V86      0.1509097148 5.289577e-31\n",
       "51 V68     V86      0.1442104645 1.982076e-28\n",
       "57 V82     V86      0.1056995045 6.164884e-16\n",
       "37 V44     V86      0.0964626877 1.632091e-13\n",
       "36 V43     V86      0.0959382627 2.206680e-13\n",
       "48 V61     V86      0.0913611589 2.865756e-12\n",
       "35 V42     V86      0.0901853820 5.428259e-12\n",
       "11 V16     V86      0.0846353376 9.926323e-11\n",
       "26 V32     V86      0.0699738688 9.064018e-08\n",
       "14 V19     V86      0.0650816060 6.693154e-07\n",
       "20 V25     V86      0.0634975982 1.241800e-06\n",
       "49 V64     V86      0.0627888617 1.629834e-06\n",
       "55 V80     V86      0.0613811660 2.773452e-06\n",
       "33 V40     V86      0.0579205699 9.769156e-06\n",
       "32 V39     V86      0.0576918269 1.059171e-05\n",
       "17 V22     V86      0.0477161872 2.703864e-04\n",
       "12 V17     V86      0.0435170674 8.959886e-04\n",
       "46 V57     V86      0.0402076295 2.151321e-03\n",
       "58 V83     V86      0.0341439482 9.175291e-03\n",
       "3  V7      V86      0.0328663302 1.214487e-02\n",
       "10 V15     V86      0.0323460866 1.357990e-02\n",
       "47 V58     V86      0.0305286401 1.983577e-02\n",
       "21 V26     V86      0.0287629713 2.818829e-02\n",
       "56 V81     V86      0.0262010877 4.559644e-02\n",
       "15 V20     V86      0.0219744985 9.363222e-02\n",
       "44 V55     V86      0.0211521954 1.065731e-01\n",
       "59 V84     V86      0.0180255830 1.690679e-01\n",
       "42 V51     V86      0.0126284578 3.353426e-01\n",
       "9  V14     V86      0.0079814297 5.426052e-01\n",
       "27 V33     V86      0.0077680756 5.534478e-01\n",
       "2  V6      V86      0.0062254235 6.348475e-01\n",
       "40 V49     V86      0.0056301608 6.675566e-01\n",
       "22 V27     V86      0.0040402607 7.579186e-01\n",
       "4  V8      V86      0.0040394037 7.579684e-01\n",
       "31 V38     V86     -0.0009823603 9.402624e-01\n",
       "38 V45     V86     -0.0018523902 8.876243e-01\n",
       "34 V41     V86     -0.0020132359 8.779400e-01\n",
       "52 V69     V86     -0.0091760865 4.839158e-01\n",
       "45 V56     V86     -0.0096326131 4.624326e-01\n",
       "41 V50     V86     -0.0097358668 4.576485e-01\n",
       "43 V53     V86     -0.0143800095 2.726217e-01\n",
       "53 V73     V86     -0.0172020197 1.893972e-01\n",
       "50 V67     V86     -0.0212790767 1.044886e-01\n",
       "6  V11     V86     -0.0333622934 1.090361e-02\n",
       "5  V9      V86     -0.0417068857 1.457467e-03\n",
       "23 V28     V86     -0.0423093665 1.242051e-03\n",
       "18 V23     V86     -0.0424958378 1.181589e-03\n",
       "54 V75     V86     -0.0451163962 5.742645e-04\n",
       "8  V13     V86     -0.0531021574 5.039389e-05\n",
       "16 V21     V86     -0.0540025663 3.745727e-05\n",
       "19 V24     V86     -0.0546323865 3.035563e-05\n",
       "29 V35     V86     -0.0583778481 8.303973e-06\n",
       "7  V12     V86     -0.0622853593 1.973716e-06\n",
       "24 V29     V86     -0.0630702655 1.463537e-06\n",
       "1  V1      V86     -0.0693852373 1.161297e-07\n",
       "28 V34     V86     -0.0765007839 5.081604e-09\n",
       "25 V30     V86     -0.0791434984 1.475681e-09\n",
       "30 V37     V86     -0.0797651169 1.096799e-09\n",
       "13 V18     V86     -0.0905613304 4.429340e-12"
      ]
     },
     "metadata": {},
     "output_type": "display_data"
    }
   ],
   "source": [
    "cor_response[order(cor_response$cor_coeff, decreasing = T),]"
   ]
  },
  {
   "cell_type": "code",
   "execution_count": 39,
   "metadata": {},
   "outputs": [
    {
     "data": {
      "image/png": "[encoded data removed]",
      "text/plain": [
       "Plot with title \"\""
      ]
     },
     "metadata": {},
     "output_type": "display_data"
    }
   ],
   "source": [
    "corrplot(cor(subset(train_data_3 , select = c(-V86))), method = \"square\", type = \"upper\")"
   ]
  },
  {
   "cell_type": "markdown",
   "metadata": {},
   "source": [
    "The above plot shows that there are still some predictors that are highly correlated with each other. The variables that need to be checked further are:\n",
    "* V7 and V9\n",
    "* V12 and V13\n",
    "* V17 and V18\n",
    "* V32 and V34\n",
    "* V47 and V68\n",
    "* V61 and V82"
   ]
  },
  {
   "cell_type": "code",
   "execution_count": 40,
   "metadata": {
    "scrolled": true
   },
   "outputs": [
    {
     "data": {
      "text/html": [
       "<table>\n",
       "<thead><tr><th></th><th scope=col>V7</th><th scope=col>V9</th><th scope=col>V12</th><th scope=col>V13</th><th scope=col>V17</th><th scope=col>V18</th><th scope=col>V32</th><th scope=col>V34</th><th scope=col>V47</th><th scope=col>V68</th><th scope=col>V61</th><th scope=col>V82</th></tr></thead>\n",
       "<tbody>\n",
       "\t<tr><th scope=row>V7</th><td> 1.00000000 </td><td>-0.74189451 </td><td>-0.084050503</td><td>-0.11592168 </td><td>-0.015809470</td><td> 0.056480934</td><td>-0.01833289 </td><td>-0.082429543</td><td> 0.019499655</td><td> 0.027986801</td><td> 0.018349034</td><td> 0.018467804</td></tr>\n",
       "\t<tr><th scope=row>V9</th><td>-0.74189451 </td><td> 1.00000000 </td><td> 0.071837834</td><td> 0.06464249 </td><td>-0.036979585</td><td> 0.042878421</td><td> 0.01317454 </td><td> 0.055051189</td><td>-0.018464726</td><td>-0.024372533</td><td>-0.023801543</td><td>-0.026407349</td></tr>\n",
       "\t<tr><th scope=row>V12</th><td>-0.08405050 </td><td> 0.07183783 </td><td> 1.000000000</td><td> 0.74564227 </td><td>-0.085847019</td><td> 0.129615816</td><td>-0.43255901 </td><td> 0.661457629</td><td>-0.033224324</td><td>-0.032756050</td><td> 0.002575251</td><td>-0.006310754</td></tr>\n",
       "\t<tr><th scope=row>V13</th><td>-0.11592168 </td><td> 0.06464249 </td><td> 0.745642269</td><td> 1.00000000 </td><td>-0.035947774</td><td> 0.045244170</td><td>-0.32562008 </td><td> 0.516173571</td><td>-0.044845685</td><td>-0.043610989</td><td>-0.011760899</td><td>-0.018787112</td></tr>\n",
       "\t<tr><th scope=row>V17</th><td>-0.01580947 </td><td>-0.03697958 </td><td>-0.085847019</td><td>-0.03594777 </td><td> 1.000000000</td><td>-0.747581568</td><td> 0.11417701 </td><td>-0.143919318</td><td> 0.007662509</td><td> 0.010056606</td><td> 0.019423140</td><td> 0.019963972</td></tr>\n",
       "\t<tr><th scope=row>V18</th><td> 0.05648093 </td><td> 0.04287842 </td><td> 0.129615816</td><td> 0.04524417 </td><td>-0.747581568</td><td> 1.000000000</td><td>-0.18397170 </td><td> 0.225098481</td><td>-0.003571270</td><td>-0.009361827</td><td>-0.018884358</td><td>-0.019264256</td></tr>\n",
       "\t<tr><th scope=row>V32</th><td>-0.01833289 </td><td> 0.01317454 </td><td>-0.432559012</td><td>-0.32562008 </td><td> 0.114177011</td><td>-0.183971700</td><td> 1.00000000 </td><td>-0.734563719</td><td> 0.047385131</td><td> 0.047176998</td><td>-0.019223185</td><td>-0.010046326</td></tr>\n",
       "\t<tr><th scope=row>V34</th><td>-0.08242954 </td><td> 0.05505119 </td><td> 0.661457629</td><td> 0.51617357 </td><td>-0.143919318</td><td> 0.225098481</td><td>-0.73456372 </td><td> 1.000000000</td><td>-0.053166448</td><td>-0.057413300</td><td> 0.009227026</td><td> 0.003181950</td></tr>\n",
       "\t<tr><th scope=row>V47</th><td> 0.01949965 </td><td>-0.01846473 </td><td>-0.033224324</td><td>-0.04484569 </td><td> 0.007662509</td><td>-0.003571270</td><td> 0.04738513 </td><td>-0.053166448</td><td> 1.000000000</td><td> 0.916154488</td><td> 0.024613219</td><td> 0.031728496</td></tr>\n",
       "\t<tr><th scope=row>V68</th><td> 0.02798680 </td><td>-0.02437253 </td><td>-0.032756050</td><td>-0.04361099 </td><td> 0.010056606</td><td>-0.009361827</td><td> 0.04717700 </td><td>-0.057413300</td><td> 0.916154488</td><td> 1.000000000</td><td> 0.043864415</td><td> 0.046364183</td></tr>\n",
       "\t<tr><th scope=row>V61</th><td> 0.01834903 </td><td>-0.02380154 </td><td> 0.002575251</td><td>-0.01176090 </td><td> 0.019423140</td><td>-0.018884358</td><td>-0.01922318 </td><td> 0.009227026</td><td> 0.024613219</td><td> 0.043864415</td><td> 1.000000000</td><td> 0.904436445</td></tr>\n",
       "\t<tr><th scope=row>V82</th><td> 0.01846780 </td><td>-0.02640735 </td><td>-0.006310754</td><td>-0.01878711 </td><td> 0.019963972</td><td>-0.019264256</td><td>-0.01004633 </td><td> 0.003181950</td><td> 0.031728496</td><td> 0.046364183</td><td> 0.904436445</td><td> 1.000000000</td></tr>\n",
       "</tbody>\n",
       "</table>\n"
      ],
      "text/latex": [
       "\\begin{tabular}{r|llllllllllll}\n",
       "  & V7 & V9 & V12 & V13 & V17 & V18 & V32 & V34 & V47 & V68 & V61 & V82\\\\\n",
       "\\hline\n",
       "\tV7 &  1.00000000  & -0.74189451  & -0.084050503 & -0.11592168  & -0.015809470 &  0.056480934 & -0.01833289  & -0.082429543 &  0.019499655 &  0.027986801 &  0.018349034 &  0.018467804\\\\\n",
       "\tV9 & -0.74189451  &  1.00000000  &  0.071837834 &  0.06464249  & -0.036979585 &  0.042878421 &  0.01317454  &  0.055051189 & -0.018464726 & -0.024372533 & -0.023801543 & -0.026407349\\\\\n",
       "\tV12 & -0.08405050  &  0.07183783  &  1.000000000 &  0.74564227  & -0.085847019 &  0.129615816 & -0.43255901  &  0.661457629 & -0.033224324 & -0.032756050 &  0.002575251 & -0.006310754\\\\\n",
       "\tV13 & -0.11592168  &  0.06464249  &  0.745642269 &  1.00000000  & -0.035947774 &  0.045244170 & -0.32562008  &  0.516173571 & -0.044845685 & -0.043610989 & -0.011760899 & -0.018787112\\\\\n",
       "\tV17 & -0.01580947  & -0.03697958  & -0.085847019 & -0.03594777  &  1.000000000 & -0.747581568 &  0.11417701  & -0.143919318 &  0.007662509 &  0.010056606 &  0.019423140 &  0.019963972\\\\\n",
       "\tV18 &  0.05648093  &  0.04287842  &  0.129615816 &  0.04524417  & -0.747581568 &  1.000000000 & -0.18397170  &  0.225098481 & -0.003571270 & -0.009361827 & -0.018884358 & -0.019264256\\\\\n",
       "\tV32 & -0.01833289  &  0.01317454  & -0.432559012 & -0.32562008  &  0.114177011 & -0.183971700 &  1.00000000  & -0.734563719 &  0.047385131 &  0.047176998 & -0.019223185 & -0.010046326\\\\\n",
       "\tV34 & -0.08242954  &  0.05505119  &  0.661457629 &  0.51617357  & -0.143919318 &  0.225098481 & -0.73456372  &  1.000000000 & -0.053166448 & -0.057413300 &  0.009227026 &  0.003181950\\\\\n",
       "\tV47 &  0.01949965  & -0.01846473  & -0.033224324 & -0.04484569  &  0.007662509 & -0.003571270 &  0.04738513  & -0.053166448 &  1.000000000 &  0.916154488 &  0.024613219 &  0.031728496\\\\\n",
       "\tV68 &  0.02798680  & -0.02437253  & -0.032756050 & -0.04361099  &  0.010056606 & -0.009361827 &  0.04717700  & -0.057413300 &  0.916154488 &  1.000000000 &  0.043864415 &  0.046364183\\\\\n",
       "\tV61 &  0.01834903  & -0.02380154  &  0.002575251 & -0.01176090  &  0.019423140 & -0.018884358 & -0.01922318  &  0.009227026 &  0.024613219 &  0.043864415 &  1.000000000 &  0.904436445\\\\\n",
       "\tV82 &  0.01846780  & -0.02640735  & -0.006310754 & -0.01878711  &  0.019963972 & -0.019264256 & -0.01004633  &  0.003181950 &  0.031728496 &  0.046364183 &  0.904436445 &  1.000000000\\\\\n",
       "\\end{tabular}\n"
      ],
      "text/markdown": [
       "\n",
       "| <!--/--> | V7 | V9 | V12 | V13 | V17 | V18 | V32 | V34 | V47 | V68 | V61 | V82 |\n",
       "|---|---|---|---|---|---|---|---|---|---|---|---|---|\n",
       "| V7 |  1.00000000  | -0.74189451  | -0.084050503 | -0.11592168  | -0.015809470 |  0.056480934 | -0.01833289  | -0.082429543 |  0.019499655 |  0.027986801 |  0.018349034 |  0.018467804 |\n",
       "| V9 | -0.74189451  |  1.00000000  |  0.071837834 |  0.06464249  | -0.036979585 |  0.042878421 |  0.01317454  |  0.055051189 | -0.018464726 | -0.024372533 | -0.023801543 | -0.026407349 |\n",
       "| V12 | -0.08405050  |  0.07183783  |  1.000000000 |  0.74564227  | -0.085847019 |  0.129615816 | -0.43255901  |  0.661457629 | -0.033224324 | -0.032756050 |  0.002575251 | -0.006310754 |\n",
       "| V13 | -0.11592168  |  0.06464249  |  0.745642269 |  1.00000000  | -0.035947774 |  0.045244170 | -0.32562008  |  0.516173571 | -0.044845685 | -0.043610989 | -0.011760899 | -0.018787112 |\n",
       "| V17 | -0.01580947  | -0.03697958  | -0.085847019 | -0.03594777  |  1.000000000 | -0.747581568 |  0.11417701  | -0.143919318 |  0.007662509 |  0.010056606 |  0.019423140 |  0.019963972 |\n",
       "| V18 |  0.05648093  |  0.04287842  |  0.129615816 |  0.04524417  | -0.747581568 |  1.000000000 | -0.18397170  |  0.225098481 | -0.003571270 | -0.009361827 | -0.018884358 | -0.019264256 |\n",
       "| V32 | -0.01833289  |  0.01317454  | -0.432559012 | -0.32562008  |  0.114177011 | -0.183971700 |  1.00000000  | -0.734563719 |  0.047385131 |  0.047176998 | -0.019223185 | -0.010046326 |\n",
       "| V34 | -0.08242954  |  0.05505119  |  0.661457629 |  0.51617357  | -0.143919318 |  0.225098481 | -0.73456372  |  1.000000000 | -0.053166448 | -0.057413300 |  0.009227026 |  0.003181950 |\n",
       "| V47 |  0.01949965  | -0.01846473  | -0.033224324 | -0.04484569  |  0.007662509 | -0.003571270 |  0.04738513  | -0.053166448 |  1.000000000 |  0.916154488 |  0.024613219 |  0.031728496 |\n",
       "| V68 |  0.02798680  | -0.02437253  | -0.032756050 | -0.04361099  |  0.010056606 | -0.009361827 |  0.04717700  | -0.057413300 |  0.916154488 |  1.000000000 |  0.043864415 |  0.046364183 |\n",
       "| V61 |  0.01834903  | -0.02380154  |  0.002575251 | -0.01176090  |  0.019423140 | -0.018884358 | -0.01922318  |  0.009227026 |  0.024613219 |  0.043864415 |  1.000000000 |  0.904436445 |\n",
       "| V82 |  0.01846780  | -0.02640735  | -0.006310754 | -0.01878711  |  0.019963972 | -0.019264256 | -0.01004633  |  0.003181950 |  0.031728496 |  0.046364183 |  0.904436445 |  1.000000000 |\n",
       "\n"
      ],
      "text/plain": [
       "    V7          V9          V12          V13         V17          V18         \n",
       "V7   1.00000000 -0.74189451 -0.084050503 -0.11592168 -0.015809470  0.056480934\n",
       "V9  -0.74189451  1.00000000  0.071837834  0.06464249 -0.036979585  0.042878421\n",
       "V12 -0.08405050  0.07183783  1.000000000  0.74564227 -0.085847019  0.129615816\n",
       "V13 -0.11592168  0.06464249  0.745642269  1.00000000 -0.035947774  0.045244170\n",
       "V17 -0.01580947 -0.03697958 -0.085847019 -0.03594777  1.000000000 -0.747581568\n",
       "V18  0.05648093  0.04287842  0.129615816  0.04524417 -0.747581568  1.000000000\n",
       "V32 -0.01833289  0.01317454 -0.432559012 -0.32562008  0.114177011 -0.183971700\n",
       "V34 -0.08242954  0.05505119  0.661457629  0.51617357 -0.143919318  0.225098481\n",
       "V47  0.01949965 -0.01846473 -0.033224324 -0.04484569  0.007662509 -0.003571270\n",
       "V68  0.02798680 -0.02437253 -0.032756050 -0.04361099  0.010056606 -0.009361827\n",
       "V61  0.01834903 -0.02380154  0.002575251 -0.01176090  0.019423140 -0.018884358\n",
       "V82  0.01846780 -0.02640735 -0.006310754 -0.01878711  0.019963972 -0.019264256\n",
       "    V32         V34          V47          V68          V61         \n",
       "V7  -0.01833289 -0.082429543  0.019499655  0.027986801  0.018349034\n",
       "V9   0.01317454  0.055051189 -0.018464726 -0.024372533 -0.023801543\n",
       "V12 -0.43255901  0.661457629 -0.033224324 -0.032756050  0.002575251\n",
       "V13 -0.32562008  0.516173571 -0.044845685 -0.043610989 -0.011760899\n",
       "V17  0.11417701 -0.143919318  0.007662509  0.010056606  0.019423140\n",
       "V18 -0.18397170  0.225098481 -0.003571270 -0.009361827 -0.018884358\n",
       "V32  1.00000000 -0.734563719  0.047385131  0.047176998 -0.019223185\n",
       "V34 -0.73456372  1.000000000 -0.053166448 -0.057413300  0.009227026\n",
       "V47  0.04738513 -0.053166448  1.000000000  0.916154488  0.024613219\n",
       "V68  0.04717700 -0.057413300  0.916154488  1.000000000  0.043864415\n",
       "V61 -0.01922318  0.009227026  0.024613219  0.043864415  1.000000000\n",
       "V82 -0.01004633  0.003181950  0.031728496  0.046364183  0.904436445\n",
       "    V82         \n",
       "V7   0.018467804\n",
       "V9  -0.026407349\n",
       "V12 -0.006310754\n",
       "V13 -0.018787112\n",
       "V17  0.019963972\n",
       "V18 -0.019264256\n",
       "V32 -0.010046326\n",
       "V34  0.003181950\n",
       "V47  0.031728496\n",
       "V68  0.046364183\n",
       "V61  0.904436445\n",
       "V82  1.000000000"
      ]
     },
     "metadata": {},
     "output_type": "display_data"
    }
   ],
   "source": [
    "cor(subset(train_data_3, select = -V86)[ , c(\"V7\", \"V9\", \"V12\", \"V13\", \"V17\", \"V18\", \"V32\", \"V34\", \"V47\", \"V68\", \"V61\", \"V82\")])"
   ]
  },
  {
   "cell_type": "markdown",
   "metadata": {},
   "source": [
    "Based on the correlation matrix, most of the correlations are fine with still being lower than 0.75 as previously set to be the cut-off base line. However, there are 2 correlations that still higher than 0.9 and those are between __V47 & V68__ and __V61 & V82__"
   ]
  },
  {
   "cell_type": "code",
   "execution_count": 41,
   "metadata": {
    "scrolled": true
   },
   "outputs": [
    {
     "data": {
      "text/html": [
       "<table>\n",
       "<tbody>\n",
       "\t<tr><th scope=row>V47</th><td>0.15090971</td></tr>\n",
       "\t<tr><th scope=row>V61</th><td>0.09136116</td></tr>\n",
       "\t<tr><th scope=row>V68</th><td>0.14421046</td></tr>\n",
       "\t<tr><th scope=row>V82</th><td>0.10569950</td></tr>\n",
       "</tbody>\n",
       "</table>\n"
      ],
      "text/latex": [
       "\\begin{tabular}{r|l}\n",
       "\tV47 & 0.15090971\\\\\n",
       "\tV61 & 0.09136116\\\\\n",
       "\tV68 & 0.14421046\\\\\n",
       "\tV82 & 0.10569950\\\\\n",
       "\\end{tabular}\n"
      ],
      "text/markdown": [
       "\n",
       "| V47 | 0.15090971 |\n",
       "| V61 | 0.09136116 |\n",
       "| V68 | 0.14421046 |\n",
       "| V82 | 0.10569950 |\n",
       "\n"
      ],
      "text/plain": [
       "    [,1]      \n",
       "V47 0.15090971\n",
       "V61 0.09136116\n",
       "V68 0.14421046\n",
       "V82 0.10569950"
      ]
     },
     "metadata": {},
     "output_type": "display_data"
    }
   ],
   "source": [
    "cor(train_data_3[ , c(\"V47\", \"V61\", \"V68\", \"V82\")], train_data_3[ , \"V86\"])"
   ]
  },
  {
   "cell_type": "markdown",
   "metadata": {},
   "source": [
    "Looking at the correlation against the response variable V86, \n",
    "* V47 has higher correlation coefficient compared to V68\n",
    "* V82 has higher correlation coefficient compared to V61\n",
    "\n",
    "Thus, __V61__ and __V68__ will be excluded in the next step"
   ]
  },
  {
   "cell_type": "code",
   "execution_count": 42,
   "metadata": {},
   "outputs": [
    {
     "data": {
      "text/html": [
       "<ol class=list-inline>\n",
       "\t<li>5822</li>\n",
       "\t<li>58</li>\n",
       "</ol>\n"
      ],
      "text/latex": [
       "\\begin{enumerate*}\n",
       "\\item 5822\n",
       "\\item 58\n",
       "\\end{enumerate*}\n"
      ],
      "text/markdown": [
       "1. 5822\n",
       "2. 58\n",
       "\n",
       "\n"
      ],
      "text/plain": [
       "[1] 5822   58"
      ]
     },
     "metadata": {},
     "output_type": "display_data"
    }
   ],
   "source": [
    "# Excluding V61 and V68\n",
    "train_data_4 <- data.frame(train_data_3[ , !colnames(train_data_3) %in% c(\"V61\",\"V68\")])\n",
    "dim(train_data_4)"
   ]
  },
  {
   "cell_type": "markdown",
   "metadata": {},
   "source": [
    "#### POTENTIAL PREDICTORS NUMBER 2"
   ]
  },
  {
   "cell_type": "markdown",
   "metadata": {},
   "source": [
    "After trimming the multicollinearity among the predictors and finding the better correlation with the response variable, the second potential predictors are mentioned below."
   ]
  },
  {
   "cell_type": "code",
   "execution_count": 43,
   "metadata": {},
   "outputs": [
    {
     "data": {
      "text/html": [
       "<ol class=list-inline>\n",
       "\t<li>'V1'</li>\n",
       "\t<li>'V6'</li>\n",
       "\t<li>'V7'</li>\n",
       "\t<li>'V8'</li>\n",
       "\t<li>'V9'</li>\n",
       "\t<li>'V11'</li>\n",
       "\t<li>'V12'</li>\n",
       "\t<li>'V13'</li>\n",
       "\t<li>'V14'</li>\n",
       "\t<li>'V15'</li>\n",
       "\t<li>'V16'</li>\n",
       "\t<li>'V17'</li>\n",
       "\t<li>'V18'</li>\n",
       "\t<li>'V19'</li>\n",
       "\t<li>'V20'</li>\n",
       "\t<li>'V21'</li>\n",
       "\t<li>'V22'</li>\n",
       "\t<li>'V23'</li>\n",
       "\t<li>'V24'</li>\n",
       "\t<li>'V25'</li>\n",
       "\t<li>'V26'</li>\n",
       "\t<li>'V27'</li>\n",
       "\t<li>'V28'</li>\n",
       "\t<li>'V29'</li>\n",
       "\t<li>'V30'</li>\n",
       "\t<li>'V32'</li>\n",
       "\t<li>'V33'</li>\n",
       "\t<li>'V34'</li>\n",
       "\t<li>'V35'</li>\n",
       "\t<li>'V37'</li>\n",
       "\t<li>'V38'</li>\n",
       "\t<li>'V39'</li>\n",
       "\t<li>'V40'</li>\n",
       "\t<li>'V41'</li>\n",
       "\t<li>'V42'</li>\n",
       "\t<li>'V43'</li>\n",
       "\t<li>'V44'</li>\n",
       "\t<li>'V45'</li>\n",
       "\t<li>'V47'</li>\n",
       "\t<li>'V49'</li>\n",
       "\t<li>'V50'</li>\n",
       "\t<li>'V51'</li>\n",
       "\t<li>'V53'</li>\n",
       "\t<li>'V55'</li>\n",
       "\t<li>'V56'</li>\n",
       "\t<li>'V57'</li>\n",
       "\t<li>'V58'</li>\n",
       "\t<li>'V64'</li>\n",
       "\t<li>'V67'</li>\n",
       "\t<li>'V69'</li>\n",
       "\t<li>'V73'</li>\n",
       "\t<li>'V75'</li>\n",
       "\t<li>'V80'</li>\n",
       "\t<li>'V81'</li>\n",
       "\t<li>'V82'</li>\n",
       "\t<li>'V83'</li>\n",
       "\t<li>'V84'</li>\n",
       "\t<li>'V86'</li>\n",
       "</ol>\n"
      ],
      "text/latex": [
       "\\begin{enumerate*}\n",
       "\\item 'V1'\n",
       "\\item 'V6'\n",
       "\\item 'V7'\n",
       "\\item 'V8'\n",
       "\\item 'V9'\n",
       "\\item 'V11'\n",
       "\\item 'V12'\n",
       "\\item 'V13'\n",
       "\\item 'V14'\n",
       "\\item 'V15'\n",
       "\\item 'V16'\n",
       "\\item 'V17'\n",
       "\\item 'V18'\n",
       "\\item 'V19'\n",
       "\\item 'V20'\n",
       "\\item 'V21'\n",
       "\\item 'V22'\n",
       "\\item 'V23'\n",
       "\\item 'V24'\n",
       "\\item 'V25'\n",
       "\\item 'V26'\n",
       "\\item 'V27'\n",
       "\\item 'V28'\n",
       "\\item 'V29'\n",
       "\\item 'V30'\n",
       "\\item 'V32'\n",
       "\\item 'V33'\n",
       "\\item 'V34'\n",
       "\\item 'V35'\n",
       "\\item 'V37'\n",
       "\\item 'V38'\n",
       "\\item 'V39'\n",
       "\\item 'V40'\n",
       "\\item 'V41'\n",
       "\\item 'V42'\n",
       "\\item 'V43'\n",
       "\\item 'V44'\n",
       "\\item 'V45'\n",
       "\\item 'V47'\n",
       "\\item 'V49'\n",
       "\\item 'V50'\n",
       "\\item 'V51'\n",
       "\\item 'V53'\n",
       "\\item 'V55'\n",
       "\\item 'V56'\n",
       "\\item 'V57'\n",
       "\\item 'V58'\n",
       "\\item 'V64'\n",
       "\\item 'V67'\n",
       "\\item 'V69'\n",
       "\\item 'V73'\n",
       "\\item 'V75'\n",
       "\\item 'V80'\n",
       "\\item 'V81'\n",
       "\\item 'V82'\n",
       "\\item 'V83'\n",
       "\\item 'V84'\n",
       "\\item 'V86'\n",
       "\\end{enumerate*}\n"
      ],
      "text/markdown": [
       "1. 'V1'\n",
       "2. 'V6'\n",
       "3. 'V7'\n",
       "4. 'V8'\n",
       "5. 'V9'\n",
       "6. 'V11'\n",
       "7. 'V12'\n",
       "8. 'V13'\n",
       "9. 'V14'\n",
       "10. 'V15'\n",
       "11. 'V16'\n",
       "12. 'V17'\n",
       "13. 'V18'\n",
       "14. 'V19'\n",
       "15. 'V20'\n",
       "16. 'V21'\n",
       "17. 'V22'\n",
       "18. 'V23'\n",
       "19. 'V24'\n",
       "20. 'V25'\n",
       "21. 'V26'\n",
       "22. 'V27'\n",
       "23. 'V28'\n",
       "24. 'V29'\n",
       "25. 'V30'\n",
       "26. 'V32'\n",
       "27. 'V33'\n",
       "28. 'V34'\n",
       "29. 'V35'\n",
       "30. 'V37'\n",
       "31. 'V38'\n",
       "32. 'V39'\n",
       "33. 'V40'\n",
       "34. 'V41'\n",
       "35. 'V42'\n",
       "36. 'V43'\n",
       "37. 'V44'\n",
       "38. 'V45'\n",
       "39. 'V47'\n",
       "40. 'V49'\n",
       "41. 'V50'\n",
       "42. 'V51'\n",
       "43. 'V53'\n",
       "44. 'V55'\n",
       "45. 'V56'\n",
       "46. 'V57'\n",
       "47. 'V58'\n",
       "48. 'V64'\n",
       "49. 'V67'\n",
       "50. 'V69'\n",
       "51. 'V73'\n",
       "52. 'V75'\n",
       "53. 'V80'\n",
       "54. 'V81'\n",
       "55. 'V82'\n",
       "56. 'V83'\n",
       "57. 'V84'\n",
       "58. 'V86'\n",
       "\n",
       "\n"
      ],
      "text/plain": [
       " [1] \"V1\"  \"V6\"  \"V7\"  \"V8\"  \"V9\"  \"V11\" \"V12\" \"V13\" \"V14\" \"V15\" \"V16\" \"V17\"\n",
       "[13] \"V18\" \"V19\" \"V20\" \"V21\" \"V22\" \"V23\" \"V24\" \"V25\" \"V26\" \"V27\" \"V28\" \"V29\"\n",
       "[25] \"V30\" \"V32\" \"V33\" \"V34\" \"V35\" \"V37\" \"V38\" \"V39\" \"V40\" \"V41\" \"V42\" \"V43\"\n",
       "[37] \"V44\" \"V45\" \"V47\" \"V49\" \"V50\" \"V51\" \"V53\" \"V55\" \"V56\" \"V57\" \"V58\" \"V64\"\n",
       "[49] \"V67\" \"V69\" \"V73\" \"V75\" \"V80\" \"V81\" \"V82\" \"V83\" \"V84\" \"V86\""
      ]
     },
     "metadata": {},
     "output_type": "display_data"
    }
   ],
   "source": [
    "colnames(train_data_4)"
   ]
  },
  {
   "cell_type": "code",
   "execution_count": null,
   "metadata": {},
   "outputs": [],
   "source": []
  },
  {
   "cell_type": "markdown",
   "metadata": {},
   "source": [
    "## 2.) Model Fitting"
   ]
  },
  {
   "cell_type": "markdown",
   "metadata": {},
   "source": [
    "There will be three pontentials predictors that have been gathered from the previous sections to be fitted to create a model. In addition to that, there will also be a few different methods for feature selection along the way."
   ]
  },
  {
   "cell_type": "markdown",
   "metadata": {},
   "source": [
    "### 2.1) Logistic Regression"
   ]
  },
  {
   "cell_type": "markdown",
   "metadata": {},
   "source": [
    "#### 2.1.1) GLM_1 with Predictors Number 1"
   ]
  },
  {
   "cell_type": "markdown",
   "metadata": {},
   "source": [
    "Before fitting a model using the first potential predictors, it is better to shuffle the data first to avoid the machine to memorize the training data."
   ]
  },
  {
   "cell_type": "code",
   "execution_count": 44,
   "metadata": {},
   "outputs": [],
   "source": [
    "# Shuffle the index of training data\n",
    "set.seed(1234)\n",
    "ix_shuffle <- sample(1:nrow(train_data), nrow(train_data))"
   ]
  },
  {
   "cell_type": "code",
   "execution_count": 45,
   "metadata": {},
   "outputs": [
    {
     "data": {
      "text/html": [
       "<ol class=list-inline>\n",
       "\t<li>5822</li>\n",
       "\t<li>9</li>\n",
       "</ol>\n"
      ],
      "text/latex": [
       "\\begin{enumerate*}\n",
       "\\item 5822\n",
       "\\item 9\n",
       "\\end{enumerate*}\n"
      ],
      "text/markdown": [
       "1. 5822\n",
       "2. 9\n",
       "\n",
       "\n"
      ],
      "text/plain": [
       "[1] 5822    9"
      ]
     },
     "metadata": {},
     "output_type": "display_data"
    },
    {
     "data": {
      "text/html": [
       "<table>\n",
       "<thead><tr><th></th><th scope=col>V1</th><th scope=col>V15</th><th scope=col>V18</th><th scope=col>V30</th><th scope=col>V31</th><th scope=col>V37</th><th scope=col>V43</th><th scope=col>V47</th><th scope=col>V86</th></tr></thead>\n",
       "<tbody>\n",
       "\t<tr><th scope=row>662</th><td> 8</td><td>7 </td><td>2 </td><td>1 </td><td>8 </td><td>1 </td><td>7 </td><td>6 </td><td>1 </td></tr>\n",
       "\t<tr><th scope=row>3623</th><td> 8</td><td>7 </td><td>2 </td><td>1 </td><td>8 </td><td>1 </td><td>7 </td><td>5 </td><td>0 </td></tr>\n",
       "\t<tr><th scope=row>3546</th><td>35</td><td>5 </td><td>5 </td><td>5 </td><td>4 </td><td>0 </td><td>5 </td><td>0 </td><td>0 </td></tr>\n",
       "\t<tr><th scope=row>3628</th><td>41</td><td>6 </td><td>6 </td><td>0 </td><td>9 </td><td>5 </td><td>4 </td><td>0 </td><td>0 </td></tr>\n",
       "\t<tr><th scope=row>5009</th><td>33</td><td>5 </td><td>7 </td><td>2 </td><td>7 </td><td>0 </td><td>3 </td><td>6 </td><td>0 </td></tr>\n",
       "\t<tr><th scope=row>3725</th><td>37</td><td>3 </td><td>2 </td><td>8 </td><td>1 </td><td>1 </td><td>4 </td><td>0 </td><td>0 </td></tr>\n",
       "</tbody>\n",
       "</table>\n"
      ],
      "text/latex": [
       "\\begin{tabular}{r|lllllllll}\n",
       "  & V1 & V15 & V18 & V30 & V31 & V37 & V43 & V47 & V86\\\\\n",
       "\\hline\n",
       "\t662 &  8 & 7  & 2  & 1  & 8  & 1  & 7  & 6  & 1 \\\\\n",
       "\t3623 &  8 & 7  & 2  & 1  & 8  & 1  & 7  & 5  & 0 \\\\\n",
       "\t3546 & 35 & 5  & 5  & 5  & 4  & 0  & 5  & 0  & 0 \\\\\n",
       "\t3628 & 41 & 6  & 6  & 0  & 9  & 5  & 4  & 0  & 0 \\\\\n",
       "\t5009 & 33 & 5  & 7  & 2  & 7  & 0  & 3  & 6  & 0 \\\\\n",
       "\t3725 & 37 & 3  & 2  & 8  & 1  & 1  & 4  & 0  & 0 \\\\\n",
       "\\end{tabular}\n"
      ],
      "text/markdown": [
       "\n",
       "| <!--/--> | V1 | V15 | V18 | V30 | V31 | V37 | V43 | V47 | V86 |\n",
       "|---|---|---|---|---|---|---|---|---|---|\n",
       "| 662 |  8 | 7  | 2  | 1  | 8  | 1  | 7  | 6  | 1  |\n",
       "| 3623 |  8 | 7  | 2  | 1  | 8  | 1  | 7  | 5  | 0  |\n",
       "| 3546 | 35 | 5  | 5  | 5  | 4  | 0  | 5  | 0  | 0  |\n",
       "| 3628 | 41 | 6  | 6  | 0  | 9  | 5  | 4  | 0  | 0  |\n",
       "| 5009 | 33 | 5  | 7  | 2  | 7  | 0  | 3  | 6  | 0  |\n",
       "| 3725 | 37 | 3  | 2  | 8  | 1  | 1  | 4  | 0  | 0  |\n",
       "\n"
      ],
      "text/plain": [
       "     V1 V15 V18 V30 V31 V37 V43 V47 V86\n",
       "662   8 7   2   1   8   1   7   6   1  \n",
       "3623  8 7   2   1   8   1   7   5   0  \n",
       "3546 35 5   5   5   4   0   5   0   0  \n",
       "3628 41 6   6   0   9   5   4   0   0  \n",
       "5009 33 5   7   2   7   0   3   6   0  \n",
       "3725 37 3   2   8   1   1   4   0   0  "
      ]
     },
     "metadata": {},
     "output_type": "display_data"
    }
   ],
   "source": [
    "# Get only the first potential predictors\n",
    "glm_1_data <- data.frame(subset(train_data, select = c(\"V1\", \"V15\", \"V18\", \"V30\", \"V31\", \"V37\", \"V43\", \"V47\", \"V86\")))\n",
    "\n",
    "# Get shuffled index\n",
    "glm_1_data <- glm_1_data[ix_shuffle, ]\n",
    "dim(glm_1_data)\n",
    "head(glm_1_data)"
   ]
  },
  {
   "cell_type": "code",
   "execution_count": 46,
   "metadata": {},
   "outputs": [
    {
     "data": {
      "text/plain": [
       "\n",
       "Call:\n",
       "glm(formula = V86 ~ ., family = binomial(link = \"logit\"), data = glm_1_data)\n",
       "\n",
       "Deviance Residuals: \n",
       "    Min       1Q   Median       3Q      Max  \n",
       "-0.8206  -0.4076  -0.2800  -0.1919   3.1394  \n",
       "\n",
       "Coefficients:\n",
       "              Estimate Std. Error z value Pr(>|z|)    \n",
       "(Intercept)  1.179e+02  2.922e+03   0.040  0.96782    \n",
       "V1           7.969e-04  6.098e-03   0.131  0.89603    \n",
       "V15          7.797e-03  3.179e-02   0.245  0.80623    \n",
       "V18         -1.023e-01  3.227e-02  -3.170  0.00152 ** \n",
       "V30         -1.353e+01  3.247e+02  -0.042  0.96676    \n",
       "V31         -1.348e+01  3.247e+02  -0.042  0.96687    \n",
       "V37         -5.488e-02  3.687e-02  -1.489  0.13659    \n",
       "V43          9.119e-02  4.289e-02   2.126  0.03349 *  \n",
       "V47          2.484e-01  2.343e-02  10.599  < 2e-16 ***\n",
       "---\n",
       "Signif. codes:  0 '***' 0.001 '**' 0.01 '*' 0.05 '.' 0.1 ' ' 1\n",
       "\n",
       "(Dispersion parameter for binomial family taken to be 1)\n",
       "\n",
       "    Null deviance: 2635.5  on 5821  degrees of freedom\n",
       "Residual deviance: 2410.8  on 5813  degrees of freedom\n",
       "AIC: 2428.8\n",
       "\n",
       "Number of Fisher Scoring iterations: 15\n"
      ]
     },
     "metadata": {},
     "output_type": "display_data"
    }
   ],
   "source": [
    "glm_1 <- glm(V86 ~ ., data = glm_1_data, family = binomial(link = \"logit\"))\n",
    "glm_1_summ <- summary(glm_1)\n",
    "glm_1_summ"
   ]
  },
  {
   "cell_type": "code",
   "execution_count": 47,
   "metadata": {},
   "outputs": [
    {
     "data": {
      "text/html": [
       "0.0852893454315712"
      ],
      "text/latex": [
       "0.0852893454315712"
      ],
      "text/markdown": [
       "0.0852893454315712"
      ],
      "text/plain": [
       "[1] 0.08528935"
      ]
     },
     "metadata": {},
     "output_type": "display_data"
    }
   ],
   "source": [
    "# Log likelihood for the null model\n",
    "ll_1_null <- glm_1$null.deviance/-2\n",
    "\n",
    "# Log likelihood for the proposed model\n",
    "ll_1_proposed <- glm_1$deviance/-2\n",
    "\n",
    "r_squared_1 <- (ll_1_null - ll_1_proposed) / ll_1_null\n",
    "r_squared_1"
   ]
  },
  {
   "cell_type": "markdown",
   "metadata": {},
   "source": [
    "From the summary call of glm method using the first set of predictors, it can be summarized that:\n",
    "* The median of the deviance result is close to zero, however the distribution is __not__ symmetrical, that means the residuals are not normally dispersed. In other words, from choosing the first predictors made the model __badly fitted__.\n",
    "* Looking at the estimate coefficients, 4 predictors have positive influence towards the response variable, while the other 4 have negative influences towards the response variable\n",
    "* In the coefficients part, most of the variables do not show significance to the response variable because they have high p-values. If we set the $\\alpha = 0.05$, then the variables that are statistically significance are __V18__, __V43__, and __V47__\n",
    "* The Residual Deviance is lower than the Null Deviance, meaning that the model predicts better with those predictors compared to only having the intercept in the model\n",
    "* The AIC (the adjusted residuals deviance) is __2428.8__ is not meaningful at the moment, but we will compare the AIC with another model. If we fit another model with different predictors and the AIC is lower, this means that the newly created model fits better.\n",
    "\n",
    "After displaying the summary of the fitted model, the $R^2$ was calculated using the log likelihood of null model and log likelihood of the current model. The result shows that the $R^2$ is only 0.085. In the scale of 0 for a bad model, to 1 for a good model, the result indicates that currently it is not a good model. "
   ]
  },
  {
   "cell_type": "code",
   "execution_count": 48,
   "metadata": {
    "scrolled": true
   },
   "outputs": [
    {
     "data": {
      "text/html": [
       "<table>\n",
       "<thead><tr><th></th><th scope=col>Df</th><th scope=col>Deviance</th><th scope=col>Resid. Df</th><th scope=col>Resid. Dev</th><th scope=col>Pr(&gt;Chi)</th></tr></thead>\n",
       "<tbody>\n",
       "\t<tr><th scope=row>NULL</th><td>NA          </td><td>        NA  </td><td>5821        </td><td>2635.540    </td><td>          NA</td></tr>\n",
       "\t<tr><th scope=row>V1</th><td> 1          </td><td> 27.285267  </td><td>5820        </td><td>2608.255    </td><td>1.755439e-07</td></tr>\n",
       "\t<tr><th scope=row>V15</th><td> 1          </td><td>  6.282736  </td><td>5819        </td><td>2601.972    </td><td>1.219197e-02</td></tr>\n",
       "\t<tr><th scope=row>V18</th><td> 1          </td><td> 25.066414  </td><td>5818        </td><td>2576.906    </td><td>5.538923e-07</td></tr>\n",
       "\t<tr><th scope=row>V30</th><td> 1          </td><td> 13.708962  </td><td>5817        </td><td>2563.197    </td><td>2.134336e-04</td></tr>\n",
       "\t<tr><th scope=row>V31</th><td> 1          </td><td>  4.946597  </td><td>5816        </td><td>2558.250    </td><td>2.614207e-02</td></tr>\n",
       "\t<tr><th scope=row>V37</th><td> 1          </td><td>  4.745915  </td><td>5815        </td><td>2553.505    </td><td>2.936792e-02</td></tr>\n",
       "\t<tr><th scope=row>V43</th><td> 1          </td><td>  4.533870  </td><td>5814        </td><td>2548.971    </td><td>3.323040e-02</td></tr>\n",
       "\t<tr><th scope=row>V47</th><td> 1          </td><td>138.213760  </td><td>5813        </td><td>2410.757    </td><td>6.543956e-32</td></tr>\n",
       "</tbody>\n",
       "</table>\n"
      ],
      "text/latex": [
       "\\begin{tabular}{r|lllll}\n",
       "  & Df & Deviance & Resid. Df & Resid. Dev & Pr(>Chi)\\\\\n",
       "\\hline\n",
       "\tNULL & NA           &         NA   & 5821         & 2635.540     &           NA\\\\\n",
       "\tV1 &  1           &  27.285267   & 5820         & 2608.255     & 1.755439e-07\\\\\n",
       "\tV15 &  1           &   6.282736   & 5819         & 2601.972     & 1.219197e-02\\\\\n",
       "\tV18 &  1           &  25.066414   & 5818         & 2576.906     & 5.538923e-07\\\\\n",
       "\tV30 &  1           &  13.708962   & 5817         & 2563.197     & 2.134336e-04\\\\\n",
       "\tV31 &  1           &   4.946597   & 5816         & 2558.250     & 2.614207e-02\\\\\n",
       "\tV37 &  1           &   4.745915   & 5815         & 2553.505     & 2.936792e-02\\\\\n",
       "\tV43 &  1           &   4.533870   & 5814         & 2548.971     & 3.323040e-02\\\\\n",
       "\tV47 &  1           & 138.213760   & 5813         & 2410.757     & 6.543956e-32\\\\\n",
       "\\end{tabular}\n"
      ],
      "text/markdown": [
       "\n",
       "| <!--/--> | Df | Deviance | Resid. Df | Resid. Dev | Pr(>Chi) |\n",
       "|---|---|---|---|---|---|\n",
       "| NULL | NA           |         NA   | 5821         | 2635.540     |           NA |\n",
       "| V1 |  1           |  27.285267   | 5820         | 2608.255     | 1.755439e-07 |\n",
       "| V15 |  1           |   6.282736   | 5819         | 2601.972     | 1.219197e-02 |\n",
       "| V18 |  1           |  25.066414   | 5818         | 2576.906     | 5.538923e-07 |\n",
       "| V30 |  1           |  13.708962   | 5817         | 2563.197     | 2.134336e-04 |\n",
       "| V31 |  1           |   4.946597   | 5816         | 2558.250     | 2.614207e-02 |\n",
       "| V37 |  1           |   4.745915   | 5815         | 2553.505     | 2.936792e-02 |\n",
       "| V43 |  1           |   4.533870   | 5814         | 2548.971     | 3.323040e-02 |\n",
       "| V47 |  1           | 138.213760   | 5813         | 2410.757     | 6.543956e-32 |\n",
       "\n"
      ],
      "text/plain": [
       "     Df Deviance   Resid. Df Resid. Dev Pr(>Chi)    \n",
       "NULL NA         NA 5821      2635.540             NA\n",
       "V1    1  27.285267 5820      2608.255   1.755439e-07\n",
       "V15   1   6.282736 5819      2601.972   1.219197e-02\n",
       "V18   1  25.066414 5818      2576.906   5.538923e-07\n",
       "V30   1  13.708962 5817      2563.197   2.134336e-04\n",
       "V31   1   4.946597 5816      2558.250   2.614207e-02\n",
       "V37   1   4.745915 5815      2553.505   2.936792e-02\n",
       "V43   1   4.533870 5814      2548.971   3.323040e-02\n",
       "V47   1 138.213760 5813      2410.757   6.543956e-32"
      ]
     },
     "metadata": {},
     "output_type": "display_data"
    }
   ],
   "source": [
    "anova(glm_1, test = \"Chisq\")"
   ]
  },
  {
   "cell_type": "code",
   "execution_count": 49,
   "metadata": {},
   "outputs": [
    {
     "data": {
      "text/html": [
       "3.7546868072065e-44"
      ],
      "text/latex": [
       "3.7546868072065e-44"
      ],
      "text/markdown": [
       "3.7546868072065e-44"
      ],
      "text/plain": [
       "[1] 3.754687e-44"
      ]
     },
     "metadata": {},
     "output_type": "display_data"
    }
   ],
   "source": [
    "with(glm_1, pchisq(null.deviance - deviance, df.null - df.residual, lower.tail = FALSE))"
   ]
  },
  {
   "cell_type": "markdown",
   "metadata": {},
   "source": [
    "Analyzing from the *anova()* test, the residual deviance decreases each time adding a variable. From the null model, the residual deviance had a quite big drop after adding V1 in the predictor. After that, adding more variables did not make the residual deviance dropped as big as the first one. Until after adding V47 to the model, the residual deviance steeply dropped over 138 points. This also indicated by the lowest p-value in the model, V47 had made a huge impact on the residual deviance of the model.\n",
    "\n",
    "The one below anova test is a Chisq test to further prove that by having low p-value (where $\\alpha = 0.05$), __the fitted model is better the the null model.__"
   ]
  },
  {
   "cell_type": "markdown",
   "metadata": {},
   "source": [
    "#### 2.1.2) GLM_2 with All Predictors"
   ]
  },
  {
   "cell_type": "markdown",
   "metadata": {},
   "source": [
    "It would be a good baseline to fit a model using all of the predictors. Obviously, it will be prone to overfitting and large variance. Nevertheless, it is worth to try for comparison against the previous model."
   ]
  },
  {
   "cell_type": "code",
   "execution_count": 50,
   "metadata": {
    "scrolled": true
   },
   "outputs": [
    {
     "data": {
      "text/html": [
       "<table>\n",
       "<thead><tr><th></th><th scope=col>V1</th><th scope=col>V2</th><th scope=col>V3</th><th scope=col>V4</th><th scope=col>V5</th><th scope=col>V6</th><th scope=col>V7</th><th scope=col>V8</th><th scope=col>V9</th><th scope=col>V10</th><th scope=col>⋯</th><th scope=col>V77</th><th scope=col>V78</th><th scope=col>V79</th><th scope=col>V80</th><th scope=col>V81</th><th scope=col>V82</th><th scope=col>V83</th><th scope=col>V84</th><th scope=col>V85</th><th scope=col>V86</th></tr></thead>\n",
       "<tbody>\n",
       "\t<tr><th scope=row>662</th><td> 8      </td><td>1       </td><td>3       </td><td>3       </td><td> 2      </td><td>1       </td><td>5       </td><td>1       </td><td>3       </td><td>7       </td><td><U+22EF></td><td>0       </td><td>0       </td><td>0       </td><td>1       </td><td>0       </td><td>0       </td><td>0       </td><td>0       </td><td>0       </td><td>1       </td></tr>\n",
       "\t<tr><th scope=row>3623</th><td> 8      </td><td>1       </td><td>4       </td><td>3       </td><td> 2      </td><td>1       </td><td>5       </td><td>1       </td><td>3       </td><td>7       </td><td><U+22EF></td><td>0       </td><td>0       </td><td>0       </td><td>1       </td><td>0       </td><td>0       </td><td>0       </td><td>0       </td><td>0       </td><td>0       </td></tr>\n",
       "\t<tr><th scope=row>3546</th><td>35      </td><td>1       </td><td>4       </td><td>3       </td><td> 8      </td><td>0       </td><td>4       </td><td>1       </td><td>5       </td><td>6       </td><td><U+22EF></td><td>0       </td><td>0       </td><td>0       </td><td>0       </td><td>0       </td><td>0       </td><td>0       </td><td>0       </td><td>0       </td><td>0       </td></tr>\n",
       "\t<tr><th scope=row>3628</th><td>41      </td><td>1       </td><td>4       </td><td>2       </td><td>10      </td><td>4       </td><td>4       </td><td>0       </td><td>2       </td><td>6       </td><td><U+22EF></td><td>0       </td><td>0       </td><td>0       </td><td>0       </td><td>0       </td><td>0       </td><td>0       </td><td>0       </td><td>0       </td><td>0       </td></tr>\n",
       "\t<tr><th scope=row>5009</th><td>33      </td><td>2       </td><td>3       </td><td>2       </td><td> 8      </td><td>0       </td><td>7       </td><td>0       </td><td>2       </td><td>7       </td><td><U+22EF></td><td>0       </td><td>0       </td><td>0       </td><td>1       </td><td>0       </td><td>0       </td><td>0       </td><td>0       </td><td>0       </td><td>0       </td></tr>\n",
       "\t<tr><th scope=row>3725</th><td>37      </td><td>1       </td><td>2       </td><td>3       </td><td> 8      </td><td>1       </td><td>5       </td><td>3       </td><td>2       </td><td>4       </td><td><U+22EF></td><td>0       </td><td>0       </td><td>0       </td><td>1       </td><td>0       </td><td>0       </td><td>0       </td><td>0       </td><td>0       </td><td>0       </td></tr>\n",
       "</tbody>\n",
       "</table>\n"
      ],
      "text/latex": [
       "\\begin{tabular}{r|llllllllllllllllllllllllllllllllllllllllllllllllllllllllllllllllllllllllllllllllllllll}\n",
       "  & V1 & V2 & V3 & V4 & V5 & V6 & V7 & V8 & V9 & V10 & ⋯ & V77 & V78 & V79 & V80 & V81 & V82 & V83 & V84 & V85 & V86\\\\\n",
       "\\hline\n",
       "\t662 &  8       & 1        & 3        & 3        &  2       & 1        & 5        & 1        & 3        & 7        & <U+22EF> & 0        & 0        & 0        & 1        & 0        & 0        & 0        & 0        & 0        & 1       \\\\\n",
       "\t3623 &  8       & 1        & 4        & 3        &  2       & 1        & 5        & 1        & 3        & 7        & <U+22EF> & 0        & 0        & 0        & 1        & 0        & 0        & 0        & 0        & 0        & 0       \\\\\n",
       "\t3546 & 35       & 1        & 4        & 3        &  8       & 0        & 4        & 1        & 5        & 6        & <U+22EF> & 0        & 0        & 0        & 0        & 0        & 0        & 0        & 0        & 0        & 0       \\\\\n",
       "\t3628 & 41       & 1        & 4        & 2        & 10       & 4        & 4        & 0        & 2        & 6        & <U+22EF> & 0        & 0        & 0        & 0        & 0        & 0        & 0        & 0        & 0        & 0       \\\\\n",
       "\t5009 & 33       & 2        & 3        & 2        &  8       & 0        & 7        & 0        & 2        & 7        & <U+22EF> & 0        & 0        & 0        & 1        & 0        & 0        & 0        & 0        & 0        & 0       \\\\\n",
       "\t3725 & 37       & 1        & 2        & 3        &  8       & 1        & 5        & 3        & 2        & 4        & <U+22EF> & 0        & 0        & 0        & 1        & 0        & 0        & 0        & 0        & 0        & 0       \\\\\n",
       "\\end{tabular}\n"
      ],
      "text/markdown": [
       "\n",
       "| <!--/--> | V1 | V2 | V3 | V4 | V5 | V6 | V7 | V8 | V9 | V10 | ⋯ | V77 | V78 | V79 | V80 | V81 | V82 | V83 | V84 | V85 | V86 |\n",
       "|---|---|---|---|---|---|---|---|---|---|---|---|---|---|---|---|---|---|---|---|---|---|\n",
       "| 662 |  8       | 1        | 3        | 3        |  2       | 1        | 5        | 1        | 3        | 7        | <U+22EF> | 0        | 0        | 0        | 1        | 0        | 0        | 0        | 0        | 0        | 1        |\n",
       "| 3623 |  8       | 1        | 4        | 3        |  2       | 1        | 5        | 1        | 3        | 7        | <U+22EF> | 0        | 0        | 0        | 1        | 0        | 0        | 0        | 0        | 0        | 0        |\n",
       "| 3546 | 35       | 1        | 4        | 3        |  8       | 0        | 4        | 1        | 5        | 6        | <U+22EF> | 0        | 0        | 0        | 0        | 0        | 0        | 0        | 0        | 0        | 0        |\n",
       "| 3628 | 41       | 1        | 4        | 2        | 10       | 4        | 4        | 0        | 2        | 6        | <U+22EF> | 0        | 0        | 0        | 0        | 0        | 0        | 0        | 0        | 0        | 0        |\n",
       "| 5009 | 33       | 2        | 3        | 2        |  8       | 0        | 7        | 0        | 2        | 7        | <U+22EF> | 0        | 0        | 0        | 1        | 0        | 0        | 0        | 0        | 0        | 0        |\n",
       "| 3725 | 37       | 1        | 2        | 3        |  8       | 1        | 5        | 3        | 2        | 4        | <U+22EF> | 0        | 0        | 0        | 1        | 0        | 0        | 0        | 0        | 0        | 0        |\n",
       "\n"
      ],
      "text/plain": [
       "     V1 V2 V3 V4 V5 V6 V7 V8 V9 V10 <U+22EF>        V77 V78 V79 V80 V81 V82 V83 V84\n",
       "662   8 1  3  3   2 1  5  1  3  7   <U+22EF> 0   0   0   1   0   0   0   0  \n",
       "3623  8 1  4  3   2 1  5  1  3  7   <U+22EF> 0   0   0   1   0   0   0   0  \n",
       "3546 35 1  4  3   8 0  4  1  5  6   <U+22EF> 0   0   0   0   0   0   0   0  \n",
       "3628 41 1  4  2  10 4  4  0  2  6   <U+22EF> 0   0   0   0   0   0   0   0  \n",
       "5009 33 2  3  2   8 0  7  0  2  7   <U+22EF> 0   0   0   1   0   0   0   0  \n",
       "3725 37 1  2  3   8 1  5  3  2  4   <U+22EF> 0   0   0   1   0   0   0   0  \n",
       "     V85 V86\n",
       "662  0   1  \n",
       "3623 0   0  \n",
       "3546 0   0  \n",
       "3628 0   0  \n",
       "5009 0   0  \n",
       "3725 0   0  "
      ]
     },
     "metadata": {},
     "output_type": "display_data"
    }
   ],
   "source": [
    "glm_2_data <- train_data[ix_shuffle, ]\n",
    "head(glm_2_data)"
   ]
  },
  {
   "cell_type": "code",
   "execution_count": 51,
   "metadata": {},
   "outputs": [
    {
     "name": "stderr",
     "output_type": "stream",
     "text": [
      "Warning message:\n",
      "\"glm.fit: fitted probabilities numerically 0 or 1 occurred\""
     ]
    }
   ],
   "source": [
    "\n",
    "glm_2 <- glm(V86 ~ ., data = glm_2_data, family = binomial(link = \"logit\"))"
   ]
  },
  {
   "cell_type": "code",
   "execution_count": 52,
   "metadata": {
    "scrolled": true
   },
   "outputs": [
    {
     "data": {
      "text/plain": [
       "\n",
       "Call:\n",
       "glm(formula = V86 ~ ., family = binomial(link = \"logit\"), data = glm_2_data)\n",
       "\n",
       "Deviance Residuals: \n",
       "    Min       1Q   Median       3Q      Max  \n",
       "-1.7047  -0.3711  -0.2450  -0.1588   3.2916  \n",
       "\n",
       "Coefficients:\n",
       "              Estimate Std. Error z value Pr(>|z|)    \n",
       "(Intercept)  2.542e+02  1.116e+04   0.023  0.98183    \n",
       "V1           6.580e-02  4.624e-02   1.423  0.15468    \n",
       "V2          -1.832e-01  1.927e-01  -0.951  0.34157    \n",
       "V3          -2.696e-02  1.399e-01  -0.193  0.84723    \n",
       "V4           2.096e-01  1.016e-01   2.063  0.03911 *  \n",
       "V5          -2.767e-01  2.076e-01  -1.333  0.18247    \n",
       "V6          -1.142e-01  1.069e-01  -1.068  0.28535    \n",
       "V7          -1.910e-02  1.177e-01  -0.162  0.87112    \n",
       "V8          -1.618e-02  1.055e-01  -0.153  0.87818    \n",
       "V9          -6.817e-02  1.113e-01  -0.612  0.54024    \n",
       "V10          2.310e-01  1.566e-01   1.475  0.14031    \n",
       "V11          8.509e-02  1.466e-01   0.580  0.56169    \n",
       "V12          1.467e-01  1.562e-01   0.939  0.34759    \n",
       "V13         -8.291e-02  1.311e-01  -0.633  0.52702    \n",
       "V14         -1.154e-01  1.337e-01  -0.863  0.38813    \n",
       "V15         -8.140e-02  1.417e-01  -0.575  0.56561    \n",
       "V16          9.717e-04  1.311e-01   0.007  0.99408    \n",
       "V17         -9.077e-02  1.365e-01  -0.665  0.50605    \n",
       "V18         -1.994e-01  1.376e-01  -1.449  0.14740    \n",
       "V19          8.883e-02  9.349e-02   0.950  0.34204    \n",
       "V20          3.918e-02  9.897e-02   0.396  0.69219    \n",
       "V21         -1.169e-01  1.104e-01  -1.059  0.28951    \n",
       "V22          1.353e-01  9.191e-02   1.472  0.14106    \n",
       "V23          3.976e-02  9.067e-02   0.438  0.66104    \n",
       "V24          9.954e-02  9.143e-02   1.089  0.27628    \n",
       "V25          2.690e-02  1.035e-01   0.260  0.79502    \n",
       "V26         -8.801e-03  1.011e-01  -0.087  0.93064    \n",
       "V27          1.200e-02  9.081e-02   0.132  0.89485    \n",
       "V28          9.016e-02  9.958e-02   0.905  0.36527    \n",
       "V29         -2.468e-02  9.724e-02  -0.254  0.79967    \n",
       "V30         -1.472e+01  8.140e+02  -0.018  0.98557    \n",
       "V31         -1.469e+01  8.140e+02  -0.018  0.98561    \n",
       "V32          1.819e-01  1.514e-01   1.202  0.22953    \n",
       "V33          1.507e-01  1.371e-01   1.099  0.27162    \n",
       "V34          9.325e-02  1.436e-01   0.649  0.51603    \n",
       "V35         -1.445e+01  9.359e+02  -0.015  0.98768    \n",
       "V36         -1.451e+01  9.359e+02  -0.016  0.98763    \n",
       "V37          1.181e-01  1.006e-01   1.174  0.24039    \n",
       "V38          1.366e-01  9.650e-02   1.415  0.15694    \n",
       "V39          1.009e-01  9.667e-02   1.043  0.29678    \n",
       "V40          1.144e-01  1.027e-01   1.114  0.26513    \n",
       "V41         -1.607e-01  1.449e-01  -1.109  0.26738    \n",
       "V42          9.214e-02  9.945e-02   0.927  0.35417    \n",
       "V43          6.856e-02  4.642e-02   1.477  0.13966    \n",
       "V44          5.954e-01  3.901e-01   1.526  0.12693    \n",
       "V45         -2.757e-01  4.635e-01  -0.595  0.55196    \n",
       "V46         -4.405e-01  1.035e+00  -0.425  0.67052    \n",
       "V47          2.306e-01  4.199e-02   5.491 4.01e-08 ***\n",
       "V48          1.215e+01  4.029e+02   0.030  0.97595    \n",
       "V49         -8.101e-02  1.147e-01  -0.706  0.48006    \n",
       "V50         -2.106e+00  2.557e+03  -0.001  0.99934    \n",
       "V51          1.014e+00  9.371e-01   1.082  0.27917    \n",
       "V52          7.229e-01  4.278e-01   1.690  0.09107 .  \n",
       "V53         -5.525e+00  4.805e+03  -0.001  0.99908    \n",
       "V54          2.170e-01  4.865e-01   0.446  0.65559    \n",
       "V55         -2.382e-01  1.170e-01  -2.036  0.04173 *  \n",
       "V56         -4.523e-01  2.094e+00  -0.216  0.82901    \n",
       "V57          1.444e+00  1.029e+00   1.404  0.16033    \n",
       "V58          8.239e-01  5.943e-01   1.386  0.16565    \n",
       "V59          2.401e-01  7.714e-02   3.113  0.00185 ** \n",
       "V60         -8.658e+00  3.261e+03  -0.003  0.99788    \n",
       "V61         -1.886e-01  3.259e-01  -0.579  0.56289    \n",
       "V62          3.664e-01  8.325e-01   0.440  0.65985    \n",
       "V63         -1.068e+00  8.764e-01  -1.219  0.22301    \n",
       "V64         -1.676e-01  3.321e-01  -0.505  0.61373    \n",
       "V65         -9.293e-01  7.802e-01  -1.191  0.23364    \n",
       "V66          4.197e-01  1.082e+00   0.388  0.69824    \n",
       "V67          2.762e-01  3.528e+00   0.078  0.93758    \n",
       "V68         -3.902e-02  1.772e-01  -0.220  0.82566    \n",
       "V69         -7.298e+01  2.417e+03  -0.030  0.97591    \n",
       "V70          2.418e-01  3.772e-01   0.641  0.52142    \n",
       "V71         -4.490e+00  1.078e+04   0.000  0.99967    \n",
       "V72         -1.351e+00  1.687e+00  -0.801  0.42322    \n",
       "V73         -2.376e+00  1.524e+00  -1.559  0.11899    \n",
       "V74         -8.749e-01  9.682e+03   0.000  0.99993    \n",
       "V75         -1.060e+00  1.549e+00  -0.684  0.49367    \n",
       "V76          4.789e-01  2.245e-01   2.133  0.03291 *  \n",
       "V77          3.997e-01  4.329e+00   0.092  0.92644    \n",
       "V78         -3.163e+00  2.706e+00  -1.169  0.24247    \n",
       "V79         -3.212e+00  3.433e+00  -0.936  0.34939    \n",
       "V80         -4.118e-01  2.787e-01  -1.477  0.13956    \n",
       "V81          1.047e+01  3.261e+03   0.003  0.99744    \n",
       "V82          2.516e+00  1.010e+00   2.490  0.01276 *  \n",
       "V83          2.318e-01  5.699e-01   0.407  0.68420    \n",
       "V84          1.947e+00  1.412e+00   1.378  0.16812    \n",
       "V85          1.078e+00  1.103e+00   0.977  0.32870    \n",
       "---\n",
       "Signif. codes:  0 '***' 0.001 '**' 0.01 '*' 0.05 '.' 0.1 ' ' 1\n",
       "\n",
       "(Dispersion parameter for binomial family taken to be 1)\n",
       "\n",
       "    Null deviance: 2635.5  on 5821  degrees of freedom\n",
       "Residual deviance: 2243.5  on 5736  degrees of freedom\n",
       "AIC: 2415.5\n",
       "\n",
       "Number of Fisher Scoring iterations: 17\n"
      ]
     },
     "metadata": {},
     "output_type": "display_data"
    }
   ],
   "source": [
    "summary(glm_2)"
   ]
  },
  {
   "cell_type": "markdown",
   "metadata": {},
   "source": [
    "Some summary regarding the second model glm_2:\n",
    "* The Deviance Residuals for glm_2 is slightly better than the glm_1. The median of the glm_2 summary is still close to zero, and the distribution is closely to being symmetrical compared to the glm_1 seen by the Min is closer to Max. With that being said, this model is still __not good enough.__\n",
    "* Looking at the p-values, variables that are significant towards the prediction of the response variable are __V4, V47, V55, V59, V76, V82__. <br>While __V18, V43__ are proven to be not significant in this model, unlike in the glm_1 model.\n",
    "* The AIC score of the second model is lower than the first model. In glm_1 the AIC was __2428__, while glm_2 has __2415__. Though decreased, the score does not make a significant drop. We still need to find the AIC score as low as possible.\n",
    "* Lastly, this model takes longer time to converge. 17 iterations compared to previous model with 15 iterations. Thus, glm_2 cost more than glm_1"
   ]
  },
  {
   "cell_type": "code",
   "execution_count": 53,
   "metadata": {},
   "outputs": [
    {
     "data": {
      "text/html": [
       "0.148756903097111"
      ],
      "text/latex": [
       "0.148756903097111"
      ],
      "text/markdown": [
       "0.148756903097111"
      ],
      "text/plain": [
       "[1] 0.1487569"
      ]
     },
     "metadata": {},
     "output_type": "display_data"
    }
   ],
   "source": [
    "# Log likelihood for the null model\n",
    "ll_2_null <- glm_2$null.deviance/-2\n",
    "\n",
    "# Log likelihood for the proposed model\n",
    "ll_2_proposed <- glm_2$deviance/-2\n",
    "\n",
    "r_squared_2 <- (ll_2_null - ll_2_proposed) / ll_2_null\n",
    "r_squared_2"
   ]
  },
  {
   "cell_type": "markdown",
   "metadata": {},
   "source": [
    "Althought the AIC score dropped insignificantly, the $R^2$ for the second model is relatively higher, which almost __doubled__ compared glm_1 model."
   ]
  },
  {
   "cell_type": "code",
   "execution_count": 54,
   "metadata": {
    "scrolled": true
   },
   "outputs": [],
   "source": [
    "options(warn=-1)\n",
    "anova_glm_2 <- anova(glm_2, test = \"Chisq\")"
   ]
  },
  {
   "cell_type": "code",
   "execution_count": 55,
   "metadata": {},
   "outputs": [
    {
     "data": {
      "text/html": [
       "<table>\n",
       "<thead><tr><th></th><th scope=col>Df</th><th scope=col>Deviance</th><th scope=col>Resid. Df</th><th scope=col>Resid. Dev</th><th scope=col>Pr(&gt;Chi)</th></tr></thead>\n",
       "<tbody>\n",
       "\t<tr><th scope=row>NULL</th><td>NA          </td><td>         NA </td><td>5821        </td><td>2635.540    </td><td>          NA</td></tr>\n",
       "\t<tr><th scope=row>V1</th><td> 1          </td><td>27.28526663 </td><td>5820        </td><td>2608.255    </td><td>1.755439e-07</td></tr>\n",
       "\t<tr><th scope=row>V2</th><td> 1          </td><td> 0.91869289 </td><td>5819        </td><td>2607.337    </td><td>3.378184e-01</td></tr>\n",
       "\t<tr><th scope=row>V3</th><td> 1          </td><td> 6.28701676 </td><td>5818        </td><td>2601.049    </td><td>1.216256e-02</td></tr>\n",
       "\t<tr><th scope=row>V4</th><td> 1          </td><td> 1.80788966 </td><td>5817        </td><td>2599.242    </td><td>1.787616e-01</td></tr>\n",
       "\t<tr><th scope=row>V5</th><td> 1          </td><td> 1.96929699 </td><td>5816        </td><td>2597.272    </td><td>1.605225e-01</td></tr>\n",
       "\t<tr><th scope=row>V6</th><td> 1          </td><td> 0.36926636 </td><td>5815        </td><td>2596.903    </td><td>5.434044e-01</td></tr>\n",
       "\t<tr><th scope=row>V7</th><td> 1          </td><td> 7.08551332 </td><td>5814        </td><td>2589.818    </td><td>7.770956e-03</td></tr>\n",
       "\t<tr><th scope=row>V8</th><td> 1          </td><td> 1.82848832 </td><td>5813        </td><td>2587.989    </td><td>1.763062e-01</td></tr>\n",
       "\t<tr><th scope=row>V9</th><td> 1          </td><td> 0.60451334 </td><td>5812        </td><td>2587.385    </td><td>4.368611e-01</td></tr>\n",
       "\t<tr><th scope=row>V10</th><td> 1          </td><td>17.97192772 </td><td>5811        </td><td>2569.413    </td><td>2.241868e-05</td></tr>\n",
       "\t<tr><th scope=row>V11</th><td> 1          </td><td> 0.04184001 </td><td>5810        </td><td>2569.371    </td><td>8.379250e-01</td></tr>\n",
       "\t<tr><th scope=row>V12</th><td> 1          </td><td> 0.12843477 </td><td>5809        </td><td>2569.242    </td><td>7.200605e-01</td></tr>\n",
       "\t<tr><th scope=row>V13</th><td> 1          </td><td> 0.69884317 </td><td>5808        </td><td>2568.543    </td><td>4.031727e-01</td></tr>\n",
       "\t<tr><th scope=row>V14</th><td> 1          </td><td> 1.18807918 </td><td>5807        </td><td>2567.355    </td><td>2.757174e-01</td></tr>\n",
       "\t<tr><th scope=row>V15</th><td> 1          </td><td> 1.02768464 </td><td>5806        </td><td>2566.328    </td><td>3.107031e-01</td></tr>\n",
       "\t<tr><th scope=row>V16</th><td> 1          </td><td>15.26867850 </td><td>5805        </td><td>2551.059    </td><td>9.325001e-05</td></tr>\n",
       "\t<tr><th scope=row>V17</th><td> 1          </td><td> 9.65449633 </td><td>5804        </td><td>2541.405    </td><td>1.888887e-03</td></tr>\n",
       "\t<tr><th scope=row>V18</th><td> 1          </td><td> 0.30442112 </td><td>5803        </td><td>2541.100    </td><td>5.811240e-01</td></tr>\n",
       "\t<tr><th scope=row>V19</th><td> 1          </td><td> 0.03089161 </td><td>5802        </td><td>2541.069    </td><td>8.604824e-01</td></tr>\n",
       "\t<tr><th scope=row>V20</th><td> 1          </td><td> 0.35019239 </td><td>5801        </td><td>2540.719    </td><td>5.540042e-01</td></tr>\n",
       "\t<tr><th scope=row>V21</th><td> 1          </td><td>10.60957019 </td><td>5800        </td><td>2530.109    </td><td>1.125038e-03</td></tr>\n",
       "\t<tr><th scope=row>V22</th><td> 1          </td><td> 2.64269405 </td><td>5799        </td><td>2527.467    </td><td>1.040270e-01</td></tr>\n",
       "\t<tr><th scope=row>V23</th><td> 1          </td><td> 0.37053347 </td><td>5798        </td><td>2527.096    </td><td>5.427136e-01</td></tr>\n",
       "\t<tr><th scope=row>V24</th><td> 1          </td><td> 0.42892023 </td><td>5797        </td><td>2526.667    </td><td>5.125193e-01</td></tr>\n",
       "\t<tr><th scope=row>V25</th><td> 1          </td><td> 0.03083224 </td><td>5796        </td><td>2526.636    </td><td>8.606152e-01</td></tr>\n",
       "\t<tr><th scope=row>V26</th><td> 1          </td><td> 0.69713017 </td><td>5795        </td><td>2525.939    </td><td>4.037497e-01</td></tr>\n",
       "\t<tr><th scope=row>V27</th><td> 1          </td><td> 0.48595722 </td><td>5794        </td><td>2525.453    </td><td>4.857363e-01</td></tr>\n",
       "\t<tr><th scope=row>V28</th><td> 1          </td><td> 3.12803790 </td><td>5793        </td><td>2522.325    </td><td>7.695631e-02</td></tr>\n",
       "\t<tr><th scope=row>V29</th><td> 1          </td><td> 0.63910294 </td><td>5792        </td><td>2521.686    </td><td>4.240358e-01</td></tr>\n",
       "</tbody>\n",
       "</table>\n"
      ],
      "text/latex": [
       "\\begin{tabular}{r|lllll}\n",
       "  & Df & Deviance & Resid. Df & Resid. Dev & Pr(>Chi)\\\\\n",
       "\\hline\n",
       "\tNULL & NA           &          NA  & 5821         & 2635.540     &           NA\\\\\n",
       "\tV1 &  1           & 27.28526663  & 5820         & 2608.255     & 1.755439e-07\\\\\n",
       "\tV2 &  1           &  0.91869289  & 5819         & 2607.337     & 3.378184e-01\\\\\n",
       "\tV3 &  1           &  6.28701676  & 5818         & 2601.049     & 1.216256e-02\\\\\n",
       "\tV4 &  1           &  1.80788966  & 5817         & 2599.242     & 1.787616e-01\\\\\n",
       "\tV5 &  1           &  1.96929699  & 5816         & 2597.272     & 1.605225e-01\\\\\n",
       "\tV6 &  1           &  0.36926636  & 5815         & 2596.903     & 5.434044e-01\\\\\n",
       "\tV7 &  1           &  7.08551332  & 5814         & 2589.818     & 7.770956e-03\\\\\n",
       "\tV8 &  1           &  1.82848832  & 5813         & 2587.989     & 1.763062e-01\\\\\n",
       "\tV9 &  1           &  0.60451334  & 5812         & 2587.385     & 4.368611e-01\\\\\n",
       "\tV10 &  1           & 17.97192772  & 5811         & 2569.413     & 2.241868e-05\\\\\n",
       "\tV11 &  1           &  0.04184001  & 5810         & 2569.371     & 8.379250e-01\\\\\n",
       "\tV12 &  1           &  0.12843477  & 5809         & 2569.242     & 7.200605e-01\\\\\n",
       "\tV13 &  1           &  0.69884317  & 5808         & 2568.543     & 4.031727e-01\\\\\n",
       "\tV14 &  1           &  1.18807918  & 5807         & 2567.355     & 2.757174e-01\\\\\n",
       "\tV15 &  1           &  1.02768464  & 5806         & 2566.328     & 3.107031e-01\\\\\n",
       "\tV16 &  1           & 15.26867850  & 5805         & 2551.059     & 9.325001e-05\\\\\n",
       "\tV17 &  1           &  9.65449633  & 5804         & 2541.405     & 1.888887e-03\\\\\n",
       "\tV18 &  1           &  0.30442112  & 5803         & 2541.100     & 5.811240e-01\\\\\n",
       "\tV19 &  1           &  0.03089161  & 5802         & 2541.069     & 8.604824e-01\\\\\n",
       "\tV20 &  1           &  0.35019239  & 5801         & 2540.719     & 5.540042e-01\\\\\n",
       "\tV21 &  1           & 10.60957019  & 5800         & 2530.109     & 1.125038e-03\\\\\n",
       "\tV22 &  1           &  2.64269405  & 5799         & 2527.467     & 1.040270e-01\\\\\n",
       "\tV23 &  1           &  0.37053347  & 5798         & 2527.096     & 5.427136e-01\\\\\n",
       "\tV24 &  1           &  0.42892023  & 5797         & 2526.667     & 5.125193e-01\\\\\n",
       "\tV25 &  1           &  0.03083224  & 5796         & 2526.636     & 8.606152e-01\\\\\n",
       "\tV26 &  1           &  0.69713017  & 5795         & 2525.939     & 4.037497e-01\\\\\n",
       "\tV27 &  1           &  0.48595722  & 5794         & 2525.453     & 4.857363e-01\\\\\n",
       "\tV28 &  1           &  3.12803790  & 5793         & 2522.325     & 7.695631e-02\\\\\n",
       "\tV29 &  1           &  0.63910294  & 5792         & 2521.686     & 4.240358e-01\\\\\n",
       "\\end{tabular}\n"
      ],
      "text/markdown": [
       "\n",
       "| <!--/--> | Df | Deviance | Resid. Df | Resid. Dev | Pr(>Chi) |\n",
       "|---|---|---|---|---|---|\n",
       "| NULL | NA           |          NA  | 5821         | 2635.540     |           NA |\n",
       "| V1 |  1           | 27.28526663  | 5820         | 2608.255     | 1.755439e-07 |\n",
       "| V2 |  1           |  0.91869289  | 5819         | 2607.337     | 3.378184e-01 |\n",
       "| V3 |  1           |  6.28701676  | 5818         | 2601.049     | 1.216256e-02 |\n",
       "| V4 |  1           |  1.80788966  | 5817         | 2599.242     | 1.787616e-01 |\n",
       "| V5 |  1           |  1.96929699  | 5816         | 2597.272     | 1.605225e-01 |\n",
       "| V6 |  1           |  0.36926636  | 5815         | 2596.903     | 5.434044e-01 |\n",
       "| V7 |  1           |  7.08551332  | 5814         | 2589.818     | 7.770956e-03 |\n",
       "| V8 |  1           |  1.82848832  | 5813         | 2587.989     | 1.763062e-01 |\n",
       "| V9 |  1           |  0.60451334  | 5812         | 2587.385     | 4.368611e-01 |\n",
       "| V10 |  1           | 17.97192772  | 5811         | 2569.413     | 2.241868e-05 |\n",
       "| V11 |  1           |  0.04184001  | 5810         | 2569.371     | 8.379250e-01 |\n",
       "| V12 |  1           |  0.12843477  | 5809         | 2569.242     | 7.200605e-01 |\n",
       "| V13 |  1           |  0.69884317  | 5808         | 2568.543     | 4.031727e-01 |\n",
       "| V14 |  1           |  1.18807918  | 5807         | 2567.355     | 2.757174e-01 |\n",
       "| V15 |  1           |  1.02768464  | 5806         | 2566.328     | 3.107031e-01 |\n",
       "| V16 |  1           | 15.26867850  | 5805         | 2551.059     | 9.325001e-05 |\n",
       "| V17 |  1           |  9.65449633  | 5804         | 2541.405     | 1.888887e-03 |\n",
       "| V18 |  1           |  0.30442112  | 5803         | 2541.100     | 5.811240e-01 |\n",
       "| V19 |  1           |  0.03089161  | 5802         | 2541.069     | 8.604824e-01 |\n",
       "| V20 |  1           |  0.35019239  | 5801         | 2540.719     | 5.540042e-01 |\n",
       "| V21 |  1           | 10.60957019  | 5800         | 2530.109     | 1.125038e-03 |\n",
       "| V22 |  1           |  2.64269405  | 5799         | 2527.467     | 1.040270e-01 |\n",
       "| V23 |  1           |  0.37053347  | 5798         | 2527.096     | 5.427136e-01 |\n",
       "| V24 |  1           |  0.42892023  | 5797         | 2526.667     | 5.125193e-01 |\n",
       "| V25 |  1           |  0.03083224  | 5796         | 2526.636     | 8.606152e-01 |\n",
       "| V26 |  1           |  0.69713017  | 5795         | 2525.939     | 4.037497e-01 |\n",
       "| V27 |  1           |  0.48595722  | 5794         | 2525.453     | 4.857363e-01 |\n",
       "| V28 |  1           |  3.12803790  | 5793         | 2522.325     | 7.695631e-02 |\n",
       "| V29 |  1           |  0.63910294  | 5792         | 2521.686     | 4.240358e-01 |\n",
       "\n"
      ],
      "text/plain": [
       "     Df Deviance    Resid. Df Resid. Dev Pr(>Chi)    \n",
       "NULL NA          NA 5821      2635.540             NA\n",
       "V1    1 27.28526663 5820      2608.255   1.755439e-07\n",
       "V2    1  0.91869289 5819      2607.337   3.378184e-01\n",
       "V3    1  6.28701676 5818      2601.049   1.216256e-02\n",
       "V4    1  1.80788966 5817      2599.242   1.787616e-01\n",
       "V5    1  1.96929699 5816      2597.272   1.605225e-01\n",
       "V6    1  0.36926636 5815      2596.903   5.434044e-01\n",
       "V7    1  7.08551332 5814      2589.818   7.770956e-03\n",
       "V8    1  1.82848832 5813      2587.989   1.763062e-01\n",
       "V9    1  0.60451334 5812      2587.385   4.368611e-01\n",
       "V10   1 17.97192772 5811      2569.413   2.241868e-05\n",
       "V11   1  0.04184001 5810      2569.371   8.379250e-01\n",
       "V12   1  0.12843477 5809      2569.242   7.200605e-01\n",
       "V13   1  0.69884317 5808      2568.543   4.031727e-01\n",
       "V14   1  1.18807918 5807      2567.355   2.757174e-01\n",
       "V15   1  1.02768464 5806      2566.328   3.107031e-01\n",
       "V16   1 15.26867850 5805      2551.059   9.325001e-05\n",
       "V17   1  9.65449633 5804      2541.405   1.888887e-03\n",
       "V18   1  0.30442112 5803      2541.100   5.811240e-01\n",
       "V19   1  0.03089161 5802      2541.069   8.604824e-01\n",
       "V20   1  0.35019239 5801      2540.719   5.540042e-01\n",
       "V21   1 10.60957019 5800      2530.109   1.125038e-03\n",
       "V22   1  2.64269405 5799      2527.467   1.040270e-01\n",
       "V23   1  0.37053347 5798      2527.096   5.427136e-01\n",
       "V24   1  0.42892023 5797      2526.667   5.125193e-01\n",
       "V25   1  0.03083224 5796      2526.636   8.606152e-01\n",
       "V26   1  0.69713017 5795      2525.939   4.037497e-01\n",
       "V27   1  0.48595722 5794      2525.453   4.857363e-01\n",
       "V28   1  3.12803790 5793      2522.325   7.695631e-02\n",
       "V29   1  0.63910294 5792      2521.686   4.240358e-01"
      ]
     },
     "metadata": {},
     "output_type": "display_data"
    },
    {
     "data": {
      "text/html": [
       "<table>\n",
       "<thead><tr><th></th><th scope=col>Df</th><th scope=col>Deviance</th><th scope=col>Resid. Df</th><th scope=col>Resid. Dev</th><th scope=col>Pr(&gt;Chi)</th></tr></thead>\n",
       "<tbody>\n",
       "\t<tr><th scope=row>V30</th><td>1           </td><td>1.023533e+01</td><td>5791        </td><td>2511.451    </td><td>1.377762e-03</td></tr>\n",
       "\t<tr><th scope=row>V31</th><td>1           </td><td>8.194478e+00</td><td>5790        </td><td>2503.256    </td><td>4.201807e-03</td></tr>\n",
       "\t<tr><th scope=row>V32</th><td>1           </td><td>3.704174e+00</td><td>5789        </td><td>2499.552    </td><td>5.427652e-02</td></tr>\n",
       "\t<tr><th scope=row>V33</th><td>1           </td><td>2.313232e+00</td><td>5788        </td><td>2497.239    </td><td>1.282771e-01</td></tr>\n",
       "\t<tr><th scope=row>V34</th><td>1           </td><td>5.238446e-01</td><td>5787        </td><td>2496.715    </td><td>4.692063e-01</td></tr>\n",
       "\t<tr><th scope=row>V35</th><td>1           </td><td>1.893426e+00</td><td>5786        </td><td>2494.822    </td><td>1.688160e-01</td></tr>\n",
       "\t<tr><th scope=row>V36</th><td>1           </td><td>2.990401e+00</td><td>5785        </td><td>2491.831    </td><td>8.375941e-02</td></tr>\n",
       "\t<tr><th scope=row>V37</th><td>1           </td><td>7.224535e-01</td><td>5784        </td><td>2491.109    </td><td>3.953403e-01</td></tr>\n",
       "\t<tr><th scope=row>V38</th><td>1           </td><td>2.910865e-02</td><td>5783        </td><td>2491.080    </td><td>8.645284e-01</td></tr>\n",
       "\t<tr><th scope=row>V39</th><td>1           </td><td>5.251954e-01</td><td>5782        </td><td>2490.555    </td><td>4.686338e-01</td></tr>\n",
       "\t<tr><th scope=row>V40</th><td>1           </td><td>5.640962e+00</td><td>5781        </td><td>2484.914    </td><td>1.754558e-02</td></tr>\n",
       "\t<tr><th scope=row>V41</th><td>1           </td><td>1.209925e+00</td><td>5780        </td><td>2483.704    </td><td>2.713470e-01</td></tr>\n",
       "\t<tr><th scope=row>V42</th><td>1           </td><td>3.519012e+00</td><td>5779        </td><td>2480.185    </td><td>6.066862e-02</td></tr>\n",
       "\t<tr><th scope=row>V43</th><td>1           </td><td>3.520543e+00</td><td>5778        </td><td>2476.664    </td><td>6.061257e-02</td></tr>\n",
       "\t<tr><th scope=row>V44</th><td>1           </td><td>4.493562e+01</td><td>5777        </td><td>2431.729    </td><td>2.036197e-11</td></tr>\n",
       "\t<tr><th scope=row>V45</th><td>1           </td><td>7.521959e-04</td><td>5776        </td><td>2431.728    </td><td>9.781198e-01</td></tr>\n",
       "\t<tr><th scope=row>V46</th><td>1           </td><td>1.879317e-01</td><td>5775        </td><td>2431.540    </td><td>6.646436e-01</td></tr>\n",
       "\t<tr><th scope=row>V47</th><td>1           </td><td>1.089858e+02</td><td>5774        </td><td>2322.554    </td><td>1.634504e-25</td></tr>\n",
       "\t<tr><th scope=row>V48</th><td>1           </td><td>2.725474e-01</td><td>5773        </td><td>2322.281    </td><td>6.016281e-01</td></tr>\n",
       "\t<tr><th scope=row>V49</th><td>1           </td><td>2.471484e-02</td><td>5772        </td><td>2322.257    </td><td>8.750797e-01</td></tr>\n",
       "\t<tr><th scope=row>V50</th><td>1           </td><td>8.863907e-01</td><td>5771        </td><td>2321.370    </td><td>3.464573e-01</td></tr>\n",
       "\t<tr><th scope=row>V51</th><td>1           </td><td>1.229138e+00</td><td>5770        </td><td>2320.141    </td><td>2.675747e-01</td></tr>\n",
       "\t<tr><th scope=row>V52</th><td>1           </td><td>2.901288e-01</td><td>5769        </td><td>2319.851    </td><td>5.901380e-01</td></tr>\n",
       "\t<tr><th scope=row>V53</th><td>1           </td><td>2.572842e+00</td><td>5768        </td><td>2317.278    </td><td>1.087123e-01</td></tr>\n",
       "\t<tr><th scope=row>V54</th><td>1           </td><td>1.649159e+00</td><td>5767        </td><td>2315.629    </td><td>1.990735e-01</td></tr>\n",
       "\t<tr><th scope=row>V55</th><td>1           </td><td>1.287678e-01</td><td>5766        </td><td>2315.500    </td><td>7.197131e-01</td></tr>\n",
       "\t<tr><th scope=row>V56</th><td>1           </td><td>3.056719e-01</td><td>5765        </td><td>2315.195    </td><td>5.803483e-01</td></tr>\n",
       "\t<tr><th scope=row>V57</th><td>1           </td><td>1.690805e+00</td><td>5764        </td><td>2313.504    </td><td>1.934949e-01</td></tr>\n",
       "\t<tr><th scope=row>V58</th><td>1           </td><td>4.804118e+00</td><td>5763        </td><td>2308.700    </td><td>2.839179e-02</td></tr>\n",
       "\t<tr><th scope=row>V59</th><td>1           </td><td>1.123935e+01</td><td>5762        </td><td>2297.460    </td><td>8.008120e-04</td></tr>\n",
       "</tbody>\n",
       "</table>\n"
      ],
      "text/latex": [
       "\\begin{tabular}{r|lllll}\n",
       "  & Df & Deviance & Resid. Df & Resid. Dev & Pr(>Chi)\\\\\n",
       "\\hline\n",
       "\tV30 & 1            & 1.023533e+01 & 5791         & 2511.451     & 1.377762e-03\\\\\n",
       "\tV31 & 1            & 8.194478e+00 & 5790         & 2503.256     & 4.201807e-03\\\\\n",
       "\tV32 & 1            & 3.704174e+00 & 5789         & 2499.552     & 5.427652e-02\\\\\n",
       "\tV33 & 1            & 2.313232e+00 & 5788         & 2497.239     & 1.282771e-01\\\\\n",
       "\tV34 & 1            & 5.238446e-01 & 5787         & 2496.715     & 4.692063e-01\\\\\n",
       "\tV35 & 1            & 1.893426e+00 & 5786         & 2494.822     & 1.688160e-01\\\\\n",
       "\tV36 & 1            & 2.990401e+00 & 5785         & 2491.831     & 8.375941e-02\\\\\n",
       "\tV37 & 1            & 7.224535e-01 & 5784         & 2491.109     & 3.953403e-01\\\\\n",
       "\tV38 & 1            & 2.910865e-02 & 5783         & 2491.080     & 8.645284e-01\\\\\n",
       "\tV39 & 1            & 5.251954e-01 & 5782         & 2490.555     & 4.686338e-01\\\\\n",
       "\tV40 & 1            & 5.640962e+00 & 5781         & 2484.914     & 1.754558e-02\\\\\n",
       "\tV41 & 1            & 1.209925e+00 & 5780         & 2483.704     & 2.713470e-01\\\\\n",
       "\tV42 & 1            & 3.519012e+00 & 5779         & 2480.185     & 6.066862e-02\\\\\n",
       "\tV43 & 1            & 3.520543e+00 & 5778         & 2476.664     & 6.061257e-02\\\\\n",
       "\tV44 & 1            & 4.493562e+01 & 5777         & 2431.729     & 2.036197e-11\\\\\n",
       "\tV45 & 1            & 7.521959e-04 & 5776         & 2431.728     & 9.781198e-01\\\\\n",
       "\tV46 & 1            & 1.879317e-01 & 5775         & 2431.540     & 6.646436e-01\\\\\n",
       "\tV47 & 1            & 1.089858e+02 & 5774         & 2322.554     & 1.634504e-25\\\\\n",
       "\tV48 & 1            & 2.725474e-01 & 5773         & 2322.281     & 6.016281e-01\\\\\n",
       "\tV49 & 1            & 2.471484e-02 & 5772         & 2322.257     & 8.750797e-01\\\\\n",
       "\tV50 & 1            & 8.863907e-01 & 5771         & 2321.370     & 3.464573e-01\\\\\n",
       "\tV51 & 1            & 1.229138e+00 & 5770         & 2320.141     & 2.675747e-01\\\\\n",
       "\tV52 & 1            & 2.901288e-01 & 5769         & 2319.851     & 5.901380e-01\\\\\n",
       "\tV53 & 1            & 2.572842e+00 & 5768         & 2317.278     & 1.087123e-01\\\\\n",
       "\tV54 & 1            & 1.649159e+00 & 5767         & 2315.629     & 1.990735e-01\\\\\n",
       "\tV55 & 1            & 1.287678e-01 & 5766         & 2315.500     & 7.197131e-01\\\\\n",
       "\tV56 & 1            & 3.056719e-01 & 5765         & 2315.195     & 5.803483e-01\\\\\n",
       "\tV57 & 1            & 1.690805e+00 & 5764         & 2313.504     & 1.934949e-01\\\\\n",
       "\tV58 & 1            & 4.804118e+00 & 5763         & 2308.700     & 2.839179e-02\\\\\n",
       "\tV59 & 1            & 1.123935e+01 & 5762         & 2297.460     & 8.008120e-04\\\\\n",
       "\\end{tabular}\n"
      ],
      "text/markdown": [
       "\n",
       "| <!--/--> | Df | Deviance | Resid. Df | Resid. Dev | Pr(>Chi) |\n",
       "|---|---|---|---|---|---|\n",
       "| V30 | 1            | 1.023533e+01 | 5791         | 2511.451     | 1.377762e-03 |\n",
       "| V31 | 1            | 8.194478e+00 | 5790         | 2503.256     | 4.201807e-03 |\n",
       "| V32 | 1            | 3.704174e+00 | 5789         | 2499.552     | 5.427652e-02 |\n",
       "| V33 | 1            | 2.313232e+00 | 5788         | 2497.239     | 1.282771e-01 |\n",
       "| V34 | 1            | 5.238446e-01 | 5787         | 2496.715     | 4.692063e-01 |\n",
       "| V35 | 1            | 1.893426e+00 | 5786         | 2494.822     | 1.688160e-01 |\n",
       "| V36 | 1            | 2.990401e+00 | 5785         | 2491.831     | 8.375941e-02 |\n",
       "| V37 | 1            | 7.224535e-01 | 5784         | 2491.109     | 3.953403e-01 |\n",
       "| V38 | 1            | 2.910865e-02 | 5783         | 2491.080     | 8.645284e-01 |\n",
       "| V39 | 1            | 5.251954e-01 | 5782         | 2490.555     | 4.686338e-01 |\n",
       "| V40 | 1            | 5.640962e+00 | 5781         | 2484.914     | 1.754558e-02 |\n",
       "| V41 | 1            | 1.209925e+00 | 5780         | 2483.704     | 2.713470e-01 |\n",
       "| V42 | 1            | 3.519012e+00 | 5779         | 2480.185     | 6.066862e-02 |\n",
       "| V43 | 1            | 3.520543e+00 | 5778         | 2476.664     | 6.061257e-02 |\n",
       "| V44 | 1            | 4.493562e+01 | 5777         | 2431.729     | 2.036197e-11 |\n",
       "| V45 | 1            | 7.521959e-04 | 5776         | 2431.728     | 9.781198e-01 |\n",
       "| V46 | 1            | 1.879317e-01 | 5775         | 2431.540     | 6.646436e-01 |\n",
       "| V47 | 1            | 1.089858e+02 | 5774         | 2322.554     | 1.634504e-25 |\n",
       "| V48 | 1            | 2.725474e-01 | 5773         | 2322.281     | 6.016281e-01 |\n",
       "| V49 | 1            | 2.471484e-02 | 5772         | 2322.257     | 8.750797e-01 |\n",
       "| V50 | 1            | 8.863907e-01 | 5771         | 2321.370     | 3.464573e-01 |\n",
       "| V51 | 1            | 1.229138e+00 | 5770         | 2320.141     | 2.675747e-01 |\n",
       "| V52 | 1            | 2.901288e-01 | 5769         | 2319.851     | 5.901380e-01 |\n",
       "| V53 | 1            | 2.572842e+00 | 5768         | 2317.278     | 1.087123e-01 |\n",
       "| V54 | 1            | 1.649159e+00 | 5767         | 2315.629     | 1.990735e-01 |\n",
       "| V55 | 1            | 1.287678e-01 | 5766         | 2315.500     | 7.197131e-01 |\n",
       "| V56 | 1            | 3.056719e-01 | 5765         | 2315.195     | 5.803483e-01 |\n",
       "| V57 | 1            | 1.690805e+00 | 5764         | 2313.504     | 1.934949e-01 |\n",
       "| V58 | 1            | 4.804118e+00 | 5763         | 2308.700     | 2.839179e-02 |\n",
       "| V59 | 1            | 1.123935e+01 | 5762         | 2297.460     | 8.008120e-04 |\n",
       "\n"
      ],
      "text/plain": [
       "    Df Deviance     Resid. Df Resid. Dev Pr(>Chi)    \n",
       "V30 1  1.023533e+01 5791      2511.451   1.377762e-03\n",
       "V31 1  8.194478e+00 5790      2503.256   4.201807e-03\n",
       "V32 1  3.704174e+00 5789      2499.552   5.427652e-02\n",
       "V33 1  2.313232e+00 5788      2497.239   1.282771e-01\n",
       "V34 1  5.238446e-01 5787      2496.715   4.692063e-01\n",
       "V35 1  1.893426e+00 5786      2494.822   1.688160e-01\n",
       "V36 1  2.990401e+00 5785      2491.831   8.375941e-02\n",
       "V37 1  7.224535e-01 5784      2491.109   3.953403e-01\n",
       "V38 1  2.910865e-02 5783      2491.080   8.645284e-01\n",
       "V39 1  5.251954e-01 5782      2490.555   4.686338e-01\n",
       "V40 1  5.640962e+00 5781      2484.914   1.754558e-02\n",
       "V41 1  1.209925e+00 5780      2483.704   2.713470e-01\n",
       "V42 1  3.519012e+00 5779      2480.185   6.066862e-02\n",
       "V43 1  3.520543e+00 5778      2476.664   6.061257e-02\n",
       "V44 1  4.493562e+01 5777      2431.729   2.036197e-11\n",
       "V45 1  7.521959e-04 5776      2431.728   9.781198e-01\n",
       "V46 1  1.879317e-01 5775      2431.540   6.646436e-01\n",
       "V47 1  1.089858e+02 5774      2322.554   1.634504e-25\n",
       "V48 1  2.725474e-01 5773      2322.281   6.016281e-01\n",
       "V49 1  2.471484e-02 5772      2322.257   8.750797e-01\n",
       "V50 1  8.863907e-01 5771      2321.370   3.464573e-01\n",
       "V51 1  1.229138e+00 5770      2320.141   2.675747e-01\n",
       "V52 1  2.901288e-01 5769      2319.851   5.901380e-01\n",
       "V53 1  2.572842e+00 5768      2317.278   1.087123e-01\n",
       "V54 1  1.649159e+00 5767      2315.629   1.990735e-01\n",
       "V55 1  1.287678e-01 5766      2315.500   7.197131e-01\n",
       "V56 1  3.056719e-01 5765      2315.195   5.803483e-01\n",
       "V57 1  1.690805e+00 5764      2313.504   1.934949e-01\n",
       "V58 1  4.804118e+00 5763      2308.700   2.839179e-02\n",
       "V59 1  1.123935e+01 5762      2297.460   8.008120e-04"
      ]
     },
     "metadata": {},
     "output_type": "display_data"
    },
    {
     "data": {
      "text/html": [
       "<table>\n",
       "<thead><tr><th></th><th scope=col>Df</th><th scope=col>Deviance</th><th scope=col>Resid. Df</th><th scope=col>Resid. Dev</th><th scope=col>Pr(&gt;Chi)</th></tr></thead>\n",
       "<tbody>\n",
       "\t<tr><th scope=row>V60</th><td>1           </td><td>6.281299e-01</td><td>5761        </td><td>2296.832    </td><td>4.280421e-01</td></tr>\n",
       "\t<tr><th scope=row>V61</th><td>1           </td><td>1.873663e+01</td><td>5760        </td><td>2278.096    </td><td>1.500716e-05</td></tr>\n",
       "\t<tr><th scope=row>V62</th><td>1           </td><td>4.693886e+00</td><td>5759        </td><td>2273.402    </td><td>3.027011e-02</td></tr>\n",
       "\t<tr><th scope=row>V63</th><td>1           </td><td>2.057208e-01</td><td>5758        </td><td>2273.196    </td><td>6.501423e-01</td></tr>\n",
       "\t<tr><th scope=row>V64</th><td>1           </td><td>1.788235e+00</td><td>5757        </td><td>2271.408    </td><td>1.811414e-01</td></tr>\n",
       "\t<tr><th scope=row>V65</th><td>1           </td><td>2.006491e+00</td><td>5756        </td><td>2269.401    </td><td>1.566273e-01</td></tr>\n",
       "\t<tr><th scope=row>V66</th><td>1           </td><td>1.723332e-01</td><td>5755        </td><td>2269.229    </td><td>6.780465e-01</td></tr>\n",
       "\t<tr><th scope=row>V67</th><td>1           </td><td>5.837025e-02</td><td>5754        </td><td>2269.171    </td><td>8.090906e-01</td></tr>\n",
       "\t<tr><th scope=row>V68</th><td>1           </td><td>1.231688e-02</td><td>5753        </td><td>2269.158    </td><td>9.116311e-01</td></tr>\n",
       "\t<tr><th scope=row>V69</th><td>1           </td><td>1.335215e+00</td><td>5752        </td><td>2267.823    </td><td>2.478796e-01</td></tr>\n",
       "\t<tr><th scope=row>V70</th><td>1           </td><td>3.831635e-01</td><td>5751        </td><td>2267.440    </td><td>5.359150e-01</td></tr>\n",
       "\t<tr><th scope=row>V71</th><td>1           </td><td>7.391918e-09</td><td>5750        </td><td>2267.440    </td><td>9.999314e-01</td></tr>\n",
       "\t<tr><th scope=row>V72</th><td>1           </td><td>4.262615e-01</td><td>5749        </td><td>2267.014    </td><td>5.138291e-01</td></tr>\n",
       "\t<tr><th scope=row>V73</th><td>1           </td><td>3.454859e+00</td><td>5748        </td><td>2263.559    </td><td>6.306610e-02</td></tr>\n",
       "\t<tr><th scope=row>V74</th><td>1           </td><td>1.376338e-07</td><td>5747        </td><td>2263.559    </td><td>9.997040e-01</td></tr>\n",
       "\t<tr><th scope=row>V75</th><td>1           </td><td>4.797949e-01</td><td>5746        </td><td>2263.079    </td><td>4.885152e-01</td></tr>\n",
       "\t<tr><th scope=row>V76</th><td>1           </td><td>4.363344e+00</td><td>5745        </td><td>2258.716    </td><td>3.672016e-02</td></tr>\n",
       "\t<tr><th scope=row>V77</th><td>1           </td><td>2.418891e-02</td><td>5744        </td><td>2258.691    </td><td>8.764052e-01</td></tr>\n",
       "\t<tr><th scope=row>V78</th><td>1           </td><td>1.509135e+00</td><td>5743        </td><td>2257.182    </td><td>2.192712e-01</td></tr>\n",
       "\t<tr><th scope=row>V79</th><td>1           </td><td>1.762033e+00</td><td>5742        </td><td>2255.420    </td><td>1.843711e-01</td></tr>\n",
       "\t<tr><th scope=row>V80</th><td>1           </td><td>2.446055e+00</td><td>5741        </td><td>2252.974    </td><td>1.178206e-01</td></tr>\n",
       "\t<tr><th scope=row>V81</th><td>1           </td><td>4.618826e-01</td><td>5740        </td><td>2252.512    </td><td>4.967454e-01</td></tr>\n",
       "\t<tr><th scope=row>V82</th><td>1           </td><td>5.993104e+00</td><td>5739        </td><td>2246.519    </td><td>1.436190e-02</td></tr>\n",
       "\t<tr><th scope=row>V83</th><td>1           </td><td>1.529137e-01</td><td>5738        </td><td>2246.366    </td><td>6.957663e-01</td></tr>\n",
       "\t<tr><th scope=row>V84</th><td>1           </td><td>2.003633e+00</td><td>5737        </td><td>2244.363    </td><td>1.569227e-01</td></tr>\n",
       "\t<tr><th scope=row>V85</th><td>1           </td><td>8.770752e-01</td><td>5736        </td><td>2243.486    </td><td>3.490040e-01</td></tr>\n",
       "</tbody>\n",
       "</table>\n"
      ],
      "text/latex": [
       "\\begin{tabular}{r|lllll}\n",
       "  & Df & Deviance & Resid. Df & Resid. Dev & Pr(>Chi)\\\\\n",
       "\\hline\n",
       "\tV60 & 1            & 6.281299e-01 & 5761         & 2296.832     & 4.280421e-01\\\\\n",
       "\tV61 & 1            & 1.873663e+01 & 5760         & 2278.096     & 1.500716e-05\\\\\n",
       "\tV62 & 1            & 4.693886e+00 & 5759         & 2273.402     & 3.027011e-02\\\\\n",
       "\tV63 & 1            & 2.057208e-01 & 5758         & 2273.196     & 6.501423e-01\\\\\n",
       "\tV64 & 1            & 1.788235e+00 & 5757         & 2271.408     & 1.811414e-01\\\\\n",
       "\tV65 & 1            & 2.006491e+00 & 5756         & 2269.401     & 1.566273e-01\\\\\n",
       "\tV66 & 1            & 1.723332e-01 & 5755         & 2269.229     & 6.780465e-01\\\\\n",
       "\tV67 & 1            & 5.837025e-02 & 5754         & 2269.171     & 8.090906e-01\\\\\n",
       "\tV68 & 1            & 1.231688e-02 & 5753         & 2269.158     & 9.116311e-01\\\\\n",
       "\tV69 & 1            & 1.335215e+00 & 5752         & 2267.823     & 2.478796e-01\\\\\n",
       "\tV70 & 1            & 3.831635e-01 & 5751         & 2267.440     & 5.359150e-01\\\\\n",
       "\tV71 & 1            & 7.391918e-09 & 5750         & 2267.440     & 9.999314e-01\\\\\n",
       "\tV72 & 1            & 4.262615e-01 & 5749         & 2267.014     & 5.138291e-01\\\\\n",
       "\tV73 & 1            & 3.454859e+00 & 5748         & 2263.559     & 6.306610e-02\\\\\n",
       "\tV74 & 1            & 1.376338e-07 & 5747         & 2263.559     & 9.997040e-01\\\\\n",
       "\tV75 & 1            & 4.797949e-01 & 5746         & 2263.079     & 4.885152e-01\\\\\n",
       "\tV76 & 1            & 4.363344e+00 & 5745         & 2258.716     & 3.672016e-02\\\\\n",
       "\tV77 & 1            & 2.418891e-02 & 5744         & 2258.691     & 8.764052e-01\\\\\n",
       "\tV78 & 1            & 1.509135e+00 & 5743         & 2257.182     & 2.192712e-01\\\\\n",
       "\tV79 & 1            & 1.762033e+00 & 5742         & 2255.420     & 1.843711e-01\\\\\n",
       "\tV80 & 1            & 2.446055e+00 & 5741         & 2252.974     & 1.178206e-01\\\\\n",
       "\tV81 & 1            & 4.618826e-01 & 5740         & 2252.512     & 4.967454e-01\\\\\n",
       "\tV82 & 1            & 5.993104e+00 & 5739         & 2246.519     & 1.436190e-02\\\\\n",
       "\tV83 & 1            & 1.529137e-01 & 5738         & 2246.366     & 6.957663e-01\\\\\n",
       "\tV84 & 1            & 2.003633e+00 & 5737         & 2244.363     & 1.569227e-01\\\\\n",
       "\tV85 & 1            & 8.770752e-01 & 5736         & 2243.486     & 3.490040e-01\\\\\n",
       "\\end{tabular}\n"
      ],
      "text/markdown": [
       "\n",
       "| <!--/--> | Df | Deviance | Resid. Df | Resid. Dev | Pr(>Chi) |\n",
       "|---|---|---|---|---|---|\n",
       "| V60 | 1            | 6.281299e-01 | 5761         | 2296.832     | 4.280421e-01 |\n",
       "| V61 | 1            | 1.873663e+01 | 5760         | 2278.096     | 1.500716e-05 |\n",
       "| V62 | 1            | 4.693886e+00 | 5759         | 2273.402     | 3.027011e-02 |\n",
       "| V63 | 1            | 2.057208e-01 | 5758         | 2273.196     | 6.501423e-01 |\n",
       "| V64 | 1            | 1.788235e+00 | 5757         | 2271.408     | 1.811414e-01 |\n",
       "| V65 | 1            | 2.006491e+00 | 5756         | 2269.401     | 1.566273e-01 |\n",
       "| V66 | 1            | 1.723332e-01 | 5755         | 2269.229     | 6.780465e-01 |\n",
       "| V67 | 1            | 5.837025e-02 | 5754         | 2269.171     | 8.090906e-01 |\n",
       "| V68 | 1            | 1.231688e-02 | 5753         | 2269.158     | 9.116311e-01 |\n",
       "| V69 | 1            | 1.335215e+00 | 5752         | 2267.823     | 2.478796e-01 |\n",
       "| V70 | 1            | 3.831635e-01 | 5751         | 2267.440     | 5.359150e-01 |\n",
       "| V71 | 1            | 7.391918e-09 | 5750         | 2267.440     | 9.999314e-01 |\n",
       "| V72 | 1            | 4.262615e-01 | 5749         | 2267.014     | 5.138291e-01 |\n",
       "| V73 | 1            | 3.454859e+00 | 5748         | 2263.559     | 6.306610e-02 |\n",
       "| V74 | 1            | 1.376338e-07 | 5747         | 2263.559     | 9.997040e-01 |\n",
       "| V75 | 1            | 4.797949e-01 | 5746         | 2263.079     | 4.885152e-01 |\n",
       "| V76 | 1            | 4.363344e+00 | 5745         | 2258.716     | 3.672016e-02 |\n",
       "| V77 | 1            | 2.418891e-02 | 5744         | 2258.691     | 8.764052e-01 |\n",
       "| V78 | 1            | 1.509135e+00 | 5743         | 2257.182     | 2.192712e-01 |\n",
       "| V79 | 1            | 1.762033e+00 | 5742         | 2255.420     | 1.843711e-01 |\n",
       "| V80 | 1            | 2.446055e+00 | 5741         | 2252.974     | 1.178206e-01 |\n",
       "| V81 | 1            | 4.618826e-01 | 5740         | 2252.512     | 4.967454e-01 |\n",
       "| V82 | 1            | 5.993104e+00 | 5739         | 2246.519     | 1.436190e-02 |\n",
       "| V83 | 1            | 1.529137e-01 | 5738         | 2246.366     | 6.957663e-01 |\n",
       "| V84 | 1            | 2.003633e+00 | 5737         | 2244.363     | 1.569227e-01 |\n",
       "| V85 | 1            | 8.770752e-01 | 5736         | 2243.486     | 3.490040e-01 |\n",
       "\n"
      ],
      "text/plain": [
       "    Df Deviance     Resid. Df Resid. Dev Pr(>Chi)    \n",
       "V60 1  6.281299e-01 5761      2296.832   4.280421e-01\n",
       "V61 1  1.873663e+01 5760      2278.096   1.500716e-05\n",
       "V62 1  4.693886e+00 5759      2273.402   3.027011e-02\n",
       "V63 1  2.057208e-01 5758      2273.196   6.501423e-01\n",
       "V64 1  1.788235e+00 5757      2271.408   1.811414e-01\n",
       "V65 1  2.006491e+00 5756      2269.401   1.566273e-01\n",
       "V66 1  1.723332e-01 5755      2269.229   6.780465e-01\n",
       "V67 1  5.837025e-02 5754      2269.171   8.090906e-01\n",
       "V68 1  1.231688e-02 5753      2269.158   9.116311e-01\n",
       "V69 1  1.335215e+00 5752      2267.823   2.478796e-01\n",
       "V70 1  3.831635e-01 5751      2267.440   5.359150e-01\n",
       "V71 1  7.391918e-09 5750      2267.440   9.999314e-01\n",
       "V72 1  4.262615e-01 5749      2267.014   5.138291e-01\n",
       "V73 1  3.454859e+00 5748      2263.559   6.306610e-02\n",
       "V74 1  1.376338e-07 5747      2263.559   9.997040e-01\n",
       "V75 1  4.797949e-01 5746      2263.079   4.885152e-01\n",
       "V76 1  4.363344e+00 5745      2258.716   3.672016e-02\n",
       "V77 1  2.418891e-02 5744      2258.691   8.764052e-01\n",
       "V78 1  1.509135e+00 5743      2257.182   2.192712e-01\n",
       "V79 1  1.762033e+00 5742      2255.420   1.843711e-01\n",
       "V80 1  2.446055e+00 5741      2252.974   1.178206e-01\n",
       "V81 1  4.618826e-01 5740      2252.512   4.967454e-01\n",
       "V82 1  5.993104e+00 5739      2246.519   1.436190e-02\n",
       "V83 1  1.529137e-01 5738      2246.366   6.957663e-01\n",
       "V84 1  2.003633e+00 5737      2244.363   1.569227e-01\n",
       "V85 1  8.770752e-01 5736      2243.486   3.490040e-01"
      ]
     },
     "metadata": {},
     "output_type": "display_data"
    }
   ],
   "source": [
    "anova_glm_2[1:30 , ]\n",
    "anova_glm_2[31:60 , ]\n",
    "anova_glm_2[61:nrow(anova_glm_2), ]"
   ]
  },
  {
   "cell_type": "markdown",
   "metadata": {},
   "source": [
    "From the above summary of glm_2, specially in p-value description, it turns out that V4, V55, V59, V76, V82 did not affect much in the anova test above, because the residual deviance barely dropped for each of those variables. That leaves the possible predictor to only having V47. However, only having 1 variable to predict will likely cause underfitting because the model built would be very simple."
   ]
  },
  {
   "cell_type": "code",
   "execution_count": 56,
   "metadata": {},
   "outputs": [
    {
     "data": {
      "text/plain": [
       "\n",
       "Call:  glm(formula = V86 ~ V47, family = binomial(link = \"logit\"), data = glm_2_data)\n",
       "\n",
       "Coefficients:\n",
       "(Intercept)          V47  \n",
       "    -3.7198       0.2501  \n",
       "\n",
       "Degrees of Freedom: 5821 Total (i.e. Null);  5820 Residual\n",
       "Null Deviance:\t    2636 \n",
       "Residual Deviance: 2494 \tAIC: 2498"
      ]
     },
     "metadata": {},
     "output_type": "display_data"
    }
   ],
   "source": [
    "glm(V86 ~ V47, data = glm_2_data, family = binomial(link = \"logit\"))"
   ]
  },
  {
   "cell_type": "markdown",
   "metadata": {},
   "source": [
    "Just out of curiosity, making a model with only having 1 predictor of V47 was performed. And sure enough the AIC score jumped much higher to 2498. This proves that by having only the most correlated variable as the predictor, did not make the model better. And in this case, the model is underfit."
   ]
  },
  {
   "cell_type": "markdown",
   "metadata": {},
   "source": [
    "#### 2.1.3) GLM_3 with Predictors Number 2"
   ]
  },
  {
   "cell_type": "markdown",
   "metadata": {},
   "source": [
    "For a reminder, Predictors Number 2 are the ones that have been found through discarding multicollinearity and keeping those with high correlation against the response variable."
   ]
  },
  {
   "cell_type": "code",
   "execution_count": 57,
   "metadata": {},
   "outputs": [
    {
     "data": {
      "text/html": [
       "<ol class=list-inline>\n",
       "\t<li>5822</li>\n",
       "\t<li>58</li>\n",
       "</ol>\n"
      ],
      "text/latex": [
       "\\begin{enumerate*}\n",
       "\\item 5822\n",
       "\\item 58\n",
       "\\end{enumerate*}\n"
      ],
      "text/markdown": [
       "1. 5822\n",
       "2. 58\n",
       "\n",
       "\n"
      ],
      "text/plain": [
       "[1] 5822   58"
      ]
     },
     "metadata": {},
     "output_type": "display_data"
    },
    {
     "data": {
      "text/html": [
       "<table>\n",
       "<thead><tr><th scope=col>V1</th><th scope=col>V6</th><th scope=col>V7</th><th scope=col>V8</th><th scope=col>V9</th><th scope=col>V11</th><th scope=col>V12</th><th scope=col>V13</th><th scope=col>V14</th><th scope=col>V15</th><th scope=col>⋯</th><th scope=col>V67</th><th scope=col>V69</th><th scope=col>V73</th><th scope=col>V75</th><th scope=col>V80</th><th scope=col>V81</th><th scope=col>V82</th><th scope=col>V83</th><th scope=col>V84</th><th scope=col>V86</th></tr></thead>\n",
       "<tbody>\n",
       "\t<tr><td>33      </td><td>0       </td><td>5       </td><td>1       </td><td>3       </td><td>0       </td><td>2       </td><td>1       </td><td>2       </td><td>6       </td><td><U+22EF></td><td>0       </td><td>0       </td><td>0       </td><td>0       </td><td>1       </td><td>0       </td><td>0       </td><td>0       </td><td>0       </td><td>0       </td></tr>\n",
       "\t<tr><td>37      </td><td>1       </td><td>4       </td><td>1       </td><td>4       </td><td>2       </td><td>2       </td><td>0       </td><td>4       </td><td>5       </td><td><U+22EF></td><td>0       </td><td>0       </td><td>0       </td><td>0       </td><td>1       </td><td>0       </td><td>0       </td><td>0       </td><td>0       </td><td>0       </td></tr>\n",
       "\t<tr><td>37      </td><td>0       </td><td>4       </td><td>2       </td><td>4       </td><td>2       </td><td>4       </td><td>4       </td><td>4       </td><td>2       </td><td><U+22EF></td><td>0       </td><td>0       </td><td>0       </td><td>0       </td><td>1       </td><td>0       </td><td>0       </td><td>0       </td><td>0       </td><td>0       </td></tr>\n",
       "\t<tr><td> 9      </td><td>2       </td><td>3       </td><td>2       </td><td>4       </td><td>2       </td><td>2       </td><td>2       </td><td>3       </td><td>4       </td><td><U+22EF></td><td>0       </td><td>0       </td><td>0       </td><td>0       </td><td>1       </td><td>0       </td><td>0       </td><td>0       </td><td>0       </td><td>0       </td></tr>\n",
       "\t<tr><td>40      </td><td>1       </td><td>4       </td><td>1       </td><td>4       </td><td>1       </td><td>2       </td><td>2       </td><td>4       </td><td>4       </td><td><U+22EF></td><td>0       </td><td>0       </td><td>0       </td><td>0       </td><td>1       </td><td>0       </td><td>0       </td><td>0       </td><td>0       </td><td>0       </td></tr>\n",
       "\t<tr><td>23      </td><td>0       </td><td>5       </td><td>0       </td><td>5       </td><td>6       </td><td>3       </td><td>3       </td><td>5       </td><td>2       </td><td><U+22EF></td><td>0       </td><td>0       </td><td>0       </td><td>0       </td><td>0       </td><td>0       </td><td>0       </td><td>0       </td><td>0       </td><td>0       </td></tr>\n",
       "</tbody>\n",
       "</table>\n"
      ],
      "text/latex": [
       "\\begin{tabular}{r|llllllllllllllllllllllllllllllllllllllllllllllllllllllllll}\n",
       " V1 & V6 & V7 & V8 & V9 & V11 & V12 & V13 & V14 & V15 & ⋯ & V67 & V69 & V73 & V75 & V80 & V81 & V82 & V83 & V84 & V86\\\\\n",
       "\\hline\n",
       "\t 33       & 0        & 5        & 1        & 3        & 0        & 2        & 1        & 2        & 6        & <U+22EF> & 0        & 0        & 0        & 0        & 1        & 0        & 0        & 0        & 0        & 0       \\\\\n",
       "\t 37       & 1        & 4        & 1        & 4        & 2        & 2        & 0        & 4        & 5        & <U+22EF> & 0        & 0        & 0        & 0        & 1        & 0        & 0        & 0        & 0        & 0       \\\\\n",
       "\t 37       & 0        & 4        & 2        & 4        & 2        & 4        & 4        & 4        & 2        & <U+22EF> & 0        & 0        & 0        & 0        & 1        & 0        & 0        & 0        & 0        & 0       \\\\\n",
       "\t  9       & 2        & 3        & 2        & 4        & 2        & 2        & 2        & 3        & 4        & <U+22EF> & 0        & 0        & 0        & 0        & 1        & 0        & 0        & 0        & 0        & 0       \\\\\n",
       "\t 40       & 1        & 4        & 1        & 4        & 1        & 2        & 2        & 4        & 4        & <U+22EF> & 0        & 0        & 0        & 0        & 1        & 0        & 0        & 0        & 0        & 0       \\\\\n",
       "\t 23       & 0        & 5        & 0        & 5        & 6        & 3        & 3        & 5        & 2        & <U+22EF> & 0        & 0        & 0        & 0        & 0        & 0        & 0        & 0        & 0        & 0       \\\\\n",
       "\\end{tabular}\n"
      ],
      "text/markdown": [
       "\n",
       "| V1 | V6 | V7 | V8 | V9 | V11 | V12 | V13 | V14 | V15 | ⋯ | V67 | V69 | V73 | V75 | V80 | V81 | V82 | V83 | V84 | V86 |\n",
       "|---|---|---|---|---|---|---|---|---|---|---|---|---|---|---|---|---|---|---|---|---|\n",
       "| 33       | 0        | 5        | 1        | 3        | 0        | 2        | 1        | 2        | 6        | <U+22EF> | 0        | 0        | 0        | 0        | 1        | 0        | 0        | 0        | 0        | 0        |\n",
       "| 37       | 1        | 4        | 1        | 4        | 2        | 2        | 0        | 4        | 5        | <U+22EF> | 0        | 0        | 0        | 0        | 1        | 0        | 0        | 0        | 0        | 0        |\n",
       "| 37       | 0        | 4        | 2        | 4        | 2        | 4        | 4        | 4        | 2        | <U+22EF> | 0        | 0        | 0        | 0        | 1        | 0        | 0        | 0        | 0        | 0        |\n",
       "|  9       | 2        | 3        | 2        | 4        | 2        | 2        | 2        | 3        | 4        | <U+22EF> | 0        | 0        | 0        | 0        | 1        | 0        | 0        | 0        | 0        | 0        |\n",
       "| 40       | 1        | 4        | 1        | 4        | 1        | 2        | 2        | 4        | 4        | <U+22EF> | 0        | 0        | 0        | 0        | 1        | 0        | 0        | 0        | 0        | 0        |\n",
       "| 23       | 0        | 5        | 0        | 5        | 6        | 3        | 3        | 5        | 2        | <U+22EF> | 0        | 0        | 0        | 0        | 0        | 0        | 0        | 0        | 0        | 0        |\n",
       "\n"
      ],
      "text/plain": [
       "  V1 V6 V7 V8 V9 V11 V12 V13 V14 V15 <U+22EF>        V67 V69 V73 V75 V80 V81 V82 V83\n",
       "1 33 0  5  1  3  0   2   1   2   6   <U+22EF> 0   0   0   0   1   0   0   0  \n",
       "2 37 1  4  1  4  2   2   0   4   5   <U+22EF> 0   0   0   0   1   0   0   0  \n",
       "3 37 0  4  2  4  2   4   4   4   2   <U+22EF> 0   0   0   0   1   0   0   0  \n",
       "4  9 2  3  2  4  2   2   2   3   4   <U+22EF> 0   0   0   0   1   0   0   0  \n",
       "5 40 1  4  1  4  1   2   2   4   4   <U+22EF> 0   0   0   0   1   0   0   0  \n",
       "6 23 0  5  0  5  6   3   3   5   2   <U+22EF> 0   0   0   0   0   0   0   0  \n",
       "  V84 V86\n",
       "1 0   0  \n",
       "2 0   0  \n",
       "3 0   0  \n",
       "4 0   0  \n",
       "5 0   0  \n",
       "6 0   0  "
      ]
     },
     "metadata": {},
     "output_type": "display_data"
    }
   ],
   "source": [
    "glm_3_data <- data.frame(train_data_4)\n",
    "\n",
    "dim(glm_3_data)\n",
    "head(glm_3_data)"
   ]
  },
  {
   "cell_type": "code",
   "execution_count": 58,
   "metadata": {},
   "outputs": [],
   "source": [
    "glm_3 <- glm(V86 ~ . , data = glm_3_data, family = binomial(link = \"logit\"))"
   ]
  },
  {
   "cell_type": "code",
   "execution_count": 59,
   "metadata": {
    "scrolled": true
   },
   "outputs": [
    {
     "data": {
      "text/plain": [
       "\n",
       "Call:\n",
       "glm(formula = V86 ~ ., family = binomial(link = \"logit\"), data = glm_3_data)\n",
       "\n",
       "Deviance Residuals: \n",
       "    Min       1Q   Median       3Q      Max  \n",
       "-1.5620  -0.3790  -0.2534  -0.1698   3.2672  \n",
       "\n",
       "Coefficients:\n",
       "              Estimate Std. Error z value Pr(>|z|)    \n",
       "(Intercept)  -7.098219   2.275315  -3.120  0.00181 ** \n",
       "V1            0.006046   0.006550   0.923  0.35593    \n",
       "V6           -0.093124   0.103851  -0.897  0.36988    \n",
       "V7            0.007842   0.113131   0.069  0.94473    \n",
       "V8            0.028852   0.101666   0.284  0.77657    \n",
       "V9           -0.030251   0.106889  -0.283  0.77717    \n",
       "V11          -0.138906   0.073453  -1.891  0.05861 .  \n",
       "V12          -0.030978   0.060808  -0.509  0.61044    \n",
       "V13          -0.036296   0.126056  -0.288  0.77340    \n",
       "V14          -0.058842   0.129624  -0.454  0.64987    \n",
       "V15          -0.057888   0.132968  -0.435  0.66331    \n",
       "V16           0.002376   0.129933   0.018  0.98541    \n",
       "V17          -0.098610   0.134920  -0.731  0.46485    \n",
       "V18          -0.190268   0.135917  -1.400  0.16155    \n",
       "V19           0.110594   0.090786   1.218  0.22315    \n",
       "V20           0.093670   0.096896   0.967  0.33369    \n",
       "V21          -0.087997   0.107916  -0.815  0.41483    \n",
       "V22           0.156352   0.089582   1.745  0.08092 .  \n",
       "V23           0.056563   0.088538   0.639  0.52292    \n",
       "V24           0.102194   0.088897   1.150  0.25032    \n",
       "V25           0.014805   0.102185   0.145  0.88480    \n",
       "V26          -0.017468   0.098411  -0.178  0.85911    \n",
       "V27           0.010263   0.088735   0.116  0.90793    \n",
       "V28           0.092272   0.097507   0.946  0.34399    \n",
       "V29          -0.007258   0.094310  -0.077  0.93866    \n",
       "V30          -0.047946   0.026345  -1.820  0.06877 .  \n",
       "V32           0.204564   0.148364   1.379  0.16796    \n",
       "V33           0.168063   0.135508   1.240  0.21489    \n",
       "V34           0.127907   0.140495   0.910  0.36261    \n",
       "V35           0.034602   0.042124   0.821  0.41139    \n",
       "V37           0.101221   0.096897   1.045  0.29619    \n",
       "V38           0.114910   0.094294   1.219  0.22298    \n",
       "V39           0.087911   0.094607   0.929  0.35278    \n",
       "V40           0.109200   0.101259   1.078  0.28085    \n",
       "V41          -0.156205   0.140819  -1.109  0.26732    \n",
       "V42           0.095422   0.097848   0.975  0.32946    \n",
       "V43           0.081192   0.045395   1.789  0.07368 .  \n",
       "V44           0.177883   0.075123   2.368  0.01789 *  \n",
       "V45          -0.072803   0.204000  -0.357  0.72119    \n",
       "V47           0.232410   0.024567   9.460  < 2e-16 ***\n",
       "V49          -0.011718   0.062037  -0.189  0.85018    \n",
       "V50          -2.702860 132.156842  -0.020  0.98368    \n",
       "V51           0.297121   0.254295   1.168  0.24264    \n",
       "V53          -4.996301 147.273223  -0.034  0.97294    \n",
       "V55          -0.035182   0.057219  -0.615  0.53865    \n",
       "V56          -0.281524   0.499173  -0.564  0.57277    \n",
       "V57           0.196956   0.196684   1.001  0.31664    \n",
       "V58           0.291995   0.109703   2.662  0.00778 ** \n",
       "V64           0.128623   0.092610   1.389  0.16488    \n",
       "V67          -0.711112   0.699645  -1.016  0.30944    \n",
       "V69          -0.277070   0.761480  -0.364  0.71596    \n",
       "V73          -0.154088   0.401395  -0.384  0.70107    \n",
       "V75          -0.376925   0.366352  -1.029  0.30355    \n",
       "V80           0.243070   0.135235   1.797  0.07227 .  \n",
       "V81           1.426008   1.517050   0.940  0.34722    \n",
       "V82           2.060088   0.389434   5.290 1.22e-07 ***\n",
       "V83           0.466012   0.201863   2.309  0.02097 *  \n",
       "V84           0.053328   0.532381   0.100  0.92021    \n",
       "---\n",
       "Signif. codes:  0 '***' 0.001 '**' 0.01 '*' 0.05 '.' 0.1 ' ' 1\n",
       "\n",
       "(Dispersion parameter for binomial family taken to be 1)\n",
       "\n",
       "    Null deviance: 2635.5  on 5821  degrees of freedom\n",
       "Residual deviance: 2291.9  on 5764  degrees of freedom\n",
       "AIC: 2407.9\n",
       "\n",
       "Number of Fisher Scoring iterations: 15\n"
      ]
     },
     "metadata": {},
     "output_type": "display_data"
    }
   ],
   "source": [
    "summary(glm_3)"
   ]
  },
  {
   "cell_type": "markdown",
   "metadata": {},
   "source": [
    "* From the third model, the summary statistic gives a promising result. There are more variables that have low p-values compared to previous ones. These variables are V44, V47, V58, V82, and V83.\n",
    "* But in more promising way, the AIC score dropped from 2415 in glm_2 to 2407 in glm_3. Compared to glm_2, glm_3 is the best model so far, considering the level complexity is not high because 28 variables have been discarded, while in glm_2 the model used all of the predictors. Thus, this model has reduced the chance of overfitting to happen."
   ]
  },
  {
   "cell_type": "markdown",
   "metadata": {},
   "source": [
    "#### 2.1.4) Improving predictors using feature selection"
   ]
  },
  {
   "cell_type": "markdown",
   "metadata": {},
   "source": [
    "Although the glm_3 model has a promising goodness of fit, however the predictors selected from the previous model need to be further improved. And by using other techniques to select another possible predictors, there might be even better model with lower AIC score. The techniques that will be used are:\n",
    "* Forward step\n",
    "* Backward step\n",
    "* Lasso Regression "
   ]
  },
  {
   "cell_type": "markdown",
   "metadata": {},
   "source": [
    "#### <ol><ol><ol>__FORWARD STEP__</ol></ol></ol>"
   ]
  },
  {
   "cell_type": "code",
   "execution_count": 60,
   "metadata": {},
   "outputs": [],
   "source": [
    "fwd_step_3 <- regsubsets(V86 ~ . , data = glm_3_data, nvmax = ncol(glm_3_data), method = \"forward\")"
   ]
  },
  {
   "cell_type": "code",
   "execution_count": 61,
   "metadata": {},
   "outputs": [],
   "source": [
    "fwd_step_3_summ <- summary(fwd_step_3)"
   ]
  },
  {
   "cell_type": "code",
   "execution_count": 62,
   "metadata": {
    "scrolled": false
   },
   "outputs": [
    {
     "data": {
      "image/png": "[encoded data removed]",
      "text/plain": [
       "Plot with title \"Min Error at 57 Variables\""
      ]
     },
     "metadata": {},
     "output_type": "display_data"
    }
   ],
   "source": [
    "par(mfrow = c(2, 2))\n",
    "plot(fwd_step_3_summ$cp,xlab = \"Num of Variables\", ylab = \"Cp\", type = \"l\", main = paste(\"Min Error at\",which.min(fwd_step_3_summ$cp), \"Variables\"))\n",
    "points(which.min(fwd_step_3_summ$cp), fwd_step_3_summ$cp[which.min(fwd_step_3_summ$cp)], col = \"steelblue\", cex = 2, pch = 20)\n",
    "\n",
    "plot(fwd_step_3_summ$bic,xlab = \"Num of Variables\", ylab = \"BIC\", type = \"l\", main = paste(\"Min Error at\",which.min(fwd_step_3_summ$bic), \"Variables\" ))\n",
    "points(which.min(fwd_step_3_summ$bic), fwd_step_3_summ$bic[which.min(fwd_step_3_summ$bic)], col = \"darkgoldenrod\", cex = 2, pch = 20)\n",
    "\n",
    "plot(fwd_step_3_summ$adjr2,xlab = \"Num of Variables\", ylab = \"Adjusted_R^2\", type = \"l\", main = paste(\"Max AdjR2\",which.max(fwd_step_3_summ$adjr2), \"Variables\"))\n",
    "points(which.max(fwd_step_3_summ$adjr2), fwd_step_3_summ$adjr2[which.max(fwd_step_3_summ$adjr2)], col = \"magenta\", cex = 2, pch = 20)\n",
    "\n",
    "plot(fwd_step_3_summ$rss,xlab = \"Num of Variables\", ylab = \"Residual Sum of Squares\", type = \"l\", main = paste(\"Min Error at\",which.min(fwd_step_3_summ$rss), \"Variables\"))\n",
    "points(which.min(fwd_step_3_summ$rss), fwd_step_3_summ$rss[which.min(fwd_step_3_summ$rss)], col = \"cyan\", cex = 2, pch = 20)"
   ]
  },
  {
   "cell_type": "markdown",
   "metadata": {},
   "source": [
    "After applying a forward step to the data in glm_3 model, there are 4 different suggestions of the possible predictors. By using Mallow Cp as the measure, the lowest error rate is in a model with __20 variables__. This result differs when measuring the error rate using BIC, which presents the model has lower __BIC error at 6 variables__. \n",
    "\n",
    "However, when measured by adjusted $R^2$, the higher $R^2$ means the model fits better, and the highest $R^2$ value is at __27 variables__.\n",
    "\n",
    "On the contrary, when measured by RSS, the lowest value is at __57 variables__, again, this would be the original model before applying forward step function. Thus, the number of predictors based on RSS measurement will be discarded from further analysis."
   ]
  },
  {
   "cell_type": "code",
   "execution_count": null,
   "metadata": {},
   "outputs": [],
   "source": []
  },
  {
   "cell_type": "markdown",
   "metadata": {},
   "source": [
    "#### Fitting logistic regression using 20 variables generated from the least Cp error of forward stepwise "
   ]
  },
  {
   "cell_type": "code",
   "execution_count": 63,
   "metadata": {},
   "outputs": [
    {
     "data": {
      "text/html": [
       "20"
      ],
      "text/latex": [
       "20"
      ],
      "text/markdown": [
       "20"
      ],
      "text/plain": [
       "[1] 20"
      ]
     },
     "metadata": {},
     "output_type": "display_data"
    },
    {
     "data": {
      "text/html": [
       "'V6+V11+V16+V18+V21+V22+V28+V30+V41+V42+V43+V44+V47+V57+V58+V64+V67+V80+V82+V83'"
      ],
      "text/latex": [
       "'V6+V11+V16+V18+V21+V22+V28+V30+V41+V42+V43+V44+V47+V57+V58+V64+V67+V80+V82+V83'"
      ],
      "text/markdown": [
       "'V6+V11+V16+V18+V21+V22+V28+V30+V41+V42+V43+V44+V47+V57+V58+V64+V67+V80+V82+V83'"
      ],
      "text/plain": [
       "[1] \"V6+V11+V16+V18+V21+V22+V28+V30+V41+V42+V43+V44+V47+V57+V58+V64+V67+V80+V82+V83\""
      ]
     },
     "metadata": {},
     "output_type": "display_data"
    }
   ],
   "source": [
    "length(rownames(data.frame(coef(fwd_step_3,20)))[-1])\n",
    "paste(rownames(data.frame(coef(fwd_step_3,20)))[-1], collapse = \"+\")"
   ]
  },
  {
   "cell_type": "code",
   "execution_count": 64,
   "metadata": {},
   "outputs": [],
   "source": [
    "\n",
    "glm_3_fwd_20 <- glm(V86 ~ V6+V11+V16+V18+V21+V22+V28+V30+V41+V42+V43+V44+V47+V57+V58+V64+V67+V80+V82+V83, \n",
    "    data= glm_3_data, \n",
    "    family = binomial(link = \"logit\"))"
   ]
  },
  {
   "cell_type": "code",
   "execution_count": 65,
   "metadata": {
    "scrolled": true
   },
   "outputs": [
    {
     "data": {
      "text/plain": [
       "\n",
       "Call:\n",
       "glm(formula = V86 ~ V6 + V11 + V16 + V18 + V21 + V22 + V28 + \n",
       "    V30 + V41 + V42 + V43 + V44 + V47 + V57 + V58 + V64 + V67 + \n",
       "    V80 + V82 + V83, family = binomial(link = \"logit\"), data = glm_3_data)\n",
       "\n",
       "Deviance Residuals: \n",
       "    Min       1Q   Median       3Q      Max  \n",
       "-1.5664  -0.3776  -0.2575  -0.1766   3.0960  \n",
       "\n",
       "Coefficients:\n",
       "            Estimate Std. Error z value Pr(>|z|)    \n",
       "(Intercept) -4.50037    0.44416 -10.132  < 2e-16 ***\n",
       "V6          -0.08997    0.06105  -1.474   0.1406    \n",
       "V11         -0.13330    0.06657  -2.002   0.0452 *  \n",
       "V16          0.08693    0.04606   1.887   0.0591 .  \n",
       "V18         -0.08864    0.04106  -2.159   0.0309 *  \n",
       "V21         -0.16979    0.08183  -2.075   0.0380 *  \n",
       "V22          0.06382    0.03205   1.991   0.0464 *  \n",
       "V28          0.07607    0.04350   1.749   0.0804 .  \n",
       "V30         -0.05438    0.02260  -2.406   0.0161 *  \n",
       "V41         -0.25301    0.12066  -2.097   0.0360 *  \n",
       "V42          0.11328    0.05470   2.071   0.0384 *  \n",
       "V43          0.05599    0.03578   1.565   0.1177    \n",
       "V44          0.18728    0.07382   2.537   0.0112 *  \n",
       "V47          0.23160    0.02409   9.613  < 2e-16 ***\n",
       "V57          0.18168    0.19102   0.951   0.3415    \n",
       "V58          0.24909    0.10008   2.489   0.0128 *  \n",
       "V64          0.12907    0.09153   1.410   0.1585    \n",
       "V67         -0.81872    0.61305  -1.335   0.1817    \n",
       "V80          0.24400    0.13230   1.844   0.0651 .  \n",
       "V82          2.11335    0.38057   5.553 2.81e-08 ***\n",
       "V83          0.45942    0.20002   2.297   0.0216 *  \n",
       "---\n",
       "Signif. codes:  0 '***' 0.001 '**' 0.01 '*' 0.05 '.' 0.1 ' ' 1\n",
       "\n",
       "(Dispersion parameter for binomial family taken to be 1)\n",
       "\n",
       "    Null deviance: 2635.5  on 5821  degrees of freedom\n",
       "Residual deviance: 2314.1  on 5801  degrees of freedom\n",
       "AIC: 2356.1\n",
       "\n",
       "Number of Fisher Scoring iterations: 6\n"
      ]
     },
     "metadata": {},
     "output_type": "display_data"
    }
   ],
   "source": [
    "summary(glm_3_fwd_20)"
   ]
  },
  {
   "cell_type": "code",
   "execution_count": null,
   "metadata": {},
   "outputs": [],
   "source": []
  },
  {
   "cell_type": "markdown",
   "metadata": {},
   "source": [
    "#### Fitting logistic regression using 6 variables generated from the least *BIC* error of forward stepwise "
   ]
  },
  {
   "cell_type": "code",
   "execution_count": 66,
   "metadata": {
    "scrolled": true
   },
   "outputs": [
    {
     "data": {
      "text/html": [
       "6"
      ],
      "text/latex": [
       "6"
      ],
      "text/markdown": [
       "6"
      ],
      "text/plain": [
       "[1] 6"
      ]
     },
     "metadata": {},
     "output_type": "display_data"
    },
    {
     "data": {
      "text/html": [
       "'V18+V43+V44+V47+V64+V82'"
      ],
      "text/latex": [
       "'V18+V43+V44+V47+V64+V82'"
      ],
      "text/markdown": [
       "'V18+V43+V44+V47+V64+V82'"
      ],
      "text/plain": [
       "[1] \"V18+V43+V44+V47+V64+V82\""
      ]
     },
     "metadata": {},
     "output_type": "display_data"
    }
   ],
   "source": [
    "length(rownames(data.frame(coef(fwd_step_3,6)))[-1])\n",
    "paste(rownames(data.frame(coef(fwd_step_3,6)))[-1], collapse = \"+\")"
   ]
  },
  {
   "cell_type": "code",
   "execution_count": null,
   "metadata": {},
   "outputs": [],
   "source": []
  },
  {
   "cell_type": "code",
   "execution_count": 67,
   "metadata": {},
   "outputs": [],
   "source": [
    "glm_3_fwd_6 <- glm(V86 ~ V18+V43+V44+V47+V64+V82, \n",
    "    data= glm_3_data, \n",
    "    family = binomial(link = \"logit\"))"
   ]
  },
  {
   "cell_type": "code",
   "execution_count": 68,
   "metadata": {
    "scrolled": true
   },
   "outputs": [
    {
     "data": {
      "text/plain": [
       "\n",
       "Call:\n",
       "glm(formula = V86 ~ V18 + V43 + V44 + V47 + V64 + V82, family = binomial(link = \"logit\"), \n",
       "    data = glm_3_data)\n",
       "\n",
       "Deviance Residuals: \n",
       "    Min       1Q   Median       3Q      Max  \n",
       "-1.4754  -0.3886  -0.2708  -0.1870   3.1059  \n",
       "\n",
       "Coefficients:\n",
       "            Estimate Std. Error z value Pr(>|z|)    \n",
       "(Intercept) -4.11397    0.26521 -15.512  < 2e-16 ***\n",
       "V18         -0.10378    0.02852  -3.639 0.000273 ***\n",
       "V43          0.12905    0.03200   4.033 5.50e-05 ***\n",
       "V44          0.29248    0.05857   4.994 5.92e-07 ***\n",
       "V47          0.22889    0.02383   9.606  < 2e-16 ***\n",
       "V64          0.16582    0.08812   1.882 0.059867 .  \n",
       "V82          2.04798    0.36998   5.535 3.11e-08 ***\n",
       "---\n",
       "Signif. codes:  0 '***' 0.001 '**' 0.01 '*' 0.05 '.' 0.1 ' ' 1\n",
       "\n",
       "(Dispersion parameter for binomial family taken to be 1)\n",
       "\n",
       "    Null deviance: 2635.5  on 5821  degrees of freedom\n",
       "Residual deviance: 2372.2  on 5815  degrees of freedom\n",
       "AIC: 2386.2\n",
       "\n",
       "Number of Fisher Scoring iterations: 6\n"
      ]
     },
     "metadata": {},
     "output_type": "display_data"
    }
   ],
   "source": [
    "summary(glm_3_fwd_6)"
   ]
  },
  {
   "cell_type": "code",
   "execution_count": null,
   "metadata": {},
   "outputs": [],
   "source": []
  },
  {
   "cell_type": "markdown",
   "metadata": {},
   "source": [
    "#### Fitting logistic regression using 27 variables generated from the max *Adjusted $R^2$* of forward stepwise "
   ]
  },
  {
   "cell_type": "code",
   "execution_count": 69,
   "metadata": {
    "scrolled": true
   },
   "outputs": [
    {
     "data": {
      "text/html": [
       "27"
      ],
      "text/latex": [
       "27"
      ],
      "text/markdown": [
       "27"
      ],
      "text/plain": [
       "[1] 27"
      ]
     },
     "metadata": {},
     "output_type": "display_data"
    },
    {
     "data": {
      "text/html": [
       "'V6+V9+V11+V16+V18+V21+V22+V28+V30+V32+V33+V34+V40+V41+V42+V43+V44+V47+V53+V57+V58+V64+V67+V80+V81+V82+V83'"
      ],
      "text/latex": [
       "'V6+V9+V11+V16+V18+V21+V22+V28+V30+V32+V33+V34+V40+V41+V42+V43+V44+V47+V53+V57+V58+V64+V67+V80+V81+V82+V83'"
      ],
      "text/markdown": [
       "'V6+V9+V11+V16+V18+V21+V22+V28+V30+V32+V33+V34+V40+V41+V42+V43+V44+V47+V53+V57+V58+V64+V67+V80+V81+V82+V83'"
      ],
      "text/plain": [
       "[1] \"V6+V9+V11+V16+V18+V21+V22+V28+V30+V32+V33+V34+V40+V41+V42+V43+V44+V47+V53+V57+V58+V64+V67+V80+V81+V82+V83\""
      ]
     },
     "metadata": {},
     "output_type": "display_data"
    }
   ],
   "source": [
    "length(rownames(data.frame(coef(fwd_step_3,27)))[-1])\n",
    "paste(rownames(data.frame(coef(fwd_step_3,27)))[-1], collapse = \"+\")"
   ]
  },
  {
   "cell_type": "code",
   "execution_count": 70,
   "metadata": {},
   "outputs": [],
   "source": [
    "glm_3_fwd_27 <- glm(V86 ~ V6+V9+V11+V16+V18+V21+V22+V28+V30+V32+V33+V34+V40+V41+V42+V43+V44+V47+V53+V57+V58+V64+V67+V80+V81+V82+V83, \n",
    "    data= glm_3_data, \n",
    "    family = binomial(link = \"logit\"))"
   ]
  },
  {
   "cell_type": "code",
   "execution_count": 71,
   "metadata": {
    "scrolled": true
   },
   "outputs": [
    {
     "data": {
      "text/plain": [
       "\n",
       "Call:\n",
       "glm(formula = V86 ~ V6 + V9 + V11 + V16 + V18 + V21 + V22 + V28 + \n",
       "    V30 + V32 + V33 + V34 + V40 + V41 + V42 + V43 + V44 + V47 + \n",
       "    V53 + V57 + V58 + V64 + V67 + V80 + V81 + V82 + V83, family = binomial(link = \"logit\"), \n",
       "    data = glm_3_data)\n",
       "\n",
       "Deviance Residuals: \n",
       "    Min       1Q   Median       3Q      Max  \n",
       "-1.5659  -0.3794  -0.2566  -0.1725   3.1626  \n",
       "\n",
       "Coefficients:\n",
       "             Estimate Std. Error z value Pr(>|z|)    \n",
       "(Intercept)  -6.54729    1.33695  -4.897 9.72e-07 ***\n",
       "V6           -0.10037    0.06187  -1.622  0.10472    \n",
       "V9           -0.05218    0.03661  -1.425  0.15405    \n",
       "V11          -0.12712    0.06850  -1.856  0.06350 .  \n",
       "V16           0.08508    0.04668   1.823  0.06834 .  \n",
       "V18          -0.08998    0.04162  -2.162  0.03064 *  \n",
       "V21          -0.15370    0.08296  -1.853  0.06392 .  \n",
       "V22           0.06195    0.03273   1.893  0.05834 .  \n",
       "V28           0.07934    0.04421   1.794  0.07274 .  \n",
       "V30          -0.04411    0.02393  -1.843  0.06527 .  \n",
       "V32           0.27035    0.14121   1.915  0.05555 .  \n",
       "V33           0.22330    0.12989   1.719  0.08558 .  \n",
       "V34           0.18491    0.13019   1.420  0.15551    \n",
       "V40           0.04571    0.06094   0.750  0.45321    \n",
       "V41          -0.18819    0.12174  -1.546  0.12213    \n",
       "V42           0.06761    0.07060   0.958  0.33826    \n",
       "V43           0.05309    0.03662   1.450  0.14709    \n",
       "V44           0.18335    0.07407   2.475  0.01331 *  \n",
       "V47           0.23389    0.02426   9.643  < 2e-16 ***\n",
       "V53          -5.00298  152.67563  -0.033  0.97386    \n",
       "V57           0.16585    0.19193   0.864  0.38753    \n",
       "V58           0.26725    0.10060   2.657  0.00789 ** \n",
       "V64           0.13009    0.09180   1.417  0.15648    \n",
       "V67          -0.77462    0.61324  -1.263  0.20653    \n",
       "V80           0.24294    0.13263   1.832  0.06700 .  \n",
       "V81           1.56131    1.37318   1.137  0.25554    \n",
       "V82           2.08076    0.38457   5.411 6.28e-08 ***\n",
       "V83           0.46782    0.20070   2.331  0.01976 *  \n",
       "---\n",
       "Signif. codes:  0 '***' 0.001 '**' 0.01 '*' 0.05 '.' 0.1 ' ' 1\n",
       "\n",
       "(Dispersion parameter for binomial family taken to be 1)\n",
       "\n",
       "    Null deviance: 2635.5  on 5821  degrees of freedom\n",
       "Residual deviance: 2303.8  on 5794  degrees of freedom\n",
       "AIC: 2359.8\n",
       "\n",
       "Number of Fisher Scoring iterations: 15\n"
      ]
     },
     "metadata": {},
     "output_type": "display_data"
    }
   ],
   "source": [
    "summary(glm_3_fwd_27)"
   ]
  },
  {
   "cell_type": "markdown",
   "metadata": {},
   "source": [
    "Using the forward step method for feature selection then comparing the goodness of fit between the __20 variables model__, __27 variables model__, and __6 variables model__, the AIC score of the first model is lower than the second model with the lower score being __2356__. <h3>Thus, a model with 20 predictors is the best to make the prediction so far.</h3>"
   ]
  },
  {
   "cell_type": "markdown",
   "metadata": {},
   "source": []
  },
  {
   "cell_type": "markdown",
   "metadata": {},
   "source": [
    "#### <ol><ol><ol>__BACKWARD STEP__</ol></ol></ol>"
   ]
  },
  {
   "cell_type": "code",
   "execution_count": 72,
   "metadata": {},
   "outputs": [],
   "source": [
    "bckw_step_3 <- regsubsets(V86 ~ . , data = glm_3_data, nvmax = ncol(glm_3_data), method = \"backward\")"
   ]
  },
  {
   "cell_type": "code",
   "execution_count": 73,
   "metadata": {},
   "outputs": [],
   "source": [
    "bckw_step_3_summ <- summary(bckw_step_3)"
   ]
  },
  {
   "cell_type": "code",
   "execution_count": 74,
   "metadata": {
    "scrolled": true
   },
   "outputs": [
    {
     "data": {
      "text/plain": [
       "Subset selection object\n",
       "Call: regsubsets.formula(V86 ~ ., data = glm_3_data, nvmax = ncol(glm_3_data), \n",
       "    method = \"backward\")\n",
       "57 Variables  (and intercept)\n",
       "    Forced in Forced out\n",
       "V1      FALSE      FALSE\n",
       "V6      FALSE      FALSE\n",
       "V7      FALSE      FALSE\n",
       "V8      FALSE      FALSE\n",
       "V9      FALSE      FALSE\n",
       "V11     FALSE      FALSE\n",
       "V12     FALSE      FALSE\n",
       "V13     FALSE      FALSE\n",
       "V14     FALSE      FALSE\n",
       "V15     FALSE      FALSE\n",
       "V16     FALSE      FALSE\n",
       "V17     FALSE      FALSE\n",
       "V18     FALSE      FALSE\n",
       "V19     FALSE      FALSE\n",
       "V20     FALSE      FALSE\n",
       "V21     FALSE      FALSE\n",
       "V22     FALSE      FALSE\n",
       "V23     FALSE      FALSE\n",
       "V24     FALSE      FALSE\n",
       "V25     FALSE      FALSE\n",
       "V26     FALSE      FALSE\n",
       "V27     FALSE      FALSE\n",
       "V28     FALSE      FALSE\n",
       "V29     FALSE      FALSE\n",
       "V30     FALSE      FALSE\n",
       "V32     FALSE      FALSE\n",
       "V33     FALSE      FALSE\n",
       "V34     FALSE      FALSE\n",
       "V35     FALSE      FALSE\n",
       "V37     FALSE      FALSE\n",
       "V38     FALSE      FALSE\n",
       "V39     FALSE      FALSE\n",
       "V40     FALSE      FALSE\n",
       "V41     FALSE      FALSE\n",
       "V42     FALSE      FALSE\n",
       "V43     FALSE      FALSE\n",
       "V44     FALSE      FALSE\n",
       "V45     FALSE      FALSE\n",
       "V47     FALSE      FALSE\n",
       "V49     FALSE      FALSE\n",
       "V50     FALSE      FALSE\n",
       "V51     FALSE      FALSE\n",
       "V53     FALSE      FALSE\n",
       "V55     FALSE      FALSE\n",
       "V56     FALSE      FALSE\n",
       "V57     FALSE      FALSE\n",
       "V58     FALSE      FALSE\n",
       "V64     FALSE      FALSE\n",
       "V67     FALSE      FALSE\n",
       "V69     FALSE      FALSE\n",
       "V73     FALSE      FALSE\n",
       "V75     FALSE      FALSE\n",
       "V80     FALSE      FALSE\n",
       "V81     FALSE      FALSE\n",
       "V82     FALSE      FALSE\n",
       "V83     FALSE      FALSE\n",
       "V84     FALSE      FALSE\n",
       "1 subsets of each size up to 57\n",
       "Selection Algorithm: backward\n",
       "          V1  V6  V7  V8  V9  V11 V12 V13 V14 V15 V16 V17 V18 V19 V20 V21 V22\n",
       "1  ( 1 )  \" \" \" \" \" \" \" \" \" \" \" \" \" \" \" \" \" \" \" \" \" \" \" \" \" \" \" \" \" \" \" \" \" \"\n",
       "2  ( 1 )  \" \" \" \" \" \" \" \" \" \" \" \" \" \" \" \" \" \" \" \" \" \" \" \" \" \" \" \" \" \" \" \" \" \"\n",
       "3  ( 1 )  \" \" \" \" \" \" \" \" \" \" \" \" \" \" \" \" \" \" \" \" \" \" \" \" \"*\" \" \" \" \" \" \" \" \"\n",
       "4  ( 1 )  \" \" \" \" \" \" \" \" \" \" \" \" \" \" \" \" \" \" \" \" \" \" \" \" \"*\" \" \" \" \" \" \" \" \"\n",
       "5  ( 1 )  \" \" \" \" \" \" \" \" \" \" \" \" \" \" \" \" \" \" \" \" \" \" \" \" \"*\" \" \" \" \" \" \" \" \"\n",
       "6  ( 1 )  \" \" \" \" \" \" \" \" \" \" \" \" \" \" \" \" \" \" \" \" \" \" \" \" \"*\" \" \" \" \" \"*\" \" \"\n",
       "7  ( 1 )  \" \" \" \" \" \" \" \" \" \" \" \" \" \" \" \" \" \" \" \" \" \" \" \" \"*\" \" \" \" \" \"*\" \" \"\n",
       "8  ( 1 )  \" \" \" \" \" \" \" \" \" \" \" \" \" \" \" \" \" \" \" \" \" \" \" \" \"*\" \" \" \" \" \"*\" \" \"\n",
       "9  ( 1 )  \" \" \" \" \" \" \" \" \" \" \" \" \" \" \" \" \" \" \" \" \" \" \" \" \"*\" \" \" \" \" \"*\" \" \"\n",
       "10  ( 1 ) \" \" \" \" \" \" \" \" \" \" \" \" \" \" \" \" \" \" \" \" \" \" \" \" \"*\" \" \" \" \" \"*\" \" \"\n",
       "11  ( 1 ) \" \" \" \" \" \" \" \" \" \" \" \" \" \" \" \" \" \" \" \" \" \" \" \" \"*\" \" \" \" \" \"*\" \" \"\n",
       "12  ( 1 ) \" \" \" \" \" \" \" \" \" \" \"*\" \" \" \" \" \" \" \" \" \" \" \" \" \"*\" \" \" \" \" \"*\" \" \"\n",
       "13  ( 1 ) \" \" \" \" \" \" \" \" \" \" \"*\" \" \" \" \" \" \" \" \" \" \" \" \" \"*\" \" \" \" \" \"*\" \" \"\n",
       "14  ( 1 ) \" \" \" \" \" \" \" \" \" \" \"*\" \" \" \" \" \" \" \" \" \" \" \" \" \"*\" \" \" \" \" \"*\" \" \"\n",
       "15  ( 1 ) \" \" \" \" \" \" \" \" \" \" \"*\" \" \" \" \" \" \" \" \" \" \" \"*\" \"*\" \" \" \" \" \"*\" \" \"\n",
       "16  ( 1 ) \" \" \" \" \" \" \" \" \" \" \"*\" \" \" \" \" \" \" \" \" \" \" \"*\" \"*\" \" \" \" \" \"*\" \" \"\n",
       "17  ( 1 ) \" \" \" \" \" \" \" \" \" \" \"*\" \" \" \" \" \" \" \" \" \" \" \"*\" \"*\" \" \" \" \" \"*\" \"*\"\n",
       "18  ( 1 ) \" \" \" \" \" \" \" \" \" \" \"*\" \" \" \" \" \" \" \" \" \" \" \"*\" \"*\" \" \" \" \" \"*\" \"*\"\n",
       "19  ( 1 ) \" \" \" \" \" \" \" \" \" \" \"*\" \" \" \" \" \" \" \" \" \" \" \"*\" \"*\" \" \" \" \" \"*\" \"*\"\n",
       "20  ( 1 ) \" \" \"*\" \" \" \" \" \" \" \"*\" \" \" \" \" \" \" \" \" \" \" \"*\" \"*\" \" \" \" \" \"*\" \"*\"\n",
       "21  ( 1 ) \" \" \"*\" \" \" \" \" \"*\" \"*\" \" \" \" \" \" \" \" \" \" \" \"*\" \"*\" \" \" \" \" \"*\" \"*\"\n",
       "22  ( 1 ) \" \" \"*\" \" \" \" \" \"*\" \"*\" \" \" \" \" \" \" \" \" \" \" \"*\" \"*\" \" \" \" \" \"*\" \"*\"\n",
       "23  ( 1 ) \" \" \"*\" \" \" \" \" \"*\" \"*\" \" \" \" \" \" \" \" \" \" \" \"*\" \"*\" \" \" \" \" \"*\" \"*\"\n",
       "24  ( 1 ) \" \" \"*\" \" \" \" \" \"*\" \"*\" \" \" \" \" \" \" \" \" \" \" \"*\" \"*\" \" \" \" \" \"*\" \"*\"\n",
       "25  ( 1 ) \" \" \"*\" \" \" \" \" \"*\" \"*\" \" \" \" \" \" \" \" \" \" \" \"*\" \"*\" \" \" \" \" \"*\" \"*\"\n",
       "26  ( 1 ) \" \" \"*\" \" \" \" \" \"*\" \"*\" \" \" \" \" \" \" \" \" \" \" \"*\" \"*\" \" \" \" \" \"*\" \"*\"\n",
       "27  ( 1 ) \" \" \"*\" \" \" \" \" \"*\" \"*\" \" \" \" \" \" \" \" \" \" \" \"*\" \"*\" \" \" \" \" \"*\" \"*\"\n",
       "28  ( 1 ) \" \" \"*\" \" \" \" \" \"*\" \"*\" \" \" \" \" \" \" \" \" \" \" \"*\" \"*\" \" \" \" \" \"*\" \"*\"\n",
       "29  ( 1 ) \" \" \"*\" \" \" \" \" \"*\" \"*\" \" \" \" \" \" \" \" \" \" \" \"*\" \"*\" \" \" \" \" \"*\" \"*\"\n",
       "30  ( 1 ) \" \" \"*\" \" \" \" \" \"*\" \"*\" \" \" \" \" \" \" \" \" \" \" \"*\" \"*\" \" \" \" \" \"*\" \"*\"\n",
       "31  ( 1 ) \" \" \"*\" \" \" \" \" \"*\" \"*\" \" \" \" \" \" \" \" \" \" \" \"*\" \"*\" \" \" \" \" \"*\" \"*\"\n",
       "32  ( 1 ) \" \" \"*\" \" \" \" \" \"*\" \"*\" \" \" \" \" \" \" \" \" \" \" \"*\" \"*\" \" \" \" \" \"*\" \"*\"\n",
       "33  ( 1 ) \" \" \"*\" \" \" \" \" \"*\" \"*\" \" \" \" \" \" \" \" \" \" \" \"*\" \"*\" \" \" \" \" \"*\" \"*\"\n",
       "34  ( 1 ) \" \" \"*\" \" \" \" \" \"*\" \"*\" \" \" \" \" \" \" \" \" \" \" \"*\" \"*\" \" \" \" \" \"*\" \"*\"\n",
       "35  ( 1 ) \" \" \"*\" \" \" \" \" \"*\" \"*\" \" \" \" \" \" \" \" \" \" \" \"*\" \"*\" \"*\" \" \" \"*\" \"*\"\n",
       "36  ( 1 ) \" \" \"*\" \" \" \" \" \"*\" \"*\" \" \" \" \" \" \" \" \" \" \" \"*\" \"*\" \"*\" \" \" \"*\" \"*\"\n",
       "37  ( 1 ) \" \" \"*\" \" \" \" \" \"*\" \"*\" \" \" \" \" \" \" \" \" \" \" \"*\" \"*\" \"*\" \" \" \"*\" \"*\"\n",
       "38  ( 1 ) \" \" \"*\" \" \" \" \" \"*\" \"*\" \" \" \" \" \" \" \" \" \" \" \"*\" \"*\" \"*\" \" \" \"*\" \"*\"\n",
       "39  ( 1 ) \"*\" \"*\" \" \" \" \" \"*\" \"*\" \" \" \" \" \" \" \" \" \" \" \"*\" \"*\" \"*\" \" \" \"*\" \"*\"\n",
       "40  ( 1 ) \"*\" \"*\" \" \" \"*\" \"*\" \"*\" \" \" \" \" \" \" \" \" \" \" \"*\" \"*\" \"*\" \" \" \"*\" \"*\"\n",
       "41  ( 1 ) \"*\" \"*\" \" \" \"*\" \"*\" \"*\" \"*\" \" \" \" \" \" \" \" \" \"*\" \"*\" \"*\" \" \" \"*\" \"*\"\n",
       "42  ( 1 ) \"*\" \"*\" \" \" \"*\" \"*\" \"*\" \"*\" \" \" \"*\" \" \" \" \" \"*\" \"*\" \"*\" \" \" \"*\" \"*\"\n",
       "43  ( 1 ) \"*\" \"*\" \" \" \"*\" \"*\" \"*\" \"*\" \" \" \"*\" \" \" \" \" \"*\" \"*\" \"*\" \"*\" \"*\" \"*\"\n",
       "44  ( 1 ) \"*\" \"*\" \" \" \"*\" \"*\" \"*\" \"*\" \" \" \"*\" \" \" \" \" \"*\" \"*\" \"*\" \"*\" \"*\" \"*\"\n",
       "45  ( 1 ) \"*\" \"*\" \" \" \"*\" \"*\" \"*\" \"*\" \" \" \"*\" \" \" \" \" \"*\" \"*\" \"*\" \"*\" \"*\" \"*\"\n",
       "46  ( 1 ) \"*\" \"*\" \" \" \"*\" \"*\" \"*\" \"*\" \" \" \"*\" \" \" \" \" \"*\" \"*\" \"*\" \"*\" \"*\" \"*\"\n",
       "47  ( 1 ) \"*\" \"*\" \" \" \"*\" \"*\" \"*\" \"*\" \" \" \"*\" \"*\" \" \" \"*\" \"*\" \"*\" \"*\" \"*\" \"*\"\n",
       "48  ( 1 ) \"*\" \"*\" \" \" \"*\" \"*\" \"*\" \"*\" \"*\" \"*\" \"*\" \" \" \"*\" \"*\" \"*\" \"*\" \"*\" \"*\"\n",
       "49  ( 1 ) \"*\" \"*\" \" \" \"*\" \"*\" \"*\" \"*\" \"*\" \"*\" \"*\" \"*\" \"*\" \"*\" \"*\" \"*\" \"*\" \"*\"\n",
       "50  ( 1 ) \"*\" \"*\" \" \" \"*\" \"*\" \"*\" \"*\" \"*\" \"*\" \"*\" \"*\" \"*\" \"*\" \"*\" \"*\" \"*\" \"*\"\n",
       "51  ( 1 ) \"*\" \"*\" \" \" \"*\" \"*\" \"*\" \"*\" \"*\" \"*\" \"*\" \"*\" \"*\" \"*\" \"*\" \"*\" \"*\" \"*\"\n",
       "52  ( 1 ) \"*\" \"*\" \" \" \"*\" \"*\" \"*\" \"*\" \"*\" \"*\" \"*\" \"*\" \"*\" \"*\" \"*\" \"*\" \"*\" \"*\"\n",
       "53  ( 1 ) \"*\" \"*\" \" \" \"*\" \"*\" \"*\" \"*\" \"*\" \"*\" \"*\" \"*\" \"*\" \"*\" \"*\" \"*\" \"*\" \"*\"\n",
       "54  ( 1 ) \"*\" \"*\" \"*\" \"*\" \"*\" \"*\" \"*\" \"*\" \"*\" \"*\" \"*\" \"*\" \"*\" \"*\" \"*\" \"*\" \"*\"\n",
       "55  ( 1 ) \"*\" \"*\" \"*\" \"*\" \"*\" \"*\" \"*\" \"*\" \"*\" \"*\" \"*\" \"*\" \"*\" \"*\" \"*\" \"*\" \"*\"\n",
       "56  ( 1 ) \"*\" \"*\" \"*\" \"*\" \"*\" \"*\" \"*\" \"*\" \"*\" \"*\" \"*\" \"*\" \"*\" \"*\" \"*\" \"*\" \"*\"\n",
       "57  ( 1 ) \"*\" \"*\" \"*\" \"*\" \"*\" \"*\" \"*\" \"*\" \"*\" \"*\" \"*\" \"*\" \"*\" \"*\" \"*\" \"*\" \"*\"\n",
       "          V23 V24 V25 V26 V27 V28 V29 V30 V32 V33 V34 V35 V37 V38 V39 V40 V41\n",
       "1  ( 1 )  \" \" \" \" \" \" \" \" \" \" \" \" \" \" \" \" \" \" \" \" \" \" \" \" \" \" \" \" \" \" \" \" \" \"\n",
       "2  ( 1 )  \" \" \" \" \" \" \" \" \" \" \" \" \" \" \" \" \" \" \" \" \" \" \" \" \" \" \" \" \" \" \" \" \" \"\n",
       "3  ( 1 )  \" \" \" \" \" \" \" \" \" \" \" \" \" \" \" \" \" \" \" \" \" \" \" \" \" \" \" \" \" \" \" \" \" \"\n",
       "4  ( 1 )  \" \" \" \" \" \" \" \" \" \" \" \" \" \" \" \" \" \" \" \" \" \" \" \" \" \" \" \" \" \" \" \" \" \"\n",
       "5  ( 1 )  \" \" \" \" \" \" \" \" \" \" \" \" \" \" \"*\" \" \" \" \" \" \" \" \" \" \" \" \" \" \" \" \" \" \"\n",
       "6  ( 1 )  \" \" \" \" \" \" \" \" \" \" \" \" \" \" \"*\" \" \" \" \" \" \" \" \" \" \" \" \" \" \" \" \" \" \"\n",
       "7  ( 1 )  \" \" \" \" \" \" \" \" \" \" \" \" \" \" \"*\" \" \" \" \" \" \" \" \" \" \" \" \" \" \" \" \" \" \"\n",
       "8  ( 1 )  \" \" \" \" \" \" \" \" \" \" \" \" \" \" \"*\" \" \" \" \" \" \" \" \" \" \" \" \" \" \" \" \" \" \"\n",
       "9  ( 1 )  \" \" \" \" \" \" \" \" \" \" \" \" \" \" \"*\" \" \" \" \" \" \" \" \" \" \" \" \" \" \" \" \" \"*\"\n",
       "10  ( 1 ) \" \" \" \" \" \" \" \" \" \" \" \" \" \" \"*\" \" \" \" \" \" \" \" \" \" \" \" \" \" \" \" \" \"*\"\n",
       "11  ( 1 ) \" \" \" \" \" \" \" \" \" \" \" \" \" \" \"*\" \" \" \" \" \" \" \" \" \" \" \" \" \" \" \" \" \"*\"\n",
       "12  ( 1 ) \" \" \" \" \" \" \" \" \" \" \" \" \" \" \"*\" \" \" \" \" \" \" \" \" \" \" \" \" \" \" \" \" \"*\"\n",
       "13  ( 1 ) \" \" \" \" \" \" \" \" \" \" \" \" \" \" \"*\" \" \" \" \" \" \" \" \" \" \" \" \" \" \" \" \" \"*\"\n",
       "14  ( 1 ) \" \" \" \" \" \" \" \" \" \" \" \" \" \" \"*\" \" \" \" \" \" \" \" \" \" \" \" \" \" \" \" \" \"*\"\n",
       "15  ( 1 ) \" \" \" \" \" \" \" \" \" \" \" \" \" \" \"*\" \" \" \" \" \" \" \" \" \" \" \" \" \" \" \" \" \"*\"\n",
       "16  ( 1 ) \" \" \" \" \" \" \" \" \" \" \" \" \" \" \"*\" \" \" \" \" \" \" \" \" \" \" \" \" \" \" \" \" \"*\"\n",
       "17  ( 1 ) \" \" \" \" \" \" \" \" \" \" \" \" \" \" \"*\" \" \" \" \" \" \" \" \" \" \" \" \" \" \" \" \" \"*\"\n",
       "18  ( 1 ) \" \" \" \" \" \" \" \" \" \" \" \" \" \" \"*\" \" \" \" \" \" \" \" \" \" \" \" \" \" \" \" \" \"*\"\n",
       "19  ( 1 ) \" \" \" \" \" \" \" \" \" \" \"*\" \" \" \"*\" \" \" \" \" \" \" \" \" \" \" \" \" \" \" \" \" \"*\"\n",
       "20  ( 1 ) \" \" \" \" \" \" \" \" \" \" \"*\" \" \" \"*\" \" \" \" \" \" \" \" \" \" \" \" \" \" \" \" \" \"*\"\n",
       "21  ( 1 ) \" \" \" \" \" \" \" \" \" \" \"*\" \" \" \"*\" \" \" \" \" \" \" \" \" \" \" \" \" \" \" \" \" \"*\"\n",
       "22  ( 1 ) \" \" \" \" \" \" \" \" \" \" \"*\" \" \" \"*\" \"*\" \" \" \" \" \" \" \" \" \" \" \" \" \" \" \"*\"\n",
       "23  ( 1 ) \" \" \" \" \" \" \" \" \" \" \"*\" \" \" \"*\" \"*\" \"*\" \" \" \" \" \" \" \" \" \" \" \" \" \"*\"\n",
       "24  ( 1 ) \" \" \" \" \" \" \" \" \" \" \"*\" \" \" \"*\" \"*\" \"*\" \"*\" \" \" \" \" \" \" \" \" \" \" \"*\"\n",
       "25  ( 1 ) \" \" \" \" \" \" \" \" \" \" \"*\" \" \" \"*\" \"*\" \"*\" \"*\" \" \" \" \" \" \" \" \" \" \" \"*\"\n",
       "26  ( 1 ) \" \" \" \" \" \" \" \" \" \" \"*\" \" \" \"*\" \"*\" \"*\" \"*\" \" \" \" \" \" \" \" \" \"*\" \"*\"\n",
       "27  ( 1 ) \" \" \" \" \" \" \" \" \" \" \"*\" \" \" \"*\" \"*\" \"*\" \"*\" \" \" \" \" \" \" \" \" \"*\" \"*\"\n",
       "28  ( 1 ) \" \" \" \" \" \" \" \" \" \" \"*\" \" \" \"*\" \"*\" \"*\" \"*\" \" \" \" \" \"*\" \" \" \"*\" \"*\"\n",
       "29  ( 1 ) \" \" \" \" \" \" \" \" \" \" \"*\" \" \" \"*\" \"*\" \"*\" \"*\" \" \" \"*\" \"*\" \" \" \"*\" \"*\"\n",
       "30  ( 1 ) \" \" \" \" \" \" \" \" \" \" \"*\" \" \" \"*\" \"*\" \"*\" \"*\" \" \" \"*\" \"*\" \"*\" \"*\" \"*\"\n",
       "31  ( 1 ) \" \" \" \" \" \" \" \" \" \" \"*\" \" \" \"*\" \"*\" \"*\" \"*\" \" \" \"*\" \"*\" \"*\" \"*\" \"*\"\n",
       "32  ( 1 ) \" \" \" \" \" \" \" \" \" \" \"*\" \" \" \"*\" \"*\" \"*\" \"*\" \" \" \"*\" \"*\" \"*\" \"*\" \"*\"\n",
       "33  ( 1 ) \" \" \" \" \" \" \" \" \" \" \"*\" \" \" \"*\" \"*\" \"*\" \"*\" \"*\" \"*\" \"*\" \"*\" \"*\" \"*\"\n",
       "34  ( 1 ) \" \" \"*\" \" \" \" \" \" \" \"*\" \" \" \"*\" \"*\" \"*\" \"*\" \"*\" \"*\" \"*\" \"*\" \"*\" \"*\"\n",
       "35  ( 1 ) \" \" \"*\" \" \" \" \" \" \" \"*\" \" \" \"*\" \"*\" \"*\" \"*\" \"*\" \"*\" \"*\" \"*\" \"*\" \"*\"\n",
       "36  ( 1 ) \" \" \"*\" \" \" \"*\" \" \" \"*\" \" \" \"*\" \"*\" \"*\" \"*\" \"*\" \"*\" \"*\" \"*\" \"*\" \"*\"\n",
       "37  ( 1 ) \" \" \"*\" \" \" \"*\" \" \" \"*\" \" \" \"*\" \"*\" \"*\" \"*\" \"*\" \"*\" \"*\" \"*\" \"*\" \"*\"\n",
       "38  ( 1 ) \" \" \"*\" \" \" \"*\" \" \" \"*\" \" \" \"*\" \"*\" \"*\" \"*\" \"*\" \"*\" \"*\" \"*\" \"*\" \"*\"\n",
       "39  ( 1 ) \" \" \"*\" \" \" \"*\" \" \" \"*\" \" \" \"*\" \"*\" \"*\" \"*\" \"*\" \"*\" \"*\" \"*\" \"*\" \"*\"\n",
       "40  ( 1 ) \" \" \"*\" \" \" \"*\" \" \" \"*\" \" \" \"*\" \"*\" \"*\" \"*\" \"*\" \"*\" \"*\" \"*\" \"*\" \"*\"\n",
       "41  ( 1 ) \" \" \"*\" \" \" \"*\" \" \" \"*\" \" \" \"*\" \"*\" \"*\" \"*\" \"*\" \"*\" \"*\" \"*\" \"*\" \"*\"\n",
       "42  ( 1 ) \" \" \"*\" \" \" \"*\" \" \" \"*\" \" \" \"*\" \"*\" \"*\" \"*\" \"*\" \"*\" \"*\" \"*\" \"*\" \"*\"\n",
       "43  ( 1 ) \" \" \"*\" \" \" \"*\" \" \" \"*\" \" \" \"*\" \"*\" \"*\" \"*\" \"*\" \"*\" \"*\" \"*\" \"*\" \"*\"\n",
       "44  ( 1 ) \" \" \"*\" \" \" \"*\" \" \" \"*\" \" \" \"*\" \"*\" \"*\" \"*\" \"*\" \"*\" \"*\" \"*\" \"*\" \"*\"\n",
       "45  ( 1 ) \" \" \"*\" \" \" \"*\" \" \" \"*\" \" \" \"*\" \"*\" \"*\" \"*\" \"*\" \"*\" \"*\" \"*\" \"*\" \"*\"\n",
       "46  ( 1 ) \" \" \"*\" \" \" \"*\" \" \" \"*\" \" \" \"*\" \"*\" \"*\" \"*\" \"*\" \"*\" \"*\" \"*\" \"*\" \"*\"\n",
       "47  ( 1 ) \" \" \"*\" \" \" \"*\" \" \" \"*\" \" \" \"*\" \"*\" \"*\" \"*\" \"*\" \"*\" \"*\" \"*\" \"*\" \"*\"\n",
       "48  ( 1 ) \" \" \"*\" \" \" \"*\" \" \" \"*\" \" \" \"*\" \"*\" \"*\" \"*\" \"*\" \"*\" \"*\" \"*\" \"*\" \"*\"\n",
       "49  ( 1 ) \" \" \"*\" \" \" \"*\" \" \" \"*\" \" \" \"*\" \"*\" \"*\" \"*\" \"*\" \"*\" \"*\" \"*\" \"*\" \"*\"\n",
       "50  ( 1 ) \" \" \"*\" \" \" \"*\" \"*\" \"*\" \" \" \"*\" \"*\" \"*\" \"*\" \"*\" \"*\" \"*\" \"*\" \"*\" \"*\"\n",
       "51  ( 1 ) \" \" \"*\" \"*\" \"*\" \"*\" \"*\" \" \" \"*\" \"*\" \"*\" \"*\" \"*\" \"*\" \"*\" \"*\" \"*\" \"*\"\n",
       "52  ( 1 ) \" \" \"*\" \"*\" \"*\" \"*\" \"*\" \" \" \"*\" \"*\" \"*\" \"*\" \"*\" \"*\" \"*\" \"*\" \"*\" \"*\"\n",
       "53  ( 1 ) \" \" \"*\" \"*\" \"*\" \"*\" \"*\" \" \" \"*\" \"*\" \"*\" \"*\" \"*\" \"*\" \"*\" \"*\" \"*\" \"*\"\n",
       "54  ( 1 ) \" \" \"*\" \"*\" \"*\" \"*\" \"*\" \" \" \"*\" \"*\" \"*\" \"*\" \"*\" \"*\" \"*\" \"*\" \"*\" \"*\"\n",
       "55  ( 1 ) \"*\" \"*\" \"*\" \"*\" \"*\" \"*\" \" \" \"*\" \"*\" \"*\" \"*\" \"*\" \"*\" \"*\" \"*\" \"*\" \"*\"\n",
       "56  ( 1 ) \"*\" \"*\" \"*\" \"*\" \"*\" \"*\" \"*\" \"*\" \"*\" \"*\" \"*\" \"*\" \"*\" \"*\" \"*\" \"*\" \"*\"\n",
       "57  ( 1 ) \"*\" \"*\" \"*\" \"*\" \"*\" \"*\" \"*\" \"*\" \"*\" \"*\" \"*\" \"*\" \"*\" \"*\" \"*\" \"*\" \"*\"\n",
       "          V42 V43 V44 V45 V47 V49 V50 V51 V53 V55 V56 V57 V58 V64 V67 V69 V73\n",
       "1  ( 1 )  \" \" \" \" \" \" \" \" \"*\" \" \" \" \" \" \" \" \" \" \" \" \" \" \" \" \" \" \" \" \" \" \" \" \"\n",
       "2  ( 1 )  \" \" \" \" \" \" \" \" \"*\" \" \" \" \" \" \" \" \" \" \" \" \" \" \" \" \" \" \" \" \" \" \" \" \"\n",
       "3  ( 1 )  \" \" \" \" \" \" \" \" \"*\" \" \" \" \" \" \" \" \" \" \" \" \" \" \" \" \" \" \" \" \" \" \" \" \"\n",
       "4  ( 1 )  \" \" \" \" \"*\" \" \" \"*\" \" \" \" \" \" \" \" \" \" \" \" \" \" \" \" \" \" \" \" \" \" \" \" \"\n",
       "5  ( 1 )  \" \" \" \" \"*\" \" \" \"*\" \" \" \" \" \" \" \" \" \" \" \" \" \" \" \" \" \" \" \" \" \" \" \" \"\n",
       "6  ( 1 )  \" \" \" \" \"*\" \" \" \"*\" \" \" \" \" \" \" \" \" \" \" \" \" \" \" \" \" \" \" \" \" \" \" \" \"\n",
       "7  ( 1 )  \" \" \" \" \"*\" \" \" \"*\" \" \" \" \" \" \" \" \" \" \" \" \" \" \" \" \" \"*\" \" \" \" \" \" \"\n",
       "8  ( 1 )  \"*\" \" \" \"*\" \" \" \"*\" \" \" \" \" \" \" \" \" \" \" \" \" \" \" \" \" \"*\" \" \" \" \" \" \"\n",
       "9  ( 1 )  \"*\" \" \" \"*\" \" \" \"*\" \" \" \" \" \" \" \" \" \" \" \" \" \" \" \" \" \"*\" \" \" \" \" \" \"\n",
       "10  ( 1 ) \"*\" \" \" \"*\" \" \" \"*\" \" \" \" \" \" \" \" \" \" \" \" \" \" \" \" \" \"*\" \" \" \" \" \" \"\n",
       "11  ( 1 ) \"*\" \" \" \"*\" \" \" \"*\" \" \" \" \" \" \" \" \" \" \" \" \" \" \" \"*\" \"*\" \" \" \" \" \" \"\n",
       "12  ( 1 ) \"*\" \" \" \"*\" \" \" \"*\" \" \" \" \" \" \" \" \" \" \" \" \" \" \" \"*\" \"*\" \" \" \" \" \" \"\n",
       "13  ( 1 ) \"*\" \" \" \"*\" \" \" \"*\" \" \" \" \" \" \" \" \" \" \" \" \" \" \" \"*\" \"*\" \" \" \" \" \" \"\n",
       "14  ( 1 ) \"*\" \" \" \"*\" \" \" \"*\" \" \" \" \" \" \" \" \" \" \" \" \" \" \" \"*\" \"*\" \"*\" \" \" \" \"\n",
       "15  ( 1 ) \"*\" \" \" \"*\" \" \" \"*\" \" \" \" \" \" \" \" \" \" \" \" \" \" \" \"*\" \"*\" \"*\" \" \" \" \"\n",
       "16  ( 1 ) \"*\" \" \" \"*\" \" \" \"*\" \" \" \" \" \" \" \" \" \" \" \" \" \"*\" \"*\" \"*\" \"*\" \" \" \" \"\n",
       "17  ( 1 ) \"*\" \" \" \"*\" \" \" \"*\" \" \" \" \" \" \" \" \" \" \" \" \" \"*\" \"*\" \"*\" \"*\" \" \" \" \"\n",
       "18  ( 1 ) \"*\" \"*\" \"*\" \" \" \"*\" \" \" \" \" \" \" \" \" \" \" \" \" \"*\" \"*\" \"*\" \"*\" \" \" \" \"\n",
       "19  ( 1 ) \"*\" \"*\" \"*\" \" \" \"*\" \" \" \" \" \" \" \" \" \" \" \" \" \"*\" \"*\" \"*\" \"*\" \" \" \" \"\n",
       "20  ( 1 ) \"*\" \"*\" \"*\" \" \" \"*\" \" \" \" \" \" \" \" \" \" \" \" \" \"*\" \"*\" \"*\" \"*\" \" \" \" \"\n",
       "21  ( 1 ) \"*\" \"*\" \"*\" \" \" \"*\" \" \" \" \" \" \" \" \" \" \" \" \" \"*\" \"*\" \"*\" \"*\" \" \" \" \"\n",
       "22  ( 1 ) \"*\" \"*\" \"*\" \" \" \"*\" \" \" \" \" \" \" \" \" \" \" \" \" \"*\" \"*\" \"*\" \"*\" \" \" \" \"\n",
       "23  ( 1 ) \"*\" \"*\" \"*\" \" \" \"*\" \" \" \" \" \" \" \" \" \" \" \" \" \"*\" \"*\" \"*\" \"*\" \" \" \" \"\n",
       "24  ( 1 ) \"*\" \"*\" \"*\" \" \" \"*\" \" \" \" \" \" \" \" \" \" \" \" \" \"*\" \"*\" \"*\" \"*\" \" \" \" \"\n",
       "25  ( 1 ) \"*\" \"*\" \"*\" \" \" \"*\" \" \" \" \" \" \" \" \" \" \" \" \" \"*\" \"*\" \"*\" \"*\" \" \" \" \"\n",
       "26  ( 1 ) \"*\" \"*\" \"*\" \" \" \"*\" \" \" \" \" \" \" \" \" \" \" \" \" \"*\" \"*\" \"*\" \"*\" \" \" \" \"\n",
       "27  ( 1 ) \"*\" \"*\" \"*\" \" \" \"*\" \" \" \" \" \" \" \"*\" \" \" \" \" \"*\" \"*\" \"*\" \"*\" \" \" \" \"\n",
       "28  ( 1 ) \"*\" \"*\" \"*\" \" \" \"*\" \" \" \" \" \" \" \"*\" \" \" \" \" \"*\" \"*\" \"*\" \"*\" \" \" \" \"\n",
       "29  ( 1 ) \"*\" \"*\" \"*\" \" \" \"*\" \" \" \" \" \" \" \"*\" \" \" \" \" \"*\" \"*\" \"*\" \"*\" \" \" \" \"\n",
       "30  ( 1 ) \"*\" \"*\" \"*\" \" \" \"*\" \" \" \" \" \" \" \"*\" \" \" \" \" \"*\" \"*\" \"*\" \"*\" \" \" \" \"\n",
       "31  ( 1 ) \"*\" \"*\" \"*\" \" \" \"*\" \" \" \"*\" \" \" \"*\" \" \" \" \" \"*\" \"*\" \"*\" \"*\" \" \" \" \"\n",
       "32  ( 1 ) \"*\" \"*\" \"*\" \" \" \"*\" \" \" \"*\" \"*\" \"*\" \" \" \" \" \"*\" \"*\" \"*\" \"*\" \" \" \" \"\n",
       "33  ( 1 ) \"*\" \"*\" \"*\" \" \" \"*\" \" \" \"*\" \"*\" \"*\" \" \" \" \" \"*\" \"*\" \"*\" \"*\" \" \" \" \"\n",
       "34  ( 1 ) \"*\" \"*\" \"*\" \" \" \"*\" \" \" \"*\" \"*\" \"*\" \" \" \" \" \"*\" \"*\" \"*\" \"*\" \" \" \" \"\n",
       "35  ( 1 ) \"*\" \"*\" \"*\" \" \" \"*\" \" \" \"*\" \"*\" \"*\" \" \" \" \" \"*\" \"*\" \"*\" \"*\" \" \" \" \"\n",
       "36  ( 1 ) \"*\" \"*\" \"*\" \" \" \"*\" \" \" \"*\" \"*\" \"*\" \" \" \" \" \"*\" \"*\" \"*\" \"*\" \" \" \" \"\n",
       "37  ( 1 ) \"*\" \"*\" \"*\" \" \" \"*\" \" \" \"*\" \"*\" \"*\" \"*\" \" \" \"*\" \"*\" \"*\" \"*\" \" \" \" \"\n",
       "38  ( 1 ) \"*\" \"*\" \"*\" \" \" \"*\" \" \" \"*\" \"*\" \"*\" \"*\" \" \" \"*\" \"*\" \"*\" \"*\" \" \" \"*\"\n",
       "39  ( 1 ) \"*\" \"*\" \"*\" \" \" \"*\" \" \" \"*\" \"*\" \"*\" \"*\" \" \" \"*\" \"*\" \"*\" \"*\" \" \" \"*\"\n",
       "40  ( 1 ) \"*\" \"*\" \"*\" \" \" \"*\" \" \" \"*\" \"*\" \"*\" \"*\" \" \" \"*\" \"*\" \"*\" \"*\" \" \" \"*\"\n",
       "41  ( 1 ) \"*\" \"*\" \"*\" \" \" \"*\" \" \" \"*\" \"*\" \"*\" \"*\" \" \" \"*\" \"*\" \"*\" \"*\" \" \" \"*\"\n",
       "42  ( 1 ) \"*\" \"*\" \"*\" \" \" \"*\" \" \" \"*\" \"*\" \"*\" \"*\" \" \" \"*\" \"*\" \"*\" \"*\" \" \" \"*\"\n",
       "43  ( 1 ) \"*\" \"*\" \"*\" \" \" \"*\" \" \" \"*\" \"*\" \"*\" \"*\" \" \" \"*\" \"*\" \"*\" \"*\" \" \" \"*\"\n",
       "44  ( 1 ) \"*\" \"*\" \"*\" \" \" \"*\" \" \" \"*\" \"*\" \"*\" \"*\" \" \" \"*\" \"*\" \"*\" \"*\" \"*\" \"*\"\n",
       "45  ( 1 ) \"*\" \"*\" \"*\" \" \" \"*\" \" \" \"*\" \"*\" \"*\" \"*\" \"*\" \"*\" \"*\" \"*\" \"*\" \"*\" \"*\"\n",
       "46  ( 1 ) \"*\" \"*\" \"*\" \" \" \"*\" \"*\" \"*\" \"*\" \"*\" \"*\" \"*\" \"*\" \"*\" \"*\" \"*\" \"*\" \"*\"\n",
       "47  ( 1 ) \"*\" \"*\" \"*\" \" \" \"*\" \"*\" \"*\" \"*\" \"*\" \"*\" \"*\" \"*\" \"*\" \"*\" \"*\" \"*\" \"*\"\n",
       "48  ( 1 ) \"*\" \"*\" \"*\" \" \" \"*\" \"*\" \"*\" \"*\" \"*\" \"*\" \"*\" \"*\" \"*\" \"*\" \"*\" \"*\" \"*\"\n",
       "49  ( 1 ) \"*\" \"*\" \"*\" \" \" \"*\" \"*\" \"*\" \"*\" \"*\" \"*\" \"*\" \"*\" \"*\" \"*\" \"*\" \"*\" \"*\"\n",
       "50  ( 1 ) \"*\" \"*\" \"*\" \" \" \"*\" \"*\" \"*\" \"*\" \"*\" \"*\" \"*\" \"*\" \"*\" \"*\" \"*\" \"*\" \"*\"\n",
       "51  ( 1 ) \"*\" \"*\" \"*\" \" \" \"*\" \"*\" \"*\" \"*\" \"*\" \"*\" \"*\" \"*\" \"*\" \"*\" \"*\" \"*\" \"*\"\n",
       "52  ( 1 ) \"*\" \"*\" \"*\" \"*\" \"*\" \"*\" \"*\" \"*\" \"*\" \"*\" \"*\" \"*\" \"*\" \"*\" \"*\" \"*\" \"*\"\n",
       "53  ( 1 ) \"*\" \"*\" \"*\" \"*\" \"*\" \"*\" \"*\" \"*\" \"*\" \"*\" \"*\" \"*\" \"*\" \"*\" \"*\" \"*\" \"*\"\n",
       "54  ( 1 ) \"*\" \"*\" \"*\" \"*\" \"*\" \"*\" \"*\" \"*\" \"*\" \"*\" \"*\" \"*\" \"*\" \"*\" \"*\" \"*\" \"*\"\n",
       "55  ( 1 ) \"*\" \"*\" \"*\" \"*\" \"*\" \"*\" \"*\" \"*\" \"*\" \"*\" \"*\" \"*\" \"*\" \"*\" \"*\" \"*\" \"*\"\n",
       "56  ( 1 ) \"*\" \"*\" \"*\" \"*\" \"*\" \"*\" \"*\" \"*\" \"*\" \"*\" \"*\" \"*\" \"*\" \"*\" \"*\" \"*\" \"*\"\n",
       "57  ( 1 ) \"*\" \"*\" \"*\" \"*\" \"*\" \"*\" \"*\" \"*\" \"*\" \"*\" \"*\" \"*\" \"*\" \"*\" \"*\" \"*\" \"*\"\n",
       "          V75 V80 V81 V82 V83 V84\n",
       "1  ( 1 )  \" \" \" \" \" \" \" \" \" \" \" \"\n",
       "2  ( 1 )  \" \" \" \" \" \" \"*\" \" \" \" \"\n",
       "3  ( 1 )  \" \" \" \" \" \" \"*\" \" \" \" \"\n",
       "4  ( 1 )  \" \" \" \" \" \" \"*\" \" \" \" \"\n",
       "5  ( 1 )  \" \" \" \" \" \" \"*\" \" \" \" \"\n",
       "6  ( 1 )  \" \" \" \" \" \" \"*\" \" \" \" \"\n",
       "7  ( 1 )  \" \" \" \" \" \" \"*\" \" \" \" \"\n",
       "8  ( 1 )  \" \" \" \" \" \" \"*\" \" \" \" \"\n",
       "9  ( 1 )  \" \" \" \" \" \" \"*\" \" \" \" \"\n",
       "10  ( 1 ) \" \" \" \" \" \" \"*\" \"*\" \" \"\n",
       "11  ( 1 ) \" \" \" \" \" \" \"*\" \"*\" \" \"\n",
       "12  ( 1 ) \" \" \" \" \" \" \"*\" \"*\" \" \"\n",
       "13  ( 1 ) \" \" \"*\" \" \" \"*\" \"*\" \" \"\n",
       "14  ( 1 ) \" \" \"*\" \" \" \"*\" \"*\" \" \"\n",
       "15  ( 1 ) \" \" \"*\" \" \" \"*\" \"*\" \" \"\n",
       "16  ( 1 ) \" \" \"*\" \" \" \"*\" \"*\" \" \"\n",
       "17  ( 1 ) \" \" \"*\" \" \" \"*\" \"*\" \" \"\n",
       "18  ( 1 ) \" \" \"*\" \" \" \"*\" \"*\" \" \"\n",
       "19  ( 1 ) \" \" \"*\" \" \" \"*\" \"*\" \" \"\n",
       "20  ( 1 ) \" \" \"*\" \" \" \"*\" \"*\" \" \"\n",
       "21  ( 1 ) \" \" \"*\" \" \" \"*\" \"*\" \" \"\n",
       "22  ( 1 ) \" \" \"*\" \" \" \"*\" \"*\" \" \"\n",
       "23  ( 1 ) \" \" \"*\" \" \" \"*\" \"*\" \" \"\n",
       "24  ( 1 ) \" \" \"*\" \" \" \"*\" \"*\" \" \"\n",
       "25  ( 1 ) \" \" \"*\" \"*\" \"*\" \"*\" \" \"\n",
       "26  ( 1 ) \" \" \"*\" \"*\" \"*\" \"*\" \" \"\n",
       "27  ( 1 ) \" \" \"*\" \"*\" \"*\" \"*\" \" \"\n",
       "28  ( 1 ) \" \" \"*\" \"*\" \"*\" \"*\" \" \"\n",
       "29  ( 1 ) \" \" \"*\" \"*\" \"*\" \"*\" \" \"\n",
       "30  ( 1 ) \" \" \"*\" \"*\" \"*\" \"*\" \" \"\n",
       "31  ( 1 ) \" \" \"*\" \"*\" \"*\" \"*\" \" \"\n",
       "32  ( 1 ) \" \" \"*\" \"*\" \"*\" \"*\" \" \"\n",
       "33  ( 1 ) \" \" \"*\" \"*\" \"*\" \"*\" \" \"\n",
       "34  ( 1 ) \" \" \"*\" \"*\" \"*\" \"*\" \" \"\n",
       "35  ( 1 ) \" \" \"*\" \"*\" \"*\" \"*\" \" \"\n",
       "36  ( 1 ) \" \" \"*\" \"*\" \"*\" \"*\" \" \"\n",
       "37  ( 1 ) \" \" \"*\" \"*\" \"*\" \"*\" \" \"\n",
       "38  ( 1 ) \" \" \"*\" \"*\" \"*\" \"*\" \" \"\n",
       "39  ( 1 ) \" \" \"*\" \"*\" \"*\" \"*\" \" \"\n",
       "40  ( 1 ) \" \" \"*\" \"*\" \"*\" \"*\" \" \"\n",
       "41  ( 1 ) \" \" \"*\" \"*\" \"*\" \"*\" \" \"\n",
       "42  ( 1 ) \" \" \"*\" \"*\" \"*\" \"*\" \" \"\n",
       "43  ( 1 ) \" \" \"*\" \"*\" \"*\" \"*\" \" \"\n",
       "44  ( 1 ) \" \" \"*\" \"*\" \"*\" \"*\" \" \"\n",
       "45  ( 1 ) \" \" \"*\" \"*\" \"*\" \"*\" \" \"\n",
       "46  ( 1 ) \" \" \"*\" \"*\" \"*\" \"*\" \" \"\n",
       "47  ( 1 ) \" \" \"*\" \"*\" \"*\" \"*\" \" \"\n",
       "48  ( 1 ) \" \" \"*\" \"*\" \"*\" \"*\" \" \"\n",
       "49  ( 1 ) \" \" \"*\" \"*\" \"*\" \"*\" \" \"\n",
       "50  ( 1 ) \" \" \"*\" \"*\" \"*\" \"*\" \" \"\n",
       "51  ( 1 ) \" \" \"*\" \"*\" \"*\" \"*\" \" \"\n",
       "52  ( 1 ) \" \" \"*\" \"*\" \"*\" \"*\" \" \"\n",
       "53  ( 1 ) \" \" \"*\" \"*\" \"*\" \"*\" \"*\"\n",
       "54  ( 1 ) \" \" \"*\" \"*\" \"*\" \"*\" \"*\"\n",
       "55  ( 1 ) \" \" \"*\" \"*\" \"*\" \"*\" \"*\"\n",
       "56  ( 1 ) \" \" \"*\" \"*\" \"*\" \"*\" \"*\"\n",
       "57  ( 1 ) \"*\" \"*\" \"*\" \"*\" \"*\" \"*\""
      ]
     },
     "metadata": {},
     "output_type": "display_data"
    }
   ],
   "source": [
    "bckw_step_3_summ"
   ]
  },
  {
   "cell_type": "code",
   "execution_count": 75,
   "metadata": {},
   "outputs": [
    {
     "data": {
      "image/png": "[encoded data removed]",
      "text/plain": [
       "Plot with title \"Min Error at 57 Variables\""
      ]
     },
     "metadata": {},
     "output_type": "display_data"
    }
   ],
   "source": [
    "par(mfrow = c(2, 2))\n",
    "plot(bckw_step_3_summ$cp,xlab = \"Num of Variables\", ylab = \"Cp\", type = \"l\", main = paste(\"Min Error at\",which.min(bckw_step_3_summ$cp), \"Variables\"))\n",
    "points(which.min(bckw_step_3_summ$cp), bckw_step_3_summ$cp[which.min(bckw_step_3_summ$cp)], col = \"steelblue\", cex = 2, pch = 20)\n",
    "\n",
    "plot(bckw_step_3_summ$bic,xlab = \"Num of Variables\", ylab = \"BIC\", type = \"l\", main = paste(\"Min Error at\",which.min(bckw_step_3_summ$bic), \"Variables\" ))\n",
    "points(which.min(bckw_step_3_summ$bic), bckw_step_3_summ$bic[which.min(bckw_step_3_summ$bic)], col = \"darkgoldenrod\", cex = 2, pch = 20)\n",
    "\n",
    "plot(bckw_step_3_summ$adjr2,xlab = \"Num of Variables\", ylab = \"Adjusted_R^2\", type = \"l\", main = paste(\"Max AdjR2 at\",which.max(bckw_step_3_summ$adjr2), \"Variables\"))\n",
    "points(which.max(bckw_step_3_summ$adjr2), bckw_step_3_summ$adjr2[which.max(bckw_step_3_summ$adjr2)], col = \"magenta\", cex = 2, pch = 20)\n",
    "\n",
    "plot(bckw_step_3_summ$rss,xlab = \"Num of Variables\", ylab = \"Residual Sum of Squares\", type = \"l\", main = paste(\"Min Error at\",which.min(bckw_step_3_summ$rss), \"Variables\"))\n",
    "points(which.min(bckw_step_3_summ$rss), bckw_step_3_summ$rss[which.min(bckw_step_3_summ$rss)], col = \"cyan\", cex = 2, pch = 20)"
   ]
  },
  {
   "cell_type": "markdown",
   "metadata": {},
   "source": [
    "After performing the backward step taken from glm_3 model, the lowest error when using Mallows' Cp happened at the same number of variable as performing forward step. The only difference is when measuring the error using BIC, in backward step, the lowest error rate is at 7 variables instead of 6 like the one in forward step."
   ]
  },
  {
   "cell_type": "code",
   "execution_count": 76,
   "metadata": {},
   "outputs": [
    {
     "data": {
      "text/html": [
       "7"
      ],
      "text/latex": [
       "7"
      ],
      "text/markdown": [
       "7"
      ],
      "text/plain": [
       "[1] 7"
      ]
     },
     "metadata": {},
     "output_type": "display_data"
    },
    {
     "data": {
      "text/html": [
       "'V18+V21+V30+V44+V47+V64+V82'"
      ],
      "text/latex": [
       "'V18+V21+V30+V44+V47+V64+V82'"
      ],
      "text/markdown": [
       "'V18+V21+V30+V44+V47+V64+V82'"
      ],
      "text/plain": [
       "[1] \"V18+V21+V30+V44+V47+V64+V82\""
      ]
     },
     "metadata": {},
     "output_type": "display_data"
    }
   ],
   "source": [
    "length(rownames(data.frame(coef(bckw_step_3, 7)))[-1])\n",
    "paste(rownames(data.frame(coef(bckw_step_3, 7)))[-1] , collapse = \"+\")"
   ]
  },
  {
   "cell_type": "code",
   "execution_count": 77,
   "metadata": {},
   "outputs": [
    {
     "data": {
      "text/plain": [
       "\n",
       "Call:\n",
       "glm(formula = V86 ~ V18 + V21 + V30 + V44 + V47 + V64 + V82, \n",
       "    family = binomial(link = \"logit\"), data = glm_3_data)\n",
       "\n",
       "Deviance Residuals: \n",
       "    Min       1Q   Median       3Q      Max  \n",
       "-1.5799  -0.3874  -0.2725  -0.1849   3.0773  \n",
       "\n",
       "Coefficients:\n",
       "            Estimate Std. Error z value Pr(>|z|)    \n",
       "(Intercept) -3.02353    0.17079 -17.703  < 2e-16 ***\n",
       "V18         -0.11376    0.02684  -4.239 2.24e-05 ***\n",
       "V21         -0.25013    0.07577  -3.301 0.000963 ***\n",
       "V30         -0.08805    0.01972  -4.464 8.03e-06 ***\n",
       "V44          0.27613    0.05877   4.698 2.62e-06 ***\n",
       "V47          0.22778    0.02382   9.564  < 2e-16 ***\n",
       "V64          0.16259    0.08838   1.840 0.065811 .  \n",
       "V82          2.01432    0.37438   5.380 7.43e-08 ***\n",
       "---\n",
       "Signif. codes:  0 '***' 0.001 '**' 0.01 '*' 0.05 '.' 0.1 ' ' 1\n",
       "\n",
       "(Dispersion parameter for binomial family taken to be 1)\n",
       "\n",
       "    Null deviance: 2635.5  on 5821  degrees of freedom\n",
       "Residual deviance: 2359.7  on 5814  degrees of freedom\n",
       "AIC: 2375.7\n",
       "\n",
       "Number of Fisher Scoring iterations: 6\n"
      ]
     },
     "metadata": {},
     "output_type": "display_data"
    }
   ],
   "source": [
    "glm_3_bckw_7 <- glm(V86 ~ V18+V21+V30+V44+V47+V64+V82, data= glm_3_data, family = binomial(link=\"logit\"))\n",
    "summary(glm_3_bckw_7)"
   ]
  },
  {
   "cell_type": "markdown",
   "metadata": {},
   "source": [
    "Clearly choosing backward step to do feature selection did not make a difference with doing forward step selection. Having 7 predictors in the model has increased the AIC score to 2375, which explains the goodness of the model had decreased from having a model with 20 predictors like the one performed in forward step selection."
   ]
  },
  {
   "cell_type": "code",
   "execution_count": null,
   "metadata": {},
   "outputs": [],
   "source": []
  },
  {
   "cell_type": "markdown",
   "metadata": {},
   "source": [
    "#### <ol><ol><ol>__LASSO REGRESSION__</ol></ol></ol>"
   ]
  },
  {
   "cell_type": "code",
   "execution_count": 78,
   "metadata": {},
   "outputs": [],
   "source": [
    "glm_3_train_x <- model.matrix(V86 ~ . , data = glm_3_data)[, -1]\n",
    "glm_3_train_y <- glm_3_data$V86"
   ]
  },
  {
   "cell_type": "code",
   "execution_count": 79,
   "metadata": {},
   "outputs": [
    {
     "data": {
      "image/png": "[encoded data removed]",
      "text/plain": [
       "plot without title"
      ]
     },
     "metadata": {},
     "output_type": "display_data"
    }
   ],
   "source": [
    "set.seed(1234)\n",
    "\n",
    "cv.lasso_3 <- cv.glmnet(glm_3_train_x, glm_3_train_y, alpha = 1, family = \"binomial\")\n",
    "plot(cv.lasso_3)"
   ]
  },
  {
   "cell_type": "markdown",
   "metadata": {},
   "source": [
    "The plot shows the error of lambda using the cross-validation. From the graph, it can be seen that roughly the log of lambda that minimises the error is at -6. The recommended log of lambda value gives the most accurate model compared to others. The exact number of lambda can be seen from the code below."
   ]
  },
  {
   "cell_type": "code",
   "execution_count": 80,
   "metadata": {},
   "outputs": [
    {
     "data": {
      "text/html": [
       "0.00240918330629831"
      ],
      "text/latex": [
       "0.00240918330629831"
      ],
      "text/markdown": [
       "0.00240918330629831"
      ],
      "text/plain": [
       "[1] 0.002409183"
      ]
     },
     "metadata": {},
     "output_type": "display_data"
    }
   ],
   "source": [
    "lasso_3_min_lambda <- cv.lasso_3$lambda.min\n",
    "# coef(cv.lasso_3, cv.lasso_3$lambda.min)\n",
    "lasso_3_min_lambda"
   ]
  },
  {
   "cell_type": "code",
   "execution_count": 81,
   "metadata": {
    "scrolled": true
   },
   "outputs": [
    {
     "data": {
      "text/html": [
       "<dl class=dl-horizontal>\n",
       "\t<dt>(Intercept)</dt>\n",
       "\t\t<dd>-4.34272597747353</dd>\n",
       "\t<dt>V1</dt>\n",
       "\t\t<dd>0</dd>\n",
       "\t<dt>V6</dt>\n",
       "\t\t<dd>-0.0263618951111324</dd>\n",
       "\t<dt>V7</dt>\n",
       "\t\t<dd>0.0177266334806766</dd>\n",
       "\t<dt>V8</dt>\n",
       "\t\t<dd>0</dd>\n",
       "\t<dt>V9</dt>\n",
       "\t\t<dd>-0.0178891556751167</dd>\n",
       "\t<dt>V11</dt>\n",
       "\t\t<dd>-0.0746285939857499</dd>\n",
       "\t<dt>V12</dt>\n",
       "\t\t<dd>-0.0121690642228612</dd>\n",
       "\t<dt>V13</dt>\n",
       "\t\t<dd>0</dd>\n",
       "\t<dt>V14</dt>\n",
       "\t\t<dd>0</dd>\n",
       "\t<dt>V15</dt>\n",
       "\t\t<dd>0</dd>\n",
       "\t<dt>V16</dt>\n",
       "\t\t<dd>0.0503096874904917</dd>\n",
       "\t<dt>V17</dt>\n",
       "\t\t<dd>0</dd>\n",
       "\t<dt>V18</dt>\n",
       "\t\t<dd>-0.0459862924146892</dd>\n",
       "\t<dt>V19</dt>\n",
       "\t\t<dd>0</dd>\n",
       "\t<dt>V20</dt>\n",
       "\t\t<dd>0</dd>\n",
       "\t<dt>V21</dt>\n",
       "\t\t<dd>-0.125935543280523</dd>\n",
       "\t<dt>V22</dt>\n",
       "\t\t<dd>0.0328520742590739</dd>\n",
       "\t<dt>V23</dt>\n",
       "\t\t<dd>0</dd>\n",
       "\t<dt>V24</dt>\n",
       "\t\t<dd>0</dd>\n",
       "\t<dt>V25</dt>\n",
       "\t\t<dd>0</dd>\n",
       "\t<dt>V26</dt>\n",
       "\t\t<dd>0</dd>\n",
       "\t<dt>V27</dt>\n",
       "\t\t<dd>0</dd>\n",
       "\t<dt>V28</dt>\n",
       "\t\t<dd>0</dd>\n",
       "\t<dt>V29</dt>\n",
       "\t\t<dd>-0.0133649376372073</dd>\n",
       "\t<dt>V30</dt>\n",
       "\t\t<dd>-0.029926333138777</dd>\n",
       "\t<dt>V32</dt>\n",
       "\t\t<dd>0.0526464880225756</dd>\n",
       "\t<dt>V33</dt>\n",
       "\t\t<dd>0</dd>\n",
       "\t<dt>V34</dt>\n",
       "\t\t<dd>0</dd>\n",
       "\t<dt>V35</dt>\n",
       "\t\t<dd>0</dd>\n",
       "\t<dt>V37</dt>\n",
       "\t\t<dd>-0.00947205350422477</dd>\n",
       "\t<dt>V38</dt>\n",
       "\t\t<dd>0</dd>\n",
       "\t<dt>V39</dt>\n",
       "\t\t<dd>0</dd>\n",
       "\t<dt>V40</dt>\n",
       "\t\t<dd>0.0293896319465597</dd>\n",
       "\t<dt>V41</dt>\n",
       "\t\t<dd>-0.100102971613883</dd>\n",
       "\t<dt>V42</dt>\n",
       "\t\t<dd>0.0518897495883841</dd>\n",
       "\t<dt>V43</dt>\n",
       "\t\t<dd>0.0504706725046457</dd>\n",
       "\t<dt>V44</dt>\n",
       "\t\t<dd>0.187998189201783</dd>\n",
       "\t<dt>V45</dt>\n",
       "\t\t<dd>0</dd>\n",
       "\t<dt>V47</dt>\n",
       "\t\t<dd>0.210076411289921</dd>\n",
       "\t<dt>V49</dt>\n",
       "\t\t<dd>0</dd>\n",
       "\t<dt>V50</dt>\n",
       "\t\t<dd>0</dd>\n",
       "\t<dt>V51</dt>\n",
       "\t\t<dd>0.0169063905648128</dd>\n",
       "\t<dt>V53</dt>\n",
       "\t\t<dd>-0.0665109031512615</dd>\n",
       "\t<dt>V55</dt>\n",
       "\t\t<dd>0</dd>\n",
       "\t<dt>V56</dt>\n",
       "\t\t<dd>0</dd>\n",
       "\t<dt>V57</dt>\n",
       "\t\t<dd>0.118771672157711</dd>\n",
       "\t<dt>V58</dt>\n",
       "\t\t<dd>0.194513269584619</dd>\n",
       "\t<dt>V64</dt>\n",
       "\t\t<dd>0.107982655328207</dd>\n",
       "\t<dt>V67</dt>\n",
       "\t\t<dd>-0.2569104367341</dd>\n",
       "\t<dt>V69</dt>\n",
       "\t\t<dd>0</dd>\n",
       "\t<dt>V73</dt>\n",
       "\t\t<dd>-0.044825320468202</dd>\n",
       "\t<dt>V75</dt>\n",
       "\t\t<dd>-0.0613125063513791</dd>\n",
       "\t<dt>V80</dt>\n",
       "\t\t<dd>0.154281973030294</dd>\n",
       "\t<dt>V81</dt>\n",
       "\t\t<dd>0.928678594805617</dd>\n",
       "\t<dt>V82</dt>\n",
       "\t\t<dd>1.89169777422546</dd>\n",
       "\t<dt>V83</dt>\n",
       "\t\t<dd>0.35275921252006</dd>\n",
       "\t<dt>V84</dt>\n",
       "\t\t<dd>0</dd>\n",
       "</dl>\n"
      ],
      "text/latex": [
       "\\begin{description*}\n",
       "\\item[(Intercept)] -4.34272597747353\n",
       "\\item[V1] 0\n",
       "\\item[V6] -0.0263618951111324\n",
       "\\item[V7] 0.0177266334806766\n",
       "\\item[V8] 0\n",
       "\\item[V9] -0.0178891556751167\n",
       "\\item[V11] -0.0746285939857499\n",
       "\\item[V12] -0.0121690642228612\n",
       "\\item[V13] 0\n",
       "\\item[V14] 0\n",
       "\\item[V15] 0\n",
       "\\item[V16] 0.0503096874904917\n",
       "\\item[V17] 0\n",
       "\\item[V18] -0.0459862924146892\n",
       "\\item[V19] 0\n",
       "\\item[V20] 0\n",
       "\\item[V21] -0.125935543280523\n",
       "\\item[V22] 0.0328520742590739\n",
       "\\item[V23] 0\n",
       "\\item[V24] 0\n",
       "\\item[V25] 0\n",
       "\\item[V26] 0\n",
       "\\item[V27] 0\n",
       "\\item[V28] 0\n",
       "\\item[V29] -0.0133649376372073\n",
       "\\item[V30] -0.029926333138777\n",
       "\\item[V32] 0.0526464880225756\n",
       "\\item[V33] 0\n",
       "\\item[V34] 0\n",
       "\\item[V35] 0\n",
       "\\item[V37] -0.00947205350422477\n",
       "\\item[V38] 0\n",
       "\\item[V39] 0\n",
       "\\item[V40] 0.0293896319465597\n",
       "\\item[V41] -0.100102971613883\n",
       "\\item[V42] 0.0518897495883841\n",
       "\\item[V43] 0.0504706725046457\n",
       "\\item[V44] 0.187998189201783\n",
       "\\item[V45] 0\n",
       "\\item[V47] 0.210076411289921\n",
       "\\item[V49] 0\n",
       "\\item[V50] 0\n",
       "\\item[V51] 0.0169063905648128\n",
       "\\item[V53] -0.0665109031512615\n",
       "\\item[V55] 0\n",
       "\\item[V56] 0\n",
       "\\item[V57] 0.118771672157711\n",
       "\\item[V58] 0.194513269584619\n",
       "\\item[V64] 0.107982655328207\n",
       "\\item[V67] -0.2569104367341\n",
       "\\item[V69] 0\n",
       "\\item[V73] -0.044825320468202\n",
       "\\item[V75] -0.0613125063513791\n",
       "\\item[V80] 0.154281973030294\n",
       "\\item[V81] 0.928678594805617\n",
       "\\item[V82] 1.89169777422546\n",
       "\\item[V83] 0.35275921252006\n",
       "\\item[V84] 0\n",
       "\\end{description*}\n"
      ],
      "text/markdown": [
       "(Intercept)\n",
       ":   -4.34272597747353V1\n",
       ":   0V6\n",
       ":   -0.0263618951111324V7\n",
       ":   0.0177266334806766V8\n",
       ":   0V9\n",
       ":   -0.0178891556751167V11\n",
       ":   -0.0746285939857499V12\n",
       ":   -0.0121690642228612V13\n",
       ":   0V14\n",
       ":   0V15\n",
       ":   0V16\n",
       ":   0.0503096874904917V17\n",
       ":   0V18\n",
       ":   -0.0459862924146892V19\n",
       ":   0V20\n",
       ":   0V21\n",
       ":   -0.125935543280523V22\n",
       ":   0.0328520742590739V23\n",
       ":   0V24\n",
       ":   0V25\n",
       ":   0V26\n",
       ":   0V27\n",
       ":   0V28\n",
       ":   0V29\n",
       ":   -0.0133649376372073V30\n",
       ":   -0.029926333138777V32\n",
       ":   0.0526464880225756V33\n",
       ":   0V34\n",
       ":   0V35\n",
       ":   0V37\n",
       ":   -0.00947205350422477V38\n",
       ":   0V39\n",
       ":   0V40\n",
       ":   0.0293896319465597V41\n",
       ":   -0.100102971613883V42\n",
       ":   0.0518897495883841V43\n",
       ":   0.0504706725046457V44\n",
       ":   0.187998189201783V45\n",
       ":   0V47\n",
       ":   0.210076411289921V49\n",
       ":   0V50\n",
       ":   0V51\n",
       ":   0.0169063905648128V53\n",
       ":   -0.0665109031512615V55\n",
       ":   0V56\n",
       ":   0V57\n",
       ":   0.118771672157711V58\n",
       ":   0.194513269584619V64\n",
       ":   0.107982655328207V67\n",
       ":   -0.2569104367341V69\n",
       ":   0V73\n",
       ":   -0.044825320468202V75\n",
       ":   -0.0613125063513791V80\n",
       ":   0.154281973030294V81\n",
       ":   0.928678594805617V82\n",
       ":   1.89169777422546V83\n",
       ":   0.35275921252006V84\n",
       ":   0\n",
       "\n"
      ],
      "text/plain": [
       " (Intercept)           V1           V6           V7           V8           V9 \n",
       "-4.342725977  0.000000000 -0.026361895  0.017726633  0.000000000 -0.017889156 \n",
       "         V11          V12          V13          V14          V15          V16 \n",
       "-0.074628594 -0.012169064  0.000000000  0.000000000  0.000000000  0.050309687 \n",
       "         V17          V18          V19          V20          V21          V22 \n",
       " 0.000000000 -0.045986292  0.000000000  0.000000000 -0.125935543  0.032852074 \n",
       "         V23          V24          V25          V26          V27          V28 \n",
       " 0.000000000  0.000000000  0.000000000  0.000000000  0.000000000  0.000000000 \n",
       "         V29          V30          V32          V33          V34          V35 \n",
       "-0.013364938 -0.029926333  0.052646488  0.000000000  0.000000000  0.000000000 \n",
       "         V37          V38          V39          V40          V41          V42 \n",
       "-0.009472054  0.000000000  0.000000000  0.029389632 -0.100102972  0.051889750 \n",
       "         V43          V44          V45          V47          V49          V50 \n",
       " 0.050470673  0.187998189  0.000000000  0.210076411  0.000000000  0.000000000 \n",
       "         V51          V53          V55          V56          V57          V58 \n",
       " 0.016906391 -0.066510903  0.000000000  0.000000000  0.118771672  0.194513270 \n",
       "         V64          V67          V69          V73          V75          V80 \n",
       " 0.107982655 -0.256910437  0.000000000 -0.044825320 -0.061312506  0.154281973 \n",
       "         V81          V82          V83          V84 \n",
       " 0.928678595  1.891697774  0.352759213  0.000000000 "
      ]
     },
     "metadata": {},
     "output_type": "display_data"
    }
   ],
   "source": [
    "lasso_3_model <- glmnet(glm_3_train_x, glm_3_train_y, alpha = 1, family = \"binomial\", lambda = lasso_3_min_lambda)\n",
    "coef(lasso_3_model)[,1]"
   ]
  },
  {
   "cell_type": "code",
   "execution_count": 82,
   "metadata": {
    "scrolled": true
   },
   "outputs": [],
   "source": [
    "# predict(lasso_3_model, glm_3_test_x, )"
   ]
  },
  {
   "cell_type": "markdown",
   "metadata": {},
   "source": [
    "After applying L1-norm regularisation to the model taken from the glm_3, there are 26 variables that have the coefficient of 0, thus these variables can be discarded, while the others will be kept to get the fitness of a model.\n",
    "* DISCARD: V1, V8, V13, V14, V15, V17, V19, V20, V23, V24, V25, V26, V27, V28, V33, V34, V35, V38, V39, V45, V49, V50, V55, V56, V69, V84\n",
    "* KEEP: V6, V7, V9, V11, V12, V16, V18, V21, V22, V29, V30, V32, V37, V40, V41, V42, V43, V44, V47, V51, V53, V57, V58, V64, V67, V73, V75, V80, V81, V82, V83"
   ]
  },
  {
   "cell_type": "code",
   "execution_count": 83,
   "metadata": {},
   "outputs": [
    {
     "data": {
      "text/html": [
       "'V6+V7+V9+V11+V12+V16+V18+V21+V22+V29+V30+V32+V37+V40+V41+V42+V43+V44+V47+V51+V53+V57+V58+V64+V67+V73+V75+V80+V81+V82+V83'"
      ],
      "text/latex": [
       "'V6+V7+V9+V11+V12+V16+V18+V21+V22+V29+V30+V32+V37+V40+V41+V42+V43+V44+V47+V51+V53+V57+V58+V64+V67+V73+V75+V80+V81+V82+V83'"
      ],
      "text/markdown": [
       "'V6+V7+V9+V11+V12+V16+V18+V21+V22+V29+V30+V32+V37+V40+V41+V42+V43+V44+V47+V51+V53+V57+V58+V64+V67+V73+V75+V80+V81+V82+V83'"
      ],
      "text/plain": [
       "[1] \"V6+V7+V9+V11+V12+V16+V18+V21+V22+V29+V30+V32+V37+V40+V41+V42+V43+V44+V47+V51+V53+V57+V58+V64+V67+V73+V75+V80+V81+V82+V83\""
      ]
     },
     "metadata": {},
     "output_type": "display_data"
    }
   ],
   "source": [
    "lasso_3_coef <- data.frame(\"coef\" = coef(lasso_3_model)[,1])\n",
    "lasso_3_var <- paste(rownames(lasso_3_coef[lasso_3_coef$coef != 0, , drop=F][-1, ,drop=F]) , collapse = \"+\", sep = \"\")\n",
    "lasso_3_var"
   ]
  },
  {
   "cell_type": "code",
   "execution_count": 84,
   "metadata": {},
   "outputs": [],
   "source": [
    "glm_3_lasso <- glm(V86 ~ V6+V7+V9+V11+V12+V16+V18+V21+V22+V29+V30+V32+V37+\n",
    "                           V40+V41+V42+V43+V44+V47+V51+V53+V57+V58+V64+V67+V73+V75+V80+V81+V82+V83\n",
    "                   , data = glm_3_data, \n",
    "                   family = binomial(link = \"logit\"))"
   ]
  },
  {
   "cell_type": "code",
   "execution_count": 85,
   "metadata": {
    "scrolled": false
   },
   "outputs": [
    {
     "data": {
      "text/plain": [
       "\n",
       "Call:\n",
       "glm(formula = V86 ~ V6 + V7 + V9 + V11 + V12 + V16 + V18 + V21 + \n",
       "    V22 + V29 + V30 + V32 + V37 + V40 + V41 + V42 + V43 + V44 + \n",
       "    V47 + V51 + V53 + V57 + V58 + V64 + V67 + V73 + V75 + V80 + \n",
       "    V81 + V82 + V83, family = binomial(link = \"logit\"), data = glm_3_data)\n",
       "\n",
       "Deviance Residuals: \n",
       "    Min       1Q   Median       3Q      Max  \n",
       "-1.5928  -0.3806  -0.2573  -0.1721   3.1492  \n",
       "\n",
       "Coefficients:\n",
       "              Estimate Std. Error z value Pr(>|z|)    \n",
       "(Intercept)  -4.211132   0.778003  -5.413 6.21e-08 ***\n",
       "V6           -0.101226   0.077108  -1.313  0.18926    \n",
       "V7           -0.003291   0.065079  -0.051  0.95967    \n",
       "V9           -0.050982   0.062270  -0.819  0.41295    \n",
       "V11          -0.118445   0.067842  -1.746  0.08083 .  \n",
       "V12          -0.021359   0.043601  -0.490  0.62423    \n",
       "V16           0.067747   0.045334   1.494  0.13508    \n",
       "V18          -0.045748   0.037791  -1.211  0.22607    \n",
       "V21          -0.179407   0.080920  -2.217  0.02662 *  \n",
       "V22           0.052347   0.032622   1.605  0.10857    \n",
       "V29          -0.037063   0.061227  -0.605  0.54496    \n",
       "V30          -0.037233   0.025027  -1.488  0.13683    \n",
       "V32           0.051524   0.043751   1.178  0.23893    \n",
       "V37          -0.007767   0.044404  -0.175  0.86115    \n",
       "V40           0.061844   0.060792   1.017  0.30901    \n",
       "V41          -0.194602   0.121806  -1.598  0.11012    \n",
       "V42           0.045711   0.077171   0.592  0.55362    \n",
       "V43           0.052095   0.036344   1.433  0.15175    \n",
       "V44           0.182841   0.074089   2.468  0.01359 *  \n",
       "V47           0.231366   0.024406   9.480  < 2e-16 ***\n",
       "V51           0.236588   0.233513   1.013  0.31098    \n",
       "V53          -5.078926 152.378184  -0.033  0.97341    \n",
       "V57           0.191671   0.192187   0.997  0.31861    \n",
       "V58           0.264533   0.100133   2.642  0.00825 ** \n",
       "V64           0.127062   0.091964   1.382  0.16708    \n",
       "V67          -0.650455   0.688904  -0.944  0.34507    \n",
       "V73          -0.181661   0.400817  -0.453  0.65039    \n",
       "V75          -0.358213   0.365048  -0.981  0.32646    \n",
       "V80           0.236242   0.133327   1.772  0.07641 .  \n",
       "V81           1.291291   1.437490   0.898  0.36903    \n",
       "V82           2.061233   0.382340   5.391 7.00e-08 ***\n",
       "V83           0.468379   0.200036   2.341  0.01921 *  \n",
       "---\n",
       "Signif. codes:  0 '***' 0.001 '**' 0.01 '*' 0.05 '.' 0.1 ' ' 1\n",
       "\n",
       "(Dispersion parameter for binomial family taken to be 1)\n",
       "\n",
       "    Null deviance: 2635.5  on 5821  degrees of freedom\n",
       "Residual deviance: 2306.5  on 5790  degrees of freedom\n",
       "AIC: 2370.5\n",
       "\n",
       "Number of Fisher Scoring iterations: 15\n"
      ]
     },
     "metadata": {},
     "output_type": "display_data"
    }
   ],
   "source": [
    "glm_3_lasso_sum <- summary(glm_3_lasso)\n",
    "glm_3_lasso_sum"
   ]
  },
  {
   "cell_type": "markdown",
   "metadata": {},
   "source": [
    "#### GOODNESS OF MODEL COMPARISON BETWEEN MODEL FITTING FOR DIFFERENT NUMBER OF PREDICTORS AND TECHNIQUES"
   ]
  },
  {
   "cell_type": "code",
   "execution_count": 86,
   "metadata": {},
   "outputs": [
    {
     "data": {
      "text/html": [
       "2428.75694492758"
      ],
      "text/latex": [
       "2428.75694492758"
      ],
      "text/markdown": [
       "2428.75694492758"
      ],
      "text/plain": [
       "[1] 2428.757"
      ]
     },
     "metadata": {},
     "output_type": "display_data"
    },
    {
     "data": {
      "text/html": [
       "2415.48562841277"
      ],
      "text/latex": [
       "2415.48562841277"
      ],
      "text/markdown": [
       "2415.48562841277"
      ],
      "text/plain": [
       "[1] 2415.486"
      ]
     },
     "metadata": {},
     "output_type": "display_data"
    },
    {
     "data": {
      "text/html": [
       "2407.87711159815"
      ],
      "text/latex": [
       "2407.87711159815"
      ],
      "text/markdown": [
       "2407.87711159815"
      ],
      "text/plain": [
       "[1] 2407.877"
      ]
     },
     "metadata": {},
     "output_type": "display_data"
    },
    {
     "data": {
      "text/html": [
       "2356.08467235943"
      ],
      "text/latex": [
       "2356.08467235943"
      ],
      "text/markdown": [
       "2356.08467235943"
      ],
      "text/plain": [
       "[1] 2356.085"
      ]
     },
     "metadata": {},
     "output_type": "display_data"
    },
    {
     "data": {
      "text/html": [
       "2359.79572278296"
      ],
      "text/latex": [
       "2359.79572278296"
      ],
      "text/markdown": [
       "2359.79572278296"
      ],
      "text/plain": [
       "[1] 2359.796"
      ]
     },
     "metadata": {},
     "output_type": "display_data"
    },
    {
     "data": {
      "text/html": [
       "2386.17404878857"
      ],
      "text/latex": [
       "2386.17404878857"
      ],
      "text/markdown": [
       "2386.17404878857"
      ],
      "text/plain": [
       "[1] 2386.174"
      ]
     },
     "metadata": {},
     "output_type": "display_data"
    },
    {
     "data": {
      "text/html": [
       "2375.66698537397"
      ],
      "text/latex": [
       "2375.66698537397"
      ],
      "text/markdown": [
       "2375.66698537397"
      ],
      "text/plain": [
       "[1] 2375.667"
      ]
     },
     "metadata": {},
     "output_type": "display_data"
    },
    {
     "data": {
      "text/html": [
       "2370.50742503548"
      ],
      "text/latex": [
       "2370.50742503548"
      ],
      "text/markdown": [
       "2370.50742503548"
      ],
      "text/plain": [
       "[1] 2370.507"
      ]
     },
     "metadata": {},
     "output_type": "display_data"
    }
   ],
   "source": [
    "# AIC score from glm_1\n",
    "summary(glm_1)$aic\n",
    "\n",
    "# AIC score from glm_2\n",
    "summary(glm_2)$aic\n",
    "\n",
    "# AIC score from glm_3\n",
    "summary(glm_3)$aic\n",
    "\n",
    "# AIC score from glm_3 with forward step\n",
    "summary(glm_3_fwd_20)$aic\n",
    "summary(glm_3_fwd_27)$aic\n",
    "summary(glm_3_fwd_6)$aic\n",
    "\n",
    "# AIC score from glm_3 with backward step\n",
    "summary(glm_3_bckw_7)$aic\n",
    "\n",
    "#AIC score from glm_3 with lasso regularisation\n",
    "summary(glm_3_lasso)$aic"
   ]
  },
  {
   "cell_type": "markdown",
   "metadata": {},
   "source": [
    "Above is the summary of different number of AIC score using different number of predictors and techniques. The result for each experiment is explained below.\n",
    "* AIC score from glm_1 -> Using 8 variables taken from the high number of standard deviation of the predictors\n",
    "    * __2428.75__\n",
    "* AIC score from glm_2 -> Using all variables in the dataset as the predictors\n",
    "    * __2415.49__\n",
    "* AIC score from glm_3 -> Using variables from the ones that have been excluded due to multicollinearity, and high correlation towards the response variable\n",
    "    * __2407.88__\n",
    "* AIC score from glm_3_fwd_20 with forward step -> Using number of variables taken from the forward step techniques which have lowest Mallows' Cp error\n",
    "    * __2356.08__\n",
    "* AIC score from glm_3_fwd_27 with forward step -> Using number of variables taken from the forward step techniques which have highest Adjusted $R^2$\n",
    "    * __2359.79__\n",
    "* AIC score from glm_3_fwd_6 with forward step -> Using number of variables taken from the forward step techniques which have lowest Residual Sum of Squared Error\n",
    "    * __2386.17__\n",
    "* AIC score from glm_3_bckw_7 with backward step -> Using number of variables taken from the backward step techniques which have lowest BIC Error\n",
    "    * __2375.66__\n",
    "* AIC score from glm_3_lasso -> Using number of variables taken after performing lasso regression to the glm_3 data\n",
    "    * __2370.51__"
   ]
  },
  {
   "cell_type": "code",
   "execution_count": 87,
   "metadata": {},
   "outputs": [],
   "source": [
    "test_data_complete <- data.frame(cbind(test_data[ , colnames(test_data) %in% colnames(glm_3_data)], targets))\n",
    "colnames(test_data_complete)[ncol(test_data_complete)] <- \"V86\""
   ]
  },
  {
   "cell_type": "markdown",
   "metadata": {},
   "source": [
    "## 3.) Prediction"
   ]
  },
  {
   "cell_type": "markdown",
   "metadata": {},
   "source": [
    "#### 3.1) Predicting using glm_3_fwd_27 model"
   ]
  },
  {
   "cell_type": "code",
   "execution_count": 88,
   "metadata": {},
   "outputs": [],
   "source": [
    "glm_3_test <- data.frame(cbind(test_data[ , colnames(test_data) %in% (variable.names(glm_3_fwd_27)[-1])] , targets))\n",
    "colnames(glm_3_test)[ncol(glm_3_test)] <- \"V86\"\n",
    "\n",
    "glm_3_test_x <- glm_3_test[ , 1:(ncol(glm_3_test)-1)] #model.matrix(V86 ~ . , data = glm_3_test)[ , -1] \n",
    "glm_3_test_y <- glm_3_test[ , \"V86\"]\n",
    "\n",
    "glm_3_probs <- predict(glm_3_fwd_27, glm_3_test_x , type = \"response\")"
   ]
  },
  {
   "cell_type": "code",
   "execution_count": 89,
   "metadata": {
    "scrolled": true
   },
   "outputs": [
    {
     "data": {
      "text/html": [
       "<ol class=list-inline>\n",
       "\t<li>0</li>\n",
       "\t<li>0.005</li>\n",
       "\t<li>0.01</li>\n",
       "\t<li>0.015</li>\n",
       "\t<li>0.02</li>\n",
       "\t<li>0.025</li>\n",
       "\t<li>0.03</li>\n",
       "\t<li>0.035</li>\n",
       "\t<li>0.04</li>\n",
       "\t<li>0.045</li>\n",
       "\t<li>0.05</li>\n",
       "\t<li>0.055</li>\n",
       "\t<li>0.06</li>\n",
       "\t<li>0.065</li>\n",
       "\t<li>0.07</li>\n",
       "\t<li>0.075</li>\n",
       "\t<li>0.08</li>\n",
       "\t<li>0.085</li>\n",
       "\t<li>0.09</li>\n",
       "\t<li>0.095</li>\n",
       "\t<li>0.1</li>\n",
       "\t<li>0.105</li>\n",
       "\t<li>0.11</li>\n",
       "\t<li>0.115</li>\n",
       "\t<li>0.12</li>\n",
       "\t<li>0.125</li>\n",
       "\t<li>0.13</li>\n",
       "\t<li>0.135</li>\n",
       "\t<li>0.14</li>\n",
       "\t<li>0.145</li>\n",
       "\t<li>0.15</li>\n",
       "\t<li>0.155</li>\n",
       "\t<li>0.16</li>\n",
       "\t<li>0.165</li>\n",
       "\t<li>0.17</li>\n",
       "\t<li>0.175</li>\n",
       "\t<li>0.18</li>\n",
       "\t<li>0.185</li>\n",
       "\t<li>0.19</li>\n",
       "\t<li>0.195</li>\n",
       "\t<li>0.2</li>\n",
       "\t<li>0.205</li>\n",
       "\t<li>0.21</li>\n",
       "\t<li>0.215</li>\n",
       "\t<li>0.22</li>\n",
       "\t<li>0.225</li>\n",
       "\t<li>0.23</li>\n",
       "\t<li>0.235</li>\n",
       "\t<li>0.24</li>\n",
       "\t<li>0.245</li>\n",
       "\t<li>0.25</li>\n",
       "\t<li>0.255</li>\n",
       "\t<li>0.26</li>\n",
       "\t<li>0.265</li>\n",
       "\t<li>0.27</li>\n",
       "\t<li>0.275</li>\n",
       "\t<li>0.28</li>\n",
       "\t<li>0.285</li>\n",
       "\t<li>0.29</li>\n",
       "\t<li>0.295</li>\n",
       "\t<li>0.3</li>\n",
       "\t<li>0.305</li>\n",
       "\t<li>0.31</li>\n",
       "\t<li>0.315</li>\n",
       "\t<li>0.32</li>\n",
       "\t<li>0.325</li>\n",
       "\t<li>0.33</li>\n",
       "\t<li>0.335</li>\n",
       "\t<li>0.34</li>\n",
       "\t<li>0.345</li>\n",
       "\t<li>0.35</li>\n",
       "\t<li>0.355</li>\n",
       "\t<li>0.36</li>\n",
       "\t<li>0.365</li>\n",
       "\t<li>0.37</li>\n",
       "\t<li>0.375</li>\n",
       "\t<li>0.38</li>\n",
       "\t<li>0.385</li>\n",
       "\t<li>0.39</li>\n",
       "\t<li>0.395</li>\n",
       "\t<li>0.4</li>\n",
       "\t<li>0.405</li>\n",
       "\t<li>0.41</li>\n",
       "\t<li>0.415</li>\n",
       "\t<li>0.42</li>\n",
       "\t<li>0.425</li>\n",
       "\t<li>0.43</li>\n",
       "\t<li>0.435</li>\n",
       "\t<li>0.44</li>\n",
       "\t<li>0.445</li>\n",
       "\t<li>0.45</li>\n",
       "\t<li>0.455</li>\n",
       "\t<li>0.46</li>\n",
       "\t<li>0.465</li>\n",
       "\t<li>0.47</li>\n",
       "\t<li>0.475</li>\n",
       "\t<li>0.48</li>\n",
       "\t<li>0.485</li>\n",
       "\t<li>0.49</li>\n",
       "\t<li>0.495</li>\n",
       "\t<li>0.5</li>\n",
       "</ol>\n"
      ],
      "text/latex": [
       "\\begin{enumerate*}\n",
       "\\item 0\n",
       "\\item 0.005\n",
       "\\item 0.01\n",
       "\\item 0.015\n",
       "\\item 0.02\n",
       "\\item 0.025\n",
       "\\item 0.03\n",
       "\\item 0.035\n",
       "\\item 0.04\n",
       "\\item 0.045\n",
       "\\item 0.05\n",
       "\\item 0.055\n",
       "\\item 0.06\n",
       "\\item 0.065\n",
       "\\item 0.07\n",
       "\\item 0.075\n",
       "\\item 0.08\n",
       "\\item 0.085\n",
       "\\item 0.09\n",
       "\\item 0.095\n",
       "\\item 0.1\n",
       "\\item 0.105\n",
       "\\item 0.11\n",
       "\\item 0.115\n",
       "\\item 0.12\n",
       "\\item 0.125\n",
       "\\item 0.13\n",
       "\\item 0.135\n",
       "\\item 0.14\n",
       "\\item 0.145\n",
       "\\item 0.15\n",
       "\\item 0.155\n",
       "\\item 0.16\n",
       "\\item 0.165\n",
       "\\item 0.17\n",
       "\\item 0.175\n",
       "\\item 0.18\n",
       "\\item 0.185\n",
       "\\item 0.19\n",
       "\\item 0.195\n",
       "\\item 0.2\n",
       "\\item 0.205\n",
       "\\item 0.21\n",
       "\\item 0.215\n",
       "\\item 0.22\n",
       "\\item 0.225\n",
       "\\item 0.23\n",
       "\\item 0.235\n",
       "\\item 0.24\n",
       "\\item 0.245\n",
       "\\item 0.25\n",
       "\\item 0.255\n",
       "\\item 0.26\n",
       "\\item 0.265\n",
       "\\item 0.27\n",
       "\\item 0.275\n",
       "\\item 0.28\n",
       "\\item 0.285\n",
       "\\item 0.29\n",
       "\\item 0.295\n",
       "\\item 0.3\n",
       "\\item 0.305\n",
       "\\item 0.31\n",
       "\\item 0.315\n",
       "\\item 0.32\n",
       "\\item 0.325\n",
       "\\item 0.33\n",
       "\\item 0.335\n",
       "\\item 0.34\n",
       "\\item 0.345\n",
       "\\item 0.35\n",
       "\\item 0.355\n",
       "\\item 0.36\n",
       "\\item 0.365\n",
       "\\item 0.37\n",
       "\\item 0.375\n",
       "\\item 0.38\n",
       "\\item 0.385\n",
       "\\item 0.39\n",
       "\\item 0.395\n",
       "\\item 0.4\n",
       "\\item 0.405\n",
       "\\item 0.41\n",
       "\\item 0.415\n",
       "\\item 0.42\n",
       "\\item 0.425\n",
       "\\item 0.43\n",
       "\\item 0.435\n",
       "\\item 0.44\n",
       "\\item 0.445\n",
       "\\item 0.45\n",
       "\\item 0.455\n",
       "\\item 0.46\n",
       "\\item 0.465\n",
       "\\item 0.47\n",
       "\\item 0.475\n",
       "\\item 0.48\n",
       "\\item 0.485\n",
       "\\item 0.49\n",
       "\\item 0.495\n",
       "\\item 0.5\n",
       "\\end{enumerate*}\n"
      ],
      "text/markdown": [
       "1. 0\n",
       "2. 0.005\n",
       "3. 0.01\n",
       "4. 0.015\n",
       "5. 0.02\n",
       "6. 0.025\n",
       "7. 0.03\n",
       "8. 0.035\n",
       "9. 0.04\n",
       "10. 0.045\n",
       "11. 0.05\n",
       "12. 0.055\n",
       "13. 0.06\n",
       "14. 0.065\n",
       "15. 0.07\n",
       "16. 0.075\n",
       "17. 0.08\n",
       "18. 0.085\n",
       "19. 0.09\n",
       "20. 0.095\n",
       "21. 0.1\n",
       "22. 0.105\n",
       "23. 0.11\n",
       "24. 0.115\n",
       "25. 0.12\n",
       "26. 0.125\n",
       "27. 0.13\n",
       "28. 0.135\n",
       "29. 0.14\n",
       "30. 0.145\n",
       "31. 0.15\n",
       "32. 0.155\n",
       "33. 0.16\n",
       "34. 0.165\n",
       "35. 0.17\n",
       "36. 0.175\n",
       "37. 0.18\n",
       "38. 0.185\n",
       "39. 0.19\n",
       "40. 0.195\n",
       "41. 0.2\n",
       "42. 0.205\n",
       "43. 0.21\n",
       "44. 0.215\n",
       "45. 0.22\n",
       "46. 0.225\n",
       "47. 0.23\n",
       "48. 0.235\n",
       "49. 0.24\n",
       "50. 0.245\n",
       "51. 0.25\n",
       "52. 0.255\n",
       "53. 0.26\n",
       "54. 0.265\n",
       "55. 0.27\n",
       "56. 0.275\n",
       "57. 0.28\n",
       "58. 0.285\n",
       "59. 0.29\n",
       "60. 0.295\n",
       "61. 0.3\n",
       "62. 0.305\n",
       "63. 0.31\n",
       "64. 0.315\n",
       "65. 0.32\n",
       "66. 0.325\n",
       "67. 0.33\n",
       "68. 0.335\n",
       "69. 0.34\n",
       "70. 0.345\n",
       "71. 0.35\n",
       "72. 0.355\n",
       "73. 0.36\n",
       "74. 0.365\n",
       "75. 0.37\n",
       "76. 0.375\n",
       "77. 0.38\n",
       "78. 0.385\n",
       "79. 0.39\n",
       "80. 0.395\n",
       "81. 0.4\n",
       "82. 0.405\n",
       "83. 0.41\n",
       "84. 0.415\n",
       "85. 0.42\n",
       "86. 0.425\n",
       "87. 0.43\n",
       "88. 0.435\n",
       "89. 0.44\n",
       "90. 0.445\n",
       "91. 0.45\n",
       "92. 0.455\n",
       "93. 0.46\n",
       "94. 0.465\n",
       "95. 0.47\n",
       "96. 0.475\n",
       "97. 0.48\n",
       "98. 0.485\n",
       "99. 0.49\n",
       "100. 0.495\n",
       "101. 0.5\n",
       "\n",
       "\n"
      ],
      "text/plain": [
       "  [1] 0.000 0.005 0.010 0.015 0.020 0.025 0.030 0.035 0.040 0.045 0.050 0.055\n",
       " [13] 0.060 0.065 0.070 0.075 0.080 0.085 0.090 0.095 0.100 0.105 0.110 0.115\n",
       " [25] 0.120 0.125 0.130 0.135 0.140 0.145 0.150 0.155 0.160 0.165 0.170 0.175\n",
       " [37] 0.180 0.185 0.190 0.195 0.200 0.205 0.210 0.215 0.220 0.225 0.230 0.235\n",
       " [49] 0.240 0.245 0.250 0.255 0.260 0.265 0.270 0.275 0.280 0.285 0.290 0.295\n",
       " [61] 0.300 0.305 0.310 0.315 0.320 0.325 0.330 0.335 0.340 0.345 0.350 0.355\n",
       " [73] 0.360 0.365 0.370 0.375 0.380 0.385 0.390 0.395 0.400 0.405 0.410 0.415\n",
       " [85] 0.420 0.425 0.430 0.435 0.440 0.445 0.450 0.455 0.460 0.465 0.470 0.475\n",
       " [97] 0.480 0.485 0.490 0.495 0.500"
      ]
     },
     "metadata": {},
     "output_type": "display_data"
    }
   ],
   "source": [
    "prob_seq <- seq(0,0.5, by = 0.005)\n",
    "prob_seq\n",
    "pred.glm_3_df <- data.frame(\"prob\" = prob_seq, \"sensitivity\" = 0, \"specificity\" = 0, accuracy = 0)\n",
    "pred.num_cust <- data.frame(\"prob\" = prob_seq, \"num_of_customer\" = 0)"
   ]
  },
  {
   "cell_type": "code",
   "execution_count": 90,
   "metadata": {},
   "outputs": [],
   "source": [
    "for (i in 1:length(prob_seq)){\n",
    "    pred.glm_3 <- rep(0, length(glm_3_probs))\n",
    "    pred.glm_3[glm_3_probs > prob_seq[i]] <- 1\n",
    "    pred.glm_3_df[pred.glm_3_df$prob == prob_seq[i], \"sensitivity\"] <- sensitivity(as.factor(pred.glm_3), as.factor(glm_3_test_y), positive = \"1\")\n",
    "    pred.glm_3_df[pred.glm_3_df$prob == prob_seq[i], \"specificity\"] <- sensitivity(as.factor(pred.glm_3), as.factor(glm_3_test_y), positive = \"0\")\n",
    "    pred.glm_3_df[pred.glm_3_df$prob == prob_seq[i], \"accuracy\"] <- mean(pred.glm_3 == glm_3_test_y)\n",
    "    \n",
    "    pred.num_cust[pred.num_cust$prob == prob_seq[i], \"num_of_customer\"] <- sum(pred.glm_3)\n",
    "}"
   ]
  },
  {
   "cell_type": "code",
   "execution_count": 91,
   "metadata": {},
   "outputs": [
    {
     "data": {
      "image/png": "[encoded data removed]",
      "text/plain": [
       "plot without title"
      ]
     },
     "metadata": {},
     "output_type": "display_data"
    }
   ],
   "source": [
    "pred.glm_3_df_m <- melt(pred.glm_3_df, id = \"prob\")\n",
    "plot_1 <- ggplot(pred.glm_3_df_m, aes(x = prob, y = value))+\n",
    "    geom_line(aes(col = variable), size = 0.9)+\n",
    "    ggtitle(\"Sensitivity vs Specificity & Accuracy Trade-Off\") +\n",
    "    scale_color_discrete(\"Measurement\") +\n",
    "    scale_x_continuous(\"Probability Threshold\") +\n",
    "    theme(plot.title = element_text(hjust = 0.5))\n",
    "\n",
    "plot_2 <- ggplot(pred.num_cust, aes(x = prob, y = num_of_customer))+\n",
    "    geom_line(size = 0.9, col=\"cyan\")+\n",
    "    ggtitle(\"Number of Customer Prediction\") +\n",
    "    theme(plot.title = element_text(hjust = 0.5)) +\n",
    "    scale_x_continuous(\"Probability Threshold\") +\n",
    "    scale_y_continuous(\"Number of Predicted Customers\")\n",
    "grid.arrange(plot_1, plot_2, nrow=2)"
   ]
  },
  {
   "cell_type": "markdown",
   "metadata": {},
   "source": [
    "The *first* plot above shows the trade off between sensitivity (True Positive) and specificity (True Negative) trade off for prediction probability threshold 0 to 0.5. The true positive in this case is the customers who actually purchased the caravan policy, and correctly predicted. While the true negative are the ones who did not buy caravan policy and predicted that they indeed did not buy policy.\n",
    "\n",
    "When we set the predicted probability threshold to 0, the sensitivity for positive = 1 had its peak, because we force all the value to 1, but the trade off happened to the overall accuracy of the model which only had around 6%.\n",
    "\n",
    "When the probability for prediction set to 0.1, the sensitivity for the positive = 1 increased, but the specificity becomes low. Lastly, when prediction probability set to 0.5, the sensitivity becomes low while the specificity gets higher. If we set the probability to 0.1, that means we would get more number of potential customers but with lower probability, and if we set the probability to 0.5, there is a higher probability with lower number of customers. "
   ]
  },
  {
   "cell_type": "markdown",
   "metadata": {},
   "source": [
    "The *second* plot shows the number of predicted customers who will buy caravan policy for different probability threshold. It can be observed that when the threshold is low, all customers are predicted to buy the policy, and this number decreased if the threshold increased. In order to get prediction of roughly 800 customers, the threshold lies between __0.05 and 0.1__. Thus we can estimate the true threshold between this range."
   ]
  },
  {
   "cell_type": "code",
   "execution_count": 92,
   "metadata": {},
   "outputs": [
    {
     "data": {
      "text/html": [
       "<ol class=list-inline>\n",
       "\t<li>2.22044604925031e-16</li>\n",
       "\t<li>0.898651639492281</li>\n",
       "</ol>\n"
      ],
      "text/latex": [
       "\\begin{enumerate*}\n",
       "\\item 2.22044604925031e-16\n",
       "\\item 0.898651639492281\n",
       "\\end{enumerate*}\n"
      ],
      "text/markdown": [
       "1. 2.22044604925031e-16\n",
       "2. 0.898651639492281\n",
       "\n",
       "\n"
      ],
      "text/plain": [
       "[1] 2.220446e-16 8.986516e-01"
      ]
     },
     "metadata": {},
     "output_type": "display_data"
    },
    {
     "data": {
      "text/plain": [
       "Confusion Matrix and Statistics\n",
       "\n",
       "          glm_3_test_y\n",
       "pred.glm_3    0    1\n",
       "         0 3071  129\n",
       "         1  691  109\n",
       "                                          \n",
       "               Accuracy : 0.795           \n",
       "                 95% CI : (0.7822, 0.8074)\n",
       "    No Information Rate : 0.9405          \n",
       "    P-Value [Acc > NIR] : 1               \n",
       "                                          \n",
       "                  Kappa : 0.1303          \n",
       " Mcnemar's Test P-Value : <2e-16          \n",
       "                                          \n",
       "            Sensitivity : 0.45798         \n",
       "            Specificity : 0.81632         \n",
       "         Pos Pred Value : 0.13625         \n",
       "         Neg Pred Value : 0.95969         \n",
       "             Prevalence : 0.05950         \n",
       "         Detection Rate : 0.02725         \n",
       "   Detection Prevalence : 0.20000         \n",
       "      Balanced Accuracy : 0.63715         \n",
       "                                          \n",
       "       'Positive' Class : 1               \n",
       "                                          "
      ]
     },
     "metadata": {},
     "output_type": "display_data"
    }
   ],
   "source": [
    "glm_3_probs <- predict(glm_3_fwd_27, glm_3_test_x , type = \"response\")\n",
    "range(glm_3_probs)\n",
    "\n",
    "pred.glm_3 <- rep(0, length(glm_3_probs))\n",
    "pred.glm_3[glm_3_probs > 0.092] <- 1\n",
    "\n",
    "\n",
    "cm.glm_3 <- confusionMatrix(table(pred.glm_3, glm_3_test_y) , positive = \"1\")\n",
    "cm.glm_3"
   ]
  },
  {
   "cell_type": "markdown",
   "metadata": {},
   "source": [
    "With the predicted probability threshold of __0.092 (9.2%)__ ranging from __2.22044604925031e-16__ to __0.898651639492281__, it can be summarised:\n",
    "* The total customers who were predicted 1 (True Positive + True Negative) is equal to __800__\n",
    "* The Number of customers who were predicted to buy the policy and actually bought the policy (True Positive) is __109__, with Sensitivity of __0.458 (46%)__. \n",
    "    * This means almost half of the actual customers who bought the policy were correctly predicted.\n",
    "* The Overall accuracy of the model is __0.795 (80%)__"
   ]
  },
  {
   "cell_type": "code",
   "execution_count": null,
   "metadata": {},
   "outputs": [],
   "source": []
  },
  {
   "cell_type": "markdown",
   "metadata": {},
   "source": [
    "#### 3.2) Predicting using glm_3_fwd_20 model"
   ]
  },
  {
   "cell_type": "code",
   "execution_count": 93,
   "metadata": {},
   "outputs": [
    {
     "data": {
      "text/html": [
       "<ol class=list-inline>\n",
       "\t<li>0.00209569665821559</li>\n",
       "\t<li>0.901412846950205</li>\n",
       "</ol>\n"
      ],
      "text/latex": [
       "\\begin{enumerate*}\n",
       "\\item 0.00209569665821559\n",
       "\\item 0.901412846950205\n",
       "\\end{enumerate*}\n"
      ],
      "text/markdown": [
       "1. 0.00209569665821559\n",
       "2. 0.901412846950205\n",
       "\n",
       "\n"
      ],
      "text/plain": [
       "[1] 0.002095697 0.901412847"
      ]
     },
     "metadata": {},
     "output_type": "display_data"
    },
    {
     "data": {
      "text/html": [
       "800"
      ],
      "text/latex": [
       "800"
      ],
      "text/markdown": [
       "800"
      ],
      "text/plain": [
       "[1] 800"
      ]
     },
     "metadata": {},
     "output_type": "display_data"
    },
    {
     "data": {
      "text/plain": [
       "Confusion Matrix and Statistics\n",
       "\n",
       "          test_20var_y\n",
       "pred.20var    0    1\n",
       "         0 3075  125\n",
       "         1  687  113\n",
       "                                          \n",
       "               Accuracy : 0.797           \n",
       "                 95% CI : (0.7842, 0.8094)\n",
       "    No Information Rate : 0.9405          \n",
       "    P-Value [Acc > NIR] : 1               \n",
       "                                          \n",
       "                  Kappa : 0.1387          \n",
       " Mcnemar's Test P-Value : <2e-16          \n",
       "                                          \n",
       "            Sensitivity : 0.47479         \n",
       "            Specificity : 0.81738         \n",
       "         Pos Pred Value : 0.14125         \n",
       "         Neg Pred Value : 0.96094         \n",
       "             Prevalence : 0.05950         \n",
       "         Detection Rate : 0.02825         \n",
       "   Detection Prevalence : 0.20000         \n",
       "      Balanced Accuracy : 0.64609         \n",
       "                                          \n",
       "       'Positive' Class : 1               \n",
       "                                          "
      ]
     },
     "metadata": {},
     "output_type": "display_data"
    }
   ],
   "source": [
    "test_20var <- cbind(test_data[ , colnames(test_data) %in% variable.names(glm_3_fwd_20)[-1]] , targets)\n",
    "colnames(test_20var)[ncol(test_20var)] <- \"V86\"\n",
    "\n",
    "test_20var_x <- test_20var[ , -ncol(test_20var)]\n",
    "test_20var_y <- test_20var[ , ncol(test_20var)]\n",
    "\n",
    "probs.20var <- predict(glm_3_fwd_20 , test_20var_x , type = \"response\")\n",
    "\n",
    "range(probs.20var)\n",
    "\n",
    "pred.20var <- rep(0, length(probs.20var))\n",
    "pred.20var[probs.20var > 0.0906] <- 1\n",
    "sum(pred.20var)\n",
    "\n",
    "cm.20var <- confusionMatrix(table(pred.20var, test_20var_y) , positive = \"1\")\n",
    "cm.20var"
   ]
  },
  {
   "cell_type": "markdown",
   "metadata": {},
   "source": [
    "Although by using 20 variables to fit the model gives the lowest AIC score compared to all, it does not prove that the prediction will get better. It can be seen that using 20 variable model, the probability threshold needed to be set a little bit lower than the model using 27 variables in order to get 800 predicted customers. With that being said, the sensitivity had gone up by 2% from the previous model. This means although the probability threshold was lower, the model had more correct prediction than 27 variables model."
   ]
  },
  {
   "cell_type": "markdown",
   "metadata": {},
   "source": [
    "#### 3.3) Predicting using Lasso"
   ]
  },
  {
   "cell_type": "code",
   "execution_count": 94,
   "metadata": {
    "scrolled": true
   },
   "outputs": [],
   "source": [
    "lasso_test <- data.frame(cbind(test_data, targets))\n",
    "colnames(lasso_test)[ncol(lasso_test)] <- \"V86\"\n",
    "\n",
    "lasso_test_x <- model.matrix(V86 ~ ., data = lasso_test)[ ,-1]\n",
    "lasso_test_x <- lasso_test_x[,colnames(lasso_test_x) %in% rownames(coefficients(lasso_3_model))[-1]]\n",
    "\n",
    "lasso_test_y <- lasso_test[,ncol(lasso_test)]"
   ]
  },
  {
   "cell_type": "code",
   "execution_count": 95,
   "metadata": {},
   "outputs": [],
   "source": [
    "lasso_probs <- predict(lasso_3_model ,newx = lasso_test_x, type = \"response\")"
   ]
  },
  {
   "cell_type": "code",
   "execution_count": 96,
   "metadata": {},
   "outputs": [
    {
     "data": {
      "text/plain": [
       "       s0          \n",
       " Min.   :0.004671  \n",
       " 1st Qu.:0.021916  \n",
       " Median :0.041473  \n",
       " Mean   :0.058782  \n",
       " 3rd Qu.:0.077585  \n",
       " Max.   :0.834055  "
      ]
     },
     "metadata": {},
     "output_type": "display_data"
    }
   ],
   "source": [
    "summary(lasso_probs)"
   ]
  },
  {
   "cell_type": "code",
   "execution_count": 97,
   "metadata": {},
   "outputs": [
    {
     "data": {
      "text/html": [
       "799"
      ],
      "text/latex": [
       "799"
      ],
      "text/markdown": [
       "799"
      ],
      "text/plain": [
       "[1] 799"
      ]
     },
     "metadata": {},
     "output_type": "display_data"
    },
    {
     "data": {
      "text/plain": [
       "Confusion Matrix and Statistics\n",
       "\n",
       "                glm_3_test_y\n",
       "pred.lasso_glm_3    0    1\n",
       "               0 3076  125\n",
       "               1  686  113\n",
       "                                          \n",
       "               Accuracy : 0.7972          \n",
       "                 95% CI : (0.7845, 0.8096)\n",
       "    No Information Rate : 0.9405          \n",
       "    P-Value [Acc > NIR] : 1               \n",
       "                                          \n",
       "                  Kappa : 0.139           \n",
       " Mcnemar's Test P-Value : <2e-16          \n",
       "                                          \n",
       "            Sensitivity : 0.47479         \n",
       "            Specificity : 0.81765         \n",
       "         Pos Pred Value : 0.14143         \n",
       "         Neg Pred Value : 0.96095         \n",
       "             Prevalence : 0.05950         \n",
       "         Detection Rate : 0.02825         \n",
       "   Detection Prevalence : 0.19975         \n",
       "      Balanced Accuracy : 0.64622         \n",
       "                                          \n",
       "       'Positive' Class : 1               \n",
       "                                          "
      ]
     },
     "metadata": {},
     "output_type": "display_data"
    }
   ],
   "source": [
    "pred.lasso_glm_3 <- rep(0, length(lasso_probs))\n",
    "pred.lasso_glm_3[lasso_probs > 0.0889] <- 1\n",
    "sum(pred.lasso_glm_3)\n",
    "confusionMatrix(table(pred.lasso_glm_3, glm_3_test_y), positive = \"1\")"
   ]
  },
  {
   "cell_type": "markdown",
   "metadata": {},
   "source": [
    "Using lasso regression the probability threshold had to be lowered down a little bit in order to get the expected 800 customers who would buy the caravan policy. There is a probability of __0.0889 (8.89%)__ to get __799 customers__ when predicting using this model. This model predicted lower probability compared to the previous one with 9.2% to get predicted 800 customers. On the other hand, the number of customers who were correctly predicted was higher in lasso regression compared to the previous model. Lasso had a true positive of 113 customers, while the previous model had a true positive of 109 customers."
   ]
  },
  {
   "cell_type": "markdown",
   "metadata": {},
   "source": [
    "#### 3.4) Predicting using Ridge Regression"
   ]
  },
  {
   "cell_type": "markdown",
   "metadata": {},
   "source": [
    "Trying to improve from 27 variable model."
   ]
  },
  {
   "cell_type": "code",
   "execution_count": 98,
   "metadata": {},
   "outputs": [],
   "source": [
    "# get variable from 27 variables model\n",
    "ridge_train <- train_data[ , colnames(train_data) %in% c(variable.names(glm_3_fwd_27)[-1], \"V86\")]\n",
    "ridge_train_x <- model.matrix(V86 ~ . , data = ridge_train)[,-1]\n",
    "ridge_train_y <- ridge_train[,\"V86\"]\n",
    "\n",
    "ridge_test <- data.frame(cbind(test_data,targets))\n",
    "colnames(ridge_test)[ncol(ridge_test)] <- \"V86\"\n",
    "ridge_test_x <- ridge_test[ , colnames(ridge_test) %in% c(variable.names(glm_3_fwd_27)[-1] , \"V86\")]\n",
    "ridge_test_x <- model.matrix(V86 ~ . , data = ridge_test_x)[,-1]\n",
    "ridge_test_y <- ridge_test[,\"V86\"]"
   ]
  },
  {
   "cell_type": "code",
   "execution_count": 99,
   "metadata": {},
   "outputs": [
    {
     "data": {
      "image/png": "[encoded data removed]",
      "text/plain": [
       "Plot with title \"RIDGE REGRESSION LAMBDAS\""
      ]
     },
     "metadata": {},
     "output_type": "display_data"
    }
   ],
   "source": [
    "set.seed(1234)\n",
    "\n",
    "cv.ridge_3 <- cv.glmnet(ridge_train_x, ridge_train_y, alpha = 0, family = \"binomial\")\n",
    "\n",
    "plot(cv.ridge_3, main = \"RIDGE REGRESSION LAMBDAS\")"
   ]
  },
  {
   "cell_type": "code",
   "execution_count": 100,
   "metadata": {},
   "outputs": [
    {
     "data": {
      "text/html": [
       "0.00826462938104008"
      ],
      "text/latex": [
       "0.00826462938104008"
      ],
      "text/markdown": [
       "0.00826462938104008"
      ],
      "text/plain": [
       "[1] 0.008264629"
      ]
     },
     "metadata": {},
     "output_type": "display_data"
    }
   ],
   "source": [
    "ridge_3_min_lambda <- cv.ridge_3$lambda.min\n",
    "ridge_3_min_lambda"
   ]
  },
  {
   "cell_type": "code",
   "execution_count": 101,
   "metadata": {
    "scrolled": true
   },
   "outputs": [
    {
     "data": {
      "text/html": [
       "<dl class=dl-horizontal>\n",
       "\t<dt>(Intercept)</dt>\n",
       "\t\t<dd>-4.51383238434824</dd>\n",
       "\t<dt>V6</dt>\n",
       "\t\t<dd>-0.0770793588405726</dd>\n",
       "\t<dt>V9</dt>\n",
       "\t\t<dd>-0.047567571532533</dd>\n",
       "\t<dt>V11</dt>\n",
       "\t\t<dd>-0.100279294883846</dd>\n",
       "\t<dt>V16</dt>\n",
       "\t\t<dd>0.0733664982614124</dd>\n",
       "\t<dt>V18</dt>\n",
       "\t\t<dd>-0.0649384999509312</dd>\n",
       "\t<dt>V21</dt>\n",
       "\t\t<dd>-0.135805398665333</dd>\n",
       "\t<dt>V22</dt>\n",
       "\t\t<dd>0.0534026845773714</dd>\n",
       "\t<dt>V28</dt>\n",
       "\t\t<dd>0.0460680706809194</dd>\n",
       "\t<dt>V30</dt>\n",
       "\t\t<dd>-0.0364780525734847</dd>\n",
       "\t<dt>V32</dt>\n",
       "\t\t<dd>0.070715812574988</dd>\n",
       "\t<dt>V33</dt>\n",
       "\t\t<dd>0.0381495379933893</dd>\n",
       "\t<dt>V34</dt>\n",
       "\t\t<dd>-0.00686856322888463</dd>\n",
       "\t<dt>V40</dt>\n",
       "\t\t<dd>0.0481574269190252</dd>\n",
       "\t<dt>V41</dt>\n",
       "\t\t<dd>-0.166901433969192</dd>\n",
       "\t<dt>V42</dt>\n",
       "\t\t<dd>0.0637977543094238</dd>\n",
       "\t<dt>V43</dt>\n",
       "\t\t<dd>0.0527519013304297</dd>\n",
       "\t<dt>V44</dt>\n",
       "\t\t<dd>0.185547802838013</dd>\n",
       "\t<dt>V47</dt>\n",
       "\t\t<dd>0.191331830475679</dd>\n",
       "\t<dt>V53</dt>\n",
       "\t\t<dd>-0.381715870738083</dd>\n",
       "\t<dt>V57</dt>\n",
       "\t\t<dd>0.183024719706844</dd>\n",
       "\t<dt>V58</dt>\n",
       "\t\t<dd>0.241924187361339</dd>\n",
       "\t<dt>V64</dt>\n",
       "\t\t<dd>0.135520319749112</dd>\n",
       "\t<dt>V67</dt>\n",
       "\t\t<dd>-0.603737940600677</dd>\n",
       "\t<dt>V80</dt>\n",
       "\t\t<dd>0.210226366686275</dd>\n",
       "\t<dt>V81</dt>\n",
       "\t\t<dd>1.36773245333869</dd>\n",
       "\t<dt>V82</dt>\n",
       "\t\t<dd>1.97747525256248</dd>\n",
       "\t<dt>V83</dt>\n",
       "\t\t<dd>0.417052201002208</dd>\n",
       "</dl>\n"
      ],
      "text/latex": [
       "\\begin{description*}\n",
       "\\item[(Intercept)] -4.51383238434824\n",
       "\\item[V6] -0.0770793588405726\n",
       "\\item[V9] -0.047567571532533\n",
       "\\item[V11] -0.100279294883846\n",
       "\\item[V16] 0.0733664982614124\n",
       "\\item[V18] -0.0649384999509312\n",
       "\\item[V21] -0.135805398665333\n",
       "\\item[V22] 0.0534026845773714\n",
       "\\item[V28] 0.0460680706809194\n",
       "\\item[V30] -0.0364780525734847\n",
       "\\item[V32] 0.070715812574988\n",
       "\\item[V33] 0.0381495379933893\n",
       "\\item[V34] -0.00686856322888463\n",
       "\\item[V40] 0.0481574269190252\n",
       "\\item[V41] -0.166901433969192\n",
       "\\item[V42] 0.0637977543094238\n",
       "\\item[V43] 0.0527519013304297\n",
       "\\item[V44] 0.185547802838013\n",
       "\\item[V47] 0.191331830475679\n",
       "\\item[V53] -0.381715870738083\n",
       "\\item[V57] 0.183024719706844\n",
       "\\item[V58] 0.241924187361339\n",
       "\\item[V64] 0.135520319749112\n",
       "\\item[V67] -0.603737940600677\n",
       "\\item[V80] 0.210226366686275\n",
       "\\item[V81] 1.36773245333869\n",
       "\\item[V82] 1.97747525256248\n",
       "\\item[V83] 0.417052201002208\n",
       "\\end{description*}\n"
      ],
      "text/markdown": [
       "(Intercept)\n",
       ":   -4.51383238434824V6\n",
       ":   -0.0770793588405726V9\n",
       ":   -0.047567571532533V11\n",
       ":   -0.100279294883846V16\n",
       ":   0.0733664982614124V18\n",
       ":   -0.0649384999509312V21\n",
       ":   -0.135805398665333V22\n",
       ":   0.0534026845773714V28\n",
       ":   0.0460680706809194V30\n",
       ":   -0.0364780525734847V32\n",
       ":   0.070715812574988V33\n",
       ":   0.0381495379933893V34\n",
       ":   -0.00686856322888463V40\n",
       ":   0.0481574269190252V41\n",
       ":   -0.166901433969192V42\n",
       ":   0.0637977543094238V43\n",
       ":   0.0527519013304297V44\n",
       ":   0.185547802838013V47\n",
       ":   0.191331830475679V53\n",
       ":   -0.381715870738083V57\n",
       ":   0.183024719706844V58\n",
       ":   0.241924187361339V64\n",
       ":   0.135520319749112V67\n",
       ":   -0.603737940600677V80\n",
       ":   0.210226366686275V81\n",
       ":   1.36773245333869V82\n",
       ":   1.97747525256248V83\n",
       ":   0.417052201002208\n",
       "\n"
      ],
      "text/plain": [
       " (Intercept)           V6           V9          V11          V16          V18 \n",
       "-4.513832384 -0.077079359 -0.047567572 -0.100279295  0.073366498 -0.064938500 \n",
       "         V21          V22          V28          V30          V32          V33 \n",
       "-0.135805399  0.053402685  0.046068071 -0.036478053  0.070715813  0.038149538 \n",
       "         V34          V40          V41          V42          V43          V44 \n",
       "-0.006868563  0.048157427 -0.166901434  0.063797754  0.052751901  0.185547803 \n",
       "         V47          V53          V57          V58          V64          V67 \n",
       " 0.191331830 -0.381715871  0.183024720  0.241924187  0.135520320 -0.603737941 \n",
       "         V80          V81          V82          V83 \n",
       " 0.210226367  1.367732453  1.977475253  0.417052201 "
      ]
     },
     "metadata": {},
     "output_type": "display_data"
    }
   ],
   "source": [
    "ridge_3_model <- glmnet(ridge_train_x, ridge_train_y, alpha = 0, family = \"binomial\", lambda = ridge_3_min_lambda)\n",
    "coefficients(ridge_3_model)[,1]"
   ]
  },
  {
   "cell_type": "markdown",
   "metadata": {},
   "source": [
    "As can be seen, the ridge regression did not force any variables to absolute zero, rather than put penalty into approaching zero."
   ]
  },
  {
   "cell_type": "code",
   "execution_count": 102,
   "metadata": {},
   "outputs": [
    {
     "data": {
      "text/html": [
       "<ol class=list-inline>\n",
       "\t<li>0.00251632452600364</li>\n",
       "\t<li>0.86509961036173</li>\n",
       "</ol>\n"
      ],
      "text/latex": [
       "\\begin{enumerate*}\n",
       "\\item 0.00251632452600364\n",
       "\\item 0.86509961036173\n",
       "\\end{enumerate*}\n"
      ],
      "text/markdown": [
       "1. 0.00251632452600364\n",
       "2. 0.86509961036173\n",
       "\n",
       "\n"
      ],
      "text/plain": [
       "[1] 0.002516325 0.865099610"
      ]
     },
     "metadata": {},
     "output_type": "display_data"
    }
   ],
   "source": [
    "ridge.predict <- predict(ridge_3_model ,newx = ridge_test_x, type = \"response\")\n",
    "range(ridge.predict)"
   ]
  },
  {
   "cell_type": "code",
   "execution_count": 103,
   "metadata": {},
   "outputs": [
    {
     "data": {
      "text/html": [
       "799"
      ],
      "text/latex": [
       "799"
      ],
      "text/markdown": [
       "799"
      ],
      "text/plain": [
       "[1] 799"
      ]
     },
     "metadata": {},
     "output_type": "display_data"
    },
    {
     "data": {
      "text/plain": [
       "Confusion Matrix and Statistics\n",
       "\n",
       "           ridge_test_y\n",
       "ridge.probs    0    1\n",
       "          0 3068  133\n",
       "          1  694  105\n",
       "                                          \n",
       "               Accuracy : 0.7932          \n",
       "                 95% CI : (0.7804, 0.8057)\n",
       "    No Information Rate : 0.9405          \n",
       "    P-Value [Acc > NIR] : 1               \n",
       "                                          \n",
       "                  Kappa : 0.122           \n",
       " Mcnemar's Test P-Value : <2e-16          \n",
       "                                          \n",
       "            Sensitivity : 0.44118         \n",
       "            Specificity : 0.81552         \n",
       "         Pos Pred Value : 0.13141         \n",
       "         Neg Pred Value : 0.95845         \n",
       "             Prevalence : 0.05950         \n",
       "         Detection Rate : 0.02625         \n",
       "   Detection Prevalence : 0.19975         \n",
       "      Balanced Accuracy : 0.62835         \n",
       "                                          \n",
       "       'Positive' Class : 1               \n",
       "                                          "
      ]
     },
     "metadata": {},
     "output_type": "display_data"
    }
   ],
   "source": [
    "ridge.probs <- rep(0, length(ridge.predict))\n",
    "ridge.probs[ridge.predict > 0.0865] <- 1\n",
    "sum(ridge.probs)\n",
    "confusionMatrix(table(ridge.probs, ridge_test_y), positive = \"1\")"
   ]
  },
  {
   "cell_type": "markdown",
   "metadata": {},
   "source": [
    "Above is the summary statistic of prediction versus the truth using ridge regression which was the improvement of 27 variable model generated by forward step. Essentially, this part differentiates the model between logistic regression and ridge regression using the same number of predictors. Because the coefficients have been penalised due to ridge regression nature, the model had become less accurate. The ridge regression predicted that with the probability of __0.0865 (8.65%)__ there are __799 customers__ who would buy caravan policy. And within that number of customers, there are __105 customers__ who turned out bought the policy. This makes the sensitivity of this model is the lowest compared to the other 2 predictions made in the previous steps."
   ]
  },
  {
   "cell_type": "markdown",
   "metadata": {},
   "source": [
    "### PREDICTION COMPARISON SUMMARY\n",
    "1. __Prediction 1__ (Logistic Regression with 27 variables taken from forward step)\n",
    "    * Overall Accuracy: 0.795\n",
    "    * Probability threshold / boundary: 0.092\n",
    "    * Total number of predicted customers: 800\n",
    "    * Number of Correctly predicted (True Positive - predict 1 ; true 1): 109\n",
    "    * Number of Incorrectly predicted (False Positive - predict 1 ; true 0): 691\n",
    "    * Sensitivity: 0.45798\n",
    "2. __Prediction 2__ (Logistic Regression with 20 variables taken from forward step)\n",
    "    * Overall Accuracy: 0.797\n",
    "    * Probability threshold / boundary: 0.0906\n",
    "    * Total number of predicted customers: 800\n",
    "    * Number of Correctly predicted (True Positive - predict 1 ; true 1): 113\n",
    "    * Number of Incorrectly predicted (False Positive - predict 1 ; true 0): 687\n",
    "    * Sensitivity: 0.47479\n",
    "3. __Prediction 3__ (Lasso Regression with 57 variables from excluding multicollinearity and including high response variable correlation)\n",
    "    * Overall Accuracy: 0.7972\n",
    "    * Probability threshold / boundary: 0.0889\n",
    "    * Total number of predicted customers: 799\n",
    "    * Number of Correctly predicted (True Positive - predict 1 ; true 1): 113\n",
    "    * Number of Incorrectly predicted (False Positive - predict 1 ; true 0): 686\n",
    "    * Sensitivity: 0.47479\n",
    "4. __Prediction 4__ (Ridge Regression with 27 variables taken from forward step)\n",
    "    * Overall Accuracy: 0.7932\n",
    "    * Probability threshold / boundary: 0.0865\n",
    "    * Total number of predicted customers: 799\n",
    "    * Number of Correctly predicted (True Positive - predict 1 ; true 1): 105\n",
    "    * Number of Incorrectly predicted (False Positive - predict 1 ; true 0): 694\n",
    "    * Sensitivity: 0.44118"
   ]
  },
  {
   "cell_type": "markdown",
   "metadata": {},
   "source": [
    "####  In general, we want a prediction that has as high probability threshold as possible, with high number of correctly predicted, which resulted in higher sensitivity. From the prediction summary of 4 tested types of model types, Prediction 4 using Ridge Regression had the lowest Overall Accuracy, Probability Threshold, as well as the number of correctly predicted. Thus, this prediction does not have a good result. \n",
    "\n",
    "#### The second lowest prediction is Prediction 1 which used Logistic Regression using 27 variables taken from forward step feature selection. Although the probability threshold of this model is the highest compared to the others, it only gave 109 correctly predicted customers out of 800. This means there was a trade off of a higher probability to get 800 customers, but fewer people who got correctly predicted. And in general we wanted to pump up this number.\n",
    "\n",
    "#### Prediction 2 using Logistic regression using 20 variables taken from lowest Cp Error in forward step and Prediction 3 using Lasso Regression are NECK AND NECK. They were both had the same overall accuracy of 0.7972, they had the same correctly predicted 113 customers out of roughly 800 customers, and following that they both had the same sensitivity rate. The only difference is the probability threshold between them. The Prediction 3 of Lasso only had 0.0889 chance that the predicted number of customers were correct. Meanwhile, Prediction 2 of Logistic Regression had a higher chance with 0.0906 that the prediction was correct. To put it into perspective, people would prefer 9.1% chance of getting the prediction correct rather than only 8.9%. \n",
    "\n",
    "#### By comparing these 4 predictions, Prediction 2 come up as the winner compared to the other 3."
   ]
  },
  {
   "cell_type": "markdown",
   "metadata": {},
   "source": [
    "## 4.) Why customers buy caravan policy"
   ]
  },
  {
   "cell_type": "code",
   "execution_count": 104,
   "metadata": {},
   "outputs": [
    {
     "data": {
      "text/html": [
       "<ol class=list-inline>\n",
       "\t<li>800</li>\n",
       "\t<li>20</li>\n",
       "</ol>\n"
      ],
      "text/latex": [
       "\\begin{enumerate*}\n",
       "\\item 800\n",
       "\\item 20\n",
       "\\end{enumerate*}\n"
      ],
      "text/markdown": [
       "1. 800\n",
       "2. 20\n",
       "\n",
       "\n"
      ],
      "text/plain": [
       "[1] 800  20"
      ]
     },
     "metadata": {},
     "output_type": "display_data"
    },
    {
     "data": {
      "text/html": [
       "<table>\n",
       "<thead><tr><th></th><th scope=col>V6</th><th scope=col>V11</th><th scope=col>V16</th><th scope=col>V18</th><th scope=col>V21</th><th scope=col>V22</th><th scope=col>V28</th><th scope=col>V30</th><th scope=col>V41</th><th scope=col>V42</th><th scope=col>V43</th><th scope=col>V44</th><th scope=col>V47</th><th scope=col>V57</th><th scope=col>V58</th><th scope=col>V64</th><th scope=col>V67</th><th scope=col>V80</th><th scope=col>V82</th><th scope=col>V83</th></tr></thead>\n",
       "<tbody>\n",
       "\t<tr><th scope=row>2</th><td>0</td><td>2</td><td>5</td><td>0</td><td>0</td><td>4</td><td>2</td><td>3</td><td>0</td><td>6</td><td>8</td><td>2</td><td>6</td><td>0</td><td>0</td><td>0</td><td>0</td><td>1</td><td>0</td><td>0</td></tr>\n",
       "\t<tr><th scope=row>3</th><td>1</td><td>2</td><td>2</td><td>4</td><td>1</td><td>3</td><td>2</td><td>1</td><td>0</td><td>3</td><td>5</td><td>2</td><td>6</td><td>0</td><td>0</td><td>0</td><td>0</td><td>1</td><td>0</td><td>0</td></tr>\n",
       "\t<tr><th scope=row>7</th><td>2</td><td>0</td><td>1</td><td>4</td><td>0</td><td>3</td><td>4</td><td>8</td><td>0</td><td>3</td><td>5</td><td>2</td><td>6</td><td>0</td><td>0</td><td>0</td><td>0</td><td>1</td><td>0</td><td>0</td></tr>\n",
       "\t<tr><th scope=row>10</th><td>0</td><td>0</td><td>2</td><td>5</td><td>0</td><td>5</td><td>5</td><td>0</td><td>0</td><td>4</td><td>8</td><td>2</td><td>0</td><td>0</td><td>0</td><td>3</td><td>0</td><td>1</td><td>0</td><td>0</td></tr>\n",
       "\t<tr><th scope=row>12</th><td>2</td><td>0</td><td>1</td><td>4</td><td>0</td><td>4</td><td>4</td><td>5</td><td>1</td><td>5</td><td>3</td><td>2</td><td>6</td><td>0</td><td>0</td><td>4</td><td>0</td><td>0</td><td>0</td><td>0</td></tr>\n",
       "\t<tr><th scope=row>18</th><td>0</td><td>0</td><td>0</td><td>5</td><td>0</td><td>3</td><td>5</td><td>3</td><td>0</td><td>3</td><td>5</td><td>2</td><td>6</td><td>0</td><td>0</td><td>0</td><td>0</td><td>1</td><td>0</td><td>0</td></tr>\n",
       "</tbody>\n",
       "</table>\n"
      ],
      "text/latex": [
       "\\begin{tabular}{r|llllllllllllllllllll}\n",
       "  & V6 & V11 & V16 & V18 & V21 & V22 & V28 & V30 & V41 & V42 & V43 & V44 & V47 & V57 & V58 & V64 & V67 & V80 & V82 & V83\\\\\n",
       "\\hline\n",
       "\t2 & 0 & 2 & 5 & 0 & 0 & 4 & 2 & 3 & 0 & 6 & 8 & 2 & 6 & 0 & 0 & 0 & 0 & 1 & 0 & 0\\\\\n",
       "\t3 & 1 & 2 & 2 & 4 & 1 & 3 & 2 & 1 & 0 & 3 & 5 & 2 & 6 & 0 & 0 & 0 & 0 & 1 & 0 & 0\\\\\n",
       "\t7 & 2 & 0 & 1 & 4 & 0 & 3 & 4 & 8 & 0 & 3 & 5 & 2 & 6 & 0 & 0 & 0 & 0 & 1 & 0 & 0\\\\\n",
       "\t10 & 0 & 0 & 2 & 5 & 0 & 5 & 5 & 0 & 0 & 4 & 8 & 2 & 0 & 0 & 0 & 3 & 0 & 1 & 0 & 0\\\\\n",
       "\t12 & 2 & 0 & 1 & 4 & 0 & 4 & 4 & 5 & 1 & 5 & 3 & 2 & 6 & 0 & 0 & 4 & 0 & 0 & 0 & 0\\\\\n",
       "\t18 & 0 & 0 & 0 & 5 & 0 & 3 & 5 & 3 & 0 & 3 & 5 & 2 & 6 & 0 & 0 & 0 & 0 & 1 & 0 & 0\\\\\n",
       "\\end{tabular}\n"
      ],
      "text/markdown": [
       "\n",
       "| <!--/--> | V6 | V11 | V16 | V18 | V21 | V22 | V28 | V30 | V41 | V42 | V43 | V44 | V47 | V57 | V58 | V64 | V67 | V80 | V82 | V83 |\n",
       "|---|---|---|---|---|---|---|---|---|---|---|---|---|---|---|---|---|---|---|---|---|\n",
       "| 2 | 0 | 2 | 5 | 0 | 0 | 4 | 2 | 3 | 0 | 6 | 8 | 2 | 6 | 0 | 0 | 0 | 0 | 1 | 0 | 0 |\n",
       "| 3 | 1 | 2 | 2 | 4 | 1 | 3 | 2 | 1 | 0 | 3 | 5 | 2 | 6 | 0 | 0 | 0 | 0 | 1 | 0 | 0 |\n",
       "| 7 | 2 | 0 | 1 | 4 | 0 | 3 | 4 | 8 | 0 | 3 | 5 | 2 | 6 | 0 | 0 | 0 | 0 | 1 | 0 | 0 |\n",
       "| 10 | 0 | 0 | 2 | 5 | 0 | 5 | 5 | 0 | 0 | 4 | 8 | 2 | 0 | 0 | 0 | 3 | 0 | 1 | 0 | 0 |\n",
       "| 12 | 2 | 0 | 1 | 4 | 0 | 4 | 4 | 5 | 1 | 5 | 3 | 2 | 6 | 0 | 0 | 4 | 0 | 0 | 0 | 0 |\n",
       "| 18 | 0 | 0 | 0 | 5 | 0 | 3 | 5 | 3 | 0 | 3 | 5 | 2 | 6 | 0 | 0 | 0 | 0 | 1 | 0 | 0 |\n",
       "\n"
      ],
      "text/plain": [
       "   V6 V11 V16 V18 V21 V22 V28 V30 V41 V42 V43 V44 V47 V57 V58 V64 V67 V80 V82\n",
       "2  0  2   5   0   0   4   2   3   0   6   8   2   6   0   0   0   0   1   0  \n",
       "3  1  2   2   4   1   3   2   1   0   3   5   2   6   0   0   0   0   1   0  \n",
       "7  2  0   1   4   0   3   4   8   0   3   5   2   6   0   0   0   0   1   0  \n",
       "10 0  0   2   5   0   5   5   0   0   4   8   2   0   0   0   3   0   1   0  \n",
       "12 2  0   1   4   0   4   4   5   1   5   3   2   6   0   0   4   0   0   0  \n",
       "18 0  0   0   5   0   3   5   3   0   3   5   2   6   0   0   0   0   1   0  \n",
       "   V83\n",
       "2  0  \n",
       "3  0  \n",
       "7  0  \n",
       "10 0  \n",
       "12 0  \n",
       "18 0  "
      ]
     },
     "metadata": {},
     "output_type": "display_data"
    }
   ],
   "source": [
    "best.pred_x <- test_20var_x[pred.20var == 1 , ]\n",
    "dim(best.pred_x)\n",
    "head(best.pred_x)"
   ]
  },
  {
   "cell_type": "code",
   "execution_count": 105,
   "metadata": {},
   "outputs": [
    {
     "data": {
      "text/html": [
       "<ol class=list-inline>\n",
       "\t<li>800</li>\n",
       "\t<li>22</li>\n",
       "</ol>\n"
      ],
      "text/latex": [
       "\\begin{enumerate*}\n",
       "\\item 800\n",
       "\\item 22\n",
       "\\end{enumerate*}\n"
      ],
      "text/markdown": [
       "1. 800\n",
       "2. 22\n",
       "\n",
       "\n"
      ],
      "text/plain": [
       "[1] 800  22"
      ]
     },
     "metadata": {},
     "output_type": "display_data"
    },
    {
     "data": {
      "text/html": [
       "<table>\n",
       "<thead><tr><th></th><th scope=col>V6</th><th scope=col>V11</th><th scope=col>V16</th><th scope=col>V18</th><th scope=col>V21</th><th scope=col>V22</th><th scope=col>V28</th><th scope=col>V30</th><th scope=col>V41</th><th scope=col>V42</th><th scope=col>⋯</th><th scope=col>V47</th><th scope=col>V57</th><th scope=col>V58</th><th scope=col>V64</th><th scope=col>V67</th><th scope=col>V80</th><th scope=col>V82</th><th scope=col>V83</th><th scope=col>V86</th><th scope=col>predV86</th></tr></thead>\n",
       "<tbody>\n",
       "\t<tr><th scope=row>2</th><td>0       </td><td>2       </td><td>5       </td><td>0       </td><td>0       </td><td>4       </td><td>2       </td><td>3       </td><td>0       </td><td>6       </td><td><U+22EF></td><td>6       </td><td>0       </td><td>0       </td><td>0       </td><td>0       </td><td>1       </td><td>0       </td><td>0       </td><td>1       </td><td>1       </td></tr>\n",
       "\t<tr><th scope=row>3</th><td>1       </td><td>2       </td><td>2       </td><td>4       </td><td>1       </td><td>3       </td><td>2       </td><td>1       </td><td>0       </td><td>3       </td><td><U+22EF></td><td>6       </td><td>0       </td><td>0       </td><td>0       </td><td>0       </td><td>1       </td><td>0       </td><td>0       </td><td>0       </td><td>1       </td></tr>\n",
       "\t<tr><th scope=row>7</th><td>2       </td><td>0       </td><td>1       </td><td>4       </td><td>0       </td><td>3       </td><td>4       </td><td>8       </td><td>0       </td><td>3       </td><td><U+22EF></td><td>6       </td><td>0       </td><td>0       </td><td>0       </td><td>0       </td><td>1       </td><td>0       </td><td>0       </td><td>0       </td><td>1       </td></tr>\n",
       "\t<tr><th scope=row>10</th><td>0       </td><td>0       </td><td>2       </td><td>5       </td><td>0       </td><td>5       </td><td>5       </td><td>0       </td><td>0       </td><td>4       </td><td><U+22EF></td><td>0       </td><td>0       </td><td>0       </td><td>3       </td><td>0       </td><td>1       </td><td>0       </td><td>0       </td><td>0       </td><td>1       </td></tr>\n",
       "\t<tr><th scope=row>12</th><td>2       </td><td>0       </td><td>1       </td><td>4       </td><td>0       </td><td>4       </td><td>4       </td><td>5       </td><td>1       </td><td>5       </td><td><U+22EF></td><td>6       </td><td>0       </td><td>0       </td><td>4       </td><td>0       </td><td>0       </td><td>0       </td><td>0       </td><td>1       </td><td>1       </td></tr>\n",
       "\t<tr><th scope=row>18</th><td>0       </td><td>0       </td><td>0       </td><td>5       </td><td>0       </td><td>3       </td><td>5       </td><td>3       </td><td>0       </td><td>3       </td><td><U+22EF></td><td>6       </td><td>0       </td><td>0       </td><td>0       </td><td>0       </td><td>1       </td><td>0       </td><td>0       </td><td>0       </td><td>1       </td></tr>\n",
       "</tbody>\n",
       "</table>\n"
      ],
      "text/latex": [
       "\\begin{tabular}{r|llllllllllllllllllllll}\n",
       "  & V6 & V11 & V16 & V18 & V21 & V22 & V28 & V30 & V41 & V42 & ⋯ & V47 & V57 & V58 & V64 & V67 & V80 & V82 & V83 & V86 & predV86\\\\\n",
       "\\hline\n",
       "\t2 & 0        & 2        & 5        & 0        & 0        & 4        & 2        & 3        & 0        & 6        & <U+22EF> & 6        & 0        & 0        & 0        & 0        & 1        & 0        & 0        & 1        & 1       \\\\\n",
       "\t3 & 1        & 2        & 2        & 4        & 1        & 3        & 2        & 1        & 0        & 3        & <U+22EF> & 6        & 0        & 0        & 0        & 0        & 1        & 0        & 0        & 0        & 1       \\\\\n",
       "\t7 & 2        & 0        & 1        & 4        & 0        & 3        & 4        & 8        & 0        & 3        & <U+22EF> & 6        & 0        & 0        & 0        & 0        & 1        & 0        & 0        & 0        & 1       \\\\\n",
       "\t10 & 0        & 0        & 2        & 5        & 0        & 5        & 5        & 0        & 0        & 4        & <U+22EF> & 0        & 0        & 0        & 3        & 0        & 1        & 0        & 0        & 0        & 1       \\\\\n",
       "\t12 & 2        & 0        & 1        & 4        & 0        & 4        & 4        & 5        & 1        & 5        & <U+22EF> & 6        & 0        & 0        & 4        & 0        & 0        & 0        & 0        & 1        & 1       \\\\\n",
       "\t18 & 0        & 0        & 0        & 5        & 0        & 3        & 5        & 3        & 0        & 3        & <U+22EF> & 6        & 0        & 0        & 0        & 0        & 1        & 0        & 0        & 0        & 1       \\\\\n",
       "\\end{tabular}\n"
      ],
      "text/markdown": [
       "\n",
       "| <!--/--> | V6 | V11 | V16 | V18 | V21 | V22 | V28 | V30 | V41 | V42 | ⋯ | V47 | V57 | V58 | V64 | V67 | V80 | V82 | V83 | V86 | predV86 |\n",
       "|---|---|---|---|---|---|---|---|---|---|---|---|---|---|---|---|---|---|---|---|---|---|\n",
       "| 2 | 0        | 2        | 5        | 0        | 0        | 4        | 2        | 3        | 0        | 6        | <U+22EF> | 6        | 0        | 0        | 0        | 0        | 1        | 0        | 0        | 1        | 1        |\n",
       "| 3 | 1        | 2        | 2        | 4        | 1        | 3        | 2        | 1        | 0        | 3        | <U+22EF> | 6        | 0        | 0        | 0        | 0        | 1        | 0        | 0        | 0        | 1        |\n",
       "| 7 | 2        | 0        | 1        | 4        | 0        | 3        | 4        | 8        | 0        | 3        | <U+22EF> | 6        | 0        | 0        | 0        | 0        | 1        | 0        | 0        | 0        | 1        |\n",
       "| 10 | 0        | 0        | 2        | 5        | 0        | 5        | 5        | 0        | 0        | 4        | <U+22EF> | 0        | 0        | 0        | 3        | 0        | 1        | 0        | 0        | 0        | 1        |\n",
       "| 12 | 2        | 0        | 1        | 4        | 0        | 4        | 4        | 5        | 1        | 5        | <U+22EF> | 6        | 0        | 0        | 4        | 0        | 0        | 0        | 0        | 1        | 1        |\n",
       "| 18 | 0        | 0        | 0        | 5        | 0        | 3        | 5        | 3        | 0        | 3        | <U+22EF> | 6        | 0        | 0        | 0        | 0        | 1        | 0        | 0        | 0        | 1        |\n",
       "\n"
      ],
      "text/plain": [
       "   V6 V11 V16 V18 V21 V22 V28 V30 V41 V42 <U+22EF>        V47 V57 V58 V64 V67 V80 V82\n",
       "2  0  2   5   0   0   4   2   3   0   6   <U+22EF> 6   0   0   0   0   1   0  \n",
       "3  1  2   2   4   1   3   2   1   0   3   <U+22EF> 6   0   0   0   0   1   0  \n",
       "7  2  0   1   4   0   3   4   8   0   3   <U+22EF> 6   0   0   0   0   1   0  \n",
       "10 0  0   2   5   0   5   5   0   0   4   <U+22EF> 0   0   0   3   0   1   0  \n",
       "12 2  0   1   4   0   4   4   5   1   5   <U+22EF> 6   0   0   4   0   0   0  \n",
       "18 0  0   0   5   0   3   5   3   0   3   <U+22EF> 6   0   0   0   0   1   0  \n",
       "   V83 V86 predV86\n",
       "2  0   1   1      \n",
       "3  0   0   1      \n",
       "7  0   0   1      \n",
       "10 0   0   1      \n",
       "12 0   1   1      \n",
       "18 0   0   1      "
      ]
     },
     "metadata": {},
     "output_type": "display_data"
    }
   ],
   "source": [
    "combined_all <- cbind(test_20var , pred.20var)\n",
    "colnames(combined_all)[ncol(combined_all)] <- \"predV86\"\n",
    "\n",
    "# Number of predicted customers\n",
    "dim(combined_all[combined_all$predV86 == 1,])\n",
    "head(combined_all[combined_all$predV86 == 1,])"
   ]
  },
  {
   "cell_type": "code",
   "execution_count": 106,
   "metadata": {},
   "outputs": [
    {
     "data": {
      "text/html": [
       "<ol class=list-inline>\n",
       "\t<li>113</li>\n",
       "\t<li>22</li>\n",
       "</ol>\n"
      ],
      "text/latex": [
       "\\begin{enumerate*}\n",
       "\\item 113\n",
       "\\item 22\n",
       "\\end{enumerate*}\n"
      ],
      "text/markdown": [
       "1. 113\n",
       "2. 22\n",
       "\n",
       "\n"
      ],
      "text/plain": [
       "[1] 113  22"
      ]
     },
     "metadata": {},
     "output_type": "display_data"
    },
    {
     "data": {
      "text/html": [
       "<table>\n",
       "<thead><tr><th></th><th scope=col>V6</th><th scope=col>V11</th><th scope=col>V16</th><th scope=col>V18</th><th scope=col>V21</th><th scope=col>V22</th><th scope=col>V28</th><th scope=col>V30</th><th scope=col>V41</th><th scope=col>V42</th><th scope=col>⋯</th><th scope=col>V47</th><th scope=col>V57</th><th scope=col>V58</th><th scope=col>V64</th><th scope=col>V67</th><th scope=col>V80</th><th scope=col>V82</th><th scope=col>V83</th><th scope=col>V86</th><th scope=col>predV86</th></tr></thead>\n",
       "<tbody>\n",
       "\t<tr><th scope=row>2</th><td>0       </td><td>2       </td><td>5       </td><td>0       </td><td>0       </td><td>4       </td><td>2       </td><td>3       </td><td>0       </td><td>6       </td><td><U+22EF></td><td>6       </td><td>0       </td><td>0       </td><td>0       </td><td>0       </td><td>1       </td><td>0       </td><td>0       </td><td>1       </td><td>1       </td></tr>\n",
       "\t<tr><th scope=row>12</th><td>2       </td><td>0       </td><td>1       </td><td>4       </td><td>0       </td><td>4       </td><td>4       </td><td>5       </td><td>1       </td><td>5       </td><td><U+22EF></td><td>6       </td><td>0       </td><td>0       </td><td>4       </td><td>0       </td><td>0       </td><td>0       </td><td>0       </td><td>1       </td><td>1       </td></tr>\n",
       "\t<tr><th scope=row>30</th><td>1       </td><td>1       </td><td>7       </td><td>1       </td><td>0       </td><td>1       </td><td>1       </td><td>0       </td><td>1       </td><td>7       </td><td><U+22EF></td><td>5       </td><td>0       </td><td>0       </td><td>0       </td><td>0       </td><td>1       </td><td>0       </td><td>0       </td><td>1       </td><td>1       </td></tr>\n",
       "\t<tr><th scope=row>89</th><td>1       </td><td>1       </td><td>3       </td><td>2       </td><td>0       </td><td>5       </td><td>2       </td><td>1       </td><td>0       </td><td>4       </td><td><U+22EF></td><td>6       </td><td>0       </td><td>0       </td><td>4       </td><td>0       </td><td>2       </td><td>0       </td><td>0       </td><td>1       </td><td>1       </td></tr>\n",
       "\t<tr><th scope=row>92</th><td>1       </td><td>0       </td><td>3       </td><td>1       </td><td>0       </td><td>2       </td><td>0       </td><td>0       </td><td>0       </td><td>5       </td><td><U+22EF></td><td>6       </td><td>3       </td><td>0       </td><td>0       </td><td>0       </td><td>1       </td><td>0       </td><td>0       </td><td>1       </td><td>1       </td></tr>\n",
       "\t<tr><th scope=row>210</th><td>2       </td><td>0       </td><td>4       </td><td>0       </td><td>0       </td><td>3       </td><td>0       </td><td>0       </td><td>0       </td><td>5       </td><td><U+22EF></td><td>6       </td><td>0       </td><td>0       </td><td>0       </td><td>0       </td><td>1       </td><td>0       </td><td>0       </td><td>1       </td><td>1       </td></tr>\n",
       "</tbody>\n",
       "</table>\n"
      ],
      "text/latex": [
       "\\begin{tabular}{r|llllllllllllllllllllll}\n",
       "  & V6 & V11 & V16 & V18 & V21 & V22 & V28 & V30 & V41 & V42 & ⋯ & V47 & V57 & V58 & V64 & V67 & V80 & V82 & V83 & V86 & predV86\\\\\n",
       "\\hline\n",
       "\t2 & 0        & 2        & 5        & 0        & 0        & 4        & 2        & 3        & 0        & 6        & <U+22EF> & 6        & 0        & 0        & 0        & 0        & 1        & 0        & 0        & 1        & 1       \\\\\n",
       "\t12 & 2        & 0        & 1        & 4        & 0        & 4        & 4        & 5        & 1        & 5        & <U+22EF> & 6        & 0        & 0        & 4        & 0        & 0        & 0        & 0        & 1        & 1       \\\\\n",
       "\t30 & 1        & 1        & 7        & 1        & 0        & 1        & 1        & 0        & 1        & 7        & <U+22EF> & 5        & 0        & 0        & 0        & 0        & 1        & 0        & 0        & 1        & 1       \\\\\n",
       "\t89 & 1        & 1        & 3        & 2        & 0        & 5        & 2        & 1        & 0        & 4        & <U+22EF> & 6        & 0        & 0        & 4        & 0        & 2        & 0        & 0        & 1        & 1       \\\\\n",
       "\t92 & 1        & 0        & 3        & 1        & 0        & 2        & 0        & 0        & 0        & 5        & <U+22EF> & 6        & 3        & 0        & 0        & 0        & 1        & 0        & 0        & 1        & 1       \\\\\n",
       "\t210 & 2        & 0        & 4        & 0        & 0        & 3        & 0        & 0        & 0        & 5        & <U+22EF> & 6        & 0        & 0        & 0        & 0        & 1        & 0        & 0        & 1        & 1       \\\\\n",
       "\\end{tabular}\n"
      ],
      "text/markdown": [
       "\n",
       "| <!--/--> | V6 | V11 | V16 | V18 | V21 | V22 | V28 | V30 | V41 | V42 | ⋯ | V47 | V57 | V58 | V64 | V67 | V80 | V82 | V83 | V86 | predV86 |\n",
       "|---|---|---|---|---|---|---|---|---|---|---|---|---|---|---|---|---|---|---|---|---|---|\n",
       "| 2 | 0        | 2        | 5        | 0        | 0        | 4        | 2        | 3        | 0        | 6        | <U+22EF> | 6        | 0        | 0        | 0        | 0        | 1        | 0        | 0        | 1        | 1        |\n",
       "| 12 | 2        | 0        | 1        | 4        | 0        | 4        | 4        | 5        | 1        | 5        | <U+22EF> | 6        | 0        | 0        | 4        | 0        | 0        | 0        | 0        | 1        | 1        |\n",
       "| 30 | 1        | 1        | 7        | 1        | 0        | 1        | 1        | 0        | 1        | 7        | <U+22EF> | 5        | 0        | 0        | 0        | 0        | 1        | 0        | 0        | 1        | 1        |\n",
       "| 89 | 1        | 1        | 3        | 2        | 0        | 5        | 2        | 1        | 0        | 4        | <U+22EF> | 6        | 0        | 0        | 4        | 0        | 2        | 0        | 0        | 1        | 1        |\n",
       "| 92 | 1        | 0        | 3        | 1        | 0        | 2        | 0        | 0        | 0        | 5        | <U+22EF> | 6        | 3        | 0        | 0        | 0        | 1        | 0        | 0        | 1        | 1        |\n",
       "| 210 | 2        | 0        | 4        | 0        | 0        | 3        | 0        | 0        | 0        | 5        | <U+22EF> | 6        | 0        | 0        | 0        | 0        | 1        | 0        | 0        | 1        | 1        |\n",
       "\n"
      ],
      "text/plain": [
       "    V6 V11 V16 V18 V21 V22 V28 V30 V41 V42 <U+22EF>        V47 V57 V58 V64 V67 V80 V82\n",
       "2   0  2   5   0   0   4   2   3   0   6   <U+22EF> 6   0   0   0   0   1   0  \n",
       "12  2  0   1   4   0   4   4   5   1   5   <U+22EF> 6   0   0   4   0   0   0  \n",
       "30  1  1   7   1   0   1   1   0   1   7   <U+22EF> 5   0   0   0   0   1   0  \n",
       "89  1  1   3   2   0   5   2   1   0   4   <U+22EF> 6   0   0   4   0   2   0  \n",
       "92  1  0   3   1   0   2   0   0   0   5   <U+22EF> 6   3   0   0   0   1   0  \n",
       "210 2  0   4   0   0   3   0   0   0   5   <U+22EF> 6   0   0   0   0   1   0  \n",
       "    V83 V86 predV86\n",
       "2   0   1   1      \n",
       "12  0   1   1      \n",
       "30  0   1   1      \n",
       "89  0   1   1      \n",
       "92  0   1   1      \n",
       "210 0   1   1      "
      ]
     },
     "metadata": {},
     "output_type": "display_data"
    }
   ],
   "source": [
    "# Customers that are Correctly predicted\n",
    "true_pos <- combined_all[combined_all$V86 == combined_all$predV86 & combined_all$V86 == 1,]\n",
    "dim(true_pos)\n",
    "head(true_pos)"
   ]
  },
  {
   "cell_type": "code",
   "execution_count": null,
   "metadata": {},
   "outputs": [],
   "source": []
  },
  {
   "cell_type": "code",
   "execution_count": 107,
   "metadata": {
    "scrolled": false
   },
   "outputs": [
    {
     "data": {
      "text/html": [
       "<table>\n",
       "<thead><tr><th></th><th scope=col>final_coef</th><th scope=col>varname</th></tr></thead>\n",
       "<tbody>\n",
       "\t<tr><th scope=row>19</th><td> 2.11335115</td><td>V82        </td></tr>\n",
       "\t<tr><th scope=row>20</th><td> 0.45942262</td><td>V83        </td></tr>\n",
       "\t<tr><th scope=row>15</th><td> 0.24909061</td><td>V58        </td></tr>\n",
       "\t<tr><th scope=row>18</th><td> 0.24399681</td><td>V80        </td></tr>\n",
       "\t<tr><th scope=row>13</th><td> 0.23159790</td><td>V47        </td></tr>\n",
       "\t<tr><th scope=row>12</th><td> 0.18727887</td><td>V44        </td></tr>\n",
       "\t<tr><th scope=row>14</th><td> 0.18168184</td><td>V57        </td></tr>\n",
       "\t<tr><th scope=row>16</th><td> 0.12906573</td><td>V64        </td></tr>\n",
       "\t<tr><th scope=row>10</th><td> 0.11328003</td><td>V42        </td></tr>\n",
       "\t<tr><th scope=row>3</th><td> 0.08692732</td><td>V16        </td></tr>\n",
       "\t<tr><th scope=row>7</th><td> 0.07606654</td><td>V28        </td></tr>\n",
       "\t<tr><th scope=row>6</th><td> 0.06382191</td><td>V22        </td></tr>\n",
       "\t<tr><th scope=row>11</th><td> 0.05598813</td><td>V43        </td></tr>\n",
       "\t<tr><th scope=row>8</th><td>-0.05438084</td><td>V30        </td></tr>\n",
       "\t<tr><th scope=row>4</th><td>-0.08864056</td><td>V18        </td></tr>\n",
       "\t<tr><th scope=row>1</th><td>-0.08997332</td><td>V6         </td></tr>\n",
       "\t<tr><th scope=row>2</th><td>-0.13330459</td><td>V11        </td></tr>\n",
       "\t<tr><th scope=row>5</th><td>-0.16978712</td><td>V21        </td></tr>\n",
       "\t<tr><th scope=row>9</th><td>-0.25300783</td><td>V41        </td></tr>\n",
       "\t<tr><th scope=row>17</th><td>-0.81872182</td><td>V67        </td></tr>\n",
       "</tbody>\n",
       "</table>\n"
      ],
      "text/latex": [
       "\\begin{tabular}{r|ll}\n",
       "  & final\\_coef & varname\\\\\n",
       "\\hline\n",
       "\t19 &  2.11335115 & V82        \\\\\n",
       "\t20 &  0.45942262 & V83        \\\\\n",
       "\t15 &  0.24909061 & V58        \\\\\n",
       "\t18 &  0.24399681 & V80        \\\\\n",
       "\t13 &  0.23159790 & V47        \\\\\n",
       "\t12 &  0.18727887 & V44        \\\\\n",
       "\t14 &  0.18168184 & V57        \\\\\n",
       "\t16 &  0.12906573 & V64        \\\\\n",
       "\t10 &  0.11328003 & V42        \\\\\n",
       "\t3 &  0.08692732 & V16        \\\\\n",
       "\t7 &  0.07606654 & V28        \\\\\n",
       "\t6 &  0.06382191 & V22        \\\\\n",
       "\t11 &  0.05598813 & V43        \\\\\n",
       "\t8 & -0.05438084 & V30        \\\\\n",
       "\t4 & -0.08864056 & V18        \\\\\n",
       "\t1 & -0.08997332 & V6         \\\\\n",
       "\t2 & -0.13330459 & V11        \\\\\n",
       "\t5 & -0.16978712 & V21        \\\\\n",
       "\t9 & -0.25300783 & V41        \\\\\n",
       "\t17 & -0.81872182 & V67        \\\\\n",
       "\\end{tabular}\n"
      ],
      "text/markdown": [
       "\n",
       "| <!--/--> | final_coef | varname |\n",
       "|---|---|---|\n",
       "| 19 |  2.11335115 | V82         |\n",
       "| 20 |  0.45942262 | V83         |\n",
       "| 15 |  0.24909061 | V58         |\n",
       "| 18 |  0.24399681 | V80         |\n",
       "| 13 |  0.23159790 | V47         |\n",
       "| 12 |  0.18727887 | V44         |\n",
       "| 14 |  0.18168184 | V57         |\n",
       "| 16 |  0.12906573 | V64         |\n",
       "| 10 |  0.11328003 | V42         |\n",
       "| 3 |  0.08692732 | V16         |\n",
       "| 7 |  0.07606654 | V28         |\n",
       "| 6 |  0.06382191 | V22         |\n",
       "| 11 |  0.05598813 | V43         |\n",
       "| 8 | -0.05438084 | V30         |\n",
       "| 4 | -0.08864056 | V18         |\n",
       "| 1 | -0.08997332 | V6          |\n",
       "| 2 | -0.13330459 | V11         |\n",
       "| 5 | -0.16978712 | V21         |\n",
       "| 9 | -0.25300783 | V41         |\n",
       "| 17 | -0.81872182 | V67         |\n",
       "\n"
      ],
      "text/plain": [
       "   final_coef  varname\n",
       "19  2.11335115 V82    \n",
       "20  0.45942262 V83    \n",
       "15  0.24909061 V58    \n",
       "18  0.24399681 V80    \n",
       "13  0.23159790 V47    \n",
       "12  0.18727887 V44    \n",
       "14  0.18168184 V57    \n",
       "16  0.12906573 V64    \n",
       "10  0.11328003 V42    \n",
       "3   0.08692732 V16    \n",
       "7   0.07606654 V28    \n",
       "6   0.06382191 V22    \n",
       "11  0.05598813 V43    \n",
       "8  -0.05438084 V30    \n",
       "4  -0.08864056 V18    \n",
       "1  -0.08997332 V6     \n",
       "2  -0.13330459 V11    \n",
       "5  -0.16978712 V21    \n",
       "9  -0.25300783 V41    \n",
       "17 -0.81872182 V67    "
      ]
     },
     "metadata": {},
     "output_type": "display_data"
    }
   ],
   "source": [
    "final_attributes <- data.frame(final_coef = coefficients(glm_3_fwd_20))\n",
    "final_attributes <- final_attributes[rownames(final_attributes)[-1], , drop=F]\n",
    "final_attributes$varname <- rownames(final_attributes)\n",
    "rownames(final_attributes) <- NULL\n",
    "final_attributes[order(final_attributes$final_coef,decreasing = T),]"
   ]
  },
  {
   "cell_type": "markdown",
   "metadata": {},
   "source": [
    "Based on the coefficients above, there are some variables that are highly impacted the decision on why customers bought caravan policy. In general the rule is to maximise the variables that have high positive number, and minimise the ones that have the lowest negative coefficients. By applying this rule, the probability will be likely to pass the predicted probability threshold in the chosen model. And if it passed the probability threshold, then it will be converted into 1 which will predict that the specific customer will buy the caravan policy.\n",
    "\n",
    "__The variables that need to be maximised are:__\n",
    "<br>*Note: in order of importance*\n",
    "* V82 -> __Number of boat policies__\n",
    "* V83 -> __Average income__\n",
    "* V58 -> __Contribution disability insurance policies__\n",
    "* V80 -> __Number of fire policies__\n",
    "* V47 -> __Contribution car policies__\n",
    "* V44 -> __Contribution private third party insurance__\n",
    "* V57 -> __Contribution family accidents insurance policies__\n",
    "* V64 -> __Contribution social security insurance policies__\n",
    "* V42 -> __Average income__\n",
    "* V16 -> __High level of education__\n",
    "* V28 -> __Social class C__\n",
    "* V22 -> __Middle management__\n",
    "* V43 -> __Purchasing power class__\n",
    "\n",
    "__And the variables that need to be minimised are:__\n",
    "<br>*Note: in order of importance*\n",
    "* V67 -> __Number of third party insurance (agriculture)__\n",
    "* V41 -> __Income >123,000__\n",
    "* V21 -> __Farmer__\n",
    "* V11 -> __Living together__\n",
    "* V6 -> __Roman catholic__\n",
    "* V18 -> __Lower level education__\n",
    "* V30 -> __Rented house__\n",
    "\n",
    "For instance, V82 really high positive impact on the prediction to get above the probability threshold. In the data, V82(Number of boat policies) has a range between __0 to 9__. When maximising this variable, this means that the company should find those customers who have the number of boat policies on __upper range__, either 8 or 9. On the contrary, the company should find customers with V67(Number of third party insurance(agriculture)) to be at the lowest range as possible. The suggestion would be find those customers who have few to None third party insurance (agriculture), because if this variable is high, it would lower the probability to get to the probability threshold."
   ]
  },
  {
   "cell_type": "code",
   "execution_count": null,
   "metadata": {},
   "outputs": [],
   "source": []
  }
 ],
 "metadata": {
  "kernelspec": {
   "display_name": "R",
   "language": "R",
   "name": "ir"
  },
  "language_info": {
   "codemirror_mode": "r",
   "file_extension": ".r",
   "mimetype": "text/x-r-source",
   "name": "R",
   "pygments_lexer": "r",
   "version": "3.5.1"
  }
 },
 "nbformat": 4,
 "nbformat_minor": 2
}
